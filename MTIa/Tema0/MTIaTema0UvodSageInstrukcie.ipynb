{
 "cells": [
  {
   "cell_type": "markdown",
   "metadata": {},
   "source": [
    "**Autor:** Andrej Gajdoš  <br> *[Ústav matematických vied](https://www.upjs.sk/prirodovedecka-fakulta/ustav/umv/), [Prírodovedecká fakulta](https://www.upjs.sk/prirodovedecka-fakulta/), Univerzita Pavla Jozefa Šafárika v Košiciach,* <br> email: [andrej.gajdos@upjs.sk](mailto:andrej.gajdos@upjs.sk)\n",
    "***\n",
    "**_Tento materiál vznikol za podpory grantu VVGS-2021-1758._**\n",
    "*** \n",
    "\n",
    "**<font size=6 color=gold> MTIa: Téma 0 - Úvod do SageMath: študijné inštrukcie </font>**  "
   ]
  },
  {
   "cell_type": "markdown",
   "metadata": {},
   "source": [
    "***\n",
    "<a id=motivacia></a>\n",
    "# <font color=brown> Motivácia</font>"
   ]
  },
  {
   "attachments": {
    "logo_sage.png": {
     "image/png": "[encoded data removed]"
    }
   },
   "cell_type": "markdown",
   "metadata": {},
   "source": [
    "**SageMath (skrátene Sage) je bezplatný open-source matematický softvérový systém** s licenciou podľa GPL. Zastrešuje mnohé existujúce, výkonné, open-source balíky: NumPy, SciPy, matplotlib, Sympy, Maxima, GAP, FLINT, R a veľa ďalších. Sage pristupuje  k ich kombinovanej sile prostredníctvom jednoduchého (\"high-level\") jazyka založeného na Pythone alebo priamo cez rozhrania či wrappery.\n",
    "\n",
    "Ináč povedané, **Sage je** tzv. **systém počítačovej algebry** (ang. CAS) na všeobecné účely **napísaný nad jazykom Python**. V jazykoch Mathematica, Magma a Maple sa píše kód v jazyku Mathematica, Magma alebo Maple. Sage je Python. Priamo podporuje klasický Python a je možné ho s ním kombinovať. \n",
    "\n",
    "Pre nás bude Sage ako pomôcka pri riešení matematických úloh a tiež nástroj k lepšiemu pochopeniu učiva vďaka interaktívnym kódom, výpočtom, vizualizáciam, experimentovaniu ... Našim cieľom v rámci predmetu MTIa nebude učiť sa programovať zložité algoritmy, interaktívne a vizuálne príťažlivé aplikácie, avšak malé programy v podobe bonusových úloh súvisiace s preberanou témou môžu byť v prípade správneho riešenia ohodnotené bodmi navyše. <br/>\n",
    "Pythonovský základ dáva slušnú perspektívu využitia Sage i do budúcna, v dnešnom svete data science, big data, umelej inteligence a pod. \n",
    "\n",
    "![logo_sage.png](attachment:logo_sage.png)"
   ]
  },
  {
   "cell_type": "markdown",
   "metadata": {},
   "source": [
    "***\n",
    "<a id=ciele></a>\n",
    "# <font color=brown> Učebné ciele</font>"
   ]
  },
  {
   "cell_type": "markdown",
   "metadata": {},
   "source": [
    "### Základné \n",
    "\n",
    "\n",
    "* Oboznámiť sa s prostredím Jupyter Notebook. \n",
    "\n",
    "\n",
    "* Zorientovať sa v základoch Sage a vyskúšať si základnú funkcionalitu. "
   ]
  },
  {
   "cell_type": "markdown",
   "metadata": {},
   "source": [
    "### Pokročilé \n",
    "\n",
    "\n",
    "* Experimentovať s pripraveným študijným materiálom *MTIaTema0UvodSageEN.ipynb*, tzn. meniť vstupy/parametre funkcií - sledovať zmeny na výstupe, skúsiť písať ďalšie (vlastné) príkazy a volať iné/nové funkcie ... \n",
    "\n",
    "\n",
    "* Využiť Sage na vyriešenie pripravených (bodovaných) úloh k učebnému textu. \n",
    "\n",
    "\n",
    "* Priebežne sa zdokonaľovať v práci so Sage počas semestra. "
   ]
  },
  {
   "cell_type": "markdown",
   "metadata": {},
   "source": [
    "***\n",
    "<a id=zdroje></a>\n",
    "# <font color=brown> Zdroje k štúdiu</font>"
   ]
  },
  {
   "cell_type": "markdown",
   "metadata": {},
   "source": [
    "### Primárne\n",
    "(povinné)\n",
    "\n",
    "\n",
    "* Jupyter Notebook: *MTIaTema0UvodSageEN.ipynb*; \n",
    "\n",
    "\n",
    "* Prezentácia: *Tema0_uvod.pdf*.\n",
    "\n"
   ]
  },
  {
   "cell_type": "markdown",
   "metadata": {},
   "source": [
    "### Sekundárne\n",
    "(doplňujúce)\n",
    "\n",
    "* Knihy: \n",
    "    \n",
    "    * [Computational Mathematics with SageMath](http://dl.lateralis.org/public/sagebook/sagebook-ba6596d.pdf); \n",
    "    \n",
    "    * [Sage for Undergraduates](http://www.people.vcu.edu/~clarson/bard-sage-for-undergraduates-2014.pdf);       \n",
    "\n",
    "\n",
    "* Online manuál: [SageMath tutorial](https://more-sagemath-tutorials.readthedocs.io/en/latest/); \n",
    "\n",
    "\n",
    "* Ťaháky (Cheatsheets) v Google Triede (Jupyter Notebook, SageMath, Markdown, Python, LaTeX);\n",
    "\n",
    "\n",
    "* Vlastné zdroje (ak nejaké zaujímavé nájdete, nezabudnite ich zdieľať ako príspevok k danej téme v Google triede)."
   ]
  },
  {
   "cell_type": "markdown",
   "metadata": {},
   "source": [
    "***\n",
    "<a id=ulohy></a>\n",
    "# <font color=brown> Úlohy k učebnému textu </font>"
   ]
  },
  {
   "cell_type": "markdown",
   "metadata": {},
   "source": [
    "1. Vytvorte zoznam štvorcov (druhých mocnín) prvočísel od $1$ do $100$. "
   ]
  },
  {
   "cell_type": "markdown",
   "metadata": {},
   "source": [
    "2. Aké je najväčšie prvočíslo v prvočíselnom rozklade čísla $600851475143$ ?"
   ]
  },
  {
   "cell_type": "markdown",
   "metadata": {},
   "source": [
    "3. Majme dva polynomické výrazy: $(x^2-1)(x+4)^2$, $\\dfrac{x^2-1}{x+1}$. Najprv nájdite korene (vrátane ich násobností) prvého polynómu - pokúste sa ho pomocou Sage rozložiť (na súčin koreňových činiteľov) a následne výsledky porovnajte s grafom tejto polynomickej funkcie. Ďalej skúste zjednodušiť druhý výraz."
   ]
  },
  {
   "cell_type": "markdown",
   "metadata": {},
   "source": [
    "4. Vytvorte funkciu, ktorá vráti $n$-té Fibonacciho číslo. "
   ]
  },
  {
   "cell_type": "markdown",
   "metadata": {},
   "source": [
    "5. Nakreslite osobitne grafy funkcií $\\sin(x^2)$ a $\\cos(x^2)$. Experimentujte s ďalšími vstupnými parametrami 2D vykresľovania. Nakoniec nakreslite v jednom obrázku gafy funkcií $\\sin(x^2)$ a $\\cos(x^2)$. "
   ]
  },
  {
   "cell_type": "markdown",
   "metadata": {},
   "source": [
    "6. Nájdite príklad 3D vizualizácie v SageMath. Skopírujte tento príklad (kód), vyskúšajte zmeniť vstupné parametre a popíšte príslušné riadky kódu (na čo slúžia). "
   ]
  },
  {
   "cell_type": "markdown",
   "metadata": {},
   "source": [
    "7. Aké **konkrétne** otázky máte k náplni študijných materiálov, ktoré by ste chceli na hodine prediskutovať? "
   ]
  },
  {
   "cell_type": "markdown",
   "metadata": {},
   "source": [
    "***\n",
    "<a id=instrukcie></a>\n",
    "# <font color=brown> Inštrukcie k odovzdaniu úloh</font>"
   ]
  },
  {
   "cell_type": "markdown",
   "metadata": {},
   "source": [
    "Úlohy uvedené vyššie resp. v *MTIaTema0UvodSageUlohyUcebnyTextEN.ipynb* (viď zadanie Téma 0 - Úlohy k učebnému textu v Google triede) je potrebné v stanovenom termíne samostatne vyriešiť a odovzdať v Google triede. Ďalšie pokyny k odovzdaniu sú uvedené priamo v Google triede.\n",
    "\n",
    "Úlohy je potrebné **vypracovať samostatne**! Prípadné konzultácie k téme s vyučújúcim alebo s ostatnými kolegami - spolužiakmi (napr. v rámci Google triedy) nie sú vylúčené (sú dokonca žiadúce), avšak vypracovanie stanovených úloh má byť samostatná práca študenta, aby študent i vyučujúci zistili, ako sú zvládnuté základy resp. primárne ciele danej témy. **Tieto úlohy (k učebnému textu) sú povinné**, nie však bodované. Zistené nedostatky, ťažkosti či slabšie miesta by mali poslúžiť pre ďalší rozvoj, jednak z iniciatívy samotného študenta ale budú tiež zaradené do vyučovacieho procesu v rámci spoločnej výučby, kde budú následne prediskutované a objasnené. Vaše riešenia a postrehy môžu tiež veľkou mierou prispieť k skvalitneniu interaktívnych učebných textov. Zistené  plagiátorstvo či podozrenia z porušovania pravidiel pri vypracovaní úloh, môžu mať negatívny dopad v ďalšom hodnotení v rámci predmetu MTIa. \n",
    "\n",
    "Veľa zdaru pri riešení úloh!"
   ]
  }
 ],
 "metadata": {
  "kernelspec": {
   "display_name": "SageMath 9.2",
   "language": "sage",
   "name": "sagemath"
  },
  "language_info": {
   "codemirror_mode": {
    "name": "ipython",
    "version": 3
   },
   "file_extension": ".py",
   "mimetype": "text/x-python",
   "name": "python",
   "nbconvert_exporter": "python",
   "pygments_lexer": "ipython3",
   "version": "3.7.7"
  }
 },
 "nbformat": 4,
 "nbformat_minor": 2
}
