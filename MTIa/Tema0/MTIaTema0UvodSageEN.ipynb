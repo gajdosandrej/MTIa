{
 "cells": [
  {
   "cell_type": "markdown",
   "metadata": {},
   "source": [
    "**Author:** Andrej Gajdoš  <br> *[Faculty of Science](https://www.upjs.sk/en/faculty-of-science/?prefferedLang=EN), P. J. Šafárik University in Košice, Slovakia* <br> email: [andrej.gajdos@upjs.sk](mailto:andrej.gajdos@upjs.sk)\n",
    "***\n",
    "**_Tento materiál vznikol za podpory grantu VVGS-2021-1758._**\n",
    "***\n",
    "\n",
    "**<font size=6 color=gold> MTIa: Theme 0 - Introduction to SageMath</font>**  "
   ]
  },
  {
   "cell_type": "markdown",
   "metadata": {},
   "source": [
    "--- \n",
    "\n",
    "<a id=table_of_contents></a>\n",
    "###  Table of Contents \n",
    "\n",
    "\n",
    "* [What is Sage?](#sage) - a brief description of SageMath;\n",
    "\n",
    "\n",
    "* [Basics](#basics) - arithmetic, functions, loops, conditionals, symbolic calculations, polynomials;\n",
    "\n",
    "\n",
    "* [Graphics](#graphics) - some examples of easy plotting with matplotlib;\n",
    "\n",
    "\n",
    "* [Help](#help) - finding documentation and source code;\n",
    "\n",
    "\n",
    "* [References](#references)\n",
    "\n",
    "\n",
    "**To get back to the contents, use <font color=brown>the Home key</font>.**"
   ]
  },
  {
   "cell_type": "markdown",
   "metadata": {},
   "source": [
    "***\n",
    "<a id=sage></a>\n",
    "# <font color=brown> What is Sage?</font>"
   ]
  },
  {
   "cell_type": "markdown",
   "metadata": {},
   "source": [
    "**Sage** (also known as **SageMath**) is a free [open-source](https://git.sagemath.org/) mathematics software system licensed under the GPL. It builds on top of many existing open-source packages: [NumPy](https://numpy.org/), [SciPy](https://scipy.org/), [matplotlib](https://matplotlib.org/), [Sympy](https://www.sympy.org/en/index.html), [Maxima](http://maxima.sourceforge.net/), [GAP](http://www.gap-system.org/), [FLINT](http://www.flintlib.org/), [R](https://www.r-project.org/) and [many more](http://www.sagemath.org/links-components.html). Access their combined power through a common, Python-based language or directly via interfaces or wrappers."
   ]
  },
  {
   "attachments": {
    "logo_sage.png": {
     "image/png": "[encoded data removed]"
    }
   },
   "cell_type": "markdown",
   "metadata": {},
   "source": [
    "In other words, Sage is a general purpose computer algebra system written on top of the Python language. In Mathematica, Magma, and Maple, one writes code in the Mathematica-language, the Magma-language, or the Maple-language. Sage is Python.\n",
    "\n",
    "The purpose of this tutorial is to give an indication about how one really uses Sage, and what might be available to you if you want to try it out.\n",
    "\n",
    "I will spoil the surprise by telling you upfront the two main points I hope you'll take away from this tutorial.\n",
    "\n",
    "1. With tab-completion and documentation, you can do many things in Sage without ever having done them before.\n",
    "\n",
    "\n",
    "2. The ecosystem of libraries and functionality available in Sage is tremendous, and (usually) pretty easy to use. \n",
    "\n",
    "\n",
    "![logo_sage.png](attachment:logo_sage.png)"
   ]
  },
  {
   "cell_type": "markdown",
   "metadata": {},
   "source": [
    "***\n",
    "<a id=basics></a>\n",
    "# <font color=brown> Basics</font>"
   ]
  },
  {
   "cell_type": "markdown",
   "metadata": {},
   "source": [
    "### Arithmetic\n",
    "\n",
    "Using Sage as a calculator."
   ]
  },
  {
   "cell_type": "code",
   "execution_count": 1,
   "metadata": {},
   "outputs": [
    {
     "data": {
      "text/plain": [
       "2"
      ]
     },
     "execution_count": 1,
     "metadata": {},
     "output_type": "execute_result"
    }
   ],
   "source": [
    "# simple addition of two numbers, Sage also works as calculator\n",
    "1+1"
   ]
  },
  {
   "cell_type": "code",
   "execution_count": 2,
   "metadata": {},
   "outputs": [
    {
     "data": {
      "text/plain": [
       "258"
      ]
     },
     "execution_count": 2,
     "metadata": {},
     "output_type": "execute_result"
    }
   ],
   "source": [
    "( 1 + 2 * (3 + 5)^2 ) * 2"
   ]
  },
  {
   "cell_type": "markdown",
   "metadata": {},
   "source": [
    "The symbol `^` stands for the power of a number. Here we have $2^{1000}$. "
   ]
  },
  {
   "cell_type": "code",
   "execution_count": 3,
   "metadata": {},
   "outputs": [
    {
     "data": {
      "text/plain": [
       "10715086071862673209484250490600018105614048117055336074437503883703510511249361224931983788156958581275946729175531468251871452856923140435984577574698574803934567774824230985421074605062371141877954182153046474983581941267398767559165543946077062914571196477686542167660429831652624386837205668069376"
      ]
     },
     "execution_count": 3,
     "metadata": {},
     "output_type": "execute_result"
    }
   ],
   "source": [
    "2^1000"
   ]
  },
  {
   "cell_type": "markdown",
   "metadata": {},
   "source": [
    "Sage treats expressions as symbolic ones by default (absolute precision). `sqrt` stands for the square root of a number i.e. $\\sqrt{}$."
   ]
  },
  {
   "cell_type": "code",
   "execution_count": 4,
   "metadata": {},
   "outputs": [
    {
     "data": {
      "text/plain": [
       "sqrt(2)"
      ]
     },
     "execution_count": 4,
     "metadata": {},
     "output_type": "execute_result"
    }
   ],
   "source": [
    "sqrt(2)"
   ]
  },
  {
   "cell_type": "markdown",
   "metadata": {},
   "source": [
    "Show expression as a LaTeX expression (good looking mathematical text)."
   ]
  },
  {
   "cell_type": "code",
   "execution_count": 5,
   "metadata": {},
   "outputs": [
    {
     "data": {
      "text/html": [
       "<html><script type=\"math/tex; mode=display\">\\newcommand{\\Bold}[1]{\\mathbf{#1}}\\sqrt{2}</script></html>"
      ],
      "text/latex": [
       "\\begin{math}\n",
       "\\newcommand{\\Bold}[1]{\\mathbf{#1}}\\sqrt{2}\n",
       "\\end{math}"
      ],
      "text/plain": [
       "sqrt(2)"
      ]
     },
     "metadata": {},
     "output_type": "display_data"
    }
   ],
   "source": [
    "show(sqrt(2))"
   ]
  },
  {
   "cell_type": "markdown",
   "metadata": {},
   "source": [
    "Notice the different printing styles of the same expression $\\sqrt{2}$. We can use `show` to have a good looking mathematical outputs. "
   ]
  },
  {
   "cell_type": "markdown",
   "metadata": {},
   "source": [
    "We must tell the Sage  explicitly that we want the decimal number instead of symbolic expression in case of $\\sqrt{2}$ let's say."
   ]
  },
  {
   "cell_type": "code",
   "execution_count": 6,
   "metadata": {},
   "outputs": [
    {
     "data": {
      "text/plain": [
       "1.41421356237310"
      ]
     },
     "execution_count": 6,
     "metadata": {},
     "output_type": "execute_result"
    }
   ],
   "source": [
    "sqrt(2).n()"
   ]
  },
  {
   "cell_type": "markdown",
   "metadata": {},
   "source": [
    "`exp(x)` represents the exponential function $e^{x}$ where $e \\doteq 2.71828$ is the so called Euler number. Here we show $e^2$."
   ]
  },
  {
   "cell_type": "code",
   "execution_count": 7,
   "metadata": {},
   "outputs": [
    {
     "data": {
      "text/plain": [
       "e^2"
      ]
     },
     "execution_count": 7,
     "metadata": {},
     "output_type": "execute_result"
    }
   ],
   "source": [
    "exp(2)"
   ]
  },
  {
   "cell_type": "code",
   "execution_count": 8,
   "metadata": {},
   "outputs": [
    {
     "data": {
      "text/html": [
       "<html><script type=\"math/tex; mode=display\">\\newcommand{\\Bold}[1]{\\mathbf{#1}}e^{2}</script></html>"
      ],
      "text/latex": [
       "\\begin{math}\n",
       "\\newcommand{\\Bold}[1]{\\mathbf{#1}}e^{2}\n",
       "\\end{math}"
      ],
      "text/plain": [
       "e^2"
      ]
     },
     "metadata": {},
     "output_type": "display_data"
    }
   ],
   "source": [
    "show(exp(2))"
   ]
  },
  {
   "cell_type": "markdown",
   "metadata": {},
   "source": [
    "Notice that Sage functions `N()` and `n()` return decimal representation of symbolic expressions (numbers) and the parameter `digits` specifies the number of decimal places (precision). "
   ]
  },
  {
   "cell_type": "code",
   "execution_count": 9,
   "metadata": {},
   "outputs": [
    {
     "data": {
      "text/plain": [
       "7.38905609893065"
      ]
     },
     "execution_count": 9,
     "metadata": {},
     "output_type": "execute_result"
    }
   ],
   "source": [
    "N(exp(2))"
   ]
  },
  {
   "cell_type": "code",
   "execution_count": 10,
   "metadata": {},
   "outputs": [
    {
     "data": {
      "text/plain": [
       "7.3890560989306502272304274605750078131803155705518"
      ]
     },
     "execution_count": 10,
     "metadata": {},
     "output_type": "execute_result"
    }
   ],
   "source": [
    "N(exp(2), digits=50)"
   ]
  },
  {
   "cell_type": "markdown",
   "metadata": {},
   "source": [
    "Sage automatically cancels the fractions like $\\dfrac{20}{14}$ here. So $\\dfrac{20}{14}=\\dfrac{10}{7}$. "
   ]
  },
  {
   "cell_type": "code",
   "execution_count": 2,
   "metadata": {},
   "outputs": [
    {
     "data": {
      "text/plain": [
       "10/7"
      ]
     },
     "execution_count": 2,
     "metadata": {},
     "output_type": "execute_result"
    }
   ],
   "source": [
    "20/14"
   ]
  },
  {
   "cell_type": "code",
   "execution_count": 3,
   "metadata": {},
   "outputs": [
    {
     "data": {
      "text/html": [
       "<html><script type=\"math/tex; mode=display\">\\newcommand{\\Bold}[1]{\\mathbf{#1}}\\frac{10}{7}</script></html>"
      ],
      "text/plain": [
       "10/7"
      ]
     },
     "metadata": {},
     "output_type": "display_data"
    }
   ],
   "source": [
    "show(20/14)"
   ]
  },
  {
   "cell_type": "markdown",
   "metadata": {},
   "source": [
    "`numerical_approx` is an alternative to `N()` and `n()` in some sense. "
   ]
  },
  {
   "cell_type": "code",
   "execution_count": 11,
   "metadata": {},
   "outputs": [
    {
     "data": {
      "text/plain": [
       "1.42857142857143"
      ]
     },
     "execution_count": 11,
     "metadata": {},
     "output_type": "execute_result"
    }
   ],
   "source": [
    "numerical_approx(20/14)"
   ]
  },
  {
   "cell_type": "markdown",
   "metadata": {},
   "source": [
    "If we use decimal separator then Sage calculates the value of given expression by default. "
   ]
  },
  {
   "cell_type": "code",
   "execution_count": 12,
   "metadata": {},
   "outputs": [
    {
     "data": {
      "text/plain": [
       "1.42857142857143"
      ]
     },
     "execution_count": 12,
     "metadata": {},
     "output_type": "execute_result"
    }
   ],
   "source": [
    "20.0/14"
   ]
  },
  {
   "cell_type": "markdown",
   "metadata": {},
   "source": [
    "Numerical approximation of $\\pi$ to 10000 decimal places."
   ]
  },
  {
   "cell_type": "code",
   "execution_count": 13,
   "metadata": {},
   "outputs": [
    {
     "data": {
      "text/plain": [
       "3.14159265358979323846264338327950288419716939937510582097494459230781640628620899862803482534211706798214808651328230664709384460955058223172535940812848111745028410270193852110555964462294895493038196442881097566593344612847564823378678316527120190914564856692346034861045432664821339360726024914127372458700660631558817488152092096282925409171536436789259036001133053054882046652138414695194151160943305727036575959195309218611738193261179310511854807446237996274956735188575272489122793818301194912983367336244065664308602139494639522473719070217986094370277053921717629317675238467481846766940513200056812714526356082778577134275778960917363717872146844090122495343014654958537105079227968925892354201995611212902196086403441815981362977477130996051870721134999999837297804995105973173281609631859502445945534690830264252230825334468503526193118817101000313783875288658753320838142061717766914730359825349042875546873115956286388235378759375195778185778053217122680661300192787661119590921642019893809525720106548586327886593615338182796823030195203530185296899577362259941389124972177528347913151557485724245415069595082953311686172785588907509838175463746493931925506040092770167113900984882401285836160356370766010471018194295559619894676783744944825537977472684710404753464620804668425906949129331367702898915210475216205696602405803815019351125338243003558764024749647326391419927260426992279678235478163600934172164121992458631503028618297455570674983850549458858692699569092721079750930295532116534498720275596023648066549911988183479775356636980742654252786255181841757467289097777279380008164706001614524919217321721477235014144197356854816136115735255213347574184946843852332390739414333454776241686251898356948556209921922218427255025425688767179049460165346680498862723279178608578438382796797668145410095388378636095068006422512520511739298489608412848862694560424196528502221066118630674427862203919494504712371378696095636437191728746776465757396241389086583264599581339047802759009946576407895126946839835259570982582262052248940772671947826848260147699090264013639443745530506820349625245174939965143142980919065925093722169646151570985838741059788595977297549893016175392846813826868386894277415599185592524595395943104997252468084598727364469584865383673622262609912460805124388439045124413654976278079771569143599770012961608944169486855584840635342207222582848864815845602850601684273945226746767889525213852254995466672782398645659611635488623057745649803559363456817432411251507606947945109659609402522887971089314566913686722874894056010150330861792868092087476091782493858900971490967598526136554978189312978482168299894872265880485756401427047755513237964145152374623436454285844479526586782105114135473573952311342716610213596953623144295248493718711014576540359027993440374200731057853906219838744780847848968332144571386875194350643021845319104848100537061468067491927819119793995206141966342875444064374512371819217999839101591956181467514269123974894090718649423196156794521"
      ]
     },
     "execution_count": 13,
     "metadata": {},
     "output_type": "execute_result"
    }
   ],
   "source": [
    "numerical_approx(pi, 10000)"
   ]
  },
  {
   "cell_type": "code",
   "execution_count": 14,
   "metadata": {},
   "outputs": [
    {
     "data": {
      "text/plain": [
       "2*log(3)"
      ]
     },
     "execution_count": 14,
     "metadata": {},
     "output_type": "execute_result"
    }
   ],
   "source": [
    "log(3)+log(3)"
   ]
  },
  {
   "cell_type": "code",
   "execution_count": 15,
   "metadata": {},
   "outputs": [
    {
     "data": {
      "text/plain": [
       "1.09861228866811"
      ]
     },
     "execution_count": 15,
     "metadata": {},
     "output_type": "execute_result"
    }
   ],
   "source": [
    "log(3).n()"
   ]
  },
  {
   "cell_type": "markdown",
   "metadata": {},
   "source": [
    "There are some benefits of having smart representations. In many computer algebra systems, computing $\\left(\\sqrt2\\right)^2$ doesn't give you back $2$, due to finite floating point arithmetic. But in Sage, this problem is sometimes avoided."
   ]
  },
  {
   "cell_type": "code",
   "execution_count": 16,
   "metadata": {},
   "outputs": [
    {
     "data": {
      "text/plain": [
       "sqrt(2)"
      ]
     },
     "execution_count": 16,
     "metadata": {},
     "output_type": "execute_result"
    }
   ],
   "source": [
    "sqrt(2)"
   ]
  },
  {
   "cell_type": "code",
   "execution_count": 17,
   "metadata": {},
   "outputs": [
    {
     "data": {
      "text/html": [
       "<html><script type=\"math/tex; mode=display\">\\newcommand{\\Bold}[1]{\\mathbf{#1}}\\sqrt{2}</script></html>"
      ],
      "text/plain": [
       "sqrt(2)"
      ]
     },
     "metadata": {},
     "output_type": "display_data"
    }
   ],
   "source": [
    "show(sqrt(2))"
   ]
  },
  {
   "cell_type": "code",
   "execution_count": 18,
   "metadata": {},
   "outputs": [
    {
     "data": {
      "text/plain": [
       "2"
      ]
     },
     "execution_count": 18,
     "metadata": {},
     "output_type": "execute_result"
    }
   ],
   "source": [
    "# \"**\"\" is the same as \"^\" \n",
    "sqrt(2)**2"
   ]
  },
  {
   "cell_type": "code",
   "execution_count": 19,
   "metadata": {},
   "outputs": [
    {
     "data": {
      "text/plain": [
       "2"
      ]
     },
     "execution_count": 19,
     "metadata": {},
     "output_type": "execute_result"
    }
   ],
   "source": [
    "sqrt(2)^2"
   ]
  },
  {
   "cell_type": "markdown",
   "metadata": {},
   "source": [
    "Of course, there are examples where floating point arithmetic gets in the way.\n",
    "\n",
    "\n",
    "In Sage/Python, integers have unlimited digit length. Real precision arithmetic is a bit more complicated, which is why Sage tries to keep exact representations internally. We don't go into tracking digits of precision in Sage, but it is usually possible to prescribe levels of precision."
   ]
  },
  {
   "cell_type": "markdown",
   "metadata": {},
   "source": [
    "Let us construct a matrix - simply said a kind of table. "
   ]
  },
  {
   "cell_type": "code",
   "execution_count": 8,
   "metadata": {},
   "outputs": [
    {
     "data": {
      "text/plain": [
       "[ 0  1  2  3]\n",
       "[ 4  5  6  7]\n",
       "[ 8  9 10 11]\n",
       "[12 13 14 15]"
      ]
     },
     "execution_count": 8,
     "metadata": {},
     "output_type": "execute_result"
    }
   ],
   "source": [
    "A = matrix(4,4, range(16))\n",
    "A"
   ]
  },
  {
   "cell_type": "code",
   "execution_count": 21,
   "metadata": {},
   "outputs": [
    {
     "data": {
      "text/html": [
       "<html><script type=\"math/tex; mode=display\">\\newcommand{\\Bold}[1]{\\mathbf{#1}}\\left(\\begin{array}{rrrr}\n",
       "0 & 1 & 2 & 3 \\\\\n",
       "4 & 5 & 6 & 7 \\\\\n",
       "8 & 9 & 10 & 11 \\\\\n",
       "12 & 13 & 14 & 15\n",
       "\\end{array}\\right)</script></html>"
      ],
      "text/plain": [
       "[ 0  1  2  3]\n",
       "[ 4  5  6  7]\n",
       "[ 8  9 10 11]\n",
       "[12 13 14 15]"
      ]
     },
     "metadata": {},
     "output_type": "display_data"
    }
   ],
   "source": [
    "show(A)"
   ]
  },
  {
   "cell_type": "code",
   "execution_count": 9,
   "metadata": {},
   "outputs": [
    {
     "data": {
      "text/plain": [
       "[-5 -4 -3 -2]\n",
       "[-1  0  1  2]\n",
       "[ 3  4  5  6]\n",
       "[ 7  8  9 10]"
      ]
     },
     "execution_count": 9,
     "metadata": {},
     "output_type": "execute_result"
    }
   ],
   "source": [
    "B = matrix(4,4, range(-5, 11))\n",
    "B"
   ]
  },
  {
   "cell_type": "code",
   "execution_count": 23,
   "metadata": {},
   "outputs": [
    {
     "data": {
      "text/html": [
       "<html><script type=\"math/tex; mode=display\">\\newcommand{\\Bold}[1]{\\mathbf{#1}}\\left(\\begin{array}{rrrr}\n",
       "-5 & -4 & -3 & -2 \\\\\n",
       "-1 & 0 & 1 & 2 \\\\\n",
       "3 & 4 & 5 & 6 \\\\\n",
       "7 & 8 & 9 & 10\n",
       "\\end{array}\\right)</script></html>"
      ],
      "text/plain": [
       "[-5 -4 -3 -2]\n",
       "[-1  0  1  2]\n",
       "[ 3  4  5  6]\n",
       "[ 7  8  9 10]"
      ]
     },
     "metadata": {},
     "output_type": "display_data"
    }
   ],
   "source": [
    "show(B)"
   ]
  },
  {
   "cell_type": "markdown",
   "metadata": {},
   "source": [
    "Sage can be smart about using the same operators in different contexts. (i.e. Sage is very polymorphic). Multiplying, adding, subtracting, and dividing matrices works as expected."
   ]
  },
  {
   "cell_type": "code",
   "execution_count": 12,
   "metadata": {},
   "outputs": [
    {
     "data": {
      "text/plain": [
       "[-5 -3 -1  1]\n",
       "[ 3  5  7  9]\n",
       "[11 13 15 17]\n",
       "[19 21 23 25]"
      ]
     },
     "execution_count": 12,
     "metadata": {},
     "output_type": "execute_result"
    }
   ],
   "source": [
    "C=A+B\n",
    "C"
   ]
  },
  {
   "cell_type": "code",
   "execution_count": 13,
   "metadata": {},
   "outputs": [
    {
     "data": {
      "text/html": [
       "<html><script type=\"math/tex; mode=display\">\\newcommand{\\Bold}[1]{\\mathbf{#1}}\\left(\\begin{array}{rrrr}\n",
       "-5 & -3 & -1 & 1 \\\\\n",
       "3 & 5 & 7 & 9 \\\\\n",
       "11 & 13 & 15 & 17 \\\\\n",
       "19 & 21 & 23 & 25\n",
       "\\end{array}\\right)</script></html>"
      ],
      "text/plain": [
       "[-5 -3 -1  1]\n",
       "[ 3  5  7  9]\n",
       "[11 13 15 17]\n",
       "[19 21 23 25]"
      ]
     },
     "metadata": {},
     "output_type": "display_data"
    }
   ],
   "source": [
    "show(C)"
   ]
  },
  {
   "cell_type": "markdown",
   "metadata": {},
   "source": [
    "As you can see the example above, the addition of two matrices $\\mathrm{A}$ and $\\mathrm{B}$ denoted as $\\mathrm{A}+\\mathrm{B}$, means that we add together the corresponding elements of matrix (table) $\\mathrm{A}$ and matrix (table) $\\mathrm{B}$. For instance the element of $\\mathrm{A}$ in position $[1,1]$ is $0$ and the element of $\\mathrm{B}$ in position $[1,1]$ is $-5$ so in the result, the element in position $[1,1]$ will be $0-5=-5$. So if we set $\\mathrm{C}=\\mathrm{A}+\\mathrm{B}$, where the matrix $\\mathrm{C}$ is the result of $\\mathrm{A}+\\mathrm{B}$, the element of $\\mathrm{C}$ in position $[1,1]$ is equal to $-5$. The same procedure is repeated with the other elements of $\\mathrm{A}$ and $\\mathrm{B}$ to obtain the result, matrix (table) $\\mathrm{C}$. "
   ]
  },
  {
   "cell_type": "markdown",
   "metadata": {},
   "source": [
    "Matrix multiplication is a little bit more complicated so we are not going to discuss it here but don't be sad, you will understand how it works later. "
   ]
  },
  {
   "cell_type": "code",
   "execution_count": 24,
   "metadata": {},
   "outputs": [
    {
     "data": {
      "text/plain": [
       "[ 26  32  38  44]\n",
       "[ 42  64  86 108]\n",
       "[ 58  96 134 172]\n",
       "[ 74 128 182 236]"
      ]
     },
     "execution_count": 24,
     "metadata": {},
     "output_type": "execute_result"
    }
   ],
   "source": [
    "A*B"
   ]
  },
  {
   "cell_type": "code",
   "execution_count": 25,
   "metadata": {},
   "outputs": [
    {
     "data": {
      "text/html": [
       "<html><script type=\"math/tex; mode=display\">\\newcommand{\\Bold}[1]{\\mathbf{#1}}\\left(\\begin{array}{rrrr}\n",
       "26 & 32 & 38 & 44 \\\\\n",
       "42 & 64 & 86 & 108 \\\\\n",
       "58 & 96 & 134 & 172 \\\\\n",
       "74 & 128 & 182 & 236\n",
       "\\end{array}\\right)</script></html>"
      ],
      "text/plain": [
       "[ 26  32  38  44]\n",
       "[ 42  64  86 108]\n",
       "[ 58  96 134 172]\n",
       "[ 74 128 182 236]"
      ]
     },
     "metadata": {},
     "output_type": "display_data"
    }
   ],
   "source": [
    "show(A*B)"
   ]
  },
  {
   "cell_type": "code",
   "execution_count": 1,
   "metadata": {},
   "outputs": [
    {
     "data": {
      "text/html": [
       "<html><script type=\"math/tex; mode=display\">\\newcommand{\\Bold}[1]{\\mathbf{#1}}\\left(\\begin{array}{rr}\n",
       "1 & 2 \\\\\n",
       "3 & 4\n",
       "\\end{array}\\right)</script></html>"
      ],
      "text/plain": [
       "[1 2]\n",
       "[3 4]"
      ]
     },
     "metadata": {},
     "output_type": "display_data"
    }
   ],
   "source": [
    "D = matrix([[1,2],[3,4]])\n",
    "show(D)"
   ]
  },
  {
   "cell_type": "markdown",
   "metadata": {},
   "source": [
    "Sage can also generate the LaTeX code of mathematical expressions for you. Just call `latex` function. "
   ]
  },
  {
   "cell_type": "code",
   "execution_count": 2,
   "metadata": {},
   "outputs": [
    {
     "data": {
      "text/plain": [
       "\\left(\\begin{array}{rr}\n",
       "1 & 2 \\\\\n",
       "3 & 4\n",
       "\\end{array}\\right)"
      ]
     },
     "execution_count": 2,
     "metadata": {},
     "output_type": "execute_result"
    }
   ],
   "source": [
    "latex(D)"
   ]
  },
  {
   "cell_type": "markdown",
   "metadata": {},
   "source": [
    "If you put the generated code between \\\\$ \\\\$ in cell with Markdown you get this: \n",
    "$\\left(\\begin{array}{rr}\n",
    "1 & 2 \\\\\n",
    "3 & 4\n",
    "\\end{array}\\right)$."
   ]
  },
  {
   "cell_type": "markdown",
   "metadata": {},
   "source": [
    "Factorization of composite number $1008$ to prime numbers. `factor` makes the factorization for you if possible. "
   ]
  },
  {
   "cell_type": "code",
   "execution_count": 19,
   "metadata": {},
   "outputs": [
    {
     "data": {
      "text/plain": [
       "2^4 * 3^2 * 7"
      ]
     },
     "execution_count": 19,
     "metadata": {},
     "output_type": "execute_result"
    }
   ],
   "source": [
    "factor(1008)"
   ]
  },
  {
   "cell_type": "code",
   "execution_count": 20,
   "metadata": {},
   "outputs": [
    {
     "data": {
      "text/html": [
       "<html><script type=\"math/tex; mode=display\">\\newcommand{\\Bold}[1]{\\mathbf{#1}}2^{4} \\cdot 3^{2} \\cdot 7</script></html>"
      ],
      "text/plain": [
       "2^4 * 3^2 * 7"
      ]
     },
     "metadata": {},
     "output_type": "display_data"
    }
   ],
   "source": [
    "show(factor(1008))"
   ]
  },
  {
   "cell_type": "markdown",
   "metadata": {},
   "source": [
    "In the background, Sage is actually calling on Pari/GP (computational library) to do this factorization. Sage bundles lots of free and open source math software within it (which is why it's so large), and provides a common access point. The great thing here is that you can often use Sage without needing to know much pari/GP (or other software)."
   ]
  },
  {
   "cell_type": "code",
   "execution_count": 21,
   "metadata": {},
   "outputs": [
    {
     "data": {
      "text/plain": [
       "[(2, 4), (3, 2), (7, 1)]"
      ]
     },
     "execution_count": 21,
     "metadata": {},
     "output_type": "execute_result"
    }
   ],
   "source": [
    "list(factor(1008))"
   ]
  },
  {
   "cell_type": "code",
   "execution_count": 22,
   "metadata": {},
   "outputs": [
    {
     "data": {
      "text/html": [
       "<html><script type=\"math/tex; mode=display\">\\newcommand{\\Bold}[1]{\\mathbf{#1}}\\left[\\left(2, 4\\right), \\left(3, 2\\right), \\left(7, 1\\right)\\right]</script></html>"
      ],
      "text/plain": [
       "[(2, 4), (3, 2), (7, 1)]"
      ]
     },
     "metadata": {},
     "output_type": "display_data"
    }
   ],
   "source": [
    "show(list(factor(1008)))"
   ]
  },
  {
   "cell_type": "markdown",
   "metadata": {},
   "source": [
    "You can see that `list` has been used as it is the one of the basic structures in Sage (as well as in Python). In the previous example you saw the `matrix` and also other data structures from Python can be used (arrays, tuples, sequences, sets, dictionaries, stacks, queues... )"
   ]
  },
  {
   "cell_type": "markdown",
   "metadata": {},
   "source": [
    "### Functions, loops, conditionals"
   ]
  },
  {
   "cell_type": "markdown",
   "metadata": {},
   "source": [
    "Sage is written in Python. You can use Python functions in Sage. You can also import python libraries in Sage, which extends Sage's reach significantly. The `range` function in Python counts up to a given number, starting at 0."
   ]
  },
  {
   "cell_type": "markdown",
   "metadata": {},
   "source": [
    "Generating integers from $0$ to $15$. "
   ]
  },
  {
   "cell_type": "code",
   "execution_count": 126,
   "metadata": {},
   "outputs": [
    {
     "name": "stdout",
     "output_type": "stream",
     "text": [
      "[0, 1, 2, 3, 4, 5, 6, 7, 8, 9, 10, 11, 12, 13, 14, 15]\n"
     ]
    }
   ],
   "source": [
    "print([*range(16)])"
   ]
  },
  {
   "cell_type": "markdown",
   "metadata": {},
   "source": [
    "$\\left\\{n^2\\,|\\,n\\in\\mathbb{Z},\\,3\\le n \\le12\\right\\}$, generating the squares of the followng numbers: $3,4,5,6,7,8,9,10,11,12$, i.e. $3^2, 4^2, 5^2,\\ldots, 12^2$. "
   ]
  },
  {
   "cell_type": "code",
   "execution_count": 31,
   "metadata": {},
   "outputs": [
    {
     "data": {
      "text/plain": [
       "[9, 16, 25, 36, 49, 64, 81, 100, 121, 144]"
      ]
     },
     "execution_count": 31,
     "metadata": {},
     "output_type": "execute_result"
    }
   ],
   "source": [
    "[n^2 for n in [3..12]]"
   ]
  },
  {
   "cell_type": "markdown",
   "metadata": {},
   "source": [
    "In the following chunk of code we divide the number $m=31$ by number $3$ and also testing if remainder from division is $0$ or $1$. If it is equal to $0$ then we print the number $\\dfrac{m}{3}$ and when the remainder is equal to $1$ then we print the number $\\dfrac{(m-1)}{3}$. "
   ]
  },
  {
   "cell_type": "code",
   "execution_count": 23,
   "metadata": {},
   "outputs": [
    {
     "name": "stdout",
     "output_type": "stream",
     "text": [
      "10\n"
     ]
    }
   ],
   "source": [
    "m=31\n",
    "if m%3==0:\n",
    "    print(m/3)\n",
    "elif m%3==1:\n",
    "    print((m-1)/3)"
   ]
  },
  {
   "cell_type": "markdown",
   "metadata": {},
   "source": [
    "Consider the squared integers from $0$ to $9$. If the particular integer can be divided by $2$ without any remainder (i.e. remainder is zero) we print $2$ and if the particular integer divided by $2$ returns the remainder of $1$ then we print this particular integer."
   ]
  },
  {
   "cell_type": "code",
   "execution_count": 33,
   "metadata": {},
   "outputs": [
    {
     "data": {
      "text/plain": [
       "[2, 1, 2, 9, 2, 25, 2, 49, 2, 81]"
      ]
     },
     "execution_count": 33,
     "metadata": {},
     "output_type": "execute_result"
    }
   ],
   "source": [
    "[i^2 if i % 2 == 1 else 2 for i in range(10)]"
   ]
  },
  {
   "cell_type": "markdown",
   "metadata": {},
   "source": [
    "Printing all ordered pairs $(i,j)$ where $i\\in\\{2,3,4,5\\}$ and $j\\in\\{1,\\ldots,i\\}$."
   ]
  },
  {
   "cell_type": "code",
   "execution_count": 25,
   "metadata": {},
   "outputs": [
    {
     "data": {
      "text/plain": [
       "[(2, 1),\n",
       " (3, 1),\n",
       " (3, 2),\n",
       " (4, 1),\n",
       " (4, 2),\n",
       " (4, 3),\n",
       " (5, 1),\n",
       " (5, 2),\n",
       " (5, 3),\n",
       " (5, 4)]"
      ]
     },
     "execution_count": 25,
     "metadata": {},
     "output_type": "execute_result"
    }
   ],
   "source": [
    "z1 = [ (i,j) for i in range(1,6) for j in range(1,i) ]\n",
    "z1"
   ]
  },
  {
   "cell_type": "code",
   "execution_count": 26,
   "metadata": {},
   "outputs": [
    {
     "data": {
      "text/html": [
       "<html><script type=\"math/tex; mode=display\">\\newcommand{\\Bold}[1]{\\mathbf{#1}}\\left[\\left(2, 1\\right), \\left(3, 1\\right), \\left(3, 2\\right), \\left(4, 1\\right), \\left(4, 2\\right), \\left(4, 3\\right), \\left(5, 1\\right), \\left(5, 2\\right), \\left(5, 3\\right), \\left(5, 4\\right)\\right]</script></html>"
      ],
      "text/plain": [
       "[(2, 1),\n",
       " (3, 1),\n",
       " (3, 2),\n",
       " (4, 1),\n",
       " (4, 2),\n",
       " (4, 3),\n",
       " (5, 1),\n",
       " (5, 2),\n",
       " (5, 3),\n",
       " (5, 4)]"
      ]
     },
     "metadata": {},
     "output_type": "display_data"
    }
   ],
   "source": [
    "# printing the same list as above but in a better looking way\n",
    "show(z1)"
   ]
  },
  {
   "cell_type": "markdown",
   "metadata": {},
   "source": [
    "Printing integers from $5$ to $1$. "
   ]
  },
  {
   "cell_type": "code",
   "execution_count": 48,
   "metadata": {},
   "outputs": [
    {
     "name": "stdout",
     "output_type": "stream",
     "text": [
      "5\n",
      "4\n",
      "3\n",
      "2\n",
      "1\n"
     ]
    }
   ],
   "source": [
    "k = 5\n",
    "while k > 0:\n",
    "    print(k)\n",
    "    k=k-1"
   ]
  },
  {
   "cell_type": "markdown",
   "metadata": {},
   "source": [
    "Consider the integers from $0$ to $9$ and print just those of them which are divisible by $2$ without any remainder."
   ]
  },
  {
   "cell_type": "code",
   "execution_count": 1,
   "metadata": {},
   "outputs": [
    {
     "name": "stdout",
     "output_type": "stream",
     "text": [
      "0\n",
      "2\n",
      "4\n",
      "6\n",
      "8\n"
     ]
    }
   ],
   "source": [
    "i = 0\n",
    "while i < 10:\n",
    "    if i % 2 == 1:\n",
    "        i += 1\n",
    "        continue\n",
    "    print(i)\n",
    "    i += 1"
   ]
  },
  {
   "cell_type": "markdown",
   "metadata": {},
   "source": [
    "It is often the case that Sage can do something, but doesn’t have a simple command for it. For instance, you might want to take a matrix and output the square of that matrix minus the original matrix. See the following computation for illustration. "
   ]
  },
  {
   "cell_type": "code",
   "execution_count": 1,
   "metadata": {},
   "outputs": [
    {
     "data": {
      "text/html": [
       "<html><script type=\"math/tex; mode=display\">\\newcommand{\\Bold}[1]{\\mathbf{#1}}\\left(\\begin{array}{rr}\n",
       "1 & 2 \\\\\n",
       "3 & 4\n",
       "\\end{array}\\right)</script></html>"
      ],
      "text/plain": [
       "[1 2]\n",
       "[3 4]"
      ]
     },
     "metadata": {},
     "output_type": "display_data"
    }
   ],
   "source": [
    "C = matrix([[1,2],[3,4]])\n",
    "show(C)"
   ]
  },
  {
   "cell_type": "markdown",
   "metadata": {},
   "source": [
    "$$\\left(\\begin{array}{rr}\n",
    "1 & 2 \\\\\n",
    "3 & 4\n",
    "\\end{array}\\right) \\cdot \n",
    "\\left(\\begin{array}{rr}\n",
    "1 & 2 \\\\\n",
    "3 & 4\n",
    "\\end{array}\\right) - \n",
    "\\left(\\begin{array}{rr}\n",
    "1 & 2 \\\\\n",
    "3 & 4\n",
    "\\end{array}\\right)$$"
   ]
  },
  {
   "cell_type": "code",
   "execution_count": 5,
   "metadata": {},
   "outputs": [
    {
     "data": {
      "text/html": [
       "<html><script type=\"math/tex; mode=display\">\\newcommand{\\Bold}[1]{\\mathbf{#1}}\\left(\\begin{array}{rr}\n",
       "6 & 8 \\\\\n",
       "12 & 18\n",
       "\\end{array}\\right)</script></html>"
      ],
      "text/plain": [
       "[ 6  8]\n",
       "[12 18]"
      ]
     },
     "metadata": {},
     "output_type": "display_data"
    }
   ],
   "source": [
    "show(C^2-C)"
   ]
  },
  {
   "cell_type": "markdown",
   "metadata": {},
   "source": [
    "How might one do this for other matrices? Of course, you could just always do $\\mathrm{C}^2−\\mathrm{C}$ again and again. But this would be tedious and hard to follow, as with so many things that motivate a little programming. Here is how we solve this problem. The idea is to define our own function which calculates $\\mathrm{C}^2−\\mathrm{C}$ and returns the result no matter what the matrix $\\mathrm{C}$ is on the input. "
   ]
  },
  {
   "cell_type": "code",
   "execution_count": 6,
   "metadata": {},
   "outputs": [],
   "source": [
    "def square_and_subtract(mymatrix):\n",
    "    \"\"\"\n",
    "    Return `C^2-C`\n",
    "    \"\"\"\n",
    "    return mymatrix^2-mymatrix"
   ]
  },
  {
   "cell_type": "markdown",
   "metadata": {},
   "source": [
    "In the following cells we test our defined function (see also different types of input matrix definition). "
   ]
  },
  {
   "cell_type": "code",
   "execution_count": 7,
   "metadata": {},
   "outputs": [
    {
     "data": {
      "text/html": [
       "<html><script type=\"math/tex; mode=display\">\\newcommand{\\Bold}[1]{\\mathbf{#1}}\\left(\\begin{array}{rr}\n",
       "6 & 8 \\\\\n",
       "12 & 18\n",
       "\\end{array}\\right)</script></html>"
      ],
      "text/plain": [
       "[ 6  8]\n",
       "[12 18]"
      ]
     },
     "metadata": {},
     "output_type": "display_data"
    }
   ],
   "source": [
    "show(square_and_subtract(C))"
   ]
  },
  {
   "cell_type": "code",
   "execution_count": 8,
   "metadata": {},
   "outputs": [
    {
     "data": {
      "text/html": [
       "<html><script type=\"math/tex; mode=display\">\\newcommand{\\Bold}[1]{\\mathbf{#1}}\\left(\\begin{array}{rr}\n",
       "0.750000000000000 & 0.000000000000000 \\\\\n",
       "0.000000000000000 & 2.00000000000000\n",
       "\\end{array}\\right)</script></html>"
      ],
      "text/plain": [
       "[0.750000000000000 0.000000000000000]\n",
       "[0.000000000000000  2.00000000000000]"
      ]
     },
     "metadata": {},
     "output_type": "display_data"
    }
   ],
   "source": [
    "show(square_and_subtract(matrix([[1.5,0],[0,2]])))"
   ]
  },
  {
   "cell_type": "code",
   "execution_count": 9,
   "metadata": {},
   "outputs": [
    {
     "data": {
      "text/html": [
       "<html><script type=\"math/tex; mode=display\">\\newcommand{\\Bold}[1]{\\mathbf{#1}}\\left(\\begin{array}{rr}\n",
       "0.750000000000000 & 0 \\\\\n",
       "0 & 2\n",
       "\\end{array}\\right)</script></html>"
      ],
      "text/plain": [
       "[0.750000000000000                 0]\n",
       "[                0                 2]"
      ]
     },
     "metadata": {},
     "output_type": "display_data"
    }
   ],
   "source": [
    "show(square_and_subtract(matrix(SR,[[1.5,0],[0,2]])))"
   ]
  },
  {
   "cell_type": "code",
   "execution_count": 10,
   "metadata": {},
   "outputs": [
    {
     "data": {
      "text/html": [
       "<html><script type=\"math/tex; mode=display\">\\newcommand{\\Bold}[1]{\\mathbf{#1}}\\left(\\begin{array}{rr}\n",
       "\\frac{3}{4} & 0 \\\\\n",
       "0 & 2\n",
       "\\end{array}\\right)</script></html>"
      ],
      "text/plain": [
       "[3/4   0]\n",
       "[  0   2]"
      ]
     },
     "metadata": {},
     "output_type": "display_data"
    }
   ],
   "source": [
    "show(square_and_subtract(matrix(QQ,[[1.5,0],[0,2]])))"
   ]
  },
  {
   "cell_type": "markdown",
   "metadata": {},
   "source": [
    "**Lambda expressions** (sometimes called **lambda forms**) are used to create **anonymous functions**. The expression `lambda parameters: expression` yields a function object. The unnamed object behaves like a function object defined with:\n",
    "\n",
    "\n",
    "```\n",
    "def <lambda>(parameters): \n",
    "    return expression\n",
    "```"
   ]
  },
  {
   "cell_type": "markdown",
   "metadata": {},
   "source": [
    "There are times when you want to write a short, one-liner function. You could write the addition function as follows:"
   ]
  },
  {
   "cell_type": "code",
   "execution_count": 65,
   "metadata": {},
   "outputs": [],
   "source": [
    "def add_ZZ(a, b): return a + b"
   ]
  },
  {
   "cell_type": "code",
   "execution_count": 66,
   "metadata": {},
   "outputs": [
    {
     "data": {
      "text/plain": [
       "6"
      ]
     },
     "execution_count": 66,
     "metadata": {},
     "output_type": "execute_result"
    }
   ],
   "source": [
    "add_ZZ(2,4)"
   ]
  },
  {
   "cell_type": "markdown",
   "metadata": {},
   "source": [
    "Or you could use a `lambda` statement to do the same thing in a much clearer style. The above addition function could be re-written using `lambda` as follows:"
   ]
  },
  {
   "cell_type": "code",
   "execution_count": 67,
   "metadata": {},
   "outputs": [],
   "source": [
    "add_ZZ = lambda a, b: a + b"
   ]
  },
  {
   "cell_type": "code",
   "execution_count": 68,
   "metadata": {},
   "outputs": [
    {
     "data": {
      "text/plain": [
       "6"
      ]
     },
     "execution_count": 68,
     "metadata": {},
     "output_type": "execute_result"
    }
   ],
   "source": [
    "add_ZZ(2,4)"
   ]
  },
  {
   "cell_type": "markdown",
   "metadata": {},
   "source": [
    "Here is another example dealing with `lambda` form. "
   ]
  },
  {
   "cell_type": "code",
   "execution_count": 70,
   "metadata": {},
   "outputs": [],
   "source": [
    "def print_function_value (f,x): \n",
    "    print(f(x))"
   ]
  },
  {
   "cell_type": "code",
   "execution_count": 71,
   "metadata": {},
   "outputs": [
    {
     "name": "stdout",
     "output_type": "stream",
     "text": [
      "-1\n"
     ]
    }
   ],
   "source": [
    "print_function_value(cos,pi)"
   ]
  },
  {
   "cell_type": "code",
   "execution_count": 72,
   "metadata": {},
   "outputs": [
    {
     "name": "stdout",
     "output_type": "stream",
     "text": [
      "0\n"
     ]
    }
   ],
   "source": [
    "print_function_value(lambda y: y*sin(y),pi)"
   ]
  },
  {
   "cell_type": "markdown",
   "metadata": {},
   "source": [
    "### Symbolic calculations"
   ]
  },
  {
   "cell_type": "markdown",
   "metadata": {},
   "source": [
    "Defining new symbolic variable $s$. "
   ]
  },
  {
   "cell_type": "code",
   "execution_count": 15,
   "metadata": {},
   "outputs": [
    {
     "data": {
      "text/plain": [
       "s"
      ]
     },
     "execution_count": 15,
     "metadata": {},
     "output_type": "execute_result"
    }
   ],
   "source": [
    "var('s')\n",
    "s"
   ]
  },
  {
   "cell_type": "markdown",
   "metadata": {},
   "source": [
    "Defining new variable $s$ together with its LaTeX name $\\sigma$. The LaTeX name is not neccessary, it is just looking good and sometimes concisely if we use command `show` to print mathematical expressions. "
   ]
  },
  {
   "cell_type": "code",
   "execution_count": 16,
   "metadata": {},
   "outputs": [
    {
     "data": {
      "text/plain": [
       "s"
      ]
     },
     "execution_count": 16,
     "metadata": {},
     "output_type": "execute_result"
    }
   ],
   "source": [
    "var('s', latex_name=\"\\\\sigma\")\n",
    "s"
   ]
  },
  {
   "cell_type": "code",
   "execution_count": 17,
   "metadata": {},
   "outputs": [
    {
     "data": {
      "text/html": [
       "<html><script type=\"math/tex; mode=display\">\\newcommand{\\Bold}[1]{\\mathbf{#1}}{\\sigma}</script></html>"
      ],
      "text/plain": [
       "s"
      ]
     },
     "metadata": {},
     "output_type": "display_data"
    }
   ],
   "source": [
    "show(s)"
   ]
  },
  {
   "cell_type": "markdown",
   "metadata": {},
   "source": [
    "We use the following command for nice LaTeX printing in the rest of this notebook. "
   ]
  },
  {
   "cell_type": "code",
   "execution_count": 19,
   "metadata": {},
   "outputs": [],
   "source": [
    "%display latex"
   ]
  },
  {
   "cell_type": "markdown",
   "metadata": {},
   "source": [
    "Definition of function $h(x)$ (polynomial) with the unknown $x$."
   ]
  },
  {
   "cell_type": "code",
   "execution_count": 20,
   "metadata": {},
   "outputs": [
    {
     "data": {
      "text/html": [
       "<html><script type=\"math/tex; mode=display\">\\newcommand{\\Bold}[1]{\\mathbf{#1}}x^{4} - 8 \\, x^{2} - 3 \\, x + 2</script></html>"
      ],
      "text/plain": [
       "x^4 - 8*x^2 - 3*x + 2"
      ]
     },
     "execution_count": 20,
     "metadata": {},
     "output_type": "execute_result"
    }
   ],
   "source": [
    "h(x) = x^4 - 8*x^2 - 3*x + 2\n",
    "h(x)"
   ]
  },
  {
   "cell_type": "code",
   "execution_count": 36,
   "metadata": {},
   "outputs": [
    {
     "data": {
      "text/html": [
       "<html><script type=\"math/tex; mode=display\">\\newcommand{\\Bold}[1]{\\mathbf{#1}}x \\ {\\mapsto}\\ x^{4} - 8 \\, x^{2} - 3 \\, x + 2</script></html>"
      ],
      "text/plain": [
       "x |--> x^4 - 8*x^2 - 3*x + 2"
      ]
     },
     "metadata": {},
     "output_type": "display_data"
    }
   ],
   "source": [
    "show(h)"
   ]
  },
  {
   "cell_type": "markdown",
   "metadata": {},
   "source": [
    "Calculation of the value of function $h(x)$ at the point $x=-3$, i.e. $h(-3)$. "
   ]
  },
  {
   "cell_type": "code",
   "execution_count": 37,
   "metadata": {},
   "outputs": [
    {
     "data": {
      "text/html": [
       "<html><script type=\"math/tex; mode=display\">\\newcommand{\\Bold}[1]{\\mathbf{#1}}20</script></html>"
      ],
      "text/plain": [
       "20"
      ]
     },
     "execution_count": 37,
     "metadata": {},
     "output_type": "execute_result"
    }
   ],
   "source": [
    "h(-3)"
   ]
  },
  {
   "cell_type": "markdown",
   "metadata": {},
   "source": [
    "An alternative approach to compute $h(-3)$. "
   ]
  },
  {
   "cell_type": "code",
   "execution_count": 28,
   "metadata": {},
   "outputs": [
    {
     "data": {
      "text/html": [
       "<html><script type=\"math/tex; mode=display\">\\newcommand{\\Bold}[1]{\\mathbf{#1}}x \\ {\\mapsto}\\ 20</script></html>"
      ],
      "text/plain": [
       "x |--> 20"
      ]
     },
     "execution_count": 28,
     "metadata": {},
     "output_type": "execute_result"
    }
   ],
   "source": [
    "h.subs(x == -3)"
   ]
  },
  {
   "cell_type": "markdown",
   "metadata": {},
   "source": [
    "Defining new symbolic variable $z$."
   ]
  },
  {
   "cell_type": "code",
   "execution_count": 29,
   "metadata": {},
   "outputs": [
    {
     "data": {
      "text/html": [
       "<html><script type=\"math/tex; mode=display\">\\newcommand{\\Bold}[1]{\\mathbf{#1}}z</script></html>"
      ],
      "text/plain": [
       "z"
      ]
     },
     "execution_count": 29,
     "metadata": {},
     "output_type": "execute_result"
    }
   ],
   "source": [
    "var('z')\n",
    "z"
   ]
  },
  {
   "cell_type": "markdown",
   "metadata": {},
   "source": [
    "Now let us define two symbolic expressions (polynomials of the variable $z$) called exp1 and exp2. "
   ]
  },
  {
   "cell_type": "code",
   "execution_count": 30,
   "metadata": {},
   "outputs": [
    {
     "data": {
      "text/html": [
       "<html><script type=\"math/tex; mode=display\">\\newcommand{\\Bold}[1]{\\mathbf{#1}}4 \\, z^{5} + 7 \\, z^{3} - z^{2} - 6</script></html>"
      ],
      "text/plain": [
       "4*z^5 + 7*z^3 - z^2 - 6"
      ]
     },
     "execution_count": 30,
     "metadata": {},
     "output_type": "execute_result"
    }
   ],
   "source": [
    "exp1 = 4*z^5 + 7*z^3 - z^2 -6\n",
    "exp1"
   ]
  },
  {
   "cell_type": "code",
   "execution_count": 32,
   "metadata": {},
   "outputs": [
    {
     "data": {
      "text/html": [
       "<html><script type=\"math/tex; mode=display\">\\newcommand{\\Bold}[1]{\\mathbf{#1}}2 \\, z^{5} - z^{4} - 3 \\, z^{3} + 4 \\, z + 1</script></html>"
      ],
      "text/plain": [
       "2*z^5 - z^4 - 3*z^3 + 4*z + 1"
      ]
     },
     "execution_count": 32,
     "metadata": {},
     "output_type": "execute_result"
    }
   ],
   "source": [
    "exp2 = 2*z^5 - z^4 - 3*z^3 + 4*z + 1\n",
    "exp2"
   ]
  },
  {
   "cell_type": "markdown",
   "metadata": {},
   "source": [
    "We can simply add the previous symbolic expressions (polynomials) exp1 and ex2 and name the result as exp3. "
   ]
  },
  {
   "cell_type": "code",
   "execution_count": 33,
   "metadata": {},
   "outputs": [
    {
     "data": {
      "text/html": [
       "<html><script type=\"math/tex; mode=display\">\\newcommand{\\Bold}[1]{\\mathbf{#1}}6 \\, z^{5} - z^{4} + 4 \\, z^{3} - z^{2} + 4 \\, z - 5</script></html>"
      ],
      "text/plain": [
       "6*z^5 - z^4 + 4*z^3 - z^2 + 4*z - 5"
      ]
     },
     "execution_count": 33,
     "metadata": {},
     "output_type": "execute_result"
    }
   ],
   "source": [
    "exp3 = exp1 + exp2\n",
    "exp3"
   ]
  },
  {
   "cell_type": "markdown",
   "metadata": {},
   "source": [
    "Let's find out what is the value of exp3 if $z=-1$. "
   ]
  },
  {
   "cell_type": "code",
   "execution_count": 34,
   "metadata": {},
   "outputs": [
    {
     "data": {
      "text/html": [
       "<html><script type=\"math/tex; mode=display\">\\newcommand{\\Bold}[1]{\\mathbf{#1}}-21</script></html>"
      ],
      "text/plain": [
       "-21"
      ]
     },
     "execution_count": 34,
     "metadata": {},
     "output_type": "execute_result"
    }
   ],
   "source": [
    "exp3.subs(z == -1)"
   ]
  },
  {
   "cell_type": "markdown",
   "metadata": {},
   "source": [
    "Factorization of polynomial $x^{100}-1$. "
   ]
  },
  {
   "cell_type": "code",
   "execution_count": 38,
   "metadata": {},
   "outputs": [
    {
     "data": {
      "text/html": [
       "<html><script type=\"math/tex; mode=display\">\\newcommand{\\Bold}[1]{\\mathbf{#1}}{\\left(x^{40} - x^{30} + x^{20} - x^{10} + 1\\right)} {\\left(x^{20} + x^{15} + x^{10} + x^{5} + 1\\right)} {\\left(x^{20} - x^{15} + x^{10} - x^{5} + 1\\right)} {\\left(x^{8} - x^{6} + x^{4} - x^{2} + 1\\right)} {\\left(x^{4} + x^{3} + x^{2} + x + 1\\right)} {\\left(x^{4} - x^{3} + x^{2} - x + 1\\right)} {\\left(x^{2} + 1\\right)} {\\left(x + 1\\right)} {\\left(x - 1\\right)}</script></html>"
      ],
      "text/plain": [
       "(x^40 - x^30 + x^20 - x^10 + 1)*(x^20 + x^15 + x^10 + x^5 + 1)*(x^20 - x^15 + x^10 - x^5 + 1)*(x^8 - x^6 + x^4 - x^2 + 1)*(x^4 + x^3 + x^2 + x + 1)*(x^4 - x^3 + x^2 - x + 1)*(x^2 + 1)*(x + 1)*(x - 1)"
      ]
     },
     "execution_count": 38,
     "metadata": {},
     "output_type": "execute_result"
    }
   ],
   "source": [
    "factor(x^100 - 1)"
   ]
  },
  {
   "cell_type": "markdown",
   "metadata": {},
   "source": [
    "Testing if $x^{100} - 1$ is equal to \n",
    "\n",
    "${\\left(x^{40} - x^{30} + x^{20} - x^{10} + 1\\right)} {\\left(x^{20} + x^{15} + x^{10} + x^{5} + 1\\right)} {\\left(x^{20} - x^{15} + x^{10} - x^{5} + 1\\right)} {\\left(x^{8} - x^{6} + x^{4} - x^{2} + 1\\right)} {\\left(x^{4} + x^{3} + x^{2} + x + 1\\right)} {\\left(x^{4} - x^{3} + x^{2} - x + 1\\right)} {\\left(x^{2} + 1\\right)} {\\left(x + 1\\right)} {\\left(x - 1\\right)}$"
   ]
  },
  {
   "cell_type": "code",
   "execution_count": 39,
   "metadata": {},
   "outputs": [
    {
     "data": {
      "text/html": [
       "<html><script type=\"math/tex; mode=display\">\\newcommand{\\Bold}[1]{\\mathbf{#1}}\\mathrm{True}</script></html>"
      ],
      "text/plain": [
       "True"
      ]
     },
     "execution_count": 39,
     "metadata": {},
     "output_type": "execute_result"
    }
   ],
   "source": [
    "bool(x^100 - 1 == (x^40 - x^30 + x^20 - x^10 + 1)*(x^20 + x^15 + x^10 + x^5 + 1)*(x^20 - x^15 + x^10 - x^5 + 1)*(x^8 - x^6 + x^4 - x^2 + 1)*(x^4 + x^3 + x^2 + x + 1)*(x^4 - x^3 + x^2 - x + 1)*(x^2 + 1)*(x + 1)*(x - 1))"
   ]
  },
  {
   "cell_type": "markdown",
   "metadata": {},
   "source": [
    "Definition of new variables $x,y$ and also the definition of new function $f(x,y)$. "
   ]
  },
  {
   "cell_type": "code",
   "execution_count": 38,
   "metadata": {},
   "outputs": [
    {
     "data": {
      "text/html": [
       "<html><script type=\"math/tex; mode=display\">\\newcommand{\\Bold}[1]{\\mathbf{#1}}\\frac{1}{x^{3} + 1} - \\cos\\left(x y\\right) + \\sin\\left(x\\right)</script></html>"
      ],
      "text/plain": [
       "1/(x^3 + 1) - cos(x*y) + sin(x)"
      ]
     },
     "execution_count": 38,
     "metadata": {},
     "output_type": "execute_result"
    }
   ],
   "source": [
    "var('x,y')\n",
    "f = sin(x) - cos(x*y) + 1 / (x^3+1)\n",
    "f"
   ]
  },
  {
   "cell_type": "markdown",
   "metadata": {},
   "source": [
    "Calculation of the value of function $f(x,y)$ at the point $(x,y)=(1,-2)$, i.e. $f(1,-2)$."
   ]
  },
  {
   "cell_type": "code",
   "execution_count": 41,
   "metadata": {},
   "outputs": [
    {
     "data": {
      "text/html": [
       "<html><script type=\"math/tex; mode=display\">\\newcommand{\\Bold}[1]{\\mathbf{#1}}-\\cos\\left(2\\right) + \\sin\\left(1\\right) + \\frac{1}{2}</script></html>"
      ],
      "text/plain": [
       "-cos(2) + sin(1) + 1/2"
      ]
     },
     "execution_count": 41,
     "metadata": {},
     "output_type": "execute_result"
    }
   ],
   "source": [
    "# exact value\n",
    "f(1,-2)"
   ]
  },
  {
   "cell_type": "code",
   "execution_count": 42,
   "metadata": {},
   "outputs": [
    {
     "data": {
      "text/html": [
       "<html><script type=\"math/tex; mode=display\">\\newcommand{\\Bold}[1]{\\mathbf{#1}}1.75761782135504</script></html>"
      ],
      "text/plain": [
       "1.75761782135504"
      ]
     },
     "execution_count": 42,
     "metadata": {},
     "output_type": "execute_result"
    }
   ],
   "source": [
    "# approximate value\n",
    "f(1,-2).n()"
   ]
  },
  {
   "cell_type": "markdown",
   "metadata": {},
   "source": [
    "Trying to find an exact solution to the equation $sin(x) + sin(2x) + sin(3x)=0$. "
   ]
  },
  {
   "cell_type": "code",
   "execution_count": 91,
   "metadata": {},
   "outputs": [
    {
     "data": {
      "text/html": [
       "<html><script type=\"math/tex; mode=display\">\\newcommand{\\Bold}[1]{\\mathbf{#1}}\\left[\\sin\\left(3 \\, x\\right) = -\\sin\\left(2 \\, x\\right) - \\sin\\left(x\\right)\\right]</script></html>"
      ],
      "text/plain": [
       "[sin(3*x) == -sin(2*x) - sin(x)]"
      ]
     },
     "execution_count": 91,
     "metadata": {},
     "output_type": "execute_result"
    }
   ],
   "source": [
    "expr = sin(x) + sin(2 * x) + sin(3 * x)\n",
    "solve(expr, x)"
   ]
  },
  {
   "cell_type": "markdown",
   "metadata": {},
   "source": [
    "The previous approach failed so we can try to find a numerical solution on bounded interval $\\left[0.1,\\pi\\right]$."
   ]
  },
  {
   "cell_type": "code",
   "execution_count": 92,
   "metadata": {},
   "outputs": [
    {
     "data": {
      "text/html": [
       "<html><script type=\"math/tex; mode=display\">\\newcommand{\\Bold}[1]{\\mathbf{#1}}2.0943951023931957</script></html>"
      ],
      "text/plain": [
       "2.0943951023931957"
      ]
     },
     "execution_count": 92,
     "metadata": {},
     "output_type": "execute_result"
    }
   ],
   "source": [
    "find_root(expr, 0.1, pi)"
   ]
  },
  {
   "cell_type": "markdown",
   "metadata": {},
   "source": [
    "Or we can try to simplify our expression $sin(x) + sin(2x) + sin(3x)$ as follows."
   ]
  },
  {
   "cell_type": "code",
   "execution_count": 93,
   "metadata": {},
   "outputs": [
    {
     "data": {
      "text/html": [
       "<html><script type=\"math/tex; mode=display\">\\newcommand{\\Bold}[1]{\\mathbf{#1}}2 \\, {\\left(2 \\, \\cos\\left(x\\right)^{2} + \\cos\\left(x\\right)\\right)} \\sin\\left(x\\right)</script></html>"
      ],
      "text/plain": [
       "2*(2*cos(x)^2 + cos(x))*sin(x)"
      ]
     },
     "execution_count": 93,
     "metadata": {},
     "output_type": "execute_result"
    }
   ],
   "source": [
    "f_simp = expr.simplify_trig();\n",
    "f_simp"
   ]
  },
  {
   "cell_type": "markdown",
   "metadata": {},
   "source": [
    "And now we can try to solve it exactly once again. "
   ]
  },
  {
   "cell_type": "code",
   "execution_count": 94,
   "metadata": {},
   "outputs": [
    {
     "data": {
      "text/html": [
       "<html><script type=\"math/tex; mode=display\">\\newcommand{\\Bold}[1]{\\mathbf{#1}}\\left[x = 0, x = \\frac{2}{3} \\, \\pi, x = \\frac{1}{2} \\, \\pi\\right]</script></html>"
      ],
      "text/plain": [
       "[x == 0, x == 2/3*pi, x == 1/2*pi]"
      ]
     },
     "execution_count": 94,
     "metadata": {},
     "output_type": "execute_result"
    }
   ],
   "source": [
    "solve(f_simp, x)"
   ]
  },
  {
   "cell_type": "markdown",
   "metadata": {},
   "source": [
    "Reset (clear) all values of symbolic variables defined above. "
   ]
  },
  {
   "cell_type": "code",
   "execution_count": 95,
   "metadata": {},
   "outputs": [],
   "source": [
    "clear_vars()"
   ]
  },
  {
   "cell_type": "markdown",
   "metadata": {},
   "source": [
    "***\n",
    "<a id=graphics></a>\n",
    "# <font color=brown> Graphics</font>"
   ]
  },
  {
   "cell_type": "markdown",
   "metadata": {},
   "source": [
    "**Sage uses *matplotlib* (library) to plot functions, curves, etc. by default.** \n",
    "\n",
    "We introduce functions `plot` and `contour_plot`. "
   ]
  },
  {
   "cell_type": "code",
   "execution_count": 13,
   "metadata": {},
   "outputs": [
    {
     "data": {
      "text/plain": [
       "(x, y)"
      ]
     },
     "execution_count": 13,
     "metadata": {},
     "output_type": "execute_result"
    }
   ],
   "source": [
    "# defining variables\n",
    "var('x,y')"
   ]
  },
  {
   "cell_type": "markdown",
   "metadata": {},
   "source": [
    "**Plotting the function $\\sin(x)$ on the interval from $-\\pi$ to $\\pi$ $\\left(x\\in [-\\pi,\\pi]\\right)$.** "
   ]
  },
  {
   "cell_type": "code",
   "execution_count": 14,
   "metadata": {},
   "outputs": [
    {
     "data": {
      "image/png": "[encoded data removed]",
      "text/plain": [
       "Graphics object consisting of 2 graphics primitives"
      ]
     },
     "execution_count": 14,
     "metadata": {},
     "output_type": "execute_result"
    }
   ],
   "source": [
    "plot(sin(x), -pi, pi, fill = 'axis')"
   ]
  },
  {
   "cell_type": "markdown",
   "metadata": {},
   "source": [
    "**Plotting the function $g(y)=2y-1$ on the interval from $-4$ to $4$ $\\left(y\\in [-4,4]\\right)$.** "
   ]
  },
  {
   "cell_type": "code",
   "execution_count": 15,
   "metadata": {},
   "outputs": [
    {
     "data": {
      "image/png": "[encoded data removed]",
      "text/plain": [
       "Graphics object consisting of 1 graphics primitive"
      ]
     },
     "execution_count": 15,
     "metadata": {},
     "output_type": "execute_result"
    }
   ],
   "source": [
    "g(y)=2*y-1\n",
    "plot(g, (y,-4,4))"
   ]
  },
  {
   "cell_type": "markdown",
   "metadata": {},
   "source": [
    "**Plotting the functions $\\sin(x)$, $\\cos(x)$ on the interval from $0$ to $2\\pi$ in one picture.** "
   ]
  },
  {
   "cell_type": "code",
   "execution_count": 16,
   "metadata": {},
   "outputs": [
    {
     "data": {
      "image/png": "[encoded data removed]",
      "text/plain": [
       "Graphics object consisting of 2 graphics primitives"
      ]
     },
     "execution_count": 16,
     "metadata": {},
     "output_type": "execute_result"
    }
   ],
   "source": [
    "P1 = plot(sin(x), (x,0,2*pi))\n",
    "P2 = plot(cos(x), (x,0,2*pi), rgbcolor='red')\n",
    "P1 + P2"
   ]
  },
  {
   "cell_type": "markdown",
   "metadata": {},
   "source": [
    "**Plotting the function $\\sin(x^2)$ on the interval from $-2$ to $2$.** "
   ]
  },
  {
   "cell_type": "code",
   "execution_count": 17,
   "metadata": {},
   "outputs": [
    {
     "data": {
      "image/png": "[encoded data removed]",
      "text/plain": [
       "Graphics object consisting of 2 graphics primitives"
      ]
     },
     "metadata": {},
     "output_type": "display_data"
    }
   ],
   "source": [
    "P = plot(sin(x^2), (x,-2,2), rgbcolor=(0.8,0,0.2), thickness=3, linestyle='--', fill='axis')\n",
    "show(P, gridlines=True)"
   ]
  },
  {
   "cell_type": "markdown",
   "metadata": {},
   "source": [
    "**Plotting the function $g(x,y)=y^2+1-x^3-x$ where $x,y\\in [-\\pi,\\pi]\\$.** "
   ]
  },
  {
   "cell_type": "code",
   "execution_count": 18,
   "metadata": {},
   "outputs": [
    {
     "data": {
      "image/png": "[encoded data removed]",
      "text/plain": [
       "Graphics object consisting of 1 graphics primitive"
      ]
     },
     "execution_count": 18,
     "metadata": {},
     "output_type": "execute_result"
    }
   ],
   "source": [
    "g2(x,y)=y^2+1-x^3-x\n",
    "contour_plot(g2, (x,-pi,pi), (y,-pi,pi), colorbar=True, labels=True)"
   ]
  },
  {
   "cell_type": "markdown",
   "metadata": {},
   "source": [
    "**Interactive example of $y=x^2$ (which is the same as $f(x)=x^2$ or $f:\\ y=x^2$).**\n",
    "\n",
    "Note that the function you want to plot can be changed, for example to $\\sin(x)$, try it! \n",
    "\n",
    "You can also try some other math functions you know :-) \n",
    "\n",
    "Moreover you can play and change the colours or range. "
   ]
  },
  {
   "cell_type": "code",
   "execution_count": 11,
   "metadata": {
    "scrolled": false
   },
   "outputs": [
    {
     "data": {
      "application/vnd.jupyter.widget-view+json": {
       "model_id": "9fd8421a838b4571b7f784e9a8589a22",
       "version_major": 2,
       "version_minor": 0
      },
      "text/plain": [
       "Interactive function <function _ at 0x6ffe0117ad40> with 5 widgets\n",
       "  f: EvalText(value='x^2', description='f',…"
      ]
     },
     "metadata": {},
     "output_type": "display_data"
    }
   ],
   "source": [
    "@interact(layout=dict(top=[['f', 'color']],\n",
    "left=[['axes'],['fill']],\n",
    "bottom=[['zoom']]))\n",
    "def _(f=input_box(x^2,width=20),\n",
    "    color=color_selector(widget='colorpicker', label=\"\"),\n",
    "    axes=True,\n",
    "    fill=True,\n",
    "    zoom=range_slider(-3,3, default=(-3,3))):\n",
    "        show(plot(f,(x,zoom[0], zoom[1]), color=color, axes=axes,fill=fill))"
   ]
  },
  {
   "cell_type": "code",
   "execution_count": 12,
   "metadata": {},
   "outputs": [
    {
     "data": {
      "application/vnd.jupyter.widget-view+json": {
       "model_id": "1ac2db27f0c54b1f844f64921cb86efe",
       "version_major": 2,
       "version_minor": 0
      },
      "text/plain": [
       "Interactive function <function echo_input at 0x6ffdfcaa3ef0> with 1 widget\n",
       "  a: TransformText(value='Hello Wor…"
      ]
     },
     "metadata": {},
     "output_type": "display_data"
    }
   ],
   "source": [
    "@interact\n",
    "def echo_input(a = input_box(default=\"Hello World\", label=\"Input:\", type=str)): \n",
    "    print(\"Output: \" + a)"
   ]
  },
  {
   "cell_type": "markdown",
   "metadata": {},
   "source": [
    "Finally, getting away from strictly programming, here is a useful tip.\n",
    "\n",
    "Some of you may be familiar with a way to take such data and put it in tabular form from other programs. The `table` command does this for us:"
   ]
  },
  {
   "cell_type": "code",
   "execution_count": 108,
   "metadata": {},
   "outputs": [
    {
     "data": {
      "text/html": [
       "<div class=\"notruncate\">\n",
       "<table  class=\"table_form\">\n",
       "<tbody>\n",
       "<tr class =\"row-a\">\n",
       "<td><script type=\"math/tex\">0</script></td>\n",
       "<td><script type=\"math/tex\">1</script></td>\n",
       "</tr>\n",
       "<tr class =\"row-b\">\n",
       "<td><script type=\"math/tex\">1</script></td>\n",
       "<td><script type=\"math/tex\">-2</script></td>\n",
       "</tr>\n",
       "<tr class =\"row-a\">\n",
       "<td><script type=\"math/tex\">2</script></td>\n",
       "<td><script type=\"math/tex\">4</script></td>\n",
       "</tr>\n",
       "<tr class =\"row-b\">\n",
       "<td><script type=\"math/tex\">3</script></td>\n",
       "<td><script type=\"math/tex\">-8</script></td>\n",
       "</tr>\n",
       "<tr class =\"row-a\">\n",
       "<td><script type=\"math/tex\">4</script></td>\n",
       "<td><script type=\"math/tex\">16</script></td>\n",
       "</tr>\n",
       "</tbody>\n",
       "</table>\n",
       "</div>"
      ],
      "text/plain": [
       "  0   1\n",
       "  1   -2\n",
       "  2   4\n",
       "  3   -8\n",
       "  4   16"
      ]
     },
     "execution_count": 108,
     "metadata": {},
     "output_type": "execute_result"
    }
   ],
   "source": [
    "table( [ (i,det(C^i)) for i in [0..4] ] )"
   ]
  },
  {
   "cell_type": "markdown",
   "metadata": {},
   "source": [
    "Notice that each element of this list is two items in parentheses (a so-called *tuple*).\n",
    "\n",
    "Even better, we can put a header line on it to make it really clear what we are doing, by adding lists. We have seen keywords like `header=True` when doing some of our plotting and limits. What do you think will happen if you put dollar signs around the labels in the header?"
   ]
  },
  {
   "cell_type": "code",
   "execution_count": 109,
   "metadata": {},
   "outputs": [
    {
     "data": {
      "text/html": [
       "<div class=\"notruncate\">\n",
       "<table  class=\"table_form\">\n",
       "<tbody>\n",
       "<tr>\n",
       "<th>i</th>\n",
       "<th>det(C^i)</th>\n",
       "</tr>\n",
       "<tr class =\"row-a\">\n",
       "<td><script type=\"math/tex\">0</script></td>\n",
       "<td><script type=\"math/tex\">1</script></td>\n",
       "</tr>\n",
       "<tr class =\"row-b\">\n",
       "<td><script type=\"math/tex\">1</script></td>\n",
       "<td><script type=\"math/tex\">-2</script></td>\n",
       "</tr>\n",
       "<tr class =\"row-a\">\n",
       "<td><script type=\"math/tex\">2</script></td>\n",
       "<td><script type=\"math/tex\">4</script></td>\n",
       "</tr>\n",
       "<tr class =\"row-b\">\n",
       "<td><script type=\"math/tex\">3</script></td>\n",
       "<td><script type=\"math/tex\">-8</script></td>\n",
       "</tr>\n",
       "<tr class =\"row-a\">\n",
       "<td><script type=\"math/tex\">4</script></td>\n",
       "<td><script type=\"math/tex\">16</script></td>\n",
       "</tr>\n",
       "</tbody>\n",
       "</table>\n",
       "</div>"
      ],
      "text/plain": [
       "  i   det(C^i)\n",
       "+---+----------+\n",
       "  0   1\n",
       "  1   -2\n",
       "  2   4\n",
       "  3   -8\n",
       "  4   16"
      ]
     },
     "execution_count": 109,
     "metadata": {},
     "output_type": "execute_result"
    }
   ],
   "source": [
    "table( [('i', 'det(C^i)')] + [ (i,det(C^i)) for i in [0..4] ], header_row=True)"
   ]
  },
  {
   "cell_type": "markdown",
   "metadata": {},
   "source": [
    "***\n",
    "<a id=help></a>\n",
    "# <font color=brown> Help</font>"
   ]
  },
  {
   "cell_type": "markdown",
   "metadata": {},
   "source": [
    "### Documentation of Sage functions and examples of their usage"
   ]
  },
  {
   "cell_type": "markdown",
   "metadata": {},
   "source": [
    "You can find detailed description of Sage functions with some examples of their usage as it is shown below or you can also try the references introduced at the end of this notebook. "
   ]
  },
  {
   "cell_type": "code",
   "execution_count": 11,
   "metadata": {},
   "outputs": [],
   "source": [
    "factor?"
   ]
  },
  {
   "cell_type": "code",
   "execution_count": 15,
   "metadata": {
    "scrolled": true
   },
   "outputs": [],
   "source": [
    "plot?"
   ]
  },
  {
   "cell_type": "code",
   "execution_count": 12,
   "metadata": {},
   "outputs": [
    {
     "name": "stdout",
     "output_type": "stream",
     "text": [
      "Help on function factor in module sage.arith.misc:\n",
      "\n",
      "factor(n, proof=None, int_=False, algorithm='pari', verbose=0, **kwds)\n",
      "    Return the factorization of ``n``.  The result depends on the\n",
      "    type of ``n``.\n",
      "    \n",
      "    If ``n`` is an integer, returns the factorization as an object\n",
      "    of type ``Factorization``.\n",
      "    \n",
      "    If n is not an integer, ``n.factor(proof=proof, **kwds)`` gets called.\n",
      "    See ``n.factor??`` for more documentation in this case.\n",
      "    \n",
      "    .. warning::\n",
      "    \n",
      "       This means that applying ``factor`` to an integer result of\n",
      "       a symbolic computation will not factor the integer, because it is\n",
      "       considered as an element of a larger symbolic ring.\n",
      "    \n",
      "       EXAMPLES::\n",
      "    \n",
      "           sage: f(n)=n^2\n",
      "           sage: is_prime(f(3))\n",
      "           False\n",
      "           sage: factor(f(3))\n",
      "           9\n",
      "    \n",
      "    INPUT:\n",
      "    \n",
      "    -  ``n`` - an nonzero integer\n",
      "    \n",
      "    -  ``proof`` - bool or None (default: None)\n",
      "    \n",
      "    -  ``int_`` - bool (default: False) whether to return\n",
      "       answers as Python ints\n",
      "    \n",
      "    -  ``algorithm`` - string\n",
      "    \n",
      "       - ``'pari'`` - (default) use the PARI c library\n",
      "    \n",
      "       - ``'kash'`` - use KASH computer algebra system (requires the\n",
      "         optional kash package be installed)\n",
      "    \n",
      "       - ``'magma'`` - use Magma (requires magma be installed)\n",
      "    \n",
      "    -  ``verbose`` - integer (default: 0); PARI's debug\n",
      "       variable is set to this; e.g., set to 4 or 8 to see lots of output\n",
      "       during factorization.\n",
      "    \n",
      "    OUTPUT:\n",
      "    \n",
      "    -  factorization of n\n",
      "    \n",
      "    The qsieve and ecm commands give access to highly optimized\n",
      "    implementations of algorithms for doing certain integer\n",
      "    factorization problems. These implementations are not used by the\n",
      "    generic factor command, which currently just calls PARI (note that\n",
      "    PARI also implements sieve and ecm algorithms, but they are not as\n",
      "    optimized). Thus you might consider using them instead for certain\n",
      "    numbers.\n",
      "    \n",
      "    The factorization returned is an element of the class\n",
      "    :class:`~sage.structure.factorization.Factorization`; see Factorization??\n",
      "    for more details, and examples below for usage. A Factorization contains\n",
      "    both the unit factor (+1 or -1) and a sorted list of (prime, exponent)\n",
      "    pairs.\n",
      "    \n",
      "    The factorization displays in pretty-print format but it is easy to\n",
      "    obtain access to the (prime,exponent) pairs and the unit, to\n",
      "    recover the number from its factorization, and even to multiply two\n",
      "    factorizations. See examples below.\n",
      "    \n",
      "    EXAMPLES::\n",
      "    \n",
      "        sage: factor(500)\n",
      "        2^2 * 5^3\n",
      "        sage: factor(-20)\n",
      "        -1 * 2^2 * 5\n",
      "        sage: f=factor(-20)\n",
      "        sage: list(f)\n",
      "        [(2, 2), (5, 1)]\n",
      "        sage: f.unit()\n",
      "        -1\n",
      "        sage: f.value()\n",
      "        -20\n",
      "        sage: factor( -next_prime(10^2) * next_prime(10^7) )\n",
      "        -1 * 101 * 10000019\n",
      "    \n",
      "    ::\n",
      "    \n",
      "        sage: factor(-500, algorithm='kash')      # optional - kash\n",
      "        -1 * 2^2 * 5^3\n",
      "    \n",
      "    ::\n",
      "    \n",
      "        sage: factor(-500, algorithm='magma')     # optional - magma\n",
      "        -1 * 2^2 * 5^3\n",
      "    \n",
      "    ::\n",
      "    \n",
      "        sage: factor(0)\n",
      "        Traceback (most recent call last):\n",
      "        ...\n",
      "        ArithmeticError: factorization of 0 is not defined\n",
      "        sage: factor(1)\n",
      "        1\n",
      "        sage: factor(-1)\n",
      "        -1\n",
      "        sage: factor(2^(2^7)+1)\n",
      "        59649589127497217 * 5704689200685129054721\n",
      "    \n",
      "    Sage calls PARI's factor, which has proof False by default.\n",
      "    Sage has a global proof flag, set to True by default (see\n",
      "    :mod:`sage.structure.proof.proof`, or proof.[tab]). To override\n",
      "    the default, call this function with proof=False.\n",
      "    \n",
      "    ::\n",
      "    \n",
      "        sage: factor(3^89-1, proof=False)\n",
      "        2 * 179 * 1611479891519807 * 5042939439565996049162197\n",
      "    \n",
      "    ::\n",
      "    \n",
      "        sage: factor(2^197 + 1)  # long time (2s)\n",
      "        3 * 197002597249 * 1348959352853811313 * 251951573867253012259144010843\n",
      "    \n",
      "    Any object which has a factor method can be factored like this::\n",
      "    \n",
      "        sage: K.<i> = QuadraticField(-1)\n",
      "        sage: factor(122 - 454*i)\n",
      "        (-3*i - 2) * (-i - 2)^3 * (i + 1)^3 * (i + 4)\n",
      "    \n",
      "    To access the data in a factorization::\n",
      "    \n",
      "        sage: f = factor(420); f\n",
      "        2^2 * 3 * 5 * 7\n",
      "        sage: [x for x in f]\n",
      "        [(2, 2), (3, 1), (5, 1), (7, 1)]\n",
      "        sage: [p for p,e in f]\n",
      "        [2, 3, 5, 7]\n",
      "        sage: [e for p,e in f]\n",
      "        [2, 1, 1, 1]\n",
      "        sage: [p^e for p,e in f]\n",
      "        [4, 3, 5, 7]\n",
      "    \n",
      "    We can factor Python, numpy and gmpy2 numbers::\n",
      "    \n",
      "        sage: factor(math.pi)\n",
      "        3.141592653589793\n",
      "        sage: import numpy\n",
      "        sage: factor(numpy.int8(30))\n",
      "        2 * 3 * 5\n",
      "        sage: import gmpy2\n",
      "        sage: factor(gmpy2.mpz(30))\n",
      "        2 * 3 * 5\n",
      "    \n",
      "    TESTS::\n",
      "    \n",
      "        sage: factor(Mod(4, 100))\n",
      "        Traceback (most recent call last):\n",
      "        ...\n",
      "        TypeError: unable to factor 4\n",
      "        sage: factor(\"xyz\")\n",
      "        Traceback (most recent call last):\n",
      "        ...\n",
      "        TypeError: unable to factor 'xyz'\n",
      "\n"
     ]
    }
   ],
   "source": [
    "help(factor)"
   ]
  },
  {
   "cell_type": "code",
   "execution_count": 16,
   "metadata": {},
   "outputs": [
    {
     "name": "stdout",
     "output_type": "stream",
     "text": [
      "Help on function plot in module sage.plot.plot:\n",
      "\n",
      "plot(funcs, *args, **kwds)\n",
      "    Use plot by writing\n",
      "    \n",
      "    ``plot(X, ...)``\n",
      "    \n",
      "    where `X` is a Sage object (or list of Sage objects) that\n",
      "    either is callable and returns numbers that can be coerced to\n",
      "    floats, or has a plot method that returns a\n",
      "    ``GraphicPrimitive`` object.\n",
      "    \n",
      "    There are many other specialized 2D plot commands available\n",
      "    in Sage, such as ``plot_slope_field``, as well as various\n",
      "    graphics primitives like :class:`~sage.plot.arrow.Arrow`;\n",
      "    type ``sage.plot.plot?`` for a current list.\n",
      "    \n",
      "    Type ``plot.options`` for a dictionary of the default\n",
      "    options for plots. You can change this to change the defaults for\n",
      "    all future plots. Use ``plot.reset()`` to reset to the\n",
      "    default options.\n",
      "    \n",
      "    PLOT OPTIONS:\n",
      "    \n",
      "    - ``plot_points`` - (default: 200) the minimal number of plot points.\n",
      "    \n",
      "    - ``adaptive_recursion`` - (default: 5) how many levels of recursion to go\n",
      "      before giving up when doing adaptive refinement.  Setting this to 0\n",
      "      disables adaptive refinement.\n",
      "    \n",
      "    - ``adaptive_tolerance`` - (default: 0.01) how large a difference should be\n",
      "      before the adaptive refinement code considers it significant.  See the\n",
      "      documentation further below for more information, starting at \"the\n",
      "      algorithm used to insert\".\n",
      "    \n",
      "    - ``base`` - (default: 10) the base of the logarithm if\n",
      "      a logarithmic scale is set. This must be greater than 1. The base\n",
      "      can be also given as a list or tuple ``(basex, basey)``.\n",
      "      ``basex`` sets the base of the logarithm along the horizontal\n",
      "      axis and ``basey`` sets the base along the vertical axis.\n",
      "    \n",
      "    - ``scale`` -- (default: ``\"linear\"``) string. The scale of the axes.\n",
      "      Possible values are ``\"linear\"``, ``\"loglog\"``, ``\"semilogx\"``,\n",
      "      ``\"semilogy\"``.\n",
      "    \n",
      "      The scale can be also be given as single argument that is a list\n",
      "      or tuple ``(scale, base)`` or ``(scale, basex, basey)``.\n",
      "    \n",
      "      The ``\"loglog\"`` scale sets both the horizontal and vertical axes to\n",
      "      logarithmic scale. The ``\"semilogx\"`` scale sets the horizontal axis\n",
      "      to logarithmic scale. The ``\"semilogy\"`` scale sets the vertical axis\n",
      "      to logarithmic scale. The ``\"linear\"`` scale is the default value\n",
      "      when :class:`~sage.plot.graphics.Graphics` is initialized.\n",
      "    \n",
      "    - ``xmin`` - starting x value in the rendered figure. This parameter is\n",
      "      passed directly to the ``show`` procedure and it could be overwritten.\n",
      "    \n",
      "    - ``xmax`` - ending x value in the rendered figure. This parameter is passed\n",
      "      directly to the ``show`` procedure and it could be overwritten.\n",
      "    \n",
      "    - ``ymin`` - starting y value in the rendered figure. This parameter is\n",
      "      passed directly to the ``show`` procedure and it could be overwritten.\n",
      "    \n",
      "    - ``ymax`` - ending y value in the rendered figure. This parameter is passed\n",
      "      directly to the ``show`` procedure and it could be overwritten.\n",
      "    \n",
      "    - ``detect_poles`` - (Default: False) If set to True poles are detected.\n",
      "      If set to \"show\" vertical asymptotes are drawn.\n",
      "    \n",
      "    - ``legend_label`` - a (TeX) string serving as the label for `X` in the legend.\n",
      "      If `X` is a list, then this option can be a single string, or a list or dictionary\n",
      "      with strings as entries/values. If a dictionary, then keys are taken from ``range(len(X))``.\n",
      "    \n",
      "    .. note::\n",
      "    \n",
      "        - If the ``scale`` is ``\"linear\"``, then irrespective of what\n",
      "          ``base`` is set to, it will default to 10 and will remain unused.\n",
      "    \n",
      "        - If you want to limit the plot along the horizontal axis in the\n",
      "          final rendered figure, then pass the ``xmin`` and ``xmax``\n",
      "          keywords to the :meth:`~sage.plot.graphics.Graphics.show` method.\n",
      "          To limit the plot along the vertical axis, ``ymin`` and ``ymax``\n",
      "          keywords can be provided to either this ``plot`` command or to\n",
      "          the ``show`` command.\n",
      "    \n",
      "        - This function does NOT simply sample equally spaced points\n",
      "          between xmin and xmax. Instead it computes equally spaced points\n",
      "          and adds small perturbations to them. This reduces the possibility\n",
      "          of, e.g., sampling `\\sin` only at multiples of `2\\pi`, which would\n",
      "          yield a very misleading graph.\n",
      "    \n",
      "        - If there is a range of consecutive points where the function has\n",
      "          no value, then those points will be excluded from the plot. See\n",
      "          the example below on automatic exclusion of points.\n",
      "    \n",
      "        - For the other keyword options that the ``plot`` function can\n",
      "          take, refer to the method :meth:`~sage.plot.graphics.Graphics.show`\n",
      "          and the further options below.\n",
      "    \n",
      "    COLOR OPTIONS:\n",
      "    \n",
      "    - ``color`` - (Default: 'blue') One of:\n",
      "    \n",
      "      - an RGB tuple (r,g,b) with each of r,g,b between 0 and 1.\n",
      "    \n",
      "      - a color name as a string (e.g., 'purple').\n",
      "    \n",
      "      - an HTML color such as '#aaff0b'.\n",
      "    \n",
      "      - a list or dictionary of colors (valid only if `X` is a list):\n",
      "        if a dictionary, keys are taken from ``range(len(X))``;\n",
      "        the entries/values of the list/dictionary may be any of the options above.\n",
      "    \n",
      "      - 'automatic' -- maps to default ('blue') if `X` is a single Sage object; and\n",
      "        maps to a fixed sequence of regularly spaced colors if `X` is a list.\n",
      "    \n",
      "    - ``legend_color`` - the color of the text for `X` (or each item in `X`) in the legend.\n",
      "        Default color is 'black'. Options are as in ``color`` above, except that the choice 'automatic' maps to 'black' if `X` is a single Sage object.\n",
      "    \n",
      "    - ``fillcolor`` - The color of the fill for the plot of `X` (or each item in `X`).\n",
      "        Default color is 'gray' if `X` is a single Sage object or if ``color`` is a single color. Otherwise, options are as in ``color`` above.\n",
      "    \n",
      "    APPEARANCE OPTIONS:\n",
      "    \n",
      "    The following options affect the appearance of\n",
      "    the line through the points on the graph of `X` (these are\n",
      "    the same as for the line function):\n",
      "    \n",
      "    INPUT:\n",
      "    \n",
      "    - ``alpha`` - How transparent the line is\n",
      "    \n",
      "    - ``thickness`` - How thick the line is\n",
      "    \n",
      "    - ``rgbcolor`` - The color as an RGB tuple\n",
      "    \n",
      "    - ``hue`` - The color given as a hue\n",
      "    \n",
      "    LINE OPTIONS:\n",
      "    \n",
      "    Any MATPLOTLIB line option may also be passed in.  E.g.,\n",
      "    \n",
      "    - ``linestyle`` - (default: \"-\") The style of the line, which is one of\n",
      "    \n",
      "      - ``\"-\"`` or ``\"solid\"``\n",
      "      - ``\"--\"`` or ``\"dashed\"``\n",
      "      - ``\"-.\"`` or ``\"dash dot\"``\n",
      "      - ``\":\"`` or ``\"dotted\"``\n",
      "      - ``\"None\"`` or ``\" \"`` or ``\"\"`` (nothing)\n",
      "      - a list or dictionary (see below)\n",
      "    \n",
      "      The linestyle can also be prefixed with a drawing style (e.g., ``\"steps--\"``)\n",
      "    \n",
      "      - ``\"default\"`` (connect the points with straight lines)\n",
      "      - ``\"steps\"`` or ``\"steps-pre\"`` (step function; horizontal\n",
      "        line is to the left of point)\n",
      "      - ``\"steps-mid\"`` (step function; points are in the middle of\n",
      "        horizontal lines)\n",
      "      - ``\"steps-post\"`` (step function; horizontal line is to the\n",
      "        right of point)\n",
      "    \n",
      "      If `X` is a list, then ``linestyle`` may be a list (with entries\n",
      "      taken from the strings above) or a dictionary (with keys in ``range(len(X))``\n",
      "      and values taken from the strings above).\n",
      "    \n",
      "    - ``marker``  - The style of the markers, which is one of\n",
      "    \n",
      "      - ``\"None\"`` or ``\" \"`` or ``\"\"`` (nothing) -- default\n",
      "      - ``\",\"`` (pixel), ``\".\"`` (point)\n",
      "      - ``\"_\"`` (horizontal line), ``\"|\"`` (vertical line)\n",
      "      - ``\"o\"`` (circle), ``\"p\"`` (pentagon), ``\"s\"`` (square), ``\"x\"`` (x), ``\"+\"`` (plus), ``\"*\"`` (star)\n",
      "      - ``\"D\"`` (diamond), ``\"d\"`` (thin diamond)\n",
      "      - ``\"H\"`` (hexagon), ``\"h\"`` (alternative hexagon)\n",
      "      - ``\"<\"`` (triangle left), ``\">\"`` (triangle right), ``\"^\"`` (triangle up), ``\"v\"`` (triangle down)\n",
      "      - ``\"1\"`` (tri down), ``\"2\"`` (tri up), ``\"3\"`` (tri left), ``\"4\"`` (tri right)\n",
      "      - ``0`` (tick left), ``1`` (tick right), ``2`` (tick up), ``3`` (tick down)\n",
      "      - ``4`` (caret left), ``5`` (caret right), ``6`` (caret up), ``7`` (caret down), ``8`` (octagon)\n",
      "      - ``\"$...$\"`` (math TeX string)\n",
      "      - ``(numsides, style, angle)`` to create a custom, regular symbol\n",
      "    \n",
      "        - ``numsides`` -- the number of sides\n",
      "        - ``style`` -- ``0`` (regular polygon), ``1`` (star shape), ``2`` (asterisk), ``3`` (circle)\n",
      "        - ``angle`` -- the angular rotation in degrees\n",
      "    \n",
      "    - ``markersize`` - the size of the marker in points\n",
      "    \n",
      "    - ``markeredgecolor`` -- the color of the marker edge\n",
      "    \n",
      "    - ``markerfacecolor`` -- the color of the marker face\n",
      "    \n",
      "    - ``markeredgewidth`` - the size of the marker edge in points\n",
      "    \n",
      "    - ``exclude`` - (Default: None) values which are excluded from the plot range.\n",
      "      Either a list of real numbers, or an equation in one variable.\n",
      "    \n",
      "    FILLING OPTIONS:\n",
      "    \n",
      "    - ``fill`` - (Default: False) One of:\n",
      "    \n",
      "      - \"axis\" or True: Fill the area between the function and the x-axis.\n",
      "    \n",
      "      - \"min\": Fill the area between the function and its minimal value.\n",
      "    \n",
      "      - \"max\": Fill the area between the function and its maximal value.\n",
      "    \n",
      "      - a number c: Fill the area between the function and the horizontal line y = c.\n",
      "    \n",
      "      - a function g: Fill the area between the function that is plotted and g.\n",
      "    \n",
      "      - a dictionary ``d`` (only if a list of functions are plotted):\n",
      "        The keys of the dictionary should be integers.\n",
      "        The value of ``d[i]`` specifies the fill options for the i-th function\n",
      "        in the list.  If ``d[i] == [j]``: Fill the area between the i-th and\n",
      "        the j-th function in the list.  (But if ``d[i] == j``: Fill the area\n",
      "        between the i-th function in the list and the horizontal line y = j.)\n",
      "    \n",
      "    - ``fillalpha`` - (default: 0.5) How transparent the fill is.\n",
      "      A number between 0 and 1.\n",
      "    \n",
      "    MATPLOTLIB STYLE SHEET OPTION:\n",
      "    \n",
      "    - ``stylesheet`` - (Default: classic) Support for loading a full matplotlib style sheet.\n",
      "      Any style sheet listed in ``matplotlib.pyplot.style.available`` is acceptable. If a\n",
      "      non-existing style is provided the default classic is applied.\n",
      "    \n",
      "    EXAMPLES:\n",
      "    \n",
      "    We plot the `\\sin` function::\n",
      "    \n",
      "        sage: P = plot(sin, (0,10)); print(P)\n",
      "        Graphics object consisting of 1 graphics primitive\n",
      "        sage: len(P)     # number of graphics primitives\n",
      "        1\n",
      "        sage: len(P[0])  # how many points were computed (random)\n",
      "        225\n",
      "        sage: P          # render\n",
      "        Graphics object consisting of 1 graphics primitive\n",
      "    \n",
      "    .. PLOT::\n",
      "    \n",
      "        P = plot(sin, (0,10))\n",
      "        sphinx_plot(P)\n",
      "    \n",
      "    ::\n",
      "    \n",
      "        sage: P = plot(sin, (0,10), plot_points=10); print(P)\n",
      "        Graphics object consisting of 1 graphics primitive\n",
      "        sage: len(P[0])  # random output\n",
      "        32\n",
      "        sage: P          # render\n",
      "        Graphics object consisting of 1 graphics primitive\n",
      "    \n",
      "    .. PLOT::\n",
      "    \n",
      "        P = plot(sin, (0,10), plot_points=10)\n",
      "        sphinx_plot(P)\n",
      "    \n",
      "    We plot with ``randomize=False``, which makes the initial sample points\n",
      "    evenly spaced (hence always the same). Adaptive plotting might\n",
      "    insert other points, however, unless ``adaptive_recursion=0``.\n",
      "    \n",
      "    ::\n",
      "    \n",
      "        sage: p=plot(1, (x,0,3), plot_points=4, randomize=False, adaptive_recursion=0)\n",
      "        sage: list(p[0])\n",
      "        [(0.0, 1.0), (1.0, 1.0), (2.0, 1.0), (3.0, 1.0)]\n",
      "    \n",
      "    Some colored functions::\n",
      "    \n",
      "        sage: plot(sin, 0, 10, color='purple')\n",
      "        Graphics object consisting of 1 graphics primitive\n",
      "    \n",
      "    .. PLOT::\n",
      "    \n",
      "        P=plot(sin,0,10,color='purple')\n",
      "        sphinx_plot(P)\n",
      "    \n",
      "    ::\n",
      "    \n",
      "        sage: plot(sin, 0, 10, color='#ff00ff')\n",
      "        Graphics object consisting of 1 graphics primitive\n",
      "    \n",
      "    .. PLOT::\n",
      "    \n",
      "        P=plot(sin, 0, 10, color='#ff00ff')\n",
      "        sphinx_plot(P)\n",
      "    \n",
      "    We plot several functions together by passing a list of functions\n",
      "    as input::\n",
      "    \n",
      "        sage: plot([x*exp(-n*x^2)/.4 for n in [1..5]], (0, 2), aspect_ratio=.8)\n",
      "        Graphics object consisting of 5 graphics primitives\n",
      "    \n",
      "    .. PLOT::\n",
      "    \n",
      "        g = plot([x*exp(-n*x**2)/.4 for n in range(1,6)], (0, 2), aspect_ratio=.8)\n",
      "        sphinx_plot(g)\n",
      "    \n",
      "    By default, color will change from one primitive to the next.\n",
      "    This may be controlled by modifying ``color`` option::\n",
      "    \n",
      "        sage: g1 = plot([x*exp(-n*x^2)/.4 for n in [1..3]], (0, 2), color='blue', aspect_ratio=.8); g1\n",
      "        Graphics object consisting of 3 graphics primitives\n",
      "        sage: g2 = plot([x*exp(-n*x^2)/.4 for n in [1..3]], (0, 2), color=['red','red','green'], linestyle=['-','--','-.'], aspect_ratio=.8); g2\n",
      "        Graphics object consisting of 3 graphics primitives\n",
      "    \n",
      "    .. PLOT::\n",
      "    \n",
      "        g1 = plot([x*exp(-n*x**2)/.4 for n in range(1,4)], (0, 2), color='blue', aspect_ratio=.8)\n",
      "        g2 = plot([x*exp(-n*x**2)/.4 for n in range(1,4)], (0, 2), color=['red','red','green'], linestyle=['-','--','-.'], aspect_ratio=.8)\n",
      "        sphinx_plot(graphics_array([[g1], [g2]]))\n",
      "    \n",
      "    We can also build a plot step by step from an empty plot::\n",
      "    \n",
      "        sage: a = plot([]); a       # passing an empty list returns an empty plot (Graphics() object)\n",
      "        Graphics object consisting of 0 graphics primitives\n",
      "        sage: a += plot(x**2); a    # append another plot\n",
      "        Graphics object consisting of 1 graphics primitive\n",
      "    \n",
      "    .. PLOT::\n",
      "    \n",
      "        a = plot([])\n",
      "        a = a + plot(x**2)\n",
      "        sphinx_plot(a)\n",
      "    \n",
      "    ::\n",
      "    \n",
      "        sage: a += plot(x**3); a    # append yet another plot\n",
      "        Graphics object consisting of 2 graphics primitives\n",
      "    \n",
      "    .. PLOT::\n",
      "    \n",
      "        a = plot([])\n",
      "        a = a + plot(x**2)\n",
      "        a = a + plot(x**3)\n",
      "        sphinx_plot(a)\n",
      "    \n",
      "    The function `\\sin(1/x)` wiggles wildly near `0`.\n",
      "    Sage adapts to this and plots extra points near the origin.\n",
      "    \n",
      "    ::\n",
      "    \n",
      "        sage: plot(sin(1/x), (x, -1, 1))\n",
      "        Graphics object consisting of 1 graphics primitive\n",
      "    \n",
      "    .. PLOT::\n",
      "    \n",
      "        g = plot(sin(1/x), (x, -1, 1))\n",
      "        sphinx_plot(g)\n",
      "    \n",
      "    Via the matplotlib library, Sage makes it easy to tell whether\n",
      "    a graph is on both sides of both axes, as the axes only cross\n",
      "    if the origin is actually part of the viewing area::\n",
      "    \n",
      "        sage: plot(x^3,(x,0,2))  # this one has the origin\n",
      "        Graphics object consisting of 1 graphics primitive\n",
      "    \n",
      "    .. PLOT::\n",
      "    \n",
      "        g = plot(x**3,(x,0,2))\n",
      "        sphinx_plot(g)\n",
      "    \n",
      "    ::\n",
      "    \n",
      "        sage: plot(x^3,(x,1,2))  # this one does not\n",
      "        Graphics object consisting of 1 graphics primitive\n",
      "    \n",
      "    .. PLOT::\n",
      "    \n",
      "        g = plot(x**3,(x,1,2))\n",
      "        sphinx_plot(g)\n",
      "    \n",
      "    Another thing to be aware of with axis labeling is that when\n",
      "    the labels have quite different orders of magnitude or are very\n",
      "    large, scientific notation (the `e` notation for powers of ten) is used::\n",
      "    \n",
      "        sage: plot(x^2,(x,480,500))  # this one has no scientific notation\n",
      "        Graphics object consisting of 1 graphics primitive\n",
      "    \n",
      "    .. PLOT::\n",
      "    \n",
      "        g = plot(x**2,(x,480,500))\n",
      "        sphinx_plot(g)\n",
      "    \n",
      "    ::\n",
      "    \n",
      "        sage: plot(x^2,(x,300,500))  # this one has scientific notation on y-axis\n",
      "        Graphics object consisting of 1 graphics primitive\n",
      "    \n",
      "    .. PLOT::\n",
      "    \n",
      "        g = plot(x**2,(x,300,500))\n",
      "        sphinx_plot(g)\n",
      "    \n",
      "    You can put a legend with ``legend_label`` (the legend is only put\n",
      "    once in the case of multiple functions)::\n",
      "    \n",
      "        sage: plot(exp(x), 0, 2, legend_label='$e^x$')\n",
      "        Graphics object consisting of 1 graphics primitive\n",
      "    \n",
      "    .. PLOT::\n",
      "    \n",
      "        g = plot(exp(x), 0, 2, legend_label='$e^x$')\n",
      "        sphinx_plot(g)\n",
      "    \n",
      "    Sage understands TeX, so these all are slightly different, and you can choose\n",
      "    one based on your needs::\n",
      "    \n",
      "        sage: plot(sin, legend_label='sin')\n",
      "        Graphics object consisting of 1 graphics primitive\n",
      "    \n",
      "    .. PLOT::\n",
      "    \n",
      "        g = plot(sin,legend_label='sin')\n",
      "        sphinx_plot(g)\n",
      "    \n",
      "    ::\n",
      "    \n",
      "        sage: plot(sin, legend_label='$sin$')\n",
      "        Graphics object consisting of 1 graphics primitive\n",
      "    \n",
      "    .. PLOT::\n",
      "    \n",
      "        g = plot(sin,legend_label='$sin$')\n",
      "        sphinx_plot(g)\n",
      "    \n",
      "    ::\n",
      "    \n",
      "        sage: plot(sin, legend_label=r'$\\sin$')\n",
      "        Graphics object consisting of 1 graphics primitive\n",
      "    \n",
      "    .. PLOT::\n",
      "    \n",
      "        g = plot(sin,legend_label=r'$\\sin$')\n",
      "        sphinx_plot(g)\n",
      "    \n",
      "    It is possible to use a different color for the text of each label::\n",
      "    \n",
      "        sage: p1 = plot(sin, legend_label='sin', legend_color='red')\n",
      "        sage: p2 = plot(cos, legend_label='cos', legend_color='green')\n",
      "        sage: p1 + p2\n",
      "        Graphics object consisting of 2 graphics primitives\n",
      "    \n",
      "    .. PLOT::\n",
      "    \n",
      "        p1 = plot(sin, legend_label='sin', legend_color='red')\n",
      "        p2 = plot(cos, legend_label='cos', legend_color='green')\n",
      "        g = p1 + p2\n",
      "        sphinx_plot(g)\n",
      "    \n",
      "    Prior to :trac:`19485`, legends by default had a shadowless gray\n",
      "    background. This behavior can be recovered by setting the legend\n",
      "    options on your plot object::\n",
      "    \n",
      "        sage: p = plot(sin(x), legend_label=r'$\\sin(x)$')\n",
      "        sage: p.set_legend_options(back_color=(0.9,0.9,0.9), shadow=False)\n",
      "    \n",
      "    .. PLOT::\n",
      "    \n",
      "        g = plot(sin(x), legend_label=r'$\\sin(x)$')\n",
      "        g.set_legend_options(back_color=(0.9,0.9,0.9), shadow=False)\n",
      "        sphinx_plot(g)\n",
      "    \n",
      "    If `X` is a list of Sage objects and ``legend_label`` is 'automatic', then Sage will\n",
      "    create labels for each function according to their internal representation::\n",
      "    \n",
      "        sage: plot([sin(x), tan(x), 1-x^2], legend_label='automatic')\n",
      "        Graphics object consisting of 3 graphics primitives\n",
      "    \n",
      "    .. PLOT::\n",
      "    \n",
      "        g = plot([sin(x), tan(x), 1-x**2], legend_label='automatic')\n",
      "        sphinx_plot(g)\n",
      "    \n",
      "    If ``legend_label`` is any single string other than 'automatic',\n",
      "    then it is repeated for all members of `X`::\n",
      "    \n",
      "        sage: plot([sin(x), tan(x)], color='blue', legend_label='trig')\n",
      "        Graphics object consisting of 2 graphics primitives\n",
      "    \n",
      "    .. PLOT::\n",
      "    \n",
      "        g = plot([sin(x), tan(x)], color='blue', legend_label='trig')\n",
      "        sphinx_plot(g)\n",
      "    \n",
      "    Note that the independent variable may be omitted if there is no\n",
      "    ambiguity::\n",
      "    \n",
      "        sage: plot(sin(1.0/x), (-1, 1))\n",
      "        Graphics object consisting of 1 graphics primitive\n",
      "    \n",
      "    .. PLOT::\n",
      "    \n",
      "        g = plot(sin(1.0/x), (-1, 1))\n",
      "        sphinx_plot(g)\n",
      "    \n",
      "    Plotting in logarithmic scale is possible for 2D plots.  There\n",
      "    are two different syntaxes supported::\n",
      "    \n",
      "        sage: plot(exp, (1, 10), scale='semilogy') # log axis on vertical\n",
      "        Graphics object consisting of 1 graphics primitive\n",
      "    \n",
      "    .. PLOT::\n",
      "    \n",
      "        g = plot(exp, (1, 10), scale='semilogy')\n",
      "        sphinx_plot(g)\n",
      "    \n",
      "    ::\n",
      "    \n",
      "        sage: plot_semilogy(exp, (1, 10)) # same thing\n",
      "        Graphics object consisting of 1 graphics primitive\n",
      "    \n",
      "    .. PLOT::\n",
      "    \n",
      "        g = plot_semilogy(exp, (1, 10))\n",
      "        sphinx_plot(g)\n",
      "    \n",
      "    ::\n",
      "    \n",
      "        sage: plot_loglog(exp, (1, 10))   # both axes are log\n",
      "        Graphics object consisting of 1 graphics primitive\n",
      "    \n",
      "    .. PLOT::\n",
      "    \n",
      "        g = plot_loglog(exp, (1, 10))\n",
      "        sphinx_plot(g)\n",
      "    \n",
      "    ::\n",
      "    \n",
      "        sage: plot(exp, (1, 10), scale='loglog', base=2) # long time # base of log is 2\n",
      "        Graphics object consisting of 1 graphics primitive\n",
      "    \n",
      "    .. PLOT::\n",
      "    \n",
      "        g = plot(exp, (1, 10), scale='loglog', base=2)\n",
      "        sphinx_plot(g)\n",
      "    \n",
      "    We can also change the scale of the axes in the graphics just before\n",
      "    displaying::\n",
      "    \n",
      "        sage: G = plot(exp, 1, 10) # long time\n",
      "        sage: G.show(scale=('semilogy', 2)) # long time\n",
      "    \n",
      "    The algorithm used to insert extra points is actually pretty\n",
      "    simple. On the picture drawn by the lines below::\n",
      "    \n",
      "        sage: p = plot(x^2, (-0.5, 1.4)) + line([(0,0), (1,1)], color='green')\n",
      "        sage: p += line([(0.5, 0.5), (0.5, 0.5^2)], color='purple')\n",
      "        sage: p += point(((0, 0), (0.5, 0.5), (0.5, 0.5^2), (1, 1)), color='red', pointsize=20)\n",
      "        sage: p += text('A', (-0.05, 0.1), color='red')\n",
      "        sage: p += text('B', (1.01, 1.1), color='red')\n",
      "        sage: p += text('C', (0.48, 0.57), color='red')\n",
      "        sage: p += text('D', (0.53, 0.18), color='red')\n",
      "        sage: p.show(axes=False, xmin=-0.5, xmax=1.4, ymin=0, ymax=2)\n",
      "    \n",
      "    .. PLOT::\n",
      "    \n",
      "        g = plot(x**2, (-0.5, 1.4)) + line([(0,0), (1,1)], color='green')\n",
      "        g = g + line([(0.5, 0.5), (0.5, 0.5**2)], color='purple')\n",
      "        g = g + point(((0, 0), (0.5, 0.5), (0.5, 0.5**2), (1, 1)), color='red', pointsize=20)\n",
      "        g = g + text('A', (-0.05, 0.1), color='red')\n",
      "        g = g + text('B', (1.01, 1.1), color='red')\n",
      "        g = g + text('C', (0.48, 0.57), color='red')\n",
      "        g = g + text('D', (0.53, 0.18), color='red')\n",
      "        g.axes(False)\n",
      "        g.xmin(-0.5)\n",
      "        g.xmax(1.4)\n",
      "        g.ymin(0)\n",
      "        g.ymax(2)\n",
      "        sphinx_plot(g)\n",
      "    \n",
      "    You have the function (in blue) and its approximation (in green)\n",
      "    passing through the points A and B. The algorithm finds the\n",
      "    midpoint C of AB and computes the distance between C and D. If that\n",
      "    distance exceeds the ``adaptive_tolerance`` threshold (*relative* to\n",
      "    the size of the initial plot subintervals), the point D is\n",
      "    added to the curve.  If D is added to the curve, then the\n",
      "    algorithm is applied recursively to the points A and D, and D and\n",
      "    B. It is repeated ``adaptive_recursion`` times (5, by default).\n",
      "    \n",
      "    The actual sample points are slightly randomized, so the above\n",
      "    plots may look slightly different each time you draw them.\n",
      "    \n",
      "    We draw the graph of an elliptic curve as the union of graphs of 2\n",
      "    functions.\n",
      "    \n",
      "    ::\n",
      "    \n",
      "        sage: def h1(x): return abs(sqrt(x^3  - 1))\n",
      "        sage: def h2(x): return -abs(sqrt(x^3  - 1))\n",
      "        sage: P = plot([h1, h2], 1,4)\n",
      "        sage: P          # show the result\n",
      "        Graphics object consisting of 2 graphics primitives\n",
      "    \n",
      "    .. PLOT::\n",
      "    \n",
      "        def h1(x): return abs(sqrt(x**3  - 1))\n",
      "        def h2(x): return -abs(sqrt(x**3  - 1))\n",
      "        P = plot([h1, h2], 1,4)\n",
      "        sphinx_plot(P)\n",
      "    \n",
      "    It is important to mention that when we draw several graphs at the same time,\n",
      "    parameters ``xmin``, ``xmax``, ``ymin`` and ``ymax`` are just passed directly\n",
      "    to the ``show`` procedure. In fact, these parameters would be overwritten::\n",
      "    \n",
      "        sage: p=plot(x^3, x, xmin=-1, xmax=1,ymin=-1, ymax=1)\n",
      "        sage: q=plot(exp(x), x, xmin=-2, xmax=2, ymin=0, ymax=4)\n",
      "        sage: (p+q).show()\n",
      "    \n",
      "    As a workaround, we can perform the trick::\n",
      "    \n",
      "        sage: p1 = line([(a,b) for a,b in zip(p[0].xdata,p[0].ydata) if (b>=-1 and b<=1)])\n",
      "        sage: q1 = line([(a,b) for a,b in zip(q[0].xdata,q[0].ydata) if (b>=0 and b<=4)])\n",
      "        sage: (p1+q1).show()\n",
      "    \n",
      "    We can also directly plot the elliptic curve::\n",
      "    \n",
      "        sage: E = EllipticCurve([0,-1])\n",
      "        sage: plot(E, (1, 4), color=hue(0.6))\n",
      "        Graphics object consisting of 1 graphics primitive\n",
      "    \n",
      "    .. PLOT::\n",
      "    \n",
      "        E = EllipticCurve([0,-1])\n",
      "        g = plot(E, (1, 4), color=hue(0.6))\n",
      "        sphinx_plot(g)\n",
      "    \n",
      "    We can change the line style as well::\n",
      "    \n",
      "        sage: plot(sin(x), (x, 0, 10), linestyle='-.')\n",
      "        Graphics object consisting of 1 graphics primitive\n",
      "    \n",
      "    .. PLOT::\n",
      "    \n",
      "        g = plot(sin(x), (x, 0, 10), linestyle='-.')\n",
      "        sphinx_plot(g)\n",
      "    \n",
      "    If we have an empty linestyle and specify a marker, we can see the\n",
      "    points that are actually being plotted::\n",
      "    \n",
      "        sage: plot(sin(x), (x,0,10), plot_points=20, linestyle='', marker='.')\n",
      "        Graphics object consisting of 1 graphics primitive\n",
      "    \n",
      "    .. PLOT::\n",
      "    \n",
      "        g = plot(sin(x), (x,0,10), plot_points=20, linestyle='', marker='.')\n",
      "        sphinx_plot(g)\n",
      "    \n",
      "    The marker can be a TeX symbol as well::\n",
      "    \n",
      "        sage: plot(sin(x), (x,0,10), plot_points=20, linestyle='', marker=r'$\\checkmark$')\n",
      "        Graphics object consisting of 1 graphics primitive\n",
      "    \n",
      "    .. PLOT::\n",
      "    \n",
      "        g = plot(sin(x), (x,0,10), plot_points=20, linestyle='', marker=r'$\\checkmark$')\n",
      "        sphinx_plot(g)\n",
      "    \n",
      "    Sage currently ignores points that cannot be evaluated\n",
      "    \n",
      "    ::\n",
      "    \n",
      "        sage: set_verbose(-1)\n",
      "        sage: plot(-x*log(x), (x,0,1))  # this works fine since the failed endpoint is just skipped.\n",
      "        Graphics object consisting of 1 graphics primitive\n",
      "        sage: set_verbose(0)\n",
      "    \n",
      "    This prints out a warning and plots where it can (we turn off the\n",
      "    warning by setting the verbose mode temporarily to -1.)\n",
      "    \n",
      "    ::\n",
      "    \n",
      "        sage: set_verbose(-1)\n",
      "        sage: plot(x^(1/3), (x,-1,1))\n",
      "        Graphics object consisting of 1 graphics primitive\n",
      "        sage: set_verbose(0)\n",
      "    \n",
      "    .. PLOT::\n",
      "    \n",
      "        set_verbose(-1)\n",
      "        g = plot(x**(1.0/3.0), (x,-1,1))\n",
      "        sphinx_plot(g)\n",
      "        set_verbose(0)\n",
      "    \n",
      "    \n",
      "    Plotting the real cube root function for negative input\n",
      "    requires avoiding the complex numbers one would usually get.\n",
      "    The easiest way is to use absolute value::\n",
      "    \n",
      "        sage: plot(sign(x)*abs(x)^(1/3), (x,-1,1))\n",
      "        Graphics object consisting of 1 graphics primitive\n",
      "    \n",
      "    .. PLOT::\n",
      "    \n",
      "       g = plot(sign(x)*abs(x)**(1.0/3.0), (x,-1,1))\n",
      "       sphinx_plot(g)\n",
      "    \n",
      "    We can also use the following::\n",
      "    \n",
      "        sage: plot(sign(x)*(x*sign(x))^(1/3), (x,-4,4))\n",
      "        Graphics object consisting of 1 graphics primitive\n",
      "    \n",
      "    .. PLOT::\n",
      "    \n",
      "       g = plot(sign(x)*(x*sign(x))**(1.0/3.0), (x,-4,4))\n",
      "       sphinx_plot(g)\n",
      "    \n",
      "    A way that points to how to plot other functions without\n",
      "    symbolic variants is using lambda functions::\n",
      "    \n",
      "        sage: plot(lambda x : RR(x).nth_root(3), (x,-1, 1))\n",
      "        Graphics object consisting of 1 graphics primitive\n",
      "    \n",
      "    .. PLOT::\n",
      "    \n",
      "        sphinx_plot(plot(lambda x : RR(x).nth_root(3), (x,-1, 1)))\n",
      "    \n",
      "    \n",
      "    We can detect the poles of a function::\n",
      "    \n",
      "        sage: plot(gamma, (-3, 4), detect_poles=True).show(ymin=-5, ymax=5)\n",
      "    \n",
      "    .. PLOT::\n",
      "    \n",
      "        g = plot(gamma, (-3, 4), detect_poles=True)\n",
      "        g.ymin(-5)\n",
      "        g.ymax(5)\n",
      "        sphinx_plot(g)\n",
      "    \n",
      "    We draw the Gamma-Function with its poles highlighted::\n",
      "    \n",
      "        sage: plot(gamma, (-3, 4), detect_poles='show').show(ymin=-5, ymax=5)\n",
      "    \n",
      "    .. PLOT::\n",
      "    \n",
      "        g = plot(gamma, (-3, 4), detect_poles='show')\n",
      "        g.ymin(-5)\n",
      "        g.ymax(5)\n",
      "        sphinx_plot(g)\n",
      "    \n",
      "    The basic options for filling a plot::\n",
      "    \n",
      "        sage: p1 = plot(sin(x), -pi, pi, fill='axis')\n",
      "        sage: p2 = plot(sin(x), -pi, pi, fill='min', fillalpha=1)\n",
      "        sage: p3 = plot(sin(x), -pi, pi, fill='max')\n",
      "        sage: p4 = plot(sin(x), -pi, pi, fill=(1-x)/3, fillcolor='blue', fillalpha=.2)\n",
      "        sage: graphics_array([[p1, p2], [p3, p4]]).show(frame=True, axes=False) # long time\n",
      "    \n",
      "    .. PLOT::\n",
      "    \n",
      "        p1 = plot(sin(x), -pi, pi, fill='axis'); print(p1)\n",
      "        p2 = plot(sin(x), -pi, pi, fill='min', fillalpha=1)\n",
      "        p3 = plot(sin(x), -pi, pi, fill='max')\n",
      "        p4 = plot(sin(x), -pi, pi, fill=(1-x)/3, fillcolor='blue', fillalpha=.2)\n",
      "        g = graphics_array([[p1, p2], [p3, p4]])\n",
      "        sphinx_plot(g, frame=True, axes=False)\n",
      "    \n",
      "    The basic options for filling a list of plots::\n",
      "    \n",
      "        sage: (f1, f2) = x*exp(-1*x^2)/.35, x*exp(-2*x^2)/.35\n",
      "        sage: p1 = plot([f1, f2], -pi, pi, fill={1: [0]}, fillcolor='blue', fillalpha=.25, color='blue')\n",
      "        sage: p2 = plot([f1, f2], -pi, pi, fill={0: x/3, 1:[0]}, color=['blue'])\n",
      "        sage: p3 = plot([f1, f2], -pi, pi, fill=[0, [0]], fillcolor=['orange','red'], fillalpha=1, color={1: 'blue'})\n",
      "        sage: p4 = plot([f1, f2], (x,-pi, pi), fill=[x/3, 0], fillcolor=['grey'], color=['red', 'blue'])\n",
      "        sage: graphics_array([[p1, p2], [p3, p4]]).show(frame=True, axes=False) # long time\n",
      "    \n",
      "    .. PLOT::\n",
      "    \n",
      "        (f1, f2) = x*exp(-1*x**2)/.35, x*exp(-2*x**2)/.35\n",
      "        p1 = plot([f1, f2], -pi, pi, fill={1: [0]}, fillcolor='blue', fillalpha=.25, color='blue')\n",
      "        p2 = plot([f1, f2], -pi, pi, fill={0: x/3, 1:[0]}, color=['blue'])\n",
      "        p3 = plot([f1, f2], -pi, pi, fill=[0, [0]], fillcolor=['orange','red'], fillalpha=1, color={1: 'blue'})\n",
      "        p4 = plot([f1, f2], (x,-pi, pi), fill=[x/3, 0], fillcolor=['grey'], color=['red', 'blue'])\n",
      "        g = graphics_array([[p1, p2], [p3, p4]])\n",
      "        sphinx_plot(g, frame=True, axes=False)\n",
      "    \n",
      "    \n",
      "    A example about the growth of prime numbers::\n",
      "    \n",
      "        sage: plot(1.13*log(x), 1, 100, fill=lambda x: nth_prime(x)/floor(x), fillcolor='red')\n",
      "        Graphics object consisting of 2 graphics primitives\n",
      "    \n",
      "    .. PLOT::\n",
      "    \n",
      "        sphinx_plot(plot(1.13*log(x), 1, 100, fill=lambda x: nth_prime(x)/floor(x), fillcolor='red'))\n",
      "    \n",
      "    Fill the area between a function and its asymptote::\n",
      "    \n",
      "        sage: f = (2*x^3+2*x-1)/((x-2)*(x+1))\n",
      "        sage: plot([f, 2*x+2], -7,7, fill={0: [1]}, fillcolor='#ccc').show(ymin=-20, ymax=20)\n",
      "    \n",
      "    .. PLOT::\n",
      "    \n",
      "        f = (2*x**3+2*x-1)/((x-2)*(x+1))\n",
      "        g = plot([f, 2*x+2], -7,7, fill={0: [1]}, fillcolor='#ccc')\n",
      "        g.ymin(-20)\n",
      "        g.ymax(20)\n",
      "        sphinx_plot(g)\n",
      "    \n",
      "    Fill the area between a list of functions and the x-axis::\n",
      "    \n",
      "        sage: def b(n): return lambda x: bessel_J(n, x)\n",
      "        sage: plot([b(n) for n in [1..5]], 0, 20, fill='axis')\n",
      "        Graphics object consisting of 10 graphics primitives\n",
      "    \n",
      "    .. PLOT::\n",
      "    \n",
      "        def b(n): return lambda x: bessel_J(n, x)\n",
      "        g = plot([b(n) for n in range(1,6)], 0, 20, fill='axis')\n",
      "        sphinx_plot(g)\n",
      "    \n",
      "    Note that to fill between the ith and jth functions, you must use\n",
      "    the dictionary key-value syntax ``i:[j]``; using key-value pairs\n",
      "    like ``i:j`` will fill between the ith function and the line y=j::\n",
      "    \n",
      "        sage: def b(n): return lambda x: bessel_J(n, x) + 0.5*(n-1)\n",
      "        sage: plot([b(c) for c in [1..5]], 0, 20, fill={i:[i-1] for i in [1..4]}, color={i:'blue' for i in [1..5]}, aspect_ratio=3, ymax=3)\n",
      "        Graphics object consisting of 9 graphics primitives\n",
      "        sage: plot([b(c) for c in [1..5]], 0, 20, fill={i:i-1 for i in [1..4]}, color='blue', aspect_ratio=3) # long time\n",
      "        Graphics object consisting of 9 graphics primitives\n",
      "    \n",
      "    .. PLOT::\n",
      "    \n",
      "        def b(n): return lambda x: bessel_J(n, x) + 0.5*(n-1)\n",
      "        g1 = plot([b(n) for n in range(1,6)], 0, 20, fill={i:[i-1] for i in range(1,5)}, color={i:'blue' for i in range(1,6)}, aspect_ratio=3)\n",
      "        g2 = plot([b(n) for n in range(1,6)], 0, 20, fill={i:i-1 for i in range(1,5)}, color='blue', aspect_ratio=3) # long time\n",
      "        g1.ymax(3)\n",
      "        g = graphics_array([[g1], [g2]])\n",
      "        sphinx_plot(g)\n",
      "    \n",
      "    Extra options will get passed on to :meth:`~sage.plot.graphics.Graphics.show`,\n",
      "    as long as they are valid::\n",
      "    \n",
      "        sage: plot(sin(x^2), (x, -3, 3), title=r'Plot of $\\sin(x^2)$', axes_labels=['$x$','$y$']) # These labels will be nicely typeset\n",
      "        Graphics object consisting of 1 graphics primitive\n",
      "    \n",
      "    .. PLOT::\n",
      "    \n",
      "        g = plot(sin(x**2), (x, -3, 3), title=r'Plot of $\\sin(x^2)$', axes_labels=['$x$','$y$']) # These labels will be nicely typeset\n",
      "        sphinx_plot(g)\n",
      "    \n",
      "    ::\n",
      "    \n",
      "        sage: plot(sin(x^2), (x, -3, 3), title='Plot of sin(x^2)', axes_labels=['x','y']) # These will not\n",
      "        Graphics object consisting of 1 graphics primitive\n",
      "    \n",
      "    .. PLOT::\n",
      "    \n",
      "        g = plot(sin(x**2), (x, -3, 3), title='Plot of sin(x^2)', axes_labels=['x','y']) # These will not\n",
      "        sphinx_plot(g)\n",
      "    \n",
      "    ::\n",
      "    \n",
      "        sage: plot(sin(x^2), (x, -3, 3), axes_labels=['x','y'], axes_labels_size=2.5) # Large axes labels (w.r.t. the tick marks)\n",
      "        Graphics object consisting of 1 graphics primitive\n",
      "    \n",
      "    .. PLOT::\n",
      "    \n",
      "        g = plot(sin(x**2), (x, -3, 3), axes_labels=['x','y'], axes_labels_size=2.5) # Large axes labels (w.r.t. the tick marks)\n",
      "        sphinx_plot(g)\n",
      "    \n",
      "    ::\n",
      "    \n",
      "        sage: plot(sin(x^2), (x, -3, 3), figsize=[8,2])\n",
      "        Graphics object consisting of 1 graphics primitive\n",
      "        sage: plot(sin(x^2), (x, -3, 3)).show(figsize=[8,2]) # These are equivalent\n",
      "    \n",
      "    .. PLOT::\n",
      "    \n",
      "        g = plot(sin(x**2), (x, -3, 3), figsize=[8,2])\n",
      "        sphinx_plot(g)\n",
      "    \n",
      "    This includes options for custom ticks and formatting.  See documentation\n",
      "    for :meth:`show` for more details.\n",
      "    \n",
      "    ::\n",
      "    \n",
      "        sage: plot(sin(pi*x), (x, -8, 8), ticks=[[-7,-3,0,3,7],[-1/2,0,1/2]])\n",
      "        Graphics object consisting of 1 graphics primitive\n",
      "    \n",
      "    .. PLOT::\n",
      "    \n",
      "        g = plot(sin(pi*x), (x, -8, 8), ticks=[[-7,-3,0,3,7],[-1/2,0,1/2]])\n",
      "        sphinx_plot(g)\n",
      "    \n",
      "    ::\n",
      "    \n",
      "        sage: plot(2*x+1,(x,0,5),ticks=[[0,1,e,pi,sqrt(20)],2],tick_formatter=\"latex\")\n",
      "        Graphics object consisting of 1 graphics primitive\n",
      "    \n",
      "    .. PLOT::\n",
      "    \n",
      "        g = plot(2*x+1,(x,0,5),ticks=[[0,1,e,pi,sqrt(20)],2],tick_formatter=\"latex\")\n",
      "        sphinx_plot(g)\n",
      "    \n",
      "    This is particularly useful when setting custom ticks in multiples of `pi`.\n",
      "    \n",
      "    ::\n",
      "    \n",
      "        sage: plot(sin(x),(x,0,2*pi),ticks=pi/3,tick_formatter=pi)\n",
      "        Graphics object consisting of 1 graphics primitive\n",
      "    \n",
      "    .. PLOT::\n",
      "    \n",
      "        g = plot(sin(x),(x,0,2*pi),ticks=pi/3,tick_formatter=pi)\n",
      "        sphinx_plot(g)\n",
      "    \n",
      "    You can even have custom tick labels along with custom positioning. ::\n",
      "    \n",
      "        sage: plot(x**2, (x,0,3), ticks=[[1,2.5],[0.5,1,2]], tick_formatter=[[\"$x_1$\",\"$x_2$\"],[\"$y_1$\",\"$y_2$\",\"$y_3$\"]])\n",
      "        Graphics object consisting of 1 graphics primitive\n",
      "    \n",
      "    .. PLOT::\n",
      "    \n",
      "        g = plot(x**2, (x,0,3), ticks=[[1,2.5],[0.5,1,2]], tick_formatter=[[\"$x_1$\",\"$x_2$\"],[\"$y_1$\",\"$y_2$\",\"$y_3$\"]])\n",
      "        sphinx_plot(g)\n",
      "    \n",
      "    You can force Type 1 fonts in your figures by providing the relevant\n",
      "    option as shown below. This also requires that LaTeX, dvipng and\n",
      "    Ghostscript be installed::\n",
      "    \n",
      "        sage: plot(x, typeset='type1') # optional - latex\n",
      "        Graphics object consisting of 1 graphics primitive\n",
      "    \n",
      "    A example with excluded values::\n",
      "    \n",
      "        sage: plot(floor(x), (x, 1, 10), exclude=[1..10])\n",
      "        Graphics object consisting of 11 graphics primitives\n",
      "    \n",
      "    .. PLOT::\n",
      "    \n",
      "        g = plot(floor(x), (x, 1, 10), exclude=list(range(1,11)))\n",
      "        sphinx_plot(g)\n",
      "    \n",
      "    We exclude all points where :class:`~sage.functions.prime_pi.PrimePi`\n",
      "    makes a jump::\n",
      "    \n",
      "        sage: jumps = [n for n in [1..100] if prime_pi(n) != prime_pi(n-1)]\n",
      "        sage: plot(lambda x: prime_pi(x), (x, 1, 100), exclude=jumps)\n",
      "        Graphics object consisting of 26 graphics primitives\n",
      "    \n",
      "    .. PLOT::\n",
      "    \n",
      "        #jumps = [n for n in [1..100] if prime_pi(n) != prime_pi(n-1)]\n",
      "        #syntaxError: invalid syntax, so we need more code\n",
      "        jumps=list()\n",
      "        for n in range(1,101):\n",
      "            if prime_pi(n) != prime_pi(n-1):\n",
      "                jumps.append(n)\n",
      "        g = plot(lambda x: prime_pi(x), (x, 1, 100), exclude=jumps)\n",
      "        sphinx_plot(g)\n",
      "    \n",
      "    Excluded points can also be given by an equation::\n",
      "    \n",
      "        sage: g(x) = x^2-2*x-2\n",
      "        sage: plot(1/g(x), (x, -3, 4), exclude=g(x)==0, ymin=-5, ymax=5) # long time\n",
      "        Graphics object consisting of 3 graphics primitives\n",
      "    \n",
      "    .. PLOT::\n",
      "    \n",
      "        def g(x): return x**2-2*x-2\n",
      "        G = plot(1/g(x), (x, -3, 4), exclude=g(x)==0, ymin=-5, ymax=5)\n",
      "        sphinx_plot(G)\n",
      "    \n",
      "    ``exclude`` and ``detect_poles`` can be used together::\n",
      "    \n",
      "        sage: f(x) = (floor(x)+0.5) / (1-(x-0.5)^2)\n",
      "        sage: plot(f, (x, -3.5, 3.5), detect_poles='show', exclude=[-3..3], ymin=-5, ymax=5)\n",
      "        Graphics object consisting of 12 graphics primitives\n",
      "    \n",
      "    .. PLOT::\n",
      "    \n",
      "        def f(x): return (floor(x)+0.5) / (1-(x-0.5)**2)\n",
      "        g = plot(f, (x, -3.5, 3.5), detect_poles='show', exclude=list(range(-3,4)), ymin=-5, ymax=5)\n",
      "        sphinx_plot(g)\n",
      "    \n",
      "    Regions in which the plot has no values are automatically excluded. The\n",
      "    regions thus excluded are in addition to the exclusion points present\n",
      "    in the ``exclude`` keyword argument.::\n",
      "    \n",
      "        sage: set_verbose(-1)\n",
      "        sage: plot(arcsec, (x, -2, 2))  # [-1, 1] is excluded automatically\n",
      "        Graphics object consisting of 2 graphics primitives\n",
      "    \n",
      "    .. PLOT::\n",
      "    \n",
      "        set_verbose(-1)\n",
      "        g = plot(arcsec, (x, -2, 2))  # [-1, 1] is excluded automatically\n",
      "        sphinx_plot(g)\n",
      "    \n",
      "    ::\n",
      "    \n",
      "        sage: plot(arcsec, (x, -2, 2), exclude=[1.5])  # x=1.5 is also excluded\n",
      "        Graphics object consisting of 3 graphics primitives\n",
      "    \n",
      "    .. PLOT::\n",
      "    \n",
      "        set_verbose(-1)\n",
      "        g = plot(arcsec, (x, -2, 2), exclude=[1.5])  # x=1.5 is also excluded\n",
      "        sphinx_plot(g)\n",
      "    \n",
      "    ::\n",
      "    \n",
      "        sage: plot(arcsec(x/2), -2, 2)  # plot should be empty; no valid points\n",
      "        Graphics object consisting of 0 graphics primitives\n",
      "        sage: plot(sqrt(x^2-1), -2, 2)  # [-1, 1] is excluded automatically\n",
      "        Graphics object consisting of 2 graphics primitives\n",
      "    \n",
      "    .. PLOT::\n",
      "    \n",
      "        set_verbose(-1)\n",
      "        g = plot(sqrt(x**2-1), -2, 2)  # [-1, 1] is excluded automatically\n",
      "        sphinx_plot(g)\n",
      "    \n",
      "    ::\n",
      "    \n",
      "        sage: plot(arccsc, -2, 2)       # [-1, 1] is excluded automatically\n",
      "        Graphics object consisting of 2 graphics primitives\n",
      "        sage: set_verbose(0)\n",
      "    \n",
      "    .. PLOT::\n",
      "    \n",
      "        set_verbose(-1)\n",
      "        g = plot(arccsc, -2, 2)       # [-1, 1] is excluded automatically\n",
      "        sphinx_plot(g)\n",
      "    \n",
      "    TESTS:\n",
      "    \n",
      "    We do not randomize the endpoints::\n",
      "    \n",
      "        sage: p = plot(x, (x,-1,1))\n",
      "        sage: p[0].xdata[0] == -1\n",
      "        True\n",
      "        sage: p[0].xdata[-1] == 1\n",
      "        True\n",
      "    \n",
      "    We check to make sure that the x/y min/max data get set correctly\n",
      "    when there are multiple functions.\n",
      "    \n",
      "    ::\n",
      "    \n",
      "        sage: d = plot([sin(x), cos(x)], 100, 120).get_minmax_data()\n",
      "        sage: d['xmin']\n",
      "        100.0\n",
      "        sage: d['xmax']\n",
      "        120.0\n",
      "    \n",
      "    We check various combinations of tuples and functions, ending with\n",
      "    tests that lambda functions work properly with explicit variable\n",
      "    declaration, without a tuple.\n",
      "    \n",
      "    ::\n",
      "    \n",
      "        sage: p = plot(lambda x: x,(x,-1,1))\n",
      "        sage: p = plot(lambda x: x,-1,1)\n",
      "        sage: p = plot(x,x,-1,1)\n",
      "        sage: p = plot(x,-1,1)\n",
      "        sage: p = plot(x^2,x,-1,1)\n",
      "        sage: p = plot(x^2,xmin=-1,xmax=2)\n",
      "        sage: p = plot(lambda x: x,x,-1,1)\n",
      "        sage: p = plot(lambda x: x^2,x,-1,1)\n",
      "        sage: p = plot(lambda x: 1/x,x,-1,1)\n",
      "        sage: f(x) = sin(x+3)-.1*x^3\n",
      "        sage: p = plot(lambda x: f(x),x,-1,1)\n",
      "    \n",
      "    We check to handle cases where the function gets evaluated at a\n",
      "    point which causes an 'inf' or '-inf' result to be produced.\n",
      "    \n",
      "    ::\n",
      "    \n",
      "        sage: p = plot(1/x, 0, 1)\n",
      "        sage: p = plot(-1/x, 0, 1)\n",
      "    \n",
      "    Bad options now give better errors::\n",
      "    \n",
      "        sage: P = plot(sin(1/x), (x,-1,3), foo=10)\n",
      "        Traceback (most recent call last):\n",
      "        ...\n",
      "        RuntimeError: Error in line(): option 'foo' not valid.\n",
      "        sage: P = plot(x, (x,1,1)) # trac ticket #11753\n",
      "        Traceback (most recent call last):\n",
      "        ...\n",
      "        ValueError: plot start point and end point must be different\n",
      "    \n",
      "    We test that we can plot `f(x)=x` (see :trac:`10246`)::\n",
      "    \n",
      "        sage: f(x)=x; f\n",
      "        x |--> x\n",
      "        sage: plot(f,(x,-1,1))\n",
      "        Graphics object consisting of 1 graphics primitive\n",
      "    \n",
      "    Check that :trac:`15030` is fixed::\n",
      "    \n",
      "        sage: plot(abs(log(x)), x)\n",
      "        Graphics object consisting of 1 graphics primitive\n",
      "    \n",
      "    Check that if excluded points are less than xmin then the exclusion\n",
      "    still works for polar and parametric plots. The following should\n",
      "    show two excluded points::\n",
      "    \n",
      "        sage: set_verbose(-1)\n",
      "        sage: polar_plot(sin(sqrt(x^2-1)), (x,0,2*pi), exclude=[1/2,2,3])\n",
      "        Graphics object consisting of 3 graphics primitives\n",
      "    \n",
      "        sage: parametric_plot((sqrt(x^2-1),sqrt(x^2-1/2)), (x,0,5), exclude=[1,2,3])\n",
      "        Graphics object consisting of 3 graphics primitives\n",
      "    \n",
      "        sage: set_verbose(0)\n",
      "    \n",
      "    Legends can contain variables with long names, :trac:`13543`::\n",
      "    \n",
      "        sage: hello = var('hello')\n",
      "        sage: label = '$' + latex(hello) + '$'\n",
      "        sage: plot(x, x, 0, 1, legend_label=label)\n",
      "        Graphics object consisting of 1 graphics primitive\n",
      "    \n",
      "    Extra keywords should be saved if object has a plot method, :trac:`20924`::\n",
      "    \n",
      "        sage: G = graphs.PetersenGraph()\n",
      "        sage: p = G.plot()\n",
      "        sage: p.aspect_ratio()\n",
      "        1.0\n",
      "        sage: pp = plot(G)\n",
      "        sage: pp.aspect_ratio()\n",
      "        1.0\n",
      "\n"
     ]
    }
   ],
   "source": [
    "help(plot)"
   ]
  },
  {
   "cell_type": "markdown",
   "metadata": {},
   "source": [
    "### Source code of Sage functions"
   ]
  },
  {
   "cell_type": "code",
   "execution_count": 17,
   "metadata": {},
   "outputs": [],
   "source": [
    "factor??"
   ]
  },
  {
   "cell_type": "code",
   "execution_count": 18,
   "metadata": {},
   "outputs": [],
   "source": [
    "plot??"
   ]
  },
  {
   "cell_type": "markdown",
   "metadata": {},
   "source": [
    "***\n",
    "<a id=references></a>\n",
    "# <font color=brown> References</font>"
   ]
  },
  {
   "cell_type": "markdown",
   "metadata": {},
   "source": [
    "* Zimmermann P., Casamayou A., Cohen N., Connan G., Dumont T., Fousse L., Maltey F., Meulien M., Mezzarobba M., Pernet C., Thiéry N.M., Bray E., Cremona J., Forets M., Ghitza A., & Thomas H.H. (2018). [Computational Mathematics with SageMath](http://sagebook.gforge.inria.fr/english.html). \n",
    "\n",
    "\n",
    "* Gregory V. Bard. (2015). [Sage for Undergraduates](http://www.people.vcu.edu/~clarson/bard-sage-for-undergraduates-2014.pdf). American Mathematical Society, USA."
   ]
  },
  {
   "cell_type": "markdown",
   "metadata": {},
   "source": [
    "* This tutorial was created with the help of official [SageMath tutorial](https://more-sagemath-tutorials.readthedocs.io/en/latest/) and also thanks to [David Lowry-Duda](https://github.com/davidlowryduda/notebooks/), [Eric West](https://github.com/EricJWest/). "
   ]
  }
 ],
 "metadata": {
  "kernelspec": {
   "display_name": "SageMath 9.2",
   "language": "sage",
   "name": "sagemath"
  },
  "language_info": {
   "codemirror_mode": {
    "name": "ipython",
    "version": 3
   },
   "file_extension": ".py",
   "mimetype": "text/x-python",
   "name": "python",
   "nbconvert_exporter": "python",
   "pygments_lexer": "ipython3",
   "version": "3.7.7"
  }
 },
 "nbformat": 4,
 "nbformat_minor": 2
}
