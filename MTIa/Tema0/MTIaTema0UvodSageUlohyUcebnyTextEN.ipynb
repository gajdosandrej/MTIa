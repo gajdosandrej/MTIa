{
 "cells": [
  {
   "cell_type": "markdown",
   "metadata": {},
   "source": [
    "**Author:** Andrej Gajdoš  <br> *[Faculty of Science](https://www.upjs.sk/en/faculty-of-science/?prefferedLang=EN), P. J. Šafárik University in Košice, Slovakia* <br> email: [andrej.gajdos@upjs.sk](mailto:andrej.gajdos@upjs.sk)\n",
    "***\n",
    "**_Tento materiál vznikol za podpory grantu VVGS-2021-1758._**\n",
    "***\n",
    "\n",
    "**<font size=6 color=gold> MTIa: Theme 0 - Introduction to SageMath: assignments</font>**  "
   ]
  },
  {
   "cell_type": "markdown",
   "metadata": {},
   "source": [
    "---\n",
    "\n",
    "**1. Create a list of the squares of the [prime numbers](https://www.mathsisfun.com/prime_numbers.html) between 1 and 100.**"
   ]
  },
  {
   "cell_type": "code",
   "execution_count": null,
   "metadata": {
    "scrolled": true
   },
   "outputs": [],
   "source": []
  },
  {
   "cell_type": "markdown",
   "metadata": {},
   "source": [
    "--- \n",
    "\n",
    "**2. What is the largest [prime factor](https://www.mathsisfun.com/prime-factorization.html) of $600851475143$?**"
   ]
  },
  {
   "cell_type": "code",
   "execution_count": null,
   "metadata": {},
   "outputs": [],
   "source": []
  },
  {
   "cell_type": "markdown",
   "metadata": {},
   "source": [
    "--- \n",
    "\n",
    "**3. Let us have two polynomial expressions: $(x^2-1)(x+4)^2$, $\\dfrac{x^2-1}{x+1}$. At first, find the roots (including their multiplicities) of the first polynomial using the Sage - try to factorize it and consequently compare the results with plot of given polynomial function. Next, try to simplify the second expression.** "
   ]
  },
  {
   "cell_type": "code",
   "execution_count": null,
   "metadata": {},
   "outputs": [],
   "source": []
  },
  {
   "cell_type": "markdown",
   "metadata": {},
   "source": [
    "--- \n",
    "\n",
    "**4. Create a function that returns the $n$-th [Fibonacci number](https://www.mathsisfun.com/numbers/fibonacci-sequence.html).**"
   ]
  },
  {
   "cell_type": "code",
   "execution_count": null,
   "metadata": {},
   "outputs": [],
   "source": []
  },
  {
   "cell_type": "markdown",
   "metadata": {},
   "source": [
    "--- \n",
    "\n",
    "**5. Draw plots of $\\sin(x^2)$ and $\\cos(x^2)$ separately. Play with other input parameters of 2D plotting. Finally draw plots of $\\sin(x^2)$ and $\\cos(x^2)$ in one picture.**"
   ]
  },
  {
   "cell_type": "code",
   "execution_count": null,
   "metadata": {},
   "outputs": [],
   "source": []
  },
  {
   "cell_type": "markdown",
   "metadata": {},
   "source": [
    "--- \n",
    "\n",
    "**6. Find an example of 3D plotting in SageMath. Copy this example (code), try to change some input parameters and describe particular line of code (what are they for?).**"
   ]
  },
  {
   "cell_type": "code",
   "execution_count": null,
   "metadata": {},
   "outputs": [],
   "source": []
  },
  {
   "cell_type": "markdown",
   "metadata": {},
   "source": [
    "--- \n",
    "\n",
    "**7. What <span style=\"color:red\"> specific </span> questions do you have about the content of study materials that you would like to discuss in class?**"
   ]
  },
  {
   "cell_type": "code",
   "execution_count": null,
   "metadata": {},
   "outputs": [],
   "source": []
  }
 ],
 "metadata": {
  "kernelspec": {
   "display_name": "SageMath 9.2",
   "language": "sage",
   "name": "sagemath"
  },
  "language_info": {
   "codemirror_mode": {
    "name": "ipython",
    "version": 3
   },
   "file_extension": ".py",
   "mimetype": "text/x-python",
   "name": "python",
   "nbconvert_exporter": "python",
   "pygments_lexer": "ipython3",
   "version": "3.7.7"
  }
 },
 "nbformat": 4,
 "nbformat_minor": 2
}
