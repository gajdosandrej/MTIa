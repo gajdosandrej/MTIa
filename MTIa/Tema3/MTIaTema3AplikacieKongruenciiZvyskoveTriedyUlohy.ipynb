{
 "cells": [
  {
   "cell_type": "markdown",
   "metadata": {},
   "source": [
    "**Autor:** Andrej Gajdoš  <br> \n",
    "*[Ústav matematických vied](https://www.upjs.sk/prirodovedecka-fakulta/ustav/umv/), [Prírodovedecká fakulta](https://www.upjs.sk/prirodovedecka-fakulta/), Univerzita Pavla Jozefa Šafárika v Košiciach,* <br> \n",
    "email: [andrej.gajdos@upjs.sk](mailto:andrej.gajdos@upjs.sk)\n",
    "*** \n",
    "**_Tento materiál vznikol za podpory grantu VVGS-2021-1758._** \n",
    "*** \n",
    "\n",
    "**<font size=6 color=gold> MTIa: Téma 3 - Aplikácie kongruencií a zvyškové triedy: úlohy </font>**"
   ]
  },
  {
   "cell_type": "markdown",
   "metadata": {},
   "source": [
    "----\n",
    "\n",
    "**1. Určte (pomocou Malej Fermatovej vety) zvyšok po delení čísla $a$ číslom $b$, kde** \n",
    "\n",
    "a) $a=50^{13}, b=7$;\n",
    "\n",
    "$\\clubsuit$  b) $a=28^{142}, b=71$; \n",
    "\n",
    "c) $a=15^{94}, b=47$.\n",
    "\n",
    "Sage použite na čiastkové výpočty resp. na kontrolu.  "
   ]
  },
  {
   "cell_type": "code",
   "execution_count": null,
   "metadata": {},
   "outputs": [],
   "source": []
  },
  {
   "cell_type": "markdown",
   "metadata": {},
   "source": [
    "--- \n",
    "\n",
    "**2. Dokážte (napr. aplikovaním Malej Fermatovej vety), že ak $a, b \\in\\mathbb{Z}$ a $11\\not\\mid a$, $11\\not\\mid b$, tak $11 \\mid (a^{10} − b^{10})$.**"
   ]
  },
  {
   "cell_type": "code",
   "execution_count": null,
   "metadata": {},
   "outputs": [],
   "source": []
  },
  {
   "cell_type": "markdown",
   "metadata": {},
   "source": [
    "---\n",
    "\n",
    "**$\\clubsuit$ 3. Dokážte (napr. aj pomocou Malej Fermatovej vety), že pre každé prvočíslo $p > 3$ platí, že ak $2p + 1$ je prvočíslo, tak $4p + 1$ je zložené číslo.** <br/>\n",
    "Využite Sage na experimentovanie a Malú Fermatovu vetu na zdôvodnenie (ide to však i bez nej, rozumnými úvahami o zvyškoch po delení čislom $3$). "
   ]
  },
  {
   "cell_type": "code",
   "execution_count": null,
   "metadata": {},
   "outputs": [],
   "source": []
  },
  {
   "cell_type": "markdown",
   "metadata": {},
   "source": [
    "---\n",
    "\n",
    "**$\\clubsuit$ 4. Aké je posledné dvojčíslie čísla $137^{42}$ ?** Viete úlohu vyriešiť tak, že iba čiastkové výpočty urobíte pomocou Sage? "
   ]
  },
  {
   "cell_type": "code",
   "execution_count": null,
   "metadata": {},
   "outputs": [],
   "source": []
  },
  {
   "cell_type": "markdown",
   "metadata": {},
   "source": [
    "---\n",
    "\n",
    "**5. Aká je posledná cifra čísla $77^{284}$ ?** Sage využite iba pre čiastkové výpočty. "
   ]
  },
  {
   "cell_type": "code",
   "execution_count": null,
   "metadata": {},
   "outputs": [],
   "source": []
  },
  {
   "cell_type": "markdown",
   "metadata": {},
   "source": [
    "--- \n",
    "\n",
    "**6. Nájdite zvyšok po delení čísla $\\left(103^{19} + 17^{13}\\right)^{4}$ číslom $20$.** Sage použite iba na pomocné výpočty. "
   ]
  },
  {
   "cell_type": "code",
   "execution_count": null,
   "metadata": {},
   "outputs": [],
   "source": []
  },
  {
   "cell_type": "markdown",
   "metadata": {},
   "source": [
    "---\n",
    "\n",
    "**$\\clubsuit$ 7. Nájdite zvyšok po delení čísla $\\left(85^{70} + 19^{32}\\right)^{16}$ číslom $21$.** Sage použite len na pomocné výpočty. "
   ]
  },
  {
   "cell_type": "code",
   "execution_count": null,
   "metadata": {},
   "outputs": [],
   "source": []
  },
  {
   "cell_type": "markdown",
   "metadata": {},
   "source": [
    "---\n",
    "\n",
    "**8. Rozhodnite, či je číslo $502\\,458$ deliteľné číslom $11$.** Svoju odpoveď overte v Sage. "
   ]
  },
  {
   "cell_type": "code",
   "execution_count": null,
   "metadata": {},
   "outputs": [],
   "source": []
  },
  {
   "cell_type": "markdown",
   "metadata": {},
   "source": [
    "---\n",
    "\n",
    "**9. Aplikovaním princípu \"vynechania deviatiek\" označte nasledovný výpočet buď za \"pravdepodobne správny\" alebo \"určite nesprávny\".** \n",
    "\n",
    "$$7958036-2309859=5948177$$. \n",
    "\n",
    "Správnosť riešenia otestujte v Sage. "
   ]
  },
  {
   "cell_type": "code",
   "execution_count": null,
   "metadata": {},
   "outputs": [],
   "source": []
  },
  {
   "cell_type": "markdown",
   "metadata": {},
   "source": [
    "--- \n",
    "\n",
    "**$\\clubsuit$ 10. Aplikovaním princípu \"vynechania deviatiek\" nájdite chýbajúcu číslicu vo výpočte** \n",
    "\n",
    "$$7167-1776=53d1.$$\n",
    "\n",
    "Správnosť riešenia overte v Sage. "
   ]
  },
  {
   "cell_type": "code",
   "execution_count": null,
   "metadata": {},
   "outputs": [],
   "source": []
  },
  {
   "cell_type": "markdown",
   "metadata": {},
   "source": [
    "--- \n",
    "\n",
    "**11. Vytvorte dvanásťcípu hviezdu spájaním dvojic bodov $x$ a $x+7$ modulo $12$.** "
   ]
  },
  {
   "cell_type": "code",
   "execution_count": null,
   "metadata": {},
   "outputs": [],
   "source": []
  },
  {
   "cell_type": "markdown",
   "metadata": {},
   "source": [
    "--- \n",
    "\n",
    "**$\\clubsuit$ 12. Cestovné šeky VISA používajú ako kontrolnú číslicu zápornú hodnotu zvyšku po delení čísla šeku číslom $9$. Napríklad kontrolná číslica pre číslo šeku 1967633314327 je $8$ lebo $1967633314327 \\equiv 1 \\,\\,(\\mathrm{mod}\\,\\, 9)$, $1$ zmení znamienko podľa štandardu VISA, čím dostaneme $-1$ a platí $-1 \\equiv 8 \\,\\,(\\mathrm{mod}\\,\\, 9)$, preto kontrolná číslica je $8$ (nemôže to byť záporné číslo).** \n",
    "\n",
    "**Na základe uvedeného pravidla, určte kontrolnú číslicu pre VISA šek s číslom $300706202013$.**"
   ]
  },
  {
   "cell_type": "code",
   "execution_count": null,
   "metadata": {},
   "outputs": [],
   "source": []
  },
  {
   "cell_type": "markdown",
   "metadata": {},
   "source": [
    "---\n",
    "\n",
    "**13. Overte, či dané čislo je platné ISBN: $0-07-095831-2$.**"
   ]
  },
  {
   "cell_type": "code",
   "execution_count": null,
   "metadata": {},
   "outputs": [],
   "source": []
  },
  {
   "cell_type": "markdown",
   "metadata": {},
   "source": [
    "---\n",
    "\n",
    "**$\\clubsuit$ 14. V $\\mathbb{Z}_7$ nájdite inverzný prvok ku $2_7, 3_7$ a $4_7$.** Riešenie zdôvodnite a overte v Sage. \n"
   ]
  },
  {
   "cell_type": "code",
   "execution_count": null,
   "metadata": {},
   "outputs": [],
   "source": []
  },
  {
   "cell_type": "markdown",
   "metadata": {},
   "source": [
    "---\n",
    "\n",
    "**15. Overte komutatívnosť operácii $\\oplus$, $\\odot$ v rámci zvyškovej triedy $\\mathbb{Z}_5$.**"
   ]
  },
  {
   "cell_type": "code",
   "execution_count": null,
   "metadata": {},
   "outputs": [],
   "source": []
  },
  {
   "cell_type": "markdown",
   "metadata": {},
   "source": [
    "---\n",
    "\n",
    "**$\\clubsuit$ 16. Overte, či platí komutatívnosť operácii $\\oplus$, $\\odot$ v $\\mathbb{Z}_4$.** "
   ]
  },
  {
   "cell_type": "code",
   "execution_count": null,
   "metadata": {},
   "outputs": [],
   "source": []
  }
 ],
 "metadata": {
  "kernelspec": {
   "display_name": "SageMath 9.0",
   "language": "sage",
   "name": "sagemath"
  },
  "language_info": {
   "codemirror_mode": {
    "name": "ipython",
    "version": 3
   },
   "file_extension": ".py",
   "mimetype": "text/x-python",
   "name": "python",
   "nbconvert_exporter": "python",
   "pygments_lexer": "ipython3",
   "version": "3.7.3"
  }
 },
 "nbformat": 4,
 "nbformat_minor": 2
}
