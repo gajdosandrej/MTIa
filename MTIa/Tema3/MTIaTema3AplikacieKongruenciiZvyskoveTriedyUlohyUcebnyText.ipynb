{
 "cells": [
  {
   "cell_type": "markdown",
   "metadata": {},
   "source": [
    "**Autor:** Andrej Gajdoš  <br> \n",
    "*[Ústav matematických vied](https://www.upjs.sk/prirodovedecka-fakulta/ustav/umv/), [Prírodovedecká fakulta](https://www.upjs.sk/prirodovedecka-fakulta/), Univerzita Pavla Jozefa Šafárika v Košiciach,* <br> \n",
    "email: [andrej.gajdos@upjs.sk](mailto:andrej.gajdos@upjs.sk)\n",
    "*** \n",
    "**_Tento materiál vznikol za podpory grantu VVGS-2021-1758._** \n",
    "*** \n",
    "\n",
    "**<font size=6 color=gold> MTIa: Téma 3 - Aplikácie kongruencií a zvyškové triedy: úlohy k učebnému textu </font>**"
   ]
  },
  {
   "cell_type": "markdown",
   "metadata": {},
   "source": [
    "---\n",
    "\n",
    "**1. Určte ciferný súčet čísel $6\\,387$ a $849\\,512\\,736$.**"
   ]
  },
  {
   "cell_type": "code",
   "execution_count": null,
   "metadata": {},
   "outputs": [],
   "source": []
  },
  {
   "cell_type": "markdown",
   "metadata": {},
   "source": [
    "---\n",
    "\n",
    "**2. Vyskúšajte si $(17,6)$-dizajn z obrázka v učebnom texte poriadne rozpísať - tak ako by vznikal. Použite Sage napr. pre výpis dvojíc vrcholov, ktoré majú byť spojené úsečkou.**"
   ]
  },
  {
   "cell_type": "code",
   "execution_count": null,
   "metadata": {},
   "outputs": [],
   "source": []
  },
  {
   "cell_type": "markdown",
   "metadata": {},
   "source": [
    "---\n",
    "\n",
    "**3. Ako vyzerá $\\mathbb{Z}_2$ a $\\mathbb{Z}_3$? Charakterizujte tieto množiny zvyškových tried, popíšte ich prvky. (Ako vyzerajú jednotlivé zvyškové triedy? Vypíšte niekoľko ich prvkov.)**"
   ]
  },
  {
   "cell_type": "code",
   "execution_count": null,
   "metadata": {},
   "outputs": [],
   "source": []
  },
  {
   "cell_type": "markdown",
   "metadata": {},
   "source": [
    "--- \n",
    "\n",
    "**4. Využitím interaktívneho kódu v učebnom texte prečítajte z tabuliek výsledky nasledujúcich sčítaní dvojíc zvyškových tried: $1_{11}\\oplus5_{11}$, $4_6\\oplus4_6$, $9_{15}\\oplus0_{15}$.**"
   ]
  },
  {
   "cell_type": "code",
   "execution_count": null,
   "metadata": {},
   "outputs": [],
   "source": []
  },
  {
   "cell_type": "markdown",
   "metadata": {},
   "source": [
    "--- \n",
    "\n",
    "**5. Využitím interaktívneho kódu v učebnom texte prečítajte z tabuliek výsledky nasledujúcich násobení dvojíc zvyškových tried: $1_{11}\\odot5_{11}$, $4_6\\odot4_6$, $9_{15}\\odot1_{15}$.**"
   ]
  },
  {
   "cell_type": "code",
   "execution_count": null,
   "metadata": {},
   "outputs": [],
   "source": []
  },
  {
   "cell_type": "markdown",
   "metadata": {},
   "source": [
    "--- \n",
    "\n",
    "**6. Ak by sme miesto zvyškových tried podľa modulu $m$ a ich sčítania $\\oplus$ uvažovali reálne alebo celé čísla s operáciou klasického sčítania $+$, existoval by tiež nulový a opačný prvok? Ak áno, ako by vyzerali? Uveďte aj príklad.**"
   ]
  },
  {
   "cell_type": "code",
   "execution_count": null,
   "metadata": {},
   "outputs": [],
   "source": []
  },
  {
   "cell_type": "markdown",
   "metadata": {},
   "source": [
    "---\n",
    "\n",
    "**7. Rozpísaním (podobne ako v príklade za Poznámkou 4) overte, že platí nasledujúca rovnosť:**\n",
    "\n",
    "$$(2_5\\oplus3_5)\\odot4_5=(2_5\\odot4_5)\\oplus(3_5\\odot4_5).$$"
   ]
  },
  {
   "cell_type": "code",
   "execution_count": null,
   "metadata": {},
   "outputs": [],
   "source": []
  },
  {
   "cell_type": "markdown",
   "metadata": {},
   "source": [
    "---\n",
    "\n",
    "**8. Aký je inverzný prvok k prvku $2_8$ v $\\left(\\mathbb{Z}_{8},\\odot\\right)$ ? Odpoveď zdôvodnite.**\n"
   ]
  },
  {
   "cell_type": "code",
   "execution_count": null,
   "metadata": {},
   "outputs": [],
   "source": []
  },
  {
   "cell_type": "markdown",
   "metadata": {},
   "source": [
    "---\n",
    "\n",
    "**9. Aké <font color=red> konkrétne </font> otázky máte k náplni študijných materiálov, ktoré by ste chceli na hodine prediskutovať?**"
   ]
  },
  {
   "cell_type": "code",
   "execution_count": null,
   "metadata": {},
   "outputs": [],
   "source": []
  }
 ],
 "metadata": {
  "kernelspec": {
   "display_name": "SageMath 9.1",
   "language": "sage",
   "name": "sagemath"
  },
  "language_info": {
   "codemirror_mode": {
    "name": "ipython",
    "version": 3
   },
   "file_extension": ".py",
   "mimetype": "text/x-python",
   "name": "python",
   "nbconvert_exporter": "python",
   "pygments_lexer": "ipython3",
   "version": "3.7.3"
  }
 },
 "nbformat": 4,
 "nbformat_minor": 2
}
