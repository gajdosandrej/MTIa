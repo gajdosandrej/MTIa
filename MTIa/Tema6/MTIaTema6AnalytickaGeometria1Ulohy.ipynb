{
 "cells": [
  {
   "cell_type": "markdown",
   "metadata": {},
   "source": [
    "**Autor:** Andrej Gajdoš  <br> \n",
    "*[Ústav matematických vied](https://www.upjs.sk/prirodovedecka-fakulta/ustav/umv/), [Prírodovedecká fakulta](https://www.upjs.sk/prirodovedecka-fakulta/), Univerzita Pavla Jozefa Šafárika v Košiciach,* <br> \n",
    "email: [andrej.gajdos@upjs.sk](mailto:andrej.gajdos@upjs.sk)\n",
    "*** \n",
    "**_Tento materiál vznikol za podpory grantu VVGS-2021-1758._** \n",
    "*** \n",
    "\n",
    "**<font size=6 color=gold> MTIa: Téma 6 - Základy analytickej geometrie 1: úlohy </font>**"
   ]
  },
  {
   "cell_type": "markdown",
   "metadata": {},
   "source": [
    "--- \n",
    "\n",
    "**$\\clubsuit$ 0. K zadanému vektoru nájdite vektor opačný a tiež vektor kolmý. Všetky vektory znázornite v Sage.** \n",
    "\n",
    "$$\\text{a) } \\mathbf{u} = (4,-2)^T; \\qquad \\text{b) } \\mathbf{v} = (1,2,3)^T.$$"
   ]
  },
  {
   "cell_type": "code",
   "execution_count": null,
   "metadata": {},
   "outputs": [],
   "source": []
  },
  {
   "cell_type": "markdown",
   "metadata": {},
   "source": [
    "---\n",
    "\n",
    "**1. Výrazy s vektormi zjednodušte a následne presne určte, čomu sú rovné ak $\\mathbf{a}=(1,0,1,1)^T$, $\\mathbf{b}=(1,1,1,1)^T$, $\\mathbf{c}=(-2,1,0,-1)^T$:** \n",
    "\n",
    "$$\\clubsuit\\, \\text{a) }\\,2(\\mathbf{a}-3\\mathbf{b})+3(2\\mathbf{b}+\\mathbf{a}); \\qquad \\qquad \\text{b) }\\,-3(\\mathbf{a}-\\mathbf{c})+2(\\mathbf{a}+2\\mathbf{b})+3(\\mathbf{c}-\\mathbf{b}).$$ \n",
    "\n",
    "**Vypočítajte aj veľkosti výsledných vektorov. Riešenia overte v Sage.**\n"
   ]
  },
  {
   "cell_type": "code",
   "execution_count": null,
   "metadata": {},
   "outputs": [],
   "source": []
  },
  {
   "cell_type": "markdown",
   "metadata": {},
   "source": [
    "--- \n",
    "\n",
    "**2. Pre vektory $\\mathbf{a}$, $\\mathbf{b}$ platí: $\\lVert\\mathbf{a}\\rVert=3$, $\\lVert\\mathbf{b}\\rVert=4$, pričom ich odchýlka je $\\dfrac{2}{3}\\pi$. Vypočítajte:** \n",
    "\n",
    "$$\\text{a) }\\mathbf{a}^T\\cdot\\mathbf{b}; \\quad \\clubsuit\\,\\text{b) } \\mathbf{a}^2,\\mathbf{b}^2,\\quad \\text{c) } (\\mathbf{a}-\\mathbf{b})^2; \\quad \\clubsuit\\,\\text{d) }(3\\mathbf{a}+2\\mathbf{b})^2$$ "
   ]
  },
  {
   "cell_type": "code",
   "execution_count": null,
   "metadata": {},
   "outputs": [],
   "source": []
  },
  {
   "cell_type": "markdown",
   "metadata": {},
   "source": [
    "--- \n",
    "\n",
    "**3. Vypočítajte skalárny súčin, veľkosti a odchýlku vektorov $\\mathbf{a}$, $\\mathbf{b}$, ak viete, že:** \n",
    "\n",
    "$$\\clubsuit\\,\\text{a) } \\mathbf{a}=(8,4,1)^T, \\mathbf{b}=(2,-2,1)^T; \\quad \\text{b) } \\mathbf{a}=(2,5,1)^T, \\mathbf{b}=(3,-2,4)^T.$$ \n",
    "\n",
    "**Riešenia overte v Sage.** "
   ]
  },
  {
   "cell_type": "code",
   "execution_count": null,
   "metadata": {},
   "outputs": [],
   "source": []
  },
  {
   "cell_type": "markdown",
   "metadata": {},
   "source": [
    "--- \n",
    "\n",
    "**4. Určte, pre akú hodnotu parametra $p$ sú vektory $\\mathbf{a}+p\\mathbf{b}$, $\\mathbf{a}-p\\mathbf{b}$ ortogonálne, ak $\\lVert\\mathbf{a}\\rVert=3$, $\\lVert\\mathbf{b}\\rVert=5$.** "
   ]
  },
  {
   "cell_type": "code",
   "execution_count": null,
   "metadata": {},
   "outputs": [],
   "source": []
  },
  {
   "cell_type": "markdown",
   "metadata": {},
   "source": [
    "---\n",
    "\n",
    "**5. Vypočítajte veľkosti vnútorných uhlov a dĺžky strán v trojuholníku $ABC$, ak** \n",
    "\n",
    "**a) $A=[1,-2],\\,B=[4,6],\\,C=[1,3]$;**\n",
    "\n",
    "**b) $A=[-1,-1,-2],\\,B=[0,-2,4],\\,C=[1,-4,0]$;** \n",
    "\n",
    "**$\\clubsuit$ c) $A=[6,-4,6],\\,B=[-1,-4,5],\\,C=[2,-4,9]$.** "
   ]
  },
  {
   "cell_type": "code",
   "execution_count": null,
   "metadata": {},
   "outputs": [],
   "source": []
  },
  {
   "cell_type": "markdown",
   "metadata": {},
   "source": [
    "--- \n",
    "\n",
    "**6. Zistite, či štvoruholník s vrcholmi $K=[5,2,6],\\,L=[6,4,4],\\,M=[4,3,2],\\,N=[3,1,4]$ je štvorec.**"
   ]
  },
  {
   "cell_type": "code",
   "execution_count": null,
   "metadata": {},
   "outputs": [],
   "source": []
  },
  {
   "cell_type": "markdown",
   "metadata": {},
   "source": [
    "--- \n",
    "\n",
    "**7. Vektor $\\mathbf{x}$ je kolmý na vektory $\\mathbf{a}=(3,2,2)^T$, $\\mathbf{b}=(18,-22,-5)^T$ a s osou $\\mathbf{o}_y$ zviera tupý uhol. Vypočítajte súradnice vektora $\\mathbf{x}$, ak $\\lVert\\mathbf{x}\\rVert=14$.** "
   ]
  },
  {
   "cell_type": "code",
   "execution_count": null,
   "metadata": {},
   "outputs": [],
   "source": []
  },
  {
   "cell_type": "markdown",
   "metadata": {},
   "source": [
    "--- \n",
    "\n",
    "**8. Dané sú vektory $\\mathbf{a}=(3,-2,1)^T$, $\\mathbf{b}=(2,4,-2)^T$. Určte:** \n",
    "\n",
    "**a) Jednotkový vektor $\\mathbf{c}$ kolmý na vektory $\\mathbf{a}$, $\\mathbf{b}$.**\n",
    "\n",
    "**b) Sínus veľkosti uhla vektorov $\\mathbf{a}$, $\\mathbf{b}$.**"
   ]
  },
  {
   "cell_type": "code",
   "execution_count": null,
   "metadata": {},
   "outputs": [],
   "source": []
  },
  {
   "cell_type": "markdown",
   "metadata": {},
   "source": [
    "--- \n",
    "\n",
    "**9. Dokážte, že ak pre vektory $\\mathbf{a}$, $\\mathbf{b}$, $\\mathbf{c}$ platí $\\mathbf{a}+\\mathbf{b}+\\mathbf{c}=\\mathbf{0}$, tak $\\mathbf{a}\\times\\mathbf{b}=\\mathbf{b}\\times\\mathbf{c}=\\mathbf{c}\\times\\mathbf{a}$.** "
   ]
  },
  {
   "cell_type": "code",
   "execution_count": null,
   "metadata": {},
   "outputs": [],
   "source": []
  },
  {
   "cell_type": "markdown",
   "metadata": {},
   "source": [
    "---\n",
    "\n",
    "**$\\clubsuit$ 10. Rozhodnite (overte), či sú zadané vektory lineárne závislé alebo lineárne nezávislé:** \n",
    "\n",
    "$$\\text{a) }\\, \\mathbf{a}=(1,-1,4)^T,\\,\\mathbf{b}=(2,2,6)^T\\,\\mathbf{c}=(-1,-3,2)^T; \\qquad\\qquad \\text{b) }\\, \\mathbf{u}=(3,0,3)^T,\\,\\mathbf{v}=(-4,1,3)^T\\,\\mathbf{w}=(7,-1,0)^T.$$"
   ]
  },
  {
   "cell_type": "code",
   "execution_count": null,
   "metadata": {},
   "outputs": [],
   "source": []
  },
  {
   "cell_type": "markdown",
   "metadata": {},
   "source": [
    "---\n",
    "\n",
    "**11. Nájdite obsah trojuholníka $ABC$ s vrcholmi $A=[1,1,3]$, $B=[4,-1,1]$, $C=[0,1,8]$.** "
   ]
  },
  {
   "cell_type": "code",
   "execution_count": null,
   "metadata": {},
   "outputs": [],
   "source": []
  },
  {
   "cell_type": "markdown",
   "metadata": {},
   "source": [
    "---\n",
    "\n",
    "**$\\clubsuit$ 12. Vypočítajte uhol medzi uhlopriečkami na dvoch susedných stenách kocky.** "
   ]
  },
  {
   "cell_type": "code",
   "execution_count": null,
   "metadata": {},
   "outputs": [],
   "source": []
  },
  {
   "cell_type": "markdown",
   "metadata": {},
   "source": [
    "--- \n",
    "\n",
    "**13. Overte, že $\\lVert\\mathbf{v}-3\\mathbf{w}\\rVert=1$, ak $\\lVert\\mathbf{v}\\rVert=2$, $\\lVert\\mathbf{w}\\rVert=1$, $\\mathbf{v}^T\\cdot\\mathbf{w}=2$.** "
   ]
  },
  {
   "cell_type": "code",
   "execution_count": null,
   "metadata": {},
   "outputs": [],
   "source": []
  },
  {
   "cell_type": "markdown",
   "metadata": {},
   "source": [
    "--- \n",
    "\n",
    "**14. Dokážte (zdôvodnite) platnosť tvrdenia alebo nájdite (kontra)príklad, ktorý bude ilustrovať, že dané tvrdenie neplatí:** \n",
    "\n",
    "**a) Nulový vektor $\\mathbf{0}$ je jediný vektor veľkosti 0;** \n",
    "\n",
    "**b) Ak $\\lVert\\mathbf{v}-\\mathbf{w}\\rVert=0$, potom $\\mathbf{v}=\\mathbf{w}$;** \n",
    "\n",
    "**c) Ak $\\mathbf{v}=-\\mathbf{v}$, potom $\\mathbf{v}=\\mathbf{0}$;** \n",
    "\n",
    "**d) Ak $\\lVert \\mathbf{v} \\rVert=\\lVert \\mathbf{w} \\rVert$, potom $\\mathbf{v}=\\mathbf{w}$;** \n",
    "\n",
    "**e) Ak $\\lVert \\mathbf{v} \\rVert=\\lVert \\mathbf{w} \\rVert$, potom $\\mathbf{v}=\\pm\\mathbf{w}$;** \n",
    "\n",
    "**f) Ak $\\mathbf{v}=t\\mathbf{w}$ pre nejaké $t\\in\\mathbf{R}$, potom $\\mathbf{v}$ a $\\mathbf{w}$ majú rovnaký smer;** \n",
    "\n",
    "**g) Ak $\\mathbf{v}$, $\\mathbf{w}$, $\\mathbf{v}+\\mathbf{w}$ sú nenulové a $\\mathbf{v}$, $\\mathbf{v}+\\mathbf{w}$ sú rovnobežné, potom $\\mathbf{v}$, $\\mathbf{w}$ sú tiež rovnobežné;** \n",
    "\n",
    "**h) $\\lVert-5\\mathbf{v}\\rVert=-5\\lVert\\mathbf{v}\\rVert$, $\\forall\\mathbf{v}\\in\\mathbb{R}^n$, kde $n\\in\\mathbb{N}$;**\n",
    "\n",
    "**i) Ak $\\lVert\\mathbf{v}\\rVert=\\lVert2\\mathbf{v}\\rVert$, potom $\\mathbf{v}=\\mathbf{0}$;** \n",
    "\n",
    "**j) $\\lVert\\mathbf{v}+\\mathbf{w}\\rVert=\\lVert\\mathbf{v}\\rVert+\\lVert\\mathbf{w}\\rVert$, $\\forall\\mathbf{v},\\mathbf{w}\\in\\mathbb{R}^n$.**"
   ]
  },
  {
   "cell_type": "code",
   "execution_count": null,
   "metadata": {},
   "outputs": [],
   "source": []
  },
  {
   "cell_type": "markdown",
   "metadata": {},
   "source": [
    "--- \n",
    "\n",
    "**15. Uvažujte štvorec $S$ s vrcholmi $A=[0,0],B=[1,0],C=[1,1],D=[0,1]$. Aký je obraz štvorca $S$ po násobení príslušnou maticou? Ak je to možné, využite interaktívny kód z učebného textu ako pomôcku. Zobrazenia štvorca pomocou jednotlivých matíc znázornite.** \n",
    "\n",
    "$$\\text{a) } \\begin{pmatrix}-2&0\\\\0&-3\\end{pmatrix}; \\quad \\text{b) } \\begin{pmatrix}1&3\\\\0&1\\end{pmatrix}; \\quad \\text{c) } \\begin{pmatrix}1&0\\\\0&0\\end{pmatrix}; \\quad \\text{d) } \\begin{pmatrix}1&0\\\\1&0\\end{pmatrix}; \\quad \\clubsuit\\, \\text{e) } \\begin{pmatrix}1&0\\\\1&1\\end{pmatrix}.$$"
   ]
  },
  {
   "cell_type": "code",
   "execution_count": null,
   "metadata": {},
   "outputs": [],
   "source": []
  }
 ],
 "metadata": {
  "kernelspec": {
   "display_name": "SageMath 9.0",
   "language": "sage",
   "name": "sagemath"
  },
  "language_info": {
   "codemirror_mode": {
    "name": "ipython",
    "version": 3
   },
   "file_extension": ".py",
   "mimetype": "text/x-python",
   "name": "python",
   "nbconvert_exporter": "python",
   "pygments_lexer": "ipython3",
   "version": "3.7.3"
  }
 },
 "nbformat": 4,
 "nbformat_minor": 2
}
