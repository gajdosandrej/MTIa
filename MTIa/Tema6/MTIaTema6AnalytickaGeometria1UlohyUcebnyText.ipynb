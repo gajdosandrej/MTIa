{
 "cells": [
  {
   "cell_type": "markdown",
   "metadata": {},
   "source": [
    "**Autor:** Andrej Gajdoš  <br> \n",
    "*[Ústav matematických vied](https://www.upjs.sk/prirodovedecka-fakulta/ustav/umv/), [Prírodovedecká fakulta](https://www.upjs.sk/prirodovedecka-fakulta/), Univerzita Pavla Jozefa Šafárika v Košiciach,* <br> \n",
    "email: [andrej.gajdos@upjs.sk](mailto:andrej.gajdos@upjs.sk)\n",
    "*** \n",
    "**_Tento materiál vznikol za podpory grantu VVGS-2021-1758._** \n",
    "*** \n",
    "\n",
    "**<font size=6 color=gold> MTIa: Téma 6 - Základy analytickej geometrie 1: úlohy k učebnému textu </font>**"
   ]
  },
  {
   "cell_type": "markdown",
   "metadata": {},
   "source": [
    "---\n",
    "\n",
    "**1. Zvoľte si ľubovoľný vektor v 2D aj v 3D. Vyjadrite každý z nich ako rozdiel dvoch bodov (pre každý z vektorov nájdite dve rôzne vyjadrenia - t.j. napíšte rozdiely dvoch rôznych dvojíc bodov pre každý vektor). Všetko znázornite pomocou Sage.**"
   ]
  },
  {
   "cell_type": "code",
   "execution_count": null,
   "metadata": {},
   "outputs": [],
   "source": []
  },
  {
   "cell_type": "markdown",
   "metadata": {},
   "source": [
    "---\n",
    "\n",
    "**2. Na konkrétnych príkladoch ilustrujte platnosť vzťahov uvedených v Tvrdení 1 (tzn. zvoľte si ľubovoľné tri vektory $\\boldsymbol{u}$, $\\boldsymbol{v}$, $\\boldsymbol{w}$, konštantu $c$ a rozpíšte pravú i ľavú stranu vo vzťahoch (i)-(iv)).**"
   ]
  },
  {
   "cell_type": "code",
   "execution_count": null,
   "metadata": {},
   "outputs": [],
   "source": []
  },
  {
   "cell_type": "markdown",
   "metadata": {},
   "source": [
    "--- \n",
    "\n",
    "**3. Na konkrétnom príklade dvoch vektorov ilustrujte nerovnosť z Vety 1.**"
   ]
  },
  {
   "cell_type": "code",
   "execution_count": null,
   "metadata": {},
   "outputs": [],
   "source": []
  },
  {
   "cell_type": "markdown",
   "metadata": {},
   "source": [
    "---\n",
    "\n",
    "**4. Pomocou Sage znázornite vektory $\\boldsymbol{u}=(\\sqrt{2},1,-1)^T$, $\\boldsymbol{v}=(0,2,-2)^T$ a tiež vektor $\\boldsymbol{u}-\\boldsymbol{v}$, ktorého dĺžka vyjadruje vzdialenosť medzi vektormi $\\boldsymbol{u}$, $\\boldsymbol{v}$. Vypočítajte vzdialenosť daných vektorov $\\boldsymbol{u},\\boldsymbol{v}$.**  \n"
   ]
  },
  {
   "cell_type": "code",
   "execution_count": null,
   "metadata": {},
   "outputs": [],
   "source": []
  },
  {
   "cell_type": "markdown",
   "metadata": {},
   "source": [
    "---\n",
    "\n",
    "**5. Určte odchýlku (nie kosínus odchýlky) vektorov $\\boldsymbol{u}=(2,1,-2)^T$, $\\boldsymbol{v}=(1,1,1)$.**  \n"
   ]
  },
  {
   "cell_type": "code",
   "execution_count": null,
   "metadata": {},
   "outputs": [],
   "source": []
  },
  {
   "cell_type": "markdown",
   "metadata": {},
   "source": [
    "--- \n",
    "\n",
    "**6. Vymyslite tri trojrozmerné vektory, ktoré budú lineárne závislé. Ich lineárnu závislosť zdôvodnite (pomôžte si odstavcom medzi Poznámkou 7 a Definíciou 4 alebo priamo Definíciou 4 a Poznámkou 8, prípadne Príkladom 3).**"
   ]
  },
  {
   "cell_type": "code",
   "execution_count": null,
   "metadata": {},
   "outputs": [],
   "source": []
  },
  {
   "cell_type": "markdown",
   "metadata": {},
   "source": [
    "---\n",
    "\n",
    "**7. Vypočítajte vektorový súčin vektorov $\\boldsymbol{a}=(0,1,1)^T$, $\\boldsymbol{b}=(3,-1,2)^T$. Označme $\\boldsymbol{c}=\\boldsymbol{a}\\times\\boldsymbol{b}$. Overte, že vektor $\\boldsymbol{c}$ je kolmý na $\\boldsymbol{a}$ aj $\\boldsymbol{b}$.**"
   ]
  },
  {
   "cell_type": "code",
   "execution_count": null,
   "metadata": {},
   "outputs": [],
   "source": []
  },
  {
   "cell_type": "markdown",
   "metadata": {},
   "source": [
    "--- \n",
    "\n",
    "**8. Zvoľte si tri ľubovoľné konkrétne vektory $\\boldsymbol{a},\\boldsymbol{b},\\boldsymbol{c}$ v 3D, jednu reálnu konštantu $p$ a ilustrujte platnosť vlastností v Tvrdení 4.**"
   ]
  },
  {
   "cell_type": "code",
   "execution_count": null,
   "metadata": {},
   "outputs": [],
   "source": []
  },
  {
   "cell_type": "markdown",
   "metadata": {},
   "source": [
    "---\n",
    "\n",
    "**9. Aké <font color=red> konkrétne </font> otázky máte k náplni študijných materiálov, ktoré by ste chceli na hodine prediskutovať?**"
   ]
  },
  {
   "cell_type": "code",
   "execution_count": null,
   "metadata": {},
   "outputs": [],
   "source": []
  }
 ],
 "metadata": {
  "kernelspec": {
   "display_name": "SageMath 9.2",
   "language": "sage",
   "name": "sagemath"
  },
  "language_info": {
   "codemirror_mode": {
    "name": "ipython",
    "version": 3
   },
   "file_extension": ".py",
   "mimetype": "text/x-python",
   "name": "python",
   "nbconvert_exporter": "python",
   "pygments_lexer": "ipython3",
   "version": "3.7.7"
  }
 },
 "nbformat": 4,
 "nbformat_minor": 2
}
