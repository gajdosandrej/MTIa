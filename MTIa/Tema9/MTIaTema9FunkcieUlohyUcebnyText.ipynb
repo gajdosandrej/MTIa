{
 "cells": [
  {
   "cell_type": "markdown",
   "metadata": {},
   "source": [
    "**Autor:** Andrej Gajdoš  <br> \n",
    "*[Ústav matematických vied](https://www.upjs.sk/prirodovedecka-fakulta/ustav/umv/), [Prírodovedecká fakulta](https://www.upjs.sk/prirodovedecka-fakulta/), Univerzita Pavla Jozefa Šafárika v Košiciach,* <br> \n",
    "email: [andrej.gajdos@upjs.sk](mailto:andrej.gajdos@upjs.sk)\n",
    "***\n",
    "**_Tento materiál vznikol za podpory grantu VVGS-2021-1758._** \n",
    "*** \n",
    "\n",
    "**<font size=6 color=gold> MTIa: Téma 9 - Funkcie: úlohy k učebnému textu </font>**"
   ]
  },
  {
   "cell_type": "markdown",
   "metadata": {},
   "source": [
    "---\n",
    "\n",
    "**1.  Uveďte po tri príklady na diskrétne a spojité veličiny (premenné). Vymyslite alebo nájdite tri príklady funkčných závislostí medzi nejakými dvoma veličinami. Obe úlohy skúste (nie nutne) vyriešiť v informatickom kontexte.**"
   ]
  },
  {
   "cell_type": "code",
   "execution_count": null,
   "metadata": {},
   "outputs": [],
   "source": []
  },
  {
   "cell_type": "markdown",
   "metadata": {},
   "source": [
    "---\n",
    "\n",
    "**2. Vysvetlite, prečo na obrázku (pod Poznámkou 2) vľavo je graf funkcie a na obrázku vpravo nie je graf funkcie. Teda vysvetlite druhý bod v Poznámke 2 (pomôžte si definíciou funkcie).**"
   ]
  },
  {
   "cell_type": "code",
   "execution_count": null,
   "metadata": {},
   "outputs": [],
   "source": []
  },
  {
   "cell_type": "markdown",
   "metadata": {},
   "source": [
    "--- \n",
    "\n",
    "**3. Definujte si dve ľubovoľné funkcie $f,g$ a k tomu jednu konštantnú funkciu $c$. Následne definujte nové funkcie podľa Definície 3, t.j. vytvorte funkcie $f+g$, $g+f$, $f-g$, $g-f$, $f\\cdot g$, $g\\cdot f$, $\\dfrac{f}{g}$, $\\dfrac{g}{f}$, $f+c$, $c+f$, $f-c$, $c-f$, $f\\cdot c$, $c\\cdot f$, $\\dfrac{f}{c}$, $\\dfrac{c}{f}$. Vykreslite (pomocou Sage) grafy týchto nových funkcií a všimnnite si čo najviac zaujímavých javov. Viete niektoré z nich pomenovať / opísať? Pomôžte si interaktívnym kódom v závere učebného textu.**"
   ]
  },
  {
   "cell_type": "code",
   "execution_count": null,
   "metadata": {},
   "outputs": [],
   "source": []
  },
  {
   "cell_type": "markdown",
   "metadata": {},
   "source": [
    "---\n",
    "\n",
    "**4. Uvažujte funkciu $f(x)=\\dfrac{(x-1)(x-2)}{x-2}$ a $g(x)=x-1$. Na akej množine (pre aké $x$) sa tieto funkcie rovnajú?**  \n"
   ]
  },
  {
   "cell_type": "code",
   "execution_count": null,
   "metadata": {},
   "outputs": [],
   "source": []
  },
  {
   "cell_type": "markdown",
   "metadata": {},
   "source": [
    "--- \n",
    "\n",
    "**5. Na konci učebného textu je interaktívny kód, ktorý slúži na vizualizáciu operácií s funkciami. Okrem iného umožňuje i skladanie dvoch funkcií. Uvažujte napr. funkcie $f(x)=2x+1$, $g(x)=x^2-4$ a skúste si pomocou interaktívneho kódu základné operácie s funkciami a taktiež skladanie týchto dvoch funkcií.**"
   ]
  },
  {
   "cell_type": "code",
   "execution_count": null,
   "metadata": {},
   "outputs": [],
   "source": []
  },
  {
   "cell_type": "markdown",
   "metadata": {},
   "source": [
    "---\n",
    "\n",
    "**6. Ilustrujte Poznámku 6 na konkrétnom príklade (môžete využiť Sage).**  \n"
   ]
  },
  {
   "cell_type": "code",
   "execution_count": null,
   "metadata": {},
   "outputs": [],
   "source": []
  },
  {
   "cell_type": "markdown",
   "metadata": {},
   "source": [
    "---\n",
    "\n",
    "**7. Nájdite a (napr. pomocou Sage) vykreslite dve funkcie, pričom obe budú ani párne ani nepárne. Naviac nech jedna z funkcií nemá symetrický graf a druhá z nich nech má graf symetrický ale nie podľa osi $y$ ani podľa bodu $[0,0]$.**"
   ]
  },
  {
   "cell_type": "code",
   "execution_count": null,
   "metadata": {},
   "outputs": [],
   "source": []
  },
  {
   "cell_type": "markdown",
   "metadata": {},
   "source": [
    "--- \n",
    "\n",
    "**8. Pomôžte si Definíciou 8 i grafom funkcie $y=\\dfrac{1}{x}$ a zdôvodnite, prečo táto funkcia nie je monotónna na množine $(-\\infty,0) \\cup (0,\\infty)$ (nájdite dve dvojice rôznych bodov a ukážte, že Definícia 8 nie je splnená).**"
   ]
  },
  {
   "cell_type": "code",
   "execution_count": null,
   "metadata": {},
   "outputs": [],
   "source": []
  },
  {
   "cell_type": "markdown",
   "metadata": {},
   "source": [
    "---\n",
    "\n",
    "**9. Aké <font color=red> konkrétne </font> otázky máte k náplni študijných materiálov, ktoré by ste chceli na hodine prediskutovať?**"
   ]
  },
  {
   "cell_type": "code",
   "execution_count": null,
   "metadata": {},
   "outputs": [],
   "source": []
  }
 ],
 "metadata": {
  "kernelspec": {
   "display_name": "SageMath 9.2",
   "language": "sage",
   "name": "sagemath"
  },
  "language_info": {
   "codemirror_mode": {
    "name": "ipython",
    "version": 3
   },
   "file_extension": ".py",
   "mimetype": "text/x-python",
   "name": "python",
   "nbconvert_exporter": "python",
   "pygments_lexer": "ipython3",
   "version": "3.7.7"
  }
 },
 "nbformat": 4,
 "nbformat_minor": 2
}
