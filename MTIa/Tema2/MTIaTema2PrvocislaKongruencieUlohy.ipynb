{
 "cells": [
  {
   "cell_type": "markdown",
   "metadata": {},
   "source": [
    "**Autor:** Andrej Gajdoš  <br> \n",
    "*[Ústav matematických vied](https://www.upjs.sk/prirodovedecka-fakulta/ustav/umv/), [Prírodovedecká fakulta](https://www.upjs.sk/prirodovedecka-fakulta/), Univerzita Pavla Jozefa Šafárika v Košiciach,* <br> \n",
    "email: [andrej.gajdos@upjs.sk](mailto:andrej.gajdos@upjs.sk)\n",
    "***\n",
    "**_Tento materiál vznikol za podpory grantu VVGS-2021-1758._** \n",
    "*** \n",
    "\n",
    "**<font size=6 color=gold> MTIa: Téma 2 - Prvočísla a kongruencie: úlohy </font>**"
   ]
  },
  {
   "cell_type": "markdown",
   "metadata": {},
   "source": [
    "---\n",
    "\n",
    "**$\\clubsuit$ 1. Pomocou kanonického rozkladu čísel $318$ a $672$ určte $(318, 672)$ a $[318, 672]$.**"
   ]
  },
  {
   "cell_type": "code",
   "execution_count": null,
   "metadata": {},
   "outputs": [],
   "source": []
  },
  {
   "cell_type": "markdown",
   "metadata": {},
   "source": [
    "---\n",
    "\n",
    "**2. Určte počet kladných celočíselných deliteľov čísla $720$. Úlohu vyriešte bez funkcie `divisors` a svoje riešenie pomocou nej iba overte.**"
   ]
  },
  {
   "cell_type": "code",
   "execution_count": null,
   "metadata": {},
   "outputs": [],
   "source": []
  },
  {
   "cell_type": "markdown",
   "metadata": {},
   "source": [
    "--- \n",
    "\n",
    "**$\\clubsuit$ 3. Rozhodnite o deliteľnosti čísla $22476$ číslami $2, 3, 4, 5, 6, 8, 9, 10, 11$. Aplikujte pravidlá pre deliteľnosť jednotlivými číslami a odpovede overte v Sage.**"
   ]
  },
  {
   "cell_type": "code",
   "execution_count": null,
   "metadata": {},
   "outputs": [],
   "source": []
  },
  {
   "cell_type": "markdown",
   "metadata": {},
   "source": [
    "---\n",
    "\n",
    "**$\\clubsuit$ 4. Dokážte, že $4 \\mid (n^2 − 9)\\cdot(n^2+4), \\forall n \\in \\mathbb{Z}^{+}$.**\n"
   ]
  },
  {
   "cell_type": "code",
   "execution_count": null,
   "metadata": {},
   "outputs": [],
   "source": []
  },
  {
   "cell_type": "markdown",
   "metadata": {},
   "source": [
    "---\n",
    "\n",
    "**5. Vyriešte kongruencie:** \n",
    "\n",
    "$\\clubsuit$ a) $3x\\equiv 2\\,\\,(\\mathrm{mod}\\,\\,5)$; \n",
    "\n",
    "$\\clubsuit$ b) $4x+3\\equiv 4\\,\\,(\\mathrm{mod}\\,\\,5)$;\n",
    "\n",
    "c) $7x\\equiv 4\\,\\,(\\mathrm{mod}\\,\\,10)$. "
   ]
  },
  {
   "cell_type": "code",
   "execution_count": null,
   "metadata": {},
   "outputs": [],
   "source": []
  },
  {
   "cell_type": "markdown",
   "metadata": {},
   "source": [
    "---\n",
    "\n",
    "**$\\clubsuit$ 6. Vyriešte kongruenciu** \n",
    "\n",
    "$$11x\\equiv 17\\,\\,(\\mathrm{mod}\\,\\,20).$$\n",
    "\n",
    "Pre aké $a,b,m\\in\\mathbb{Z}$ má kongruencia $ax\\equiv b\\,\\,(\\mathrm{mod}\\,\\,m)$ (jediné) riešenie?"
   ]
  },
  {
   "cell_type": "code",
   "execution_count": null,
   "metadata": {},
   "outputs": [],
   "source": []
  },
  {
   "cell_type": "markdown",
   "metadata": {},
   "source": [
    "---\n",
    "\n",
    "**7. Zistite, či $57$ je prvočíslo. Viete to urobiť bez použitia funkcie** `is_prime` **?**"
   ]
  },
  {
   "cell_type": "code",
   "execution_count": null,
   "metadata": {},
   "outputs": [],
   "source": []
  },
  {
   "cell_type": "markdown",
   "metadata": {},
   "source": [
    "---\n",
    "\n",
    "**$\\clubsuit$ 8. Určte všetky celé čísla $x$, pre ktoré sa hodnota trojčlenu $2x^2−x−36$ rovná druhej mocnine prvočísla.** \n",
    "Využite Sage na experimentovanie, prípadne na vhodný rozklad polynómu (trojčlena). "
   ]
  },
  {
   "cell_type": "code",
   "execution_count": null,
   "metadata": {},
   "outputs": [],
   "source": []
  },
  {
   "cell_type": "markdown",
   "metadata": {},
   "source": [
    "--- \n",
    "\n",
    "**$\\clubsuit$ 9. Dokážte (sporom), že $\\sqrt{2}$ nie je racionálne číslo.**"
   ]
  },
  {
   "cell_type": "code",
   "execution_count": null,
   "metadata": {},
   "outputs": [],
   "source": []
  }
 ],
 "metadata": {
  "kernelspec": {
   "display_name": "SageMath 9.1",
   "language": "sage",
   "name": "sagemath"
  },
  "language_info": {
   "codemirror_mode": {
    "name": "ipython",
    "version": 3
   },
   "file_extension": ".py",
   "mimetype": "text/x-python",
   "name": "python",
   "nbconvert_exporter": "python",
   "pygments_lexer": "ipython3",
   "version": "3.7.3"
  }
 },
 "nbformat": 4,
 "nbformat_minor": 2
}
