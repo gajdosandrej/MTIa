{
 "cells": [
  {
   "cell_type": "markdown",
   "metadata": {},
   "source": [
    "**Autor:** Andrej Gajdoš  <br> \n",
    "*[Ústav matematických vied](https://www.upjs.sk/prirodovedecka-fakulta/ustav/umv/), [Prírodovedecká fakulta](https://www.upjs.sk/prirodovedecka-fakulta/), Univerzita Pavla Jozefa Šafárika v Košiciach,* <br> \n",
    "email: [andrej.gajdos@upjs.sk](mailto:andrej.gajdos@upjs.sk)\n",
    "***\n",
    "**_Tento materiál vznikol za podpory grantu VVGS-2021-1758._** \n",
    "*** \n",
    "\n",
    "**<font size=6 color=gold> MTIa: Téma 2 - Prvočísla a kongruencie </font>** "
   ]
  },
  {
   "cell_type": "markdown",
   "metadata": {},
   "source": [
    "--- \n",
    "\n",
    "<a id=obsah></a>\n",
    "##  Obsah \n",
    "\n",
    "\n",
    "* [Prvočísla](#prvocisla) \n",
    "\n",
    "\n",
    "* [Kongruencie a modulárna aritmetika](#kongruencie) \n",
    "\n",
    "\n",
    "* [Použité zdroje](#zdroje) \n",
    "\n",
    "\n",
    "**Pre návrat na obsah stlačte klávesu <font color=brown>Home</font>.** \n",
    "\n",
    "--- "
   ]
  },
  {
   "cell_type": "markdown",
   "metadata": {},
   "source": [
    "***\n",
    "<a id=prvocisla></a>\n",
    "# <font color=brown> Prvočísla</font>"
   ]
  },
  {
   "cell_type": "markdown",
   "metadata": {},
   "source": [
    "Pozrime sa na deliteľov dvoch skupín celých čísel: \n",
    "\n",
    "$2,3,5,7,11,13,17,19,23,29,31,\\ldots$ \n",
    "\n",
    "a \n",
    "\n",
    "$4,6,8,9,10,12,14,15,16,18,20,\\ldots$. \n",
    "\n",
    "Pomôžeme si v Sage funkciou `divisors`."
   ]
  },
  {
   "cell_type": "code",
   "execution_count": 1,
   "metadata": {},
   "outputs": [
    {
     "data": {
      "text/plain": [
       "[[1, 2],\n",
       " [1, 3],\n",
       " [1, 5],\n",
       " [1, 7],\n",
       " [1, 11],\n",
       " [1, 13],\n",
       " [1, 17],\n",
       " [1, 19],\n",
       " [1, 23],\n",
       " [1, 29],\n",
       " [1, 31]]"
      ]
     },
     "execution_count": 1,
     "metadata": {},
     "output_type": "execute_result"
    }
   ],
   "source": [
    "z1 = [2,3,5,7,11,13,17,19,23,29,31]\n",
    "[divisors(i) for i in z1]"
   ]
  },
  {
   "cell_type": "code",
   "execution_count": 2,
   "metadata": {},
   "outputs": [
    {
     "data": {
      "text/plain": [
       "[[1, 2, 4],\n",
       " [1, 2, 3, 6],\n",
       " [1, 2, 4, 8],\n",
       " [1, 3, 9],\n",
       " [1, 2, 5, 10],\n",
       " [1, 2, 3, 4, 6, 12],\n",
       " [1, 2, 7, 14],\n",
       " [1, 3, 5, 15],\n",
       " [1, 2, 4, 8, 16],\n",
       " [1, 2, 3, 6, 9, 18],\n",
       " [1, 2, 4, 5, 10, 20]]"
      ]
     },
     "execution_count": 2,
     "metadata": {},
     "output_type": "execute_result"
    }
   ],
   "source": [
    "z2 = [4,6,8,9,10,12,14,15,16,18,20]\n",
    "[divisors(i) for i in z2]"
   ]
  },
  {
   "cell_type": "markdown",
   "metadata": {},
   "source": [
    "Všimnime si, že čísla v prvej skupine majú deliteľov iba $1$ a samé seba. V druhej skupine sú čísla, ktoré majú viac ako dvoch deliteľov. Tieto dve skupiny čísel majú dôležité postavenie v Teórii čísel, a preto si zaslúžia mená. "
   ]
  },
  {
   "cell_type": "markdown",
   "metadata": {},
   "source": [
    "---\n",
    "\n",
    "### <font color=red> Definícia 1 </font>\n",
    "\n",
    "Nech $a\\in\\mathbb{Z}$. Čísla $-1,1,-a,a$ sa nazývajú **_triviálne delitele_** čísla $a$. Celé číslo $a\\notin \\{-1,0,1\\}$ sa nazýva **_prvočíslo_** ak má iba triviálne delitele; ak má aj iné delitele tak sa nazýva **_zložené číslo_**. \n",
    "\n",
    "---"
   ]
  },
  {
   "cell_type": "markdown",
   "metadata": {},
   "source": [
    "Keď sa lepšie pozrieme na úvodný príklad, konkrétne na druhú množinu, teda na množinu zložených čísel, ľahko nahliadneme, že platí aj nasledujúce tvrdenie. "
   ]
  },
  {
   "cell_type": "markdown",
   "metadata": {},
   "source": [
    "---\n",
    "\n",
    "#### <font color=green> Tvrdenie 1 </font>\n",
    "\n",
    "Celé číslo $a\\notin\\{-1,0,1\\}$ je zložené čislo práve vtedy keď existujú $b,c\\in\\mathbb{Z}$ také, že $a=bc$ a $1<|b|,|c|<|a|$. \n",
    "\n",
    "---"
   ]
  },
  {
   "cell_type": "markdown",
   "metadata": {},
   "source": [
    "Tak napr. číslo $10$ môžeme zapísať ako $10=2\\cdot5$. "
   ]
  },
  {
   "cell_type": "markdown",
   "metadata": {},
   "source": [
    "---\n",
    "\n",
    "#### <font color=green> Lemma 1 </font> \n",
    "\n",
    "Nech $p$ je prvočíslo také, že $p\\mid ab$. Potom $p\\mid a$ alebo $p\\mid b$ ($p$ môže deliť $a$ aj $b$). "
   ]
  },
  {
   "cell_type": "markdown",
   "metadata": {},
   "source": [
    "Vezmime napr. prvočíslo $3$ a súčin čísel $5$ a $9$. Zrejme $3\\mid 45$ a tiež $3\\mid 9$. \n",
    "\n",
    "<font color=orange> Čo ak by v Lemme 1 $p$ nebolo prvočíslo? Bude tvrdenie platiť? Ak nie dokážete nájsť kontrapríklad? <font/>"
   ]
  },
  {
   "cell_type": "code",
   "execution_count": null,
   "metadata": {},
   "outputs": [],
   "source": []
  },
  {
   "cell_type": "markdown",
   "metadata": {},
   "source": [
    "Stačí vziať napr. číslo $6$ a súčin čísel $15$ a $14$. Evidentne $6\\mid15\\cdot14$ ale $6\\nmid15$, $6\\nmid14$."
   ]
  },
  {
   "cell_type": "code",
   "execution_count": 5,
   "metadata": {},
   "outputs": [
    {
     "data": {
      "text/plain": [
       "(35, 5/2, 7/3)"
      ]
     },
     "execution_count": 5,
     "metadata": {},
     "output_type": "execute_result"
    }
   ],
   "source": [
    "15*14/6, 15/6,14/6"
   ]
  },
  {
   "cell_type": "markdown",
   "metadata": {},
   "source": [
    "**Preto vlastnosť uvedená v Lemme 1 je špecifická len pre prvočísla a nie pre zložené čísla.** \n",
    "\n",
    "<font color=orange> Ako by sa zmenila situácia, keď by sme uvažovali súčin viac ako dvoch čisel? Viete to ilustrovať na konkrétnom príklade? <font/>"
   ]
  },
  {
   "cell_type": "code",
   "execution_count": null,
   "metadata": {},
   "outputs": [],
   "source": []
  },
  {
   "cell_type": "code",
   "execution_count": 6,
   "metadata": {},
   "outputs": [
    {
     "data": {
      "text/plain": [
       "(72, 2)"
      ]
     },
     "execution_count": 6,
     "metadata": {},
     "output_type": "execute_result"
    }
   ],
   "source": [
    "3*6*10*2/5,10/5"
   ]
  },
  {
   "cell_type": "markdown",
   "metadata": {},
   "source": [
    "Uvedenú vlasnosť prvočísel je možné prirodzene rozšísriť na ľubovoľný konečný počet vynásobených čísel, hovorí o tom nasledujúca Veta. "
   ]
  },
  {
   "cell_type": "markdown",
   "metadata": {},
   "source": [
    "---\n",
    "\n",
    "### <font color=green> Veta 1 </font> \n",
    "\n",
    "Nech $p$ je prvočíslo také, že $p$ delí súčin čísel $a_1,a_2,\\ldots,a_r$ t.j. $p\\mid a_1\\cdot a_2\\cdot \\ldots \\cdot a_r$. Potom $p$ delí aspoň jedno z čísel $a_1,a_2,\\ldots,a_r$. \n",
    "\n",
    "---"
   ]
  },
  {
   "cell_type": "markdown",
   "metadata": {},
   "source": [
    "---\n",
    "\n",
    "#### Poznámka 1\n",
    "\n",
    "Ak vezmeme do úvahy Vetu 1 a definíciu prvočísla, tak hneď dostávame jednoduchý dôsledok, ktorý hovorí, že ak $p,q_1,\\ldots,q_s$ sú prvočísla a $p\\mid q_1q_2\\ldots q_s$ tak $p$ musí byť rovné niektorému z prvočísel $q_1,\\ldots,q_s$. \n",
    "\n",
    "---"
   ]
  },
  {
   "cell_type": "markdown",
   "metadata": {},
   "source": [
    "Vráťme sa ešte raz k zoznamu prvočísel a zložených čísel z úvodu a pozrime sa, ako ich môžeme reprezentovať pomocou prvočísel. Pomôžeme si v Sage funkciou `factor`. "
   ]
  },
  {
   "cell_type": "code",
   "execution_count": 3,
   "metadata": {},
   "outputs": [
    {
     "data": {
      "text/html": [
       "<html><script type=\"math/tex; mode=display\">\\newcommand{\\Bold}[1]{\\mathbf{#1}}\\left[2, 3, 5, 7, 11, 13, 17, 19, 23, 29, 31\\right]</script></html>"
      ],
      "text/plain": [
       "[2, 3, 5, 7, 11, 13, 17, 19, 23, 29, 31]"
      ]
     },
     "metadata": {},
     "output_type": "display_data"
    }
   ],
   "source": [
    "z1 = [2,3,5,7,11,13,17,19,23,29,31]\n",
    "show([factor(i) for i in z1])"
   ]
  },
  {
   "cell_type": "code",
   "execution_count": 4,
   "metadata": {},
   "outputs": [
    {
     "data": {
      "text/html": [
       "<html><script type=\"math/tex; mode=display\">\\newcommand{\\Bold}[1]{\\mathbf{#1}}\\left[\\left[2^{2}\\right], \\left[2 \\cdot 3\\right], \\left[2^{3}\\right], \\left[3^{2}\\right], \\left[2 \\cdot 5\\right], \\left[2^{2} \\cdot 3\\right], \\left[2 \\cdot 7\\right], \\left[3 \\cdot 5\\right], \\left[2^{4}\\right], \\left[2 \\cdot 3^{2}\\right], \\left[2^{2} \\cdot 5\\right]\\right]</script></html>"
      ],
      "text/plain": [
       "[[2^2],\n",
       " [2 * 3],\n",
       " [2^3],\n",
       " [3^2],\n",
       " [2 * 5],\n",
       " [2^2 * 3],\n",
       " [2 * 7],\n",
       " [3 * 5],\n",
       " [2^4],\n",
       " [2 * 3^2],\n",
       " [2^2 * 5]]"
      ]
     },
     "metadata": {},
     "output_type": "display_data"
    }
   ],
   "source": [
    "z2 = [4,6,8,9,10,12,14,15,16,18,20]\n",
    "show([[factor(i)] for i in z2])"
   ]
  },
  {
   "cell_type": "markdown",
   "metadata": {},
   "source": [
    "Prirodzene vzniká otázka, **či každé celé číslo je možné takto vyjadriť a či je toto vyjadrenie jednoznačné?** **Odpoveď dáva nasledujúca dôležitá Veta a s ňou súvisiaca Definícia 2**. "
   ]
  },
  {
   "cell_type": "markdown",
   "metadata": {},
   "source": [
    "---\n",
    "\n",
    "### <font color=green> Veta 2 (Základná veta aritmetiky) </font> \n",
    "\n",
    "Každé celé číslo $a\\notin\\{-1,0,1\\}$ je buď prvočíslo alebo ho možno vyjadriť  v tvare \n",
    "\n",
    "$$a=\\pm p_1p_2\\ldots p_r$$ \n",
    "\n",
    "kde $r\\in\\{2,3,4\\ldots\\}$, $p_i$ pre $i\\in\\{1,\\ldots r\\}$ sú kladné prvočísla. Toto vyjadrenie  je jednoznačné v nasledujúcom zmysle: ak \n",
    "\n",
    "$$a=\\pm p_1p_2\\ldots p_r=\\pm q_1q_2\\ldots q_s$$\n",
    "\n",
    "sú dva rozklady čísla $a$ na súčin kladných prvočísel a $p_1\\le p_2\\le\\ldots\\le p_r$, $q_1\\le q_2\\le\\ldots\\le q_s$ tak znamienka pred súčinmi sú rovnaké, $r=s$ a platí $p_1=q_1,p_2=q_2,\\ldots,p_r=q_r$. \n",
    "\n",
    "---"
   ]
  },
  {
   "cell_type": "markdown",
   "metadata": {},
   "source": [
    "**Táto Veta nám dáva základ pre ďalšie užitočné veci ako je _kanonický rozklad_ celého čísla či hľadanie  NSD a NSN pomocou kanonického rozkladu.**"
   ]
  },
  {
   "cell_type": "markdown",
   "metadata": {},
   "source": [
    "---\n",
    "\n",
    "### <font color=red> Definícia 2 </font>\n",
    "\n",
    "**_Kanonickým rozkladom_** celého čísla $a\\notin\\{-1,0,1\\}$ nazývame jeho reprezentáciu v tvare \n",
    "\n",
    "$$a=\\pm p_1^{\\alpha_1}p_2^{\\alpha_2}\\ldots p_k^{\\alpha_k}$$\n",
    "\n",
    "kde $p_1,p_2,\\ldots p_k$ sú navzájom rôzne kladné prvočísla a $\\alpha_1,\\alpha_2,\\ldots,\\alpha_k\\in\\mathbb{Z}^{+}$.\n",
    "\n",
    "---"
   ]
  },
  {
   "cell_type": "markdown",
   "metadata": {},
   "source": [
    "Pozrime sa teraz na hľadanie NSN a NSD čísel $90$ a $168$ pomocou kanonického rozkladu."
   ]
  },
  {
   "cell_type": "code",
   "execution_count": 5,
   "metadata": {},
   "outputs": [
    {
     "data": {
      "text/html": [
       "<html><script type=\"math/tex; mode=display\">\\newcommand{\\Bold}[1]{\\mathbf{#1}}\\left[\\left[2 \\cdot 3^{2} \\cdot 5\\right], \\left[2^{3} \\cdot 3 \\cdot 7\\right]\\right]</script></html>"
      ],
      "text/plain": [
       "[[2 * 3^2 * 5], [2^3 * 3 * 7]]"
      ]
     },
     "metadata": {},
     "output_type": "display_data"
    }
   ],
   "source": [
    "show([[factor(90)],[factor(168)]])"
   ]
  },
  {
   "cell_type": "code",
   "execution_count": 6,
   "metadata": {},
   "outputs": [
    {
     "data": {
      "text/plain": [
       "(6, 2520)"
      ]
     },
     "execution_count": 6,
     "metadata": {},
     "output_type": "execute_result"
    }
   ],
   "source": [
    "gcd(90,168), lcm(90,168)"
   ]
  },
  {
   "cell_type": "code",
   "execution_count": 7,
   "metadata": {},
   "outputs": [
    {
     "data": {
      "text/plain": [
       "True"
      ]
     },
     "execution_count": 7,
     "metadata": {},
     "output_type": "execute_result"
    }
   ],
   "source": [
    "gcd(90,168) == 2*3"
   ]
  },
  {
   "cell_type": "code",
   "execution_count": 8,
   "metadata": {},
   "outputs": [
    {
     "data": {
      "text/plain": [
       "True"
      ]
     },
     "execution_count": 8,
     "metadata": {},
     "output_type": "execute_result"
    }
   ],
   "source": [
    "lcm(90,168) == 2^3*3^2*5*7"
   ]
  },
  {
   "cell_type": "markdown",
   "metadata": {},
   "source": [
    "$(a,b) = 2^{\\min\\{1,3\\}}\\cdot3^{\\min\\{2,1\\}}\\cdot5^{\\min\\{1,0\\}}\\cdot7^{\\{0,1\\}}=2\\cdot3=6$\n",
    "\n",
    "$[a,b] = 2^{\\max\\{1,3\\}}\\cdot3^{\\max\\{2,1\\}}\\cdot5^{\\max\\{1,0\\}}\\cdot7^{\\{0,1\\}}=2^3\\cdot3^2\\cdot5\\cdot7=2520$"
   ]
  },
  {
   "cell_type": "markdown",
   "metadata": {},
   "source": [
    "---\n",
    "\n",
    "#### <font color=green> Tvrdenie 2 </font>\n",
    "\n",
    "Nech $a,b\\in\\mathbb{Z}$ majú nasledovné kanonické rozklady \n",
    "\n",
    "$$a=\\pm p_1^{\\alpha_1}p_2^{\\alpha_2}\\ldots p_k^{\\alpha_k} \\qquad b=\\pm p_1^{\\beta_1}p_2^{\\beta_2}\\ldots p_k^{\\beta_k}$$ \n",
    "\n",
    "kde $\\alpha_i,\\beta_i\\in\\mathbb{Z}^{+}$ pre $i\\in\\{1,\\ldots,k\\}$. Potom NSD a NSN čísel $a,b$ nájdeme takto: \n",
    "\n",
    "$$(a,b)=p_1^{\\min\\{\\alpha_1,\\beta_1\\}}\\cdot p_2^{\\min\\{\\alpha_2,\\beta_2\\}}\\cdot\\ldots\\cdot p_k^{\\min\\{\\alpha_k,\\beta_k\\}};$$\n",
    "\n",
    "$$[a,b]=p_1^{\\max\\{\\alpha_1,\\beta_1\\}}\\cdot p_2^{\\max\\{\\alpha_2,\\beta_2\\}}\\cdot\\ldots\\cdot p_k^{\\max\\{\\alpha_k,\\beta_k\\}}.$$\n",
    "\n",
    "---"
   ]
  },
  {
   "cell_type": "markdown",
   "metadata": {},
   "source": [
    "Zamyslime sa ešte na chvíľu nad dvoma otázkami. **Ako otestovať, či dané číslo je prvočíslo?** **V prípade ak nie je (je zložené číslo), ako nájsť jeho kanonický rozklad?** Predstavme si teraz, že by sme nepoznali v Sage funkcie `factor` a `is_prime`. \n",
    "\n",
    "**V praxi sa ukazuje, že prvá otázka je ľahšie zodpovedateľná. Zaujímavá je skutočnosť, že vynásobiť dve gigantické prvočísla $p$ a $q$ t.j. $n=pq$ je výpočtovo nenáročné, avšak keď by sme poznali iba ich súčin $n$ tak nájsť príslušné $p$ a $q$ je úloha výpočtovo omnoho náročnejšia. Tento fakt leží v centre pozoruhodnej aplikácie teórie čísel na vytváranie veľmi bezpečných kódov.**  \n",
    "\n",
    "Majme dané nejaké číslo celé $n$. Ak je toto číslo dosť malé, napr. $n=180$, tak nie je ťažké vidieť, že \n",
    "\n",
    "$$180=2\\cdot90=2\\cdot2\\cdot45=2\\cdot2\\cdot3\\cdot15=2\\cdot2\\cdot3\\cdot3\\cdot5.$$ \n",
    "\n",
    "Ak je však $n$ príliš veľke, napr. $n=9105293$, nájsť jeho kanonický rozklad môže byť oveľa náročnejšie. Jeden z možných prístupov spočíva v tom, že skúšame deliť číslo $n$ postupne prvočíslami $2,3,5,7,11,\\ldots$ až kým nájdeme deliteľa. V prípade $n=9105293$ po nejakom snažení zistíme, že najmenšie prvočíslo, ktoré delí $n=9105293$ je $37$ a teda \n",
    "\n",
    "$$9105293=37\\cdot 246089.$$\n",
    "\n",
    "Následne skúšame deliť číslo $246089$ prvočíslami t.j. $37,41,43,\\ldots$. Zistíme, že $43\\mid 246089$ lebo $246089=43\\cdot 5723$ atď. až dostaneme $5723=59\\cdot97$, pričom $59$ a $97$ sú už prvočísla. Keď to zhrnieme tak máme \n",
    "\n",
    "$$9105293=37\\cdot43\\cdot59\\cdot97.$$\n",
    "\n",
    "Ak $n$ nie je prvočíslo tak potom existuje prvočíslo $p\\le\\sqrt{n}$ také, že $p\\mid n$ \n",
    "\n",
    "Tento poznatok ponúka jednoduchú aj keď nie veľmi efektívnu metódu pre rozklad ľubovoľného celého čísla $n$ na súčin prvočísel. Metóda spočíva v tom, že delíme dané číslo $n$ každým číslom (alebo iba každým prvočíslom) $2,3,\\ldots$ , ktoré je menšie, nanajvýš rovné $\\sqrt{n}$. ak nenájdeme žiadne také čísla, ktoré delia $n$, potom $n$ je prvočíslo. V opačnom prípade nájdeme prvého deliteľa, ktorým bude prvočíslo $p$. Dostaneme tak $n=pm$ a proces opakujeme s číslom $m$.  \n",
    "\n",
    "<font color=purple>EXTRA (2 body): Napíšte program, ktorý bude implementovať predstavenú procedúru pre hľadanie prvočíselného rozkladu zloženého čísla resp. prehlási dané číslo za prvočíslo. Po vložení správneho, okomentovaného riešenia spolu s testovacími príkladmi do Google triedy (sekcia Téma 2 - Úlohy k učebnému textu), je možné získať 2 bonusové body. </font>"
   ]
  },
  {
   "cell_type": "code",
   "execution_count": null,
   "metadata": {},
   "outputs": [],
   "source": []
  },
  {
   "attachments": {
    "sitoEratosthenes.png": {
     "image/png": "[encoded data removed]"
    }
   },
   "cell_type": "markdown",
   "metadata": {},
   "source": [
    "Predošlé úvahy tiež vedú k jednej starej metóde pre nájdenie všetkých kladných prvočísel, ktoré sú menšie alebo rovné ako nejaké vopred zvolené kladné celé číslo $n$. Uvažujme pre ilustráciu $n=100$. Metóda sa označuje ako **_Eratosthenovo sito_** a potup je nasledovný. Vygenerujeme všetky celé čísla medzi $1$ a $100$ (vrátane). Následne škrtneme $1$ a všetky zložené čísla $\\le 100$ podľa pravidla, ktoré si teraz vysvetlíme. Z predchádzajúcich úvah vieme, že každé zložené číslo $\\le 100$ musí mať prvočíselného deliteľa $\\le\\lfloor\\sqrt{100}\\rfloor$ t.j. $\\le 10$ ($\\lfloor x \\rfloor$ označuje dolnú celú časť čísla $x$ t.j. najväčšie prirodzené číslo nie väčšie ako $x$). Prvočísla $\\le 10$ sú $2,3,5,7$, takže zložené čísla $\\le 100$ sú tie, ktoré sú deliteľné (aspoň) jedným z uvedených prvočísel. Čísla z vygenerovaného zoznamu $1,2,\\ldots,100$ škrtáme takto: najprv škrtneme $1$ keďže podľa definície to nie je prvočíslo; ďalej škrtáme všetky násobky prvočísel $2,3,5,7$ ale nie samotné čísla $2,3,5,7$. Čísla, ktoré už raz boli vyškrtnuté, nemusíme škrtať znova. Čísla, ktoré ostali nevyškrtnuté sú hľadané prvočísla. Pre ilustráciu pripájame obrázok. \n",
    "\n",
    "![sitoEratosthenes.png](attachment:sitoEratosthenes.png)\n",
    "$$\\text{Zdroj: Silverman (2013).}$$\n",
    "\n",
    "Hoci sito vyzerá dobre, keď sa $n$ zväčšuje, stáva sa menej účinným; sito nie je praktická metóda. V skutočnosti neexistuje jednoduchá praktická metóda na testovanie prvočíselnosti u veľkých čísel. Avšak v roku 2002 M. Agrawal (z Indického Technologického Inštitútu) so svojimi dvoma študentmi (N. Kayal a N. Saxena) vyvinuli algoritmus, ktorý beží v polynomiálnom čase (počet potrebných krokov algoritmu je ohraničený polynomiálnou funkciou veľkosti vstupných údajov). O dva roky neskôr ešte H. Lenstra a C. Pomerance algoritmus trochu upravili a zefektívnili. "
   ]
  },
  {
   "cell_type": "code",
   "execution_count": 9,
   "metadata": {},
   "outputs": [
    {
     "data": {
      "text/plain": [
       "[2,\n",
       " 3,\n",
       " 5,\n",
       " 7,\n",
       " 11,\n",
       " 13,\n",
       " 17,\n",
       " 19,\n",
       " 23,\n",
       " 29,\n",
       " 31,\n",
       " 37,\n",
       " 41,\n",
       " 43,\n",
       " 47,\n",
       " 53,\n",
       " 59,\n",
       " 61,\n",
       " 67,\n",
       " 71,\n",
       " 73,\n",
       " 79,\n",
       " 83,\n",
       " 89,\n",
       " 97]"
      ]
     },
     "execution_count": 9,
     "metadata": {},
     "output_type": "execute_result"
    }
   ],
   "source": [
    "# vsetky prvocisla mensie alebo rovne ako 100 mozeme v Sage vypisat nasledovne\n",
    "prvocisla = Primes()\n",
    "[prvocisla[i] for i in range(100) if prvocisla[i] <= 100]"
   ]
  },
  {
   "cell_type": "markdown",
   "metadata": {},
   "source": [
    "<font color=purple>EXTRA (2 body): Napíšte program, ktorý pomocou tzv. Eratosthenovho sita nájde všetky prvočísla menšie ako zadané prirodzené číslo $n$. Po vložení správneho, okomentovaného riešenia spolu s testovacími príkladmi do Google triedy (sekcia Téma 2 - Úlohy k učebnému textu), je možné získať $2$ bonusové body. </font>"
   ]
  },
  {
   "cell_type": "code",
   "execution_count": null,
   "metadata": {},
   "outputs": [],
   "source": []
  },
  {
   "cell_type": "markdown",
   "metadata": {},
   "source": [
    "***\n",
    "<a id=kongruencie></a>\n",
    "# <font color=brown> Kongruencie a modulárna aritmetika </font>"
   ]
  },
  {
   "cell_type": "markdown",
   "metadata": {},
   "source": [
    "---\n",
    "\n",
    "Deliteľnosť je silným nástrojom v Teórii čísel. Videli sme to napr. pri NSD či prvočíselnom rozklade a tým pádom má čo povedať aj v oblastiach ako napr. šifrovanie či kódovanie. V ďalšej časti sa budeme zaoberať tzv. _kongruenciami_. **Kongruencie  poskytujú pohodlný spôsob, ako popísať vlastnosti deliteľnosti. V skutočnosti sú také pohodlné a prirodzené, že robia teóriu deliteľnosti podobnú teórii rovníc.** "
   ]
  },
  {
   "attachments": {
    "Clock1.gif": {
     "image/gif": "[encoded data removed]"
    },
    "Clock2.gif": {
     "image/gif": "[encoded data removed]"
    },
    "Clock3.gif": {
     "image/gif": "[encoded data removed]"
    }
   },
   "cell_type": "markdown",
   "metadata": {},
   "source": [
    "Najlepším spôsobom, ako zaviesť modulárnu aritmetiku, je zamyslieť sa nad hodinami. \n",
    "\n",
    "![Clock1.gif](attachment:Clock1.gif) \n",
    "\n",
    "Čísla na ciferníku idú od 1 do 12, ale keď sa dostaneme na „13 hodín“, v skutočnosti je opäť 1 hodina (zamyslite sa nad tým, ako funguje 24 - hodinové číslovanie). Takže z 13 sa stáva 1, zo 14 sa stáva 2 atď. \n",
    "\n",
    "Tento proces môže pokračovať, takže keď sa dostaneme na „25 hodín“, v skutočnosti ste späť tam, kde je 1 hodina na ciferníku (a tiež tam, kde bola aj 13 hodina). \n",
    "\n",
    "![Clock2.gif](attachment:Clock2.gif) \n",
    "\n",
    "V tomto svete hodín nás teda zaujíma iba to, kde sa nachádzame vo vzťahu k číslam 1 až 12. V tomto svete sa 1, 13, 25, 37, ... považujeme za rovnakú vec (resp. prvok), ako aj 2, 14, 26, 38, ... a tak ďalej. \n",
    "\n",
    "Hovoríme vlastne, že „13 = 1 + nejaký násobok čísla 12“ a „38 = 2 + nejaký násobok čísla 12“ alebo inými slovami, že „zvyšok, keď delíme 13 číslom 12, je 1“ a „zvyšok, keď delíme 38 číslom 12 je 2“. Spôsob, akým to zapíšeme matematicky, je $13\\equiv 1 \\,\\,(\\mathrm{mod}\\,\\, 12)$, $38\\equiv 2 \\,\\,(\\mathrm{mod}\\,\\, 12)$ atď. To sa číta tak, že „13 je kongruentné s 1 pri module (alebo modulo) 12“ a „38 je kongruentné s 2 modulo 12“. \n",
    "\n",
    "Ale nemusíme pracovať iba s modulom 12 (to je odborný termín). Môžeme napríklad použiť modul 7 alebo 46, ak chceme (stačí si predstaviť hodiny s číslami od 1 do 7 resp. od 0 do 6 a od 1 do 46 resp. od 0 do 45; zakaždým, keď prekročíme najväčšie číslo, znova sa nastavíme na 1 resp. 0). \n",
    "\n",
    "![Clock3.gif](attachment:Clock3.gif) \n",
    "\n",
    "Vráťme sa na chvíľu ku klasickému ciferníku na hodinách s číslami 1 až 12. Matematici zvyčajne dávajú prednosť číslu 0 tam, kde by normálne bola 12, takže by sme zvyčajne písali (napríklad) $24\\equiv 0 \\,\\,(\\mathrm{mod}\\,\\, 12)$ namiesto $24\\equiv 12 \\,\\,(\\mathrm{mod}\\,\\, 12)$ i keď obe vyjadrenia sú (matematicky) správne a totoŽné. To znamená, že namiesto klasického ciferníka uvažujeme číslovanie od 0 do 11 (nie od 1 do 12). To dáva zmysel: normálne by sme povedali, že 24 dáva zvyšok 0, po vydelení číslom 12, namiesto toho, aby sme povedali, že dáva zvyšok 12, po vydelení číslom 12. \n",
    "\n",
    "Buďme trochu formálnejší. Vo všeobecnosti, ak pracujeme s modulom $m$ (kde $m$ je akékoľvek celé číslo), napíšeme $a\\equiv b \\,\\,(\\mathrm{mod}\\,\\, m)$, ak $a$, $b$ dávajú rovnaký zvyšok, keď ich vydelíme číslom $m$. Je to rovnaké, ako keď hovoríme, že napíšeme $a\\equiv b \\,\\,(\\mathrm{mod}\\,\\, m)$, ak $m$ delí $a − b$ (pozrite sa, čo sme urobili predtým, aby ste zistili, že táto definícia zodpovedá vyššie uvedeným príkladom.)"
   ]
  },
  {
   "cell_type": "markdown",
   "metadata": {},
   "source": [
    "---\n",
    "\n",
    "### <font color=red> Definícia 3 </font> \n",
    "\n",
    "Hovoríme, že $a$ je **_kongruentné_** s $b$ **_podľa modulu_** $m$ a zapisujeme \n",
    "\n",
    "$$a\\equiv b \\,\\,(\\mathrm{mod}\\,\\, m)$$ \n",
    "\n",
    "ak $m\\mid (a-b)$. \n",
    "\n",
    "---"
   ]
  },
  {
   "cell_type": "markdown",
   "metadata": {},
   "source": [
    "Napr. \n",
    "\n",
    "$$7\\equiv2\\,\\,(\\mathrm{mod}\\,\\,5) \\qquad \\text{ a } \\qquad 47\\equiv35\\,\\,(\\mathrm{mod}\\,\\,6),$$ \n",
    "\n",
    "lebo \n",
    "\n",
    "$$5\\mid (7-2) \\qquad \\text{ a } \\qquad 6\\mid (47-35).$$"
   ]
  },
  {
   "cell_type": "markdown",
   "metadata": {},
   "source": [
    "---\n",
    "\n",
    "#### Poznámka 2 \n",
    "\n",
    "* Ak číslo $a$ po delení číslom $m$ dá zvyšok $r$ tak $a$ je kongruentné s $r$ podľa modulu $m$ t.j. $a\\equiv r\\,\\,(\\mathrm{mod}\\,\\,m)$. Všimnime si, že pre zvyšok platí $0\\le r < m$ a teda každé celé číslo je kongruentné s nejakým celým čísom (práve s jedným) medzi $0$ a $m-1$ pri module $m$. Číslo $m$ voláme **_modul_** (modulus) kongruencie. \n",
    "\n",
    "\n",
    "* Zrejme $a\\equiv 0 \\,\\,(\\mathrm{mod}\\,\\, m)$ je to isté ako $m\\mid a$, napr. $28\\equiv 0 \\,\\,(\\mathrm{mod}\\,\\, 4)$ je to isté ako $4\\mid 28$. \n",
    "\n",
    "\n",
    "* Ak čísla $a,b$ nie sú kongruentné modulo $m$, hovoríme, že sú **_nekongruentné_** a značíme to $a\\not\\equiv b \\,\\,(\\mathrm{mod}\\,\\, 4)$, napr. $4\\not\\equiv 2 \\,\\,(\\mathrm{mod}\\,\\, 3)$. \n",
    "---"
   ]
  },
  {
   "cell_type": "markdown",
   "metadata": {},
   "source": [
    "**O chvíľu oceníme pohodlnú a efektívnu prácu s kongruenciami. Napr. nie je úplne jednoduché v hlave vypočítať súčin $572\\cdot863$, avšak určenie tohto súčinu pri module $10$ je vcelku jednoducé.** Stačí si všimnúť, že zvyšok po delení čísla $572$ číslom $10$ je $2$, čo zapíšeme v tvare $572\\equiv2\\,\\,(\\mathrm{mod}\\,\\,10)$ a podobne $863\\equiv3\\,\\,(\\mathrm{mod}\\,\\,10)$. Ďalej v Tvrdení 3 časť 2. uvidíme, že tieto dve kongruencie môžeme jednoducho medzi sebou vynásobiť a dostaneme $572\\cdot863\\equiv2\\cdot3\\,\\,(\\mathrm{mod}\\,\\,10)$, čo vlastne znamená, že miesto výpočtu zložitého súčinu $572\\cdot863$ a následného zisťovania zvyšku po delení tohto súčinu číslom $10$ stačí určiť jednoduchší súčin $2\\cdot3$ a a zistiť jeho zvyšok po delení číslom $10$. Tieto dva uvedené prístupy vedú k tomu istému výsledku resp. sú z hľadiska kongruencií rovnaké t.j. zameniteľné a my môžeme realizovať jednoduchší z nich. "
   ]
  },
  {
   "attachments": {
    "triedyKongruencii.png": {
     "image/png": "[encoded data removed]"
    }
   },
   "cell_type": "markdown",
   "metadata": {},
   "source": [
    "---\n",
    "\n",
    "#### Poznámka 3 \n",
    "\n",
    "Pre pevne zvolené $m$ je vlastnosť kongruentnosti dvoch celých čísel vlastne binárna relácia na $\\mathbb{Z}$ (vyjadruje vzťah  medzi dvoma celými číslami). \n",
    "Podľa definície kongruencie a vlasností deliteľnosti môžeme ľahko overiť, že **relácia kongruentnosti čísel ma tieto zákadné valstnosti**: \n",
    "\n",
    "* **reflexívnosť**: $\\left(\\forall a \\in \\mathbb{Z}\\right) a\\equiv a\\,\\,(\\mathrm{mod}\\,\\,m)$; \n",
    "\n",
    "\n",
    "* **symetria**: $\\left(\\forall a,b \\in \\mathbb{Z}\\right) a\\equiv b\\,\\,(\\mathrm{mod}\\,\\,m) \\Rightarrow b\\equiv a\\,\\,(\\mathrm{mod}\\,\\,m)$;\n",
    "\n",
    "\n",
    "* **tranzitívnosť**: $\\left(\\forall a,b,c \\in \\mathbb{Z}\\right) \\left(a\\equiv b\\,\\,(\\mathrm{mod}\\,\\,m) \\wedge b\\equiv c\\,\\,(\\mathrm{mod}\\,\\,m)\\right)\\Rightarrow a\\equiv c\\,\\,(\\mathrm{mod}\\,\\,m)$. \n",
    "\n",
    "Relácia kongruentnosti podľa daného modulu ($m$) je teda reláciou ekvivalencie na množine celých čísel $\\mathbb{Z}$. To znamená, že všetky celé čísla sú vzhľadom na túto reláciu kongruentnosti (pri danom module $m$) rozdelené do $m$ skupín (triedy ekvivalencie tzv. **_triedy kongruencií_** resp. **_zvyškové triedy_**) a všetky čísla v rovnakej skupine (triede) sú považované za ekvivalentné vzhľadom na reláciu kongruentnosti. Inými slovami, **čísla v jednej skupine (triede) dávajú rovnaký zvyšok po delení číslom $m$ resp. ich rozdiel je deliteľný číslom $m$**. \n",
    "\n",
    "Napr. pre $m=5$ dostaneme tieto triedy kongruencií znázornené aj na obrázku nižšie.  \n",
    "\n",
    "$$[0]_5=\\{\\ldots,-10,-5,0,5,10,\\ldots\\}$$\n",
    "$$[1]_5=\\{\\ldots,-9,-4,1,6,9,\\ldots\\}$$\n",
    "$$[2]_5=\\{\\ldots,-8,-3,2,7,12,\\ldots\\}$$\n",
    "$$[3]_5=\\{\\ldots,-7,-2,3,8,13,\\ldots\\}$$\n",
    "$$[4]_5=\\{\\ldots,-6,-1,4,9,14,\\ldots\\}$$\n",
    "\n",
    "Zamyslite sa, aké zvyšky po delení číslom $5$ dávajú čísla v jednotlivých triedach. Očividne sú tieto triedy neprázdne, navzájom disjunktné (nemajú spoločné prvky) a ich zjednotenie tvorí množinu všetkých celých čísel $\\mathbb{Z}$. Tieto vlastnosti znázorňuje aj obrázok. \n",
    "Čísla (resp. zvyšky) $0,1,2,3,4$ sú tzv. reprezentanti pre príslušné triedy čísel $[0]_5,[1]_5,[2]_5,[3]_5,[4]_5$, ktoré nazývame aj **_zvyškové triedy_** a neskôr sa k ním ešte vrátime.\n",
    "\n",
    "Keď je jasné o aký modul ide (v tomto príklade je to $m=5$) tak miesto úplného označenia $[0]_5,[1]_5,[2]_5,[3]_5,[4]_5$ sa niekedy používa označenie $[0],[1],[2],[3],[4]$. Inokedy sa zase môžete stretnúť so zjednodušeným označením $0_5,1_5,2_5,3_5,4_5$ či dokonca $0,1,2,3,4$. V každom prípade tieto označenia vyjadrujú jedno a to isté, t.j. **množiny celých čísel** obsahujúce čísla, ktoré dávajú po delení (v našom prípade) modulom $5$ zvyšok $0$, $1$, $2$, $3$ alebo $4$. \n",
    "\n",
    "![triedyKongruencii.png](attachment:triedyKongruencii.png)\n",
    "$$\\text{Zdroj: Koshy (2007).}$$\n",
    "\n",
    "---"
   ]
  },
  {
   "cell_type": "markdown",
   "metadata": {},
   "source": [
    "---\n",
    "\n",
    "#### <font color=green> Tvrdenie 3 </font> \n",
    "\n",
    "Nech $a,b,c,d,m\\in\\mathbb{Z}$ také, že $a\\equiv b\\,\\,(\\mathrm{mod}\\,\\,m)$ a $c\\equiv d\\,\\,(\\mathrm{mod}\\,\\,m)$. Potom platí: \n",
    "\n",
    "1. $a+c\\equiv b+d\\,\\,(\\mathrm{mod}\\,\\,m)$; \n",
    "\n",
    "2. $ac\\equiv bd\\,\\,(\\mathrm{mod}\\,\\,m)$.\n",
    "\n",
    "---"
   ]
  },
  {
   "cell_type": "markdown",
   "metadata": {},
   "source": [
    "**Ilustračný príklad pre Tvrdenie 3 časť 1.:** \n",
    "\n",
    "V Tvrdení 3 časť 1. položme $a=7,b=1,c=5,d=2,m=3$. Zrejme platí $7\\equiv 1\\,\\,(\\mathrm{mod}\\,\\,3)$ a tiež $5\\equiv 2\\,\\,(\\mathrm{mod}\\,\\,3)$. Keď uvedené kongruencie sčítame, dostaneme, že by malo platiť  \n",
    "\n",
    "$$7+5\\equiv1+2\\,\\,(\\mathrm{mod}\\,\\,3),$$ \n",
    "\n",
    "čo je po úprave to isté ako \n",
    "\n",
    "$$12\\equiv3\\,\\,(\\mathrm{mod}\\,\\,3)$$ \n",
    "\n",
    "a to zrejme patí, lebo $3\\mid(12-3)$ resp. $12$ a $3$ dávajú rovnaký zvyšok po delení číslom $3$. "
   ]
  },
  {
   "cell_type": "markdown",
   "metadata": {},
   "source": [
    " <font color=orange> Ilustrujte Tvrdenie 3 časť 2. na príklade s konkrétnymi číslami (inšpirujte sa predchádzajúcim príkladom). Inými slovami, nájdite konkrétne celé čísla $a,b,c,d,m$ také, aby platila vlastnosť 2. (vysvetlite, prečo platí). </font> "
   ]
  },
  {
   "cell_type": "code",
   "execution_count": null,
   "metadata": {},
   "outputs": [],
   "source": []
  },
  {
   "cell_type": "markdown",
   "metadata": {},
   "source": [
    "---\n",
    "\n",
    "#### <font color=green> Dôsledok 1 </font> \n",
    "\n",
    "Nech $a,b,m,n\\in\\mathbb{Z}$, $n\\ge1$ také, že $a\\equiv b\\,\\,(\\mathrm{mod}\\,\\,m)$, potom platí \n",
    "\n",
    "$$a^n\\equiv b^n\\,\\,(\\mathrm{mod}\\,\\,m).$$\n",
    "\n",
    "---"
   ]
  },
  {
   "cell_type": "markdown",
   "metadata": {},
   "source": [
    "**Význam Dôsledku 1 Tvrdenia 3 môžeme oceniť napr. v nasledovnej situácii. Potrebujeme zistiť zvyšok po delení nejakého veľkého čísla (veľkej mocniny daného čísla). Tu môžeme naraziť aj na hranice výpočtových možností.** Príkaz `%time` slúži na meranie času výpočtu. Alternatívou môže byť použitie príkazu `%timeit`, ktorý nechá rovnaký výpočet prebehnúť viackrát a vráti najlepší čas. \n",
    "\n",
    "Predpokladajme, že nás z nejakého dôvodu zaujíma zvyšok čísla $7^{10^{8}}$ po delení číslom $3$. Pomôžme si výpočtami v Sage. "
   ]
  },
  {
   "cell_type": "code",
   "execution_count": 14,
   "metadata": {},
   "outputs": [
    {
     "name": "stdout",
     "output_type": "stream",
     "text": [
      "CPU times: user 5.64 s, sys: 203 ms, total: 5.84 s\n",
      "Wall time: 5.85 s\n"
     ]
    },
    {
     "data": {
      "text/plain": [
       "1"
      ]
     },
     "execution_count": 14,
     "metadata": {},
     "output_type": "execute_result"
    }
   ],
   "source": [
    "%time 7^(10^8) % 3"
   ]
  },
  {
   "cell_type": "markdown",
   "metadata": {},
   "source": [
    "Pozrime sa, čo sa stane, keď pridáme v mocnine jednú $0$ naviac, tzn miesto $10^8$ vezmeme $10^9$. "
   ]
  },
  {
   "cell_type": "code",
   "execution_count": 15,
   "metadata": {},
   "outputs": [
    {
     "name": "stdout",
     "output_type": "stream",
     "text": [
      "CPU times: user 1min 5s, sys: 3.39 s, total: 1min 9s\n",
      "Wall time: 1min 9s\n"
     ]
    },
    {
     "data": {
      "text/plain": [
       "1"
      ]
     },
     "execution_count": 15,
     "metadata": {},
     "output_type": "execute_result"
    }
   ],
   "source": [
    "%time 7^(10^9) % 3"
   ]
  },
  {
   "cell_type": "markdown",
   "metadata": {},
   "source": [
    "**Čas výpočtu sa rádovo predĺžuje až sa môze stať, že Sage vyhodí hlášku typu \"MemoryError\". V tej chvíli si už iba softvérom príliš nepomôžeme a potrebujeme sa spoľahnúť aj na teóriu - v tomto prípade na uvedený Dôsledok 1, v kombinácii s výpočtovou silou počítača.** \n",
    "\n",
    "Predpokladajme, že nás z nejakého dôvodu zaujíma zvyšok čísla $7^{10^{11}}$ po delení číslom $3$. Toto už môže presahovať výpočtové (pamäťové) kapacity počítača. Položme v Dôsledku 1 $a=7$, $m=5$, $n=10^{11}$. Zrejme platí $7\\equiv 1\\,\\,(\\mathrm{mod}\\,\\,3)$, preto v Dôsledku 1 môžeme položiť $b=1$. Podľa tvrdenia v Dôsledku 1 teda platí, že ak $7\\equiv 1\\,\\,(\\mathrm{mod}\\,\\,3)$, tak potom $7^{10^{11}}\\equiv 1^{10^{11}}\\equiv 1\\,\\,(\\mathrm{mod}\\,\\,3)$, preto zvyšok čísla $7^{10^{11}}$ po delení číslom $3$ je 1. V Sage to môžeme overiť pomocou funkcie `mod` - pozri výpočet ďalej. "
   ]
  },
  {
   "cell_type": "code",
   "execution_count": null,
   "metadata": {},
   "outputs": [],
   "source": [
    "# tento vypocet uz nemusi zbehnut, moze to prekracovat vypoctovu (pamatovu) kapacitu pocitaca \n",
    "%time 7^(10^9) % 3"
   ]
  },
  {
   "cell_type": "code",
   "execution_count": 16,
   "metadata": {},
   "outputs": [
    {
     "name": "stdout",
     "output_type": "stream",
     "text": [
      "CPU times: user 0 ns, sys: 0 ns, total: 0 ns\n",
      "Wall time: 6.74 ms\n"
     ]
    },
    {
     "data": {
      "text/plain": [
       "1"
      ]
     },
     "execution_count": 16,
     "metadata": {},
     "output_type": "execute_result"
    }
   ],
   "source": [
    "# kontrola pomocou funkcie mod \n",
    "%time mod(7,3)^(10^9)"
   ]
  },
  {
   "cell_type": "markdown",
   "metadata": {},
   "source": [
    "---\n",
    "\n",
    "#### Poznámka 4\n",
    "\n",
    "* Pozor! **Kongruencie (na rozdiel od rovníc) nie je vždy možné vydeliť!** Ináč povedané ak $ac\\equiv bc\\,\\,(\\mathrm{mod}\\,\\,m)$ tak nemusí vždy platiť aj $a\\equiv b\\,\\,(\\mathrm{mod}\\,\\,m)$. \n",
    "\n",
    "\n",
    "* Zaujímavé je tiež pozorovanie, že $uv\\equiv 0\\,\\,(\\mathrm{mod}\\,\\,m)$ ale $u\\not\\equiv 0\\,\\,(\\mathrm{mod}\\,\\,m)$ a tiež $v\\not\\equiv 0\\,\\,(\\mathrm{mod}\\,\\,m)$.\n",
    "\n",
    "---"
   ]
  },
  {
   "cell_type": "markdown",
   "metadata": {},
   "source": [
    "Ilustrácia Poznámky 4 na konkrétnych príkladoch: \n",
    "\n",
    "$15\\cdot 2\\equiv 20\\cdot 2\\,\\,(\\mathrm{mod}\\,\\,10)$ ale $15\\not\\equiv 20 \\,\\,(\\mathrm{mod}\\,\\,10)$. \n",
    "\n",
    "$6\\cdot4\\equiv 0\\,\\,(\\mathrm{mod}\\,\\,12)$ ale $6\\not\\equiv 0\\,\\,(\\mathrm{mod}\\,\\,12)$ a $4\\not\\equiv 0\\,\\,(\\mathrm{mod}\\,\\,12)$"
   ]
  },
  {
   "cell_type": "markdown",
   "metadata": {},
   "source": [
    "<font color=orange> Vymyslite vlastné príklady a ilustrujte Poznámku 4. Inšpirujte sa predchádzajúcimi príkladmi. </font>"
   ]
  },
  {
   "cell_type": "code",
   "execution_count": null,
   "metadata": {},
   "outputs": [],
   "source": []
  },
  {
   "cell_type": "markdown",
   "metadata": {},
   "source": [
    "Situácia sa mení, keď $(c,m)=1$ (tzn. $c$ a $m$ sú nesúdeliteľné), potom naozaj ak $ac\\equiv bc\\,\\,(\\mathrm{mod}\\,\\,m)$ tak $a\\equiv b\\,\\,(\\mathrm{mod}\\,\\,m)$. Hovorí o tom nasledujúce tvrdenie. "
   ]
  },
  {
   "cell_type": "markdown",
   "metadata": {},
   "source": [
    "---\n",
    "\n",
    "#### <font color=green> Tvrdenie 4 </font> \n",
    "\n",
    "Nech $a,b,d,m\\in\\mathbb{Z}$ a platí $a\\equiv b\\,\\,(\\mathrm{mod}\\,\\,m)$. \n",
    "\n",
    "1. Ak $d$ je spoločný deliteľ čísel $a,b,m$ t.j. $d\\in D(a,b,m)$, potom $\\dfrac{a}{d}\\equiv \\dfrac{b}{d}\\,\\,\\left(\\mathrm{mod}\\,\\,\\dfrac{m}{d}\\right)$. \n",
    "\n",
    "\n",
    "2. Ak $d$ je spoločný deliteľ čísel $a,b$ t.j. $d\\in D(a,b)$ taký, že $(d,m)=1$, potom $\\dfrac{a}{d}\\equiv \\dfrac{b}{d}\\,\\,\\left(\\mathrm{mod}\\,\\,m\\right)$. \n",
    "\n",
    "---"
   ]
  },
  {
   "cell_type": "markdown",
   "metadata": {},
   "source": [
    "<font color=orange> Vymyslite konkrétne príklady a ilustrujte použitie Tvrdenia 4. </font>"
   ]
  },
  {
   "cell_type": "code",
   "execution_count": null,
   "metadata": {},
   "outputs": [],
   "source": []
  },
  {
   "cell_type": "markdown",
   "metadata": {},
   "source": [
    "**Kongruencie je možné riešiť podobným spôsobom ako rovnice aplikovaním vlastností resp. pravidiel z Tvrdenia 3 a Dôsledku 1.**. Ukážme si to na príklade. "
   ]
  },
  {
   "cell_type": "markdown",
   "metadata": {},
   "source": [
    "---\n",
    "\n",
    "#### <font color=blue> Príklad 1 </font>\n",
    "\n",
    "Riešte kongruenciu \n",
    "    \n",
    "$$x+12\\equiv 5\\,\\,(\\mathrm{mod}\\,\\,8).$$\n",
    "\n",
    "<ins> Riešenie: </ins>\n",
    "\n",
    "Riešiť túto kongruenciu znamená nájsť takú hodnotu $x$ (resp. také hodnoty), ku ktorej keď pripočítame $12$ (ľavá strana), tak po vydelení $8$ dostaneme zvyšok $5$ (pravá strana).\n",
    "\n",
    "Podobne ako pri rovniciach, aj tu potrebujeme nejakým (dovoleným) spôsobom vyjadriť neznámu $x$. Najprv aplikujeme na zadanú kongruenciu Tvrdenie 3 časť 1., aby sme sa zbavili $12$ pri $x$ na ľavej strane zadanej kongruencie. K zadanej kongruencii teda pripočítame kongruenciu v tvare $-12\\equiv -12\\,\\,(\\mathrm{mod}\\,\\,8)$ a podľa Tvrdenia 3 časť 2 (kde zvolíme $a=x+12,b=5,c=-12,d=-12,m=8$) dostávame \n",
    "\n",
    "$$x+12-12\\equiv 5-12 \\,\\,(\\mathrm{mod}\\,\\,8),$$ \n",
    "\n",
    "čo je po úprave to isté ako \n",
    "\n",
    "$$x\\equiv -7 \\,\\,(\\mathrm{mod}\\,\\,8).$$\n",
    "\n",
    "Formálne to vyzerá rovnako, akoby sme od oboch strán pôvodnej kongruencie odčítali $12$, čo by sme mohli skrátene zapísať takto: \n",
    "\n",
    "$$x\\equiv 5-12\\equiv -7 \\,\\,(\\mathrm{mod}\\,\\,8).$$\n",
    "\n",
    "Riešenie $x\\equiv -7\\,\\,(\\mathrm{mod}\\,\\,8)$ je fajn ale môžeme vziať aj ekvivalentné riešenie, ktoré dostaneme tak, že k pravej strane nájdeného riešenia pripočítame modul - v tomto prípade $8$ a nové riešenie je $x\\equiv 1\\,\\,(\\mathrm{mod}\\,\\,8)$. Nič tým nepokazíme keď $-7$ nahradíme $1$, lebo $-7$ a $1$ dávájú rovnaký zvyšok po delení $8$ ($-7=-1\\cdot8+1$). Inými slovami, $-7$ a $1$ sú rovnaké (ekvivalentné) pri module $8$ t.j. sú v rovnakej skupine (triede ekvivalencie) vzhľadom na reláciu kongruencie pri module $8$. \n",
    "\n",
    "Riešenie $x\\equiv 1\\,\\,(\\mathrm{mod}\\,\\,8)$ kongruencie $x+12\\equiv 5\\,\\,(\\mathrm{mod}\\,\\,8)$ znamená, že ak vezmeme také $x$, ktoré po delení číslom $8$ dá zvyšok $1$ a dosadíme ho do kongruencie $x+12\\equiv 5\\,\\,(\\mathrm{mod}\\,\\,8)$, tak táto kongruencia ostane v platnosti. Konkrétne teda, keď vezmeme napr. $x=9$, potom zrejme $9\\equiv 1\\,\\,(\\mathrm{mod}\\,\\,8)$ a po dosadení máme $9+12\\equiv 5\\,\\,(\\mathrm{mod}\\,\\,8)$ resp. $21\\equiv 5\\,\\,(\\mathrm{mod}\\,\\,8)$. Riešeniami zadanej kongruencie  sú teda všetky celé čísla $x$, ktoré po vydelení číslom $8$ dajú zvyšok $1$ a množinu týchto čísel môžeme zapísať takto: $\\{8k+1,\\,k\\in\\mathbb{Z}\\}$ alebo takto: $x=8k+1\\,k\\in\\mathbb{Z}$. \n",
    "\n",
    "---"
   ]
  },
  {
   "cell_type": "markdown",
   "metadata": {},
   "source": [
    "---\n",
    "\n",
    "#### Poznámka  5\n",
    "\n",
    "* V predošlom príklade sme si mohli všimnúť zaujímavú vec. Riešenie kongruencie, ktoré sme našli bolo v tvare $x\\equiv -7\\,\\,(\\mathrm{mod}\\,\\,8)$ ale ľahko overíme, že aj $x\\equiv 1\\,\\,(\\mathrm{mod}\\,\\,8)$ je riešením zadanej kongruencie. Tu je potrebné si uvedomiť, že ak nejaké $x_0$, ktoré po vydelení číslom $8$ dáva zvyšok $1$ a je riešením danej kongruencie tak aj každe iné číslo, ktoré po vydelení číslom $8$ tiež dáva zvyšok je $1$ je riešením tej istej kongruencie (napr. $9$, $17$, ale aj $-15$ a ďalšie čísla, ktoré sa od uvedených riešení líšia o násobky modula teda o násobky osmičky v tomto prípade). Tým pádom **má kongruencia nekonečne veľa riešení, avšak všetky tieto riešenia sú z jednej skupiny čísel (triedy) a teda sú navzájom kongruentné (dávajú rovnaký zvyšok po delení číslom $8$) a považujeme ich za rovnaké riešenia v zmysle kongruencií a nebudeme ich rozlišovať**. Viac nás budú zaujímať **rôzne riešenia vzhľadom k modulu, myslíme tým nekongruentné riešenia**. \n",
    "\n",
    "\n",
    "* Vo všeobecnosti teda ak $x_0$ je riešením kongruencie v tvare $ax\\equiv c\\,\\,(\\mathrm{mod}\\,\\,m)$, tak všetky ostatné riešenia kongruentné s $x_0$ nájdeme podľa vzťahu $x=x_0+km$ kde $k\\in\\mathbb{Z}$. Toto pozorovanie vyplýva z tranzitívnosti (relácie)  kongruencie a z Tvrdenia 3. Môžeme to tiež zapísať v tvare množiny riešení $\\{x_0+km,\\,\\,k\\in\\mathbb{Z} \\}$. \n",
    "\n",
    "---"
   ]
  },
  {
   "cell_type": "markdown",
   "metadata": {},
   "source": [
    "**Výpočet z Príkladu 1 môžeme v Sage overiť pomocou funkcie `solve_mod`**. Ilustruje to kód v nasledujúcej bunke. **Nezabudnime** však, že Sage nám vyhodí jedno konkrétne riešenie (prípadne viac navzájom nekongruentných riešení ak existujú) ale pri zápise všetkých riešení (celej množiny riešení) ešte musíme k nájdenému konkrétnemu rieěniu pripočítať všetky celočíselné násobky modulu tak, ako je to uvedené v Poznámke 5 t.j.  $\\{x_0+km,\\,\\,k\\in\\mathbb{Z} \\}$ alebo $x=x_0+km$ kde $k\\in\\mathbb{Z}$. "
   ]
  },
  {
   "cell_type": "code",
   "execution_count": 19,
   "metadata": {},
   "outputs": [
    {
     "data": {
      "text/html": [
       "<html><script type=\"math/tex; mode=display\">\\newcommand{\\Bold}[1]{\\mathbf{#1}}\\left[\\left(1\\right)\\right]</script></html>"
      ],
      "text/plain": [
       "[(1,)]"
      ]
     },
     "metadata": {},
     "output_type": "display_data"
    }
   ],
   "source": [
    "x = var('x') # zavedieme premennu x \n",
    "show(solve_mod(x+12 == 5, 8)) # definujeme kongruenciu a zadame prislusny modul  "
   ]
  },
  {
   "cell_type": "markdown",
   "metadata": {},
   "source": [
    "---\n",
    "\n",
    "#### <font color=blue> Príklad 2 </font>\n",
    "\n",
    "Riešte kongruenciu \n",
    "\n",
    "$$4x\\equiv 3\\,\\,(\\mathrm{mod}\\,\\,19).$$\n",
    "\n",
    "<ins> Riešenie: </ins>\n",
    "\n",
    "Opäť potrebujeme (povoleným) spôsobom vyjadriť $x$. Aby sme sa zbavili $4$ pri $x$ a dostali tam miesto $4x$ iba $1x=x$, potrebujeme pri $x$ \"vyrobiť\" vhodným spôsobom (ak je to možné) také číslo, ktoré je kongruentné s $1$ pri module $19$. Dobrý kandidát je zrejme číslo $20$, lebo po delení číslom $19$ dá zvyšok $1$. Aplikujeme preto Tvrdenie 3 časť 2. (kde zvolíme $c=d=5$, $m=19$, $a=4x$ a $b=3$), čo vlastne znamená vynásobiť pôvodnú kongruenciu kongruenciou v tvare $5\\equiv 5\\,\\,(\\mathrm{mod}\\,\\,19)$, čím dostaneme \n",
    "\n",
    "$$5\\cdot4x\\equiv 5\\cdot3\\,\\,(\\mathrm{mod}\\,\\,19),$$ \n",
    "\n",
    "čo je po úprave to isté ako \n",
    "\n",
    "$$20x\\equiv 15\\,\\,(\\mathrm{mod}\\,\\,19),$$  \n",
    "\n",
    "Formálne to vyzerá tak, akoby sme pravú i ľavú stranu pôvodnej kongruencie vynásobili číslom $5$. \n",
    "\n",
    "Všimnime si, že $20\\equiv 1\\,\\,(\\mathrm{mod}\\,\\,19)$, preto (opäť podľa Tvrdenia 3 časť 2.) $20x\\equiv x\\,\\,(\\mathrm{mod}\\,\\,19)$ a teda keď to nahradíme v predošlej kongruencii, tak máme riešenie \n",
    "\n",
    "$$x\\equiv 15\\,\\,(\\mathrm{mod}\\,\\,19).$$\n",
    "\n",
    "Riešením sú teda všetky celé čísla, ktoré dávajú po delení číslom $19$ zvyšok $15$, t.j. množina celých čísel v tvare $\\{\\ldots-23,-4,15,34,\\ldots\\}$.  \n",
    "\n",
    "Správnosť riešenia je možné overiť tak, že dosadíme napr. číslo $15$ za $x$ do pôvodnej kongruencie (alebo ďalšie čísla z uvedenej množiny riešení) a pýtame sa, či $4\\cdot15\\equiv 3\\,\\,(\\mathrm{mod}\\,\\,19)$ ? To je zrejme pravda lebo $4\\cdot15-3=57=3\\cdot19$ a teda $19\\mid(4\\cdot15-3)$. \n",
    "\n",
    "---"
   ]
  },
  {
   "cell_type": "markdown",
   "metadata": {},
   "source": [
    "<font color=orange> Overte riešenie Príkladu 2 pomocou Sage (podobne ako v Príklade 1). </font>"
   ]
  },
  {
   "cell_type": "code",
   "execution_count": null,
   "metadata": {},
   "outputs": [],
   "source": []
  },
  {
   "cell_type": "markdown",
   "metadata": {},
   "source": [
    "V Príklade 1 aj v Príklade 2 sme aplikovali Tvrdenie 3 ale vo všeobecnosti na riešenie kongruencie pri module $m$ je možné použiť aj \"hrubú silu\", tzn. vyskúšať dosadiť (viď Príklad 3 ďalej) za neznámu (premennú) každú celočíselnú hodnotu od $0$ do $m-1$ a overiť platnosť kongruencie po každom dosadení. Tento prístup môže byť zdĺhavý, no Sage nám tu môže pomôcť. "
   ]
  },
  {
   "cell_type": "markdown",
   "metadata": {},
   "source": [
    "---\n",
    "\n",
    "#### <font color=blue> Príklad 3 </font> \n",
    "\n",
    "Riešte kongruenciu \n",
    "\n",
    "$$x^2+2x-1\\equiv 0\\,\\,(\\mathrm{mod}\\,\\,7).$$\n",
    "\n",
    "<ins> Riešenie: </ins>\n",
    "\n",
    "Vyskúšame dosadiť hodnoty $x=0,x=1,\\ldots, x=6$, čo vedie k riešeniam $x\\equiv 2\\,\\,(\\mathrm{mod}\\,\\,7)$ a $x\\equiv 3\\,\\,(\\mathrm{mod}\\,\\,7)$. <font color=orange> OVERTE! </font>\n",
    "Výpočet v Sage by vyzeral nasledovne: "
   ]
  },
  {
   "cell_type": "code",
   "execution_count": 1,
   "metadata": {},
   "outputs": [
    {
     "data": {
      "text/plain": [
       "[2, 3]"
      ]
     },
     "execution_count": 1,
     "metadata": {},
     "output_type": "execute_result"
    }
   ],
   "source": [
    "[x for x in range(7) if (x^2+2*x-1) % 7 == 0]"
   ]
  },
  {
   "cell_type": "markdown",
   "metadata": {},
   "source": [
    "Samozrejme, existujú aj iné riešenia ako napr. $x\\equiv 9\\,\\,(\\mathrm{mod}\\,\\,7)$ ale $9$ a $2$ v princípe nie sú rôzne riešenia keďže sú ekvivalentné (rovnaké) pri module $7$ t.j. dávajú rovnaký zvyšok po delení $7$. \n",
    "\n",
    "Pre nájdenie nekongruentných riešení postačovalo dosadiť do zadanej kongruencie iba celé čísla od $0$ po $m-1=7-1=6$. Ostatné, s nimi kongruetné riešenia získame pripočítavaním celočíselných násobkov modula $m=7$ k už získaným riešeniam (viď Poznámka 5). \n",
    "\n",
    "---"
   ]
  },
  {
   "cell_type": "markdown",
   "metadata": {},
   "source": [
    "<font color=orange> Vyriešte Príklad 2 pomocou Sage. Pomôžte si pri tom kódom z Príkladu 3. </font>"
   ]
  },
  {
   "cell_type": "code",
   "execution_count": null,
   "metadata": {},
   "outputs": [],
   "source": []
  },
  {
   "cell_type": "markdown",
   "metadata": {},
   "source": [
    "Určite ste sa už stretli s rovnicami, ktoré nemajú riešenie v reálnych číslach, napr. $x^2=-1$. Preto by nás nemalo prekvapiť, že **existujú** tiež **kongruencie, ktoré nemajú riešenie.** Uvažujme napr. $x^3\\equiv 3\\,\\,(\\mathrm{mod}\\,\\,10)$ a overme v Sage, že množina riešení je prázdna. "
   ]
  },
  {
   "cell_type": "code",
   "execution_count": 8,
   "metadata": {},
   "outputs": [
    {
     "data": {
      "text/plain": [
       "[]"
      ]
     },
     "execution_count": 8,
     "metadata": {},
     "output_type": "execute_result"
    }
   ],
   "source": [
    "[x for x in range(10) if (x^2-3) % 10 == 0]"
   ]
  },
  {
   "cell_type": "markdown",
   "metadata": {},
   "source": [
    "**Vo všeobecnosti** by sme chceli vedieť **vyriešiť (ak je to možné) kongruencie v tvare** \n",
    "\n",
    "$$ax\\equiv c\\,\\,(\\mathrm{mod}\\,\\,m).$$\n",
    "\n",
    "**Niektoré kongruencie tohto typu však nemusia mať riešenie.** Uvažujme napr. \n",
    "\n",
    "$$6x\\equiv 15\\,\\,(\\mathrm{mod}\\,\\,514).$$ \n",
    "\n",
    "Ak by uvedená kongruencia mala mať riešenie, potom by muselo platiť, že $514\\mid (6x-15)$. Všimnime si, že $6x-15$ je vždy nepárne číslo (pre akékoľvek celé číslo $x$) a teda nemôže byť deliteľné párnym číslom $514$. Preto daná kongruencia nemá riešenie. Môžeme to dodatočne overiť výpočtom v Sage. "
   ]
  },
  {
   "cell_type": "code",
   "execution_count": 7,
   "metadata": {},
   "outputs": [
    {
     "data": {
      "text/plain": [
       "[]"
      ]
     },
     "execution_count": 7,
     "metadata": {},
     "output_type": "execute_result"
    }
   ],
   "source": [
    "[x for x in range(514) if (6*x-15) % 514 == 0]"
   ]
  },
  {
   "cell_type": "markdown",
   "metadata": {},
   "source": [
    "---\n",
    "\n",
    "#### <font color=blue> Príklad 4 </font>\n",
    "\n",
    "Riešte kongruenciu \n",
    "\n",
    "$$18x\\equiv 8\\,\\,(\\mathrm{mod}\\,\\,22).$$\n",
    "\n",
    "<ins> Riešenie: </ins>\n",
    "\n",
    "Urobíme teraz trochu odlišnú úvahu ako v predchádzajúcich príkladoch a **dáme do súvisu riešenie diofantických rovníc s kongruenciami**. \n",
    "\n",
    "Potrebujeme nájsť hodnotu $x$ tak aby $22\\mid (18x-8)$ čiže hľadáme $x$ aby platilo $18x-8=22y$, inými slovami $(18x-8)$ má byť  nejakým $y$-násobkom čísla $22$ resp. $22$ má deliť $(18x-8)$ bezo zvyšku. Teda riešenie kongruencie môžeme previesť na riešenie lineárnej rovnice v tvare \n",
    "\n",
    "$$18x-22y=8.$$ \n",
    "\n",
    "Vďaka predošlým poznatkom (o riešení lineárnych diofantických rovníc z témy 1) vieme vyriešiť podobnú rovnicu v tvare \n",
    "\n",
    "$$18u-22v=(18,22)=2,$$\n",
    "\n",
    "pričom riešenie (<font color=orange> OVERTE! </font>) je $u=5,v=4$ t.j. $18\\cdot5-22\\cdot4=2$. My však potrebujeme mať na pravej strane rovnice $8$ miesto $2$ a tak vynásobime rovnicu (i jej riešenie) číslom $4$, čím dostaneme \n",
    "\n",
    "$$18\\cdot(5\\cdot4)-22\\cdot(4\\cdot4)=8.$$\n",
    "\n",
    "Nás zaujíma $x$, čo je koeficient pri $18$ rovný číslu $20$ v riešení diofantickej rovnice (ktorá prislúcha zadanej kongruencii), preto po návrate k pôvodej kongruencii máme $18\\cdot20\\equiv 8\\,\\,(\\mathrm{mod}\\,\\,22)$ a teda $x\\equiv 20\\,\\,(\\mathrm{mod}\\,\\,22)$ je riešením pôvodnej úlohy. Prirodzene vzniká otázka, či je to jediné riešenie danej kongruencie? \n",
    "\n",
    "<font color=orange> Overte, že $x\\equiv 20\\,\\,(\\mathrm{mod}\\,\\,22)$ je riešením zadanej kongruencie. Overte, že $x\\equiv 9\\,\\,(\\mathrm{mod}\\,\\,22)$ je tiež riešením. Napíšte (pomôžte si Poznámkou 5), ako vyzerajú všetky riešenia kongruentné s riešením $x=20$ a ako vyzerajú všetky riešenia kongruentné s riešením $x=9$. </font> Je zrejmé, že tieto dve uvedené riešenia sú navzájom nekongruentné (dávajú rôzne zvyšky po delení číslom $22$ resp. nevieme \"dostať\" jedno riešenie z toho druhého alebo opačne). "
   ]
  },
  {
   "cell_type": "code",
   "execution_count": 6,
   "metadata": {},
   "outputs": [
    {
     "data": {
      "text/plain": [
       "20"
      ]
     },
     "execution_count": 6,
     "metadata": {},
     "output_type": "execute_result"
    }
   ],
   "source": [
    "5*8/2"
   ]
  },
  {
   "cell_type": "code",
   "execution_count": 21,
   "metadata": {},
   "outputs": [
    {
     "data": {
      "text/html": [
       "<html><script type=\"math/tex; mode=display\">\\newcommand{\\Bold}[1]{\\mathbf{#1}}\\left[\\left(20\\right), \\left(9\\right)\\right]</script></html>"
      ],
      "text/plain": [
       "[(20,), (9,)]"
      ]
     },
     "metadata": {},
     "output_type": "display_data"
    }
   ],
   "source": [
    "# overenie riesenia v Sage \n",
    "x = var('x') # zavedieme premennu x \n",
    "show(solve_mod(18*x == 8, 22)) # definujeme kongruenciu a zadame prislusny modul  "
   ]
  },
  {
   "cell_type": "markdown",
   "metadata": {},
   "source": [
    "---"
   ]
  },
  {
   "cell_type": "markdown",
   "metadata": {},
   "source": [
    "**O tom, kedy má kongruencia v tvare** \n",
    "\n",
    "$$ax\\equiv c\\,\\,(\\mathrm{mod}\\,\\,m)$$ \n",
    "\n",
    "**riešenie a ako nájsť všetky riešenia pojednáva nasledujúca Veta.** "
   ]
  },
  {
   "cell_type": "markdown",
   "metadata": {},
   "source": [
    "---\n",
    "\n",
    "### <font color=green> Veta 3 (O lineárnych kongruenciách) </font>  \n",
    "\n",
    "Nech $a,c,m\\in\\mathbb{Z}$, $m\\ge1$ a položme $g=(a,m)$. \n",
    "\n",
    "a) Ak $g\\nmid c$ potom kongruencia $ax\\equiv c\\,\\,(\\mathrm{mod}\\,\\,m)$ nemá riešenie. \n",
    "\n",
    "b) Ak $g\\mid c$ potom kongruencia $ax\\equiv c\\,\\,(\\mathrm{mod}\\,\\,m)$ má presne $g$ rôznych (navzájom nekongruentných) riešení. Riešenia kongruencie sa nájdu tak, že najprv sa nájde riešenie $(u_0,v_0)$ lineárnej rovnice\n",
    "\n",
    "$$au+mv=g.$$\n",
    "\n",
    "Potom $x_0=\\dfrac{cu_0}{g}$ je riešením kongruencie $ax\\equiv c\\,\\,(\\mathrm{mod}\\,\\,m)$ a množina všetkých rôznych (navzájom nekongruentných) riešení je daná vzťahom \n",
    "\n",
    "$$x\\equiv x_0+k\\cdot\\dfrac{m}{g}\\,\\,(\\mathrm{mod}\\,\\,m)$$ \n",
    "\n",
    "pre $k\\in\\{0,1,2,\\ldots,g-1\\}$. \n",
    "\n",
    "---"
   ]
  },
  {
   "cell_type": "markdown",
   "metadata": {},
   "source": [
    "---\n",
    "\n",
    "#### <font color=blue> Príklad 5 </font>\n",
    "\n",
    "Napr. kongruencia \n",
    "\n",
    "$$943x\\equiv 381\\,\\,(\\mathrm{mod}\\,\\,2576)$$\n",
    "\n",
    "nemá riešenie (podľa Vety 3) lebo $(943,2576)=23$ nedelí $381$. \n",
    "\n",
    "Na druhej strane kongruencia \n",
    "\n",
    "$$893x\\equiv 266\\,\\,(\\mathrm{mod}\\,\\,2432)$$\n",
    "\n",
    "má $19$ rôznych (navzájom nekongruentných) riešení (podľa Vety 3) lebo $(893,2432)=19$ delí $266$. Všimnime si, že riešenia je možné určiť bez toho, aby sme ich explicitne vypočítali. Aby sme našli tieto riešenia, vyriešime najprv  \n",
    "\n",
    "$$893u-2432v=19.$$\n",
    "\n",
    "Aplikáciou poznatkov z predošlej témy nájdeme riešenie $(u,v)=(79,29)$ (<font color=orange> OVERTE! </font>). Nás zaujíma koeficient pri čísle $893$ a to je $u_0=79$ (lebo v pôvodnej kongruencii je neznáma $x$ pri čísle $893$). Podľa Vety 3 (kde $a=893,c=266,m=2432,g=19$) prenásobime zložku $u_0$ číslom $\\dfrac{c}{g}=\\dfrac{266}{19}=14$ a dostávame tak jedno konkrétne (partikulárne) riešenie \n",
    "\n",
    "$$x_0=\\dfrac{cu_0}{g}=\\dfrac{266\\cdot79}{19}=1106$$\n",
    "\n",
    "zadanej kongruencie. \n",
    "\n",
    "\n",
    "Množinu všetkých riešení kongruencie \n",
    "\n",
    "$$893x\\equiv 266\\,\\,(\\mathrm{mod}\\,\\,2432)$$ \n",
    "\n",
    "dostaneme tak, že začneme s riešením $x_0=1106$ a k tomu pripočítavame celočíselné $k$-násobky čísla $\\dfrac{m}{g}=\\dfrac{2432}{19}=128$. Nezabudnime, že ak číslo v riešení prevýší modul $2432$, tak môžeme hodnotu $2432$ odrátať. Množina všetkých rôznych (nekongruentných) riešení v Sage vyzerá takto: "
   ]
  },
  {
   "cell_type": "code",
   "execution_count": 13,
   "metadata": {},
   "outputs": [
    {
     "data": {
      "text/plain": [
       "[1106,\n",
       " 1234,\n",
       " 1362,\n",
       " 1490,\n",
       " 1618,\n",
       " 1746,\n",
       " 1874,\n",
       " 2002,\n",
       " 2130,\n",
       " 2258,\n",
       " 2386,\n",
       " 82,\n",
       " 210,\n",
       " 338,\n",
       " 466,\n",
       " 594,\n",
       " 722,\n",
       " 850,\n",
       " 978]"
      ]
     },
     "execution_count": 13,
     "metadata": {},
     "output_type": "execute_result"
    }
   ],
   "source": [
    "a = 893\n",
    "c = 266 \n",
    "m = 2432\n",
    "g = gcd(a,m)\n",
    "x0 = 1106\n",
    "[x0+k*m/g if x0+k*m/g < m else x0+k*m/g - m for k in range(g)]"
   ]
  },
  {
   "cell_type": "markdown",
   "metadata": {},
   "source": [
    "Podľa Vety 3 môžeme všetky nekongruentné riešenia napísať v tvare \n",
    "\n",
    "$$x\\equiv x_0+k\\cdot\\dfrac{m}{g}\\,\\,(\\mathrm{mod}\\,\\,m), \\qquad \\text{ pre } k\\in\\{0,1,2,\\ldots,g-1\\},$$\n",
    "\n",
    "čo je po dosadení hodnôt z nášho príkladu to isté ako \n",
    "\n",
    "$$x\\equiv 1106+k\\cdot128\\,\\,(\\mathrm{mod}\\,\\,2432), \\qquad \\text{ pre } k\\in\\{0,1,2,\\ldots,18\\}.$$"
   ]
  },
  {
   "cell_type": "markdown",
   "metadata": {},
   "source": [
    "---"
   ]
  },
  {
   "cell_type": "markdown",
   "metadata": {},
   "source": [
    "<font color=orange> Ako dostaneme podľa Vety 3 druhé spomínané riešenie v Príklade 4? Pre aké $k$? Zapíšte, môžete využiť aj Sage na overenie. </font> "
   ]
  },
  {
   "cell_type": "code",
   "execution_count": null,
   "metadata": {},
   "outputs": [],
   "source": []
  },
  {
   "cell_type": "markdown",
   "metadata": {},
   "source": [
    "---\n",
    "\n",
    "#### Poznámka 6 \n",
    "\n",
    "Dôležitý špeciálny prípad Vety 3 je keď $(a,m)=1$. V tejto situácii  Veta 3 hovorí, že kongruencia \n",
    "\n",
    "$$ax\\equiv c\\,\\,(\\mathrm{mod}\\,\\,m)$$\n",
    "\n",
    "má práve jedno riešenie, ktoré je možné zapísať v tvare \n",
    "\n",
    "$$x\\equiv \\dfrac{c}{a}\\,\\,(\\mathrm{mod}\\,\\,m),$$ \n",
    "\n",
    "avšak treba mať na pamäti, že označenie \"$\\dfrac{c}{a}\\,\\,(\\mathrm{mod}\\,\\,m)$\" je len pohodlnou skratkou (iba formálny zápis, v skutočnosi nedelíme kongruenciu číslom $a$) pre riešenie kongruencie \n",
    "\n",
    "$$ax\\equiv c\\,\\,(\\mathrm{mod}\\,\\,m).$$\n",
    "\n",
    "V skutočnosti potrebujeme kongruenciu $ax\\equiv c\\,\\,(\\mathrm{mod}\\,\\,m)$ vynásobiť (podľa Tvrdenia 3, časť 1. ) vhodnou kongruenciou $d\\equiv d\\,\\,(\\mathrm{mod}\\,\\,m)$ takou, aby $ad\\equiv 1\\,\\,(\\mathrm{mod}\\,\\,m)$, lebo následne v získanej (po vynásobení) kongruencii $adx\\equiv cd\\,\\,(\\mathrm{mod}\\,\\,m)$, môžeme nahradiť $ad$ jednotkou a vyjadríme tak $x$ v tvare $x\\equiv cd\\,\\,(\\mathrm{mod}\\,\\,m)$. \n",
    "\n",
    "Konkrétne napr. $4x\\equiv 1\\,\\,(\\mathrm{mod}\\,\\,5)$ vynásobime kongruenciou $4\\equiv 4\\,\\,(\\mathrm{mod}\\,\\,5)$ a dostaneme $16x\\equiv 4\\,\\,(\\mathrm{mod}\\,\\,5)$, avšak $16\\equiv 1\\,\\,(\\mathrm{mod}\\,\\,5)$, preto môžeme nahradiť $16$ práve $1$ a máme riešenie $x\\equiv 4\\,\\,(\\mathrm{mod}\\,\\,5)$. \n",
    "\n",
    "---"
   ]
  },
  {
   "cell_type": "markdown",
   "metadata": {},
   "source": [
    "<font color=purple> EXTRA (2 body): Napíšte program, ktorý bude riešiť kongruencie v tvare $ax\\equiv c\\,\\,(\\mathrm{mod}\\,\\,m)$. V prípade, keď (a,m) nedelí $c$ nech program vráti chybovú hlášku a hodnotu $(a,m)$, v opačnom prípade nech program vráti všetky (nekongruentné) riešenia danej kongruencie. Po vložení správneho, okomentovaného riešenia spolu s testovacími príkladmi do Google triedy (sekcia Téma 2 - Úlohy k učebnému textu), je možné získať 2 bonusové body. </font> "
   ]
  },
  {
   "cell_type": "code",
   "execution_count": null,
   "metadata": {},
   "outputs": [],
   "source": []
  },
  {
   "cell_type": "markdown",
   "metadata": {},
   "source": [
    "***\n",
    "<a id=zdroje></a>\n",
    " # <font color=brown> Použité zdroje</font>"
   ]
  },
  {
   "cell_type": "markdown",
   "metadata": {},
   "source": [
    "* Crisman K.D. (2020). Number Theory: In Context and Interactive.\n",
    "\n",
    "\n",
    "* Koshy T. (2007). Elementary Number Theory with Applications. Elsevier. \n",
    "\n",
    "\n",
    "* Silverman J. H. (2013). A Friendly Introduction to Number Theory. Pearson. \n",
    "\n",
    "\n",
    "* Stein W. (2009). Elementary Number Theory: Primes, Congruences, and Secrets: A Computational Approach. Springer. \n",
    "\n",
    "\n",
    "* [Prednáška](https://umv.science.upjs.sk/madaras/MZIa/MZIa2011_2.pdf) prof. Madaras."
   ]
  }
 ],
 "metadata": {
  "kernelspec": {
   "display_name": "SageMath 9.1",
   "language": "sage",
   "name": "sagemath"
  },
  "language_info": {
   "codemirror_mode": {
    "name": "ipython",
    "version": 3
   },
   "file_extension": ".py",
   "mimetype": "text/x-python",
   "name": "python",
   "nbconvert_exporter": "python",
   "pygments_lexer": "ipython3",
   "version": "3.7.3"
  }
 },
 "nbformat": 4,
 "nbformat_minor": 2
}
