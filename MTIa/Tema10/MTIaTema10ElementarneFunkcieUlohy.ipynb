{
 "cells": [
  {
   "cell_type": "markdown",
   "metadata": {},
   "source": [
    "**Autor:** Andrej Gajdoš  <br> \n",
    "*[Ústav matematických vied](https://www.upjs.sk/prirodovedecka-fakulta/ustav/umv/), [Prírodovedecká fakulta](https://www.upjs.sk/prirodovedecka-fakulta/), Univerzita Pavla Jozefa Šafárika v Košiciach,* <br> \n",
    "email: [andrej.gajdos@upjs.sk](mailto:andrej.gajdos@upjs.sk)\n",
    "***\n",
    "**_Tento materiál vznikol za podpory grantu VVGS-2021-1758._** \n",
    "*** \n",
    "\n",
    "**<font size=6 color=gold> MTIa: Téma 10 - Elementárne funkcie: úlohy </font>**"
   ]
  },
  {
   "cell_type": "markdown",
   "metadata": {},
   "source": [
    "---\n",
    "\n",
    "**$\\clubsuit$ 1. Vypočítajte podiel polynómov $P(x)=4x^4 - x^3 + 5x^2 +2x-7$ a $Q(x)=x^2 +2$ a urobte skúšku správnosti. Výpočty môžete urobiť aj pomocou Sage.** "
   ]
  },
  {
   "cell_type": "code",
   "execution_count": null,
   "metadata": {},
   "outputs": [],
   "source": []
  },
  {
   "attachments": {
    "uloha_polynomicke_funkcie_grafy.png": {
     "image/png": "[encoded data removed]"
    }
   },
   "cell_type": "markdown",
   "metadata": {},
   "source": [
    "---\n",
    "\n",
    "**$\\clubsuit$ 2. Nájdite možné predpisy funkcií znázornených na nasledujúcich obrázkoch.** \n",
    "\n",
    "![uloha_polynomicke_funkcie_grafy.png](attachment:uloha_polynomicke_funkcie_grafy.png)"
   ]
  },
  {
   "cell_type": "code",
   "execution_count": null,
   "metadata": {},
   "outputs": [],
   "source": []
  },
  {
   "cell_type": "markdown",
   "metadata": {},
   "source": [
    "--- \n",
    "\n",
    "**3. Krabica s objemom $V$ má štvorcovú podstavu s dĺžkou strany $x$. Napíšte vzorec pre výšku krabice $ℎ$ v závislosti od $x$ a $V$. Načrtnite graf $ℎ$ v závislosti od $x$ (pri pevnom $V$).** "
   ]
  },
  {
   "cell_type": "code",
   "execution_count": null,
   "metadata": {},
   "outputs": [],
   "source": []
  },
  {
   "cell_type": "markdown",
   "metadata": {},
   "source": [
    "---\n",
    "\n",
    "**$\\clubsuit$ 4. Podľa automobiového portálu Car and Driver si Alfa Romeo s rýchlosťou 70 mph vyžaduje na zastavenie dráhu 150 stôp. Za predpokladu, že brzdná dráha je úmerná druhej mocnine rýchlosti, nájdite brzdnú dráhu, ktorú vyžaduje Alfa Romeo s rýchlosťou 35 mph a 140 mph.**"
   ]
  },
  {
   "cell_type": "code",
   "execution_count": null,
   "metadata": {},
   "outputs": [],
   "source": []
  },
  {
   "cell_type": "markdown",
   "metadata": {},
   "source": [
    "---\n",
    "\n",
    "**5. Nájdite všetky horizontálne i vertikálne asymptoty uvedených racionálnych funkcií (pomôžte si vzorcami pre rozklady polynómov, nájdením koreňov príslušných polynómov alebo využite Sage; vykreslite si tiež grafy funkcií v Sage):**  \n",
    "\n",
    "$$\\text{a) } \\dfrac{5x-2}{2x+3} \\qquad\\qquad \\clubsuit\\, \\text{b } \\dfrac{x^2+5x+4}{x^2-4} \\qquad\\qquad \\text{c } \\dfrac{5x^3+7x-1}{x^3-27}.$$ "
   ]
  },
  {
   "cell_type": "code",
   "execution_count": null,
   "metadata": {},
   "outputs": [],
   "source": []
  },
  {
   "cell_type": "markdown",
   "metadata": {},
   "source": [
    "---\n",
    "\n",
    "**6. Uveďte príklad polynomickej funkcie tretieho stupňa, ktorá pretína os $x$ v troch bodoch napravo od bodu $x=0$.** Vykreslite aj graf takej funkcie pomocou Sage."
   ]
  },
  {
   "cell_type": "code",
   "execution_count": null,
   "metadata": {},
   "outputs": [],
   "source": []
  },
  {
   "cell_type": "markdown",
   "metadata": {},
   "source": [
    "---\n",
    "\n",
    "**$\\clubsuit$ 7. Uveďte príklad funkcie, ktorá má vertikálnu asymptotu v bode $x=-7\\pi$.** Vykreslite aj graf takej funkcie pomocou Sage. "
   ]
  },
  {
   "cell_type": "code",
   "execution_count": null,
   "metadata": {},
   "outputs": [],
   "source": []
  },
  {
   "cell_type": "markdown",
   "metadata": {},
   "source": [
    "---\n",
    "\n",
    "**$\\clubsuit$ 8. Mesto má populáciu $1 000$ ľudí v čase $t = 0$. Pre každý z nasledujúcich prípadov napíšte vzorec pre populáciu mesta $P$ ako funkciu roku $t$:**\n",
    "\n",
    "**a) Počet obyvateľov v meste stúpa ročne o 50 ľudí;**\n",
    "\n",
    "**b) Počet obyvateľov stúpa ročne o 5%.**"
   ]
  },
  {
   "cell_type": "code",
   "execution_count": null,
   "metadata": {},
   "outputs": [],
   "source": []
  },
  {
   "attachments": {
    "veterna_energia.png": {
     "image/png": "[encoded data removed]"
    }
   },
   "cell_type": "markdown",
   "metadata": {},
   "source": [
    "---\n",
    "\n",
    "**9. Nasledujúe úlohy sa týkajú veternej energie, ktorá sa používa už niekoľko storočí na pohon lodí a mletie obilia. Moderná veterná energia sa získava z veterných mlynov, ktoré prevádzajú veternú energiu na elektrickú energiu. Obrázok nižšie zobrazuje ročný percentuálny nárast spotreby veternej energie v USA medzi rokmi 2009 a 2014.** \n",
    "\n",
    "![veterna_energia.png](attachment:veterna_energia.png)\n",
    "\n",
    "**a) Podľa oddelenia pre energiu v USA bola v roku 2009 spotreba veternej energie 721 biliónov BTU (British thermal unit). Koľko veternej energie spotrebovala USA v roku 2010 a koľko v roku 2011?** \n",
    "\n",
    "**b) Zaznamenajte body znázorňujúce ročnú spotrebu veternej energie v USA v biliónach BTU za roky 2009 až 2014. Stupnice označte na vodorovnej a zvislej osi.** \n",
    "\n",
    "**c) Na základe týchto údajov, v ktorom roku došlo k najväčšiemu ročnému nárastu spotreby veternej energie v USA v biliónoch BTU? Čo mohlo spôsobiť toto zvýšenie?** \n",
    "\n",
    "**d) Podľa uvedeného obrázka, v ktorom roku (rokoch), ak vôbec, vzrástla spotreba veternej energie v USA najmenej o 25% a v ktorom roku sa znížila najmenej o 25% ?** \n"
   ]
  },
  {
   "cell_type": "code",
   "execution_count": null,
   "metadata": {},
   "outputs": [],
   "source": []
  },
  {
   "cell_type": "markdown",
   "metadata": {},
   "source": [
    "---\n",
    "\n",
    "**$\\clubsuit$ 10. Počet obyvateľov Mexika bol $100.3$ milióna v roku 2000 a $120.3$ milióna v roku 2014. Za predpokladu, že sa exponenciálne zvyšuje, nájdite pre populáciu Mexika vzorec ako funkciu času.**"
   ]
  },
  {
   "cell_type": "code",
   "execution_count": null,
   "metadata": {},
   "outputs": [],
   "source": []
  },
  {
   "cell_type": "markdown",
   "metadata": {},
   "source": [
    "---\n",
    "\n",
    "**11. Vyriešte nasledovné rovnice s využitím logaritmov a ich vlastností. Môžete riešiť aj pomocou Sage ale každý krok riešenia je potrebné vedieť zdôvodniť:** \n",
    "\n",
    "$$\\clubsuit\\, \\text{a) } 3^x=11 \\qquad \\text{b) } 50=600e^{-0.4x} \\qquad \\clubsuit\\, \\text{c) } 7^{x+2}=e^{17x} \\qquad \\text{d) } 2x-1=e^{\\ln x^2} \\qquad \\text{e) } 2e^{3x}=4e^{5x} \\qquad \\text{f) } 4e^{2x-3}-5=e.$$"
   ]
  },
  {
   "cell_type": "code",
   "execution_count": null,
   "metadata": {},
   "outputs": [],
   "source": []
  },
  {
   "cell_type": "markdown",
   "metadata": {},
   "source": [
    "---\n",
    "\n",
    "**12. Veľkosť kolónie exponenciálne rastúcich baktérií sa zdvojnásobí za 5 hodín. Ako dlho potrvá, kým sa počet baktérií strojnásobí?**"
   ]
  },
  {
   "cell_type": "code",
   "execution_count": null,
   "metadata": {},
   "outputs": [],
   "source": []
  },
  {
   "cell_type": "markdown",
   "metadata": {},
   "source": [
    "---\n",
    "\n",
    "**13. Uveďte príklad funkcie, ktorá rastie pomalšie ako $y=\\log\\, x$ pre $x>1$.** Experimentujte v Sage - kreslite grafy. "
   ]
  },
  {
   "cell_type": "code",
   "execution_count": null,
   "metadata": {},
   "outputs": [],
   "source": []
  },
  {
   "cell_type": "markdown",
   "metadata": {},
   "source": [
    "---\n",
    "\n",
    "**14. Určte, či sú sínus, kosínus, tangens a kotangens nasledovných uhlov (všetko je v radiánoch) kladné, záporné, nula alebo nedefinované.** Ak je to potrebné, vykreslite si v Sage jednotkovú kružnicu a príslušné uhly.  \n",
    "\n",
    "$$\\text{a) } \\dfrac{3\\pi}{2} \\qquad\\qquad \\text{b) } \\dfrac{\\pi}{4} \\qquad\\qquad \\text{c) } -\\dfrac{4\\pi}{3} \\qquad\\qquad \\text{d) } 4 \\qquad\\qquad \\text{e) } -1 .$$ "
   ]
  },
  {
   "cell_type": "code",
   "execution_count": null,
   "metadata": {},
   "outputs": [],
   "source": []
  },
  {
   "cell_type": "markdown",
   "metadata": {},
   "source": [
    "---\n",
    "\n",
    "**15. Zistite aká je amplitúda a perióda nasledujúcich funkcií.** Pomôžte si grafmi v Sage. \n",
    "\n",
    "$$\\text{a) } y=5\\sin\\,(2t) \\qquad\\qquad \\text{b) } y=-5\\sin\\,\\left(\\dfrac{t}{2}\\right) \\qquad\\qquad \\text{c) } y=1+2\\sin\\,t \\qquad\\qquad \\clubsuit\\, \\text{d) } y=3\\cos\\,(u/4)+5 \\qquad\\qquad \\text{e) } y=8-4\\sin\\,(2x+\\pi).$$ "
   ]
  },
  {
   "cell_type": "code",
   "execution_count": null,
   "metadata": {},
   "outputs": [],
   "source": []
  },
  {
   "attachments": {
    "uloha_grafy_sinusy.png": {
     "image/png": "[encoded data removed]"
    }
   },
   "cell_type": "markdown",
   "metadata": {},
   "source": [
    "--- \n",
    "\n",
    "**$\\clubsuit$ 16. Nájdite možné predpisy (vzorce) pre nasledujúce sínusoidálne funkcie.** Overte správnosť nájdeného predpisu funkcie grafom v Sage.  \n",
    "\n",
    "![uloha_grafy_sinusy.png](attachment:uloha_grafy_sinusy.png)"
   ]
  },
  {
   "cell_type": "code",
   "execution_count": null,
   "metadata": {},
   "outputs": [],
   "source": []
  },
  {
   "cell_type": "markdown",
   "metadata": {},
   "source": [
    "--- \n",
    "\n",
    "**17. Nájdite predpis funkcie sínus, ktorá má periódu $p=23$.** Pomôžte si grafom v Sage. "
   ]
  },
  {
   "cell_type": "code",
   "execution_count": null,
   "metadata": {},
   "outputs": [],
   "source": []
  },
  {
   "cell_type": "markdown",
   "metadata": {},
   "source": [
    "--- \n",
    "\n",
    "**$\\clubsuit$ 18. Výkon $P$ solárneho panela sa mení v závislosti od polohy slnka. Nech $P = 10\\sin\\,\\theta$ wattov, kde $\\theta$ je uhol medzi slnečnými lúčmi a panelom, $0\\le\\theta\\le\\pi$. V typický letný deň v Ann Arbor, Michigan, slnko vychádza o 6 hodine ráno a zapadá o 20:00 a uhol (pri východe) je $\\theta = \\pi t/14$, kde $t$ je čas v hodinách od 6:00 (do 20:00), čiže $0 \\le t \\le 14$.** \n",
    "\n",
    "**a) Nájdite predpis funkcie $f(t)$, ktorá udáva výkon solárneho panela (vo wattoch) $t$ hodín po $6$-tej hodine počas typického letného dňa v Ann Arbor.** \n",
    "\n",
    "**b) Zobrazte graf funkcie $f(t)$ z časti a).** \n",
    "\n",
    "**c) Kedy je najväčší výkon? Aký je výstupný výkon práve teraz?**\n",
    "\n",
    "**d) V typický zimný deň v Ann Arbor slnko vychádza o 8 hodine ráno a zapadá o 17:00. Napíšte vzorec pre funkciu $g(t)$, ktorá udáva výkon solárneho panelu (vo wattoch) $t$ hodín po 8. hodine počas typického zimného dňa.**"
   ]
  },
  {
   "cell_type": "code",
   "execution_count": null,
   "metadata": {},
   "outputs": [],
   "source": []
  }
 ],
 "metadata": {
  "kernelspec": {
   "display_name": "SageMath 9.2",
   "language": "sage",
   "name": "sagemath"
  },
  "language_info": {
   "codemirror_mode": {
    "name": "ipython",
    "version": 3
   },
   "file_extension": ".py",
   "mimetype": "text/x-python",
   "name": "python",
   "nbconvert_exporter": "python",
   "pygments_lexer": "ipython3",
   "version": "3.7.7"
  }
 },
 "nbformat": 4,
 "nbformat_minor": 2
}
