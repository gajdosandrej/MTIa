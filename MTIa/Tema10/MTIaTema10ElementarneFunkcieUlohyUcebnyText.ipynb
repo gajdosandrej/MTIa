{
 "cells": [
  {
   "cell_type": "markdown",
   "metadata": {},
   "source": [
    "**Autor:** Andrej Gajdoš  <br> \n",
    "*[Ústav matematických vied](https://www.upjs.sk/prirodovedecka-fakulta/ustav/umv/), [Prírodovedecká fakulta](https://www.upjs.sk/prirodovedecka-fakulta/), Univerzita Pavla Jozefa Šafárika v Košiciach,* <br> \n",
    "email: [andrej.gajdos@upjs.sk](mailto:andrej.gajdos@upjs.sk)\n",
    "***\n",
    "**_Tento materiál vznikol za podpory grantu VVGS-2021-1758._** \n",
    "*** \n",
    "\n",
    "**<font size=6 color=gold> MTIa: Téma 10 - Elementárne funkcie: úlohy k učebnému textu </font>**"
   ]
  },
  {
   "cell_type": "markdown",
   "metadata": {},
   "source": [
    "---\n",
    "\n",
    "**1. Experimentujte (v Sage) s lineárnou funkciou v tvare $y=ax+b$, t.j. vezmite konkrétnu funkciu (z Príkladu 1 alebo vymyslite inú) a všímajte si, ako sa mení graf (a vlastnosti funkcie), keď meníte koeficienty $a,b$ (nulové, kladné, záporné). Vykreslite niekoľko rôznych grafov v Sage a svoje pozorovania popíšte slovne.**"
   ]
  },
  {
   "cell_type": "code",
   "execution_count": null,
   "metadata": {},
   "outputs": [],
   "source": []
  },
  {
   "cell_type": "markdown",
   "metadata": {},
   "source": [
    "---\n",
    "\n",
    "**2. Experimentujte s kvadratickou funkciou v tvare $y=ax^2+bx+c$, t.j. vezmite konkrétnu funkciu (z Príkladu 2 alebo vymyslite inú) a všímajte si, ako sa mení graf (a vlastnosti funkcie), keď meníte koeficienty $a,b,c$ (nulové, kladné, záporné). Vykreslite niekoľko rôznych grafov v Sage a svoje pozorovania popíšte slovne.**"
   ]
  },
  {
   "cell_type": "code",
   "execution_count": null,
   "metadata": {},
   "outputs": [],
   "source": []
  },
  {
   "cell_type": "markdown",
   "metadata": {},
   "source": [
    "--- \n",
    "\n",
    "**3. Pomocou Sage načrtnite graf funkcie $y=\\dfrac{1}{x^2+4}$. Určte, aká priamka je horizontálnou asymptotou grafu tejto funkcie a načrtnite ju.**"
   ]
  },
  {
   "cell_type": "code",
   "execution_count": null,
   "metadata": {},
   "outputs": [],
   "source": []
  },
  {
   "cell_type": "markdown",
   "metadata": {},
   "source": [
    "---\n",
    "\n",
    "**4. Pre každé pravidlo počítania s mocninami uvedené v učebnom texte vymyslite konkrétny príklad a ilustrujte platnosť vzťahov v Sage (overte pravú aj ľavú stranu na konkrétnom príklade). Pravidlá pre počítanie s mocninami si môžete skúsiť v Sage overiť aj všeobecne (symbolicky) tak, ako sú sformulované v texte (symbolický výpočet v Sage - bonus za 1 bod).**  \n"
   ]
  },
  {
   "cell_type": "code",
   "execution_count": null,
   "metadata": {},
   "outputs": [],
   "source": []
  },
  {
   "cell_type": "markdown",
   "metadata": {},
   "source": [
    "---\n",
    "\n",
    "**5. Vykreslite v Sage grafy funkcií $f(t)=(1.029)^t$, $g(t)=14.235\\cdot(1.029)^t$ z Príkladu 6. V čom sa líšia grafy? Čo spôsobilo v grafe funkcie $f(t)$ prenásobenie konštantou $14.235$? Čo by sa stalo s grafom funkcie $f(t)$, keď by sme $f(t)$ prenásobili číslom $0.2$ ? Pomôžte si so Sage.**  \n"
   ]
  },
  {
   "cell_type": "code",
   "execution_count": null,
   "metadata": {},
   "outputs": [],
   "source": []
  },
  {
   "cell_type": "markdown",
   "metadata": {},
   "source": [
    "---\n",
    "\n",
    "**6. Pre každé pravidlo počítania s logaritmami uvedené v učebnom texte vymyslite konkrétny príklad a ilustrujte platnosť vzťahov v Sage (overte pravú aj ľavú stranu na konkrétnom príklade). Pravidlá pre počítanie s logaritmami si môžete skúsiť v Sage overiť aj všeobecne (symbolicky) tak, ako sú sformulované v texte (symbolický výpočet v Sage - bonus za 1 bod).**"
   ]
  },
  {
   "cell_type": "code",
   "execution_count": null,
   "metadata": {},
   "outputs": [],
   "source": []
  },
  {
   "cell_type": "markdown",
   "metadata": {},
   "source": [
    "---\n",
    "\n",
    "**7. Vykreslite v Sage grafy funkcií $y=10^x$, $y=\\log x$ a tiež priamku $y=x$ (ideálne všetko do jedného obrázka). Čo môžete povedať o grafoch a o rýchlosti rastu smerom do nekonečna uvedenej exponenciálnej a logaritmickej funkcie? Do nového grafu vykreslite ešte funkciu $y=\\ln x$. Majú funkcie $y=\\log x$, $y=\\ln x$ verikálnu asymptotu? Ak áno, je rovnaká pre obe funkcie?**"
   ]
  },
  {
   "cell_type": "code",
   "execution_count": null,
   "metadata": {},
   "outputs": [],
   "source": []
  },
  {
   "cell_type": "markdown",
   "metadata": {},
   "source": [
    "**8. Vyskúšajte si v Sage horizontálne a vertikálne posuny grafov na konkrétnych sínusoidálnych funkciách - napr.: $\\sin3x$, $2\\cos x$, $2\\cos4x$, $4\\sin3x-2$ a pod. Viete popísať či a ako sa zmení perióda oproti funkciám $\\sin x$, $\\cos x$ ? Grafy funkcií môžete kresliť v Sage s využitím ktorýchkoľvek kódov z témy 9 a 10 alebo môžete využiť interaktívny kód na konci učebného textu k téme 10.** "
   ]
  },
  {
   "cell_type": "code",
   "execution_count": null,
   "metadata": {},
   "outputs": [],
   "source": []
  },
  {
   "cell_type": "markdown",
   "metadata": {},
   "source": [
    "**9. Uvažujte funkciu $g(x)=1/x$. Aj s využitím interaktívneho kódu nájdite predpisy (a vykreslite grafy) pre nasledujúce transformácie grafu tejto funkcie:**\n",
    "\n",
    "* **posun o 2 hore;** \n",
    "\n",
    "\n",
    "* **posun o 3 dole;** \n",
    "\n",
    "\n",
    "* **posun o 4 vpravo;** \n",
    "\n",
    "\n",
    "* **posun o 5 vľavo;** \n",
    "\n",
    "\n",
    "* **natiahnutie o 2 v smere osi $y$;** \n",
    "\n",
    "\n",
    "* **stiahnutie o 3 v smere osi $x$;** \n",
    "\n",
    "\n",
    "* **prevrátenie \"hore nohami\".**"
   ]
  },
  {
   "cell_type": "code",
   "execution_count": null,
   "metadata": {},
   "outputs": [],
   "source": []
  },
  {
   "cell_type": "markdown",
   "metadata": {},
   "source": [
    "**10. Aké <font color=red> konkrétne </font> otázky máte k náplni študijných materiálov, ktoré by ste chceli na hodine prediskutovať?** "
   ]
  },
  {
   "cell_type": "code",
   "execution_count": null,
   "metadata": {},
   "outputs": [],
   "source": []
  }
 ],
 "metadata": {
  "kernelspec": {
   "display_name": "SageMath 9.1",
   "language": "sage",
   "name": "sagemath"
  },
  "language_info": {
   "codemirror_mode": {
    "name": "ipython",
    "version": 3
   },
   "file_extension": ".py",
   "mimetype": "text/x-python",
   "name": "python",
   "nbconvert_exporter": "python",
   "pygments_lexer": "ipython3",
   "version": "3.7.3"
  }
 },
 "nbformat": 4,
 "nbformat_minor": 2
}
