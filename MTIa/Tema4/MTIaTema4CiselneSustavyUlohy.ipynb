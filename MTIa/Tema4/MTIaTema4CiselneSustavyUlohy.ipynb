{
 "cells": [
  {
   "cell_type": "markdown",
   "metadata": {},
   "source": [
    "**Autor:** Andrej Gajdoš  <br> \n",
    "*[Ústav matematických vied](https://www.upjs.sk/prirodovedecka-fakulta/ustav/umv/), [Prírodovedecká fakulta](https://www.upjs.sk/prirodovedecka-fakulta/), Univerzita Pavla Jozefa Šafárika v Košiciach,* <br> \n",
    "email: [andrej.gajdos@upjs.sk](mailto:andrej.gajdos@upjs.sk)\n",
    "***\n",
    "**_Tento materiál vznikol za podpory grantu VVGS-2021-1758._** \n",
    "*** \n",
    "\n",
    "**<font size=6 color=gold> MTIa: Téma 4 - Číselné sústavy: úlohy </font>**"
   ]
  },
  {
   "cell_type": "markdown",
   "metadata": {},
   "source": [
    "----\n",
    "\n",
    "**1. Vyjadrite nasledujúce čísla v dvojkovej sústave a svoje riešenia overte v Sage:** \n",
    "\n",
    "$$\\text{a) } (593)_{10}; \\qquad\\qquad \\text{b) } (326)_{10}; \\qquad\\qquad \\text{c) } (79)_{10};$$ \n",
    "\n",
    "$$\\text{d) } (F018)_{16}; \\qquad\\qquad \\text{e) } (172)_{16}; \\qquad\\qquad \\text{f) } (613)_{8};$$ \n",
    "\n",
    "$$\\text{g) } (3C)_{16}; \\qquad\\qquad \\text{h) } (100)_{16}; \\qquad\\qquad \\text{i) } (E51)_{8}; \\qquad\\qquad \\text{j) } (39)_{10}.$$"
   ]
  },
  {
   "cell_type": "code",
   "execution_count": null,
   "metadata": {},
   "outputs": [],
   "source": []
  },
  {
   "cell_type": "markdown",
   "metadata": {},
   "source": [
    "--- \n",
    "\n",
    "**2. Vyjadrite nasledujúce čísla v osmičkovej sústave a svoje riešenia overte v Sage:** \n",
    "\n",
    "$$\\text{a) } (913)_{10}; \\qquad\\qquad \\text{b) } (845)_{10}; \\qquad\\qquad \\text{c) } (66)_{10}; \\qquad\\qquad \\text{d) } (250)_{10}.$$ "
   ]
  },
  {
   "cell_type": "code",
   "execution_count": null,
   "metadata": {},
   "outputs": [],
   "source": []
  },
  {
   "cell_type": "markdown",
   "metadata": {},
   "source": [
    "**3. Vyjadrite nasledujúce čísla v desiatkovej sústave a svoje riešenia overte v Sage:** \n",
    "\n",
    "$$\\text{a) } (110101)_{2}; \\qquad\\qquad \\text{b) } (1703)_{8}; \\qquad\\qquad \\text{c) } (COF5)_{16}; \\qquad\\qquad \\text{d) } (1101010101)_{2}; \\qquad\\qquad \\text{e) } (1753)_{8}.$$ "
   ]
  },
  {
   "cell_type": "code",
   "execution_count": null,
   "metadata": {},
   "outputs": [],
   "source": []
  },
  {
   "cell_type": "markdown",
   "metadata": {},
   "source": [
    "---\n",
    "\n",
    "**4. Urobte nasledovné konverzie a svoje riešenia overte pomocou Sage:** \n",
    "\n",
    "$$\\clubsuit\\,\\text{a) } (514)_{8}=(?)_{10}; \\qquad\\qquad \\clubsuit\\,\\text{b) } (220)_{8}=(?)_{2}; \\qquad\\qquad \\clubsuit\\,\\text{c) } (76F)_{16}=(?)_{10};$$ \n",
    "\n",
    "$$\\text{d) } (4D9)_{16}=(?)_{10}; \\qquad\\qquad \\clubsuit\\,\\text{e) } (11001010)_{2}=(?)_{10}; \\qquad\\qquad \\text{f) } (1010111)_{2}=(?)_{10}.$$ "
   ]
  },
  {
   "cell_type": "code",
   "execution_count": null,
   "metadata": {},
   "outputs": [],
   "source": []
  },
  {
   "cell_type": "markdown",
   "metadata": {},
   "source": [
    "---\n",
    "\n",
    "**5. Urobte nasledovné konverzie a svoje riešenia overte pomocou Sage:** \n",
    "\n",
    "$$\\text{a) } (54)_{10}=(?)_{2}; \\qquad\\qquad \\clubsuit\\,\\text{b) } (120)_{10}=(?)_{2}; \\qquad\\qquad \\text{c) } (76)_{10}=(?)_{8};$$ \n",
    "\n",
    "$$\\clubsuit\\,\\text{d) } (889)_{10}=(?)_{8}; \\qquad\\qquad \\clubsuit\\,\\text{e) } (789)_{10}=(?)_{16}; \\qquad\\qquad \\text{f) } (108)_{10}=(?)_{16}.$$"
   ]
  },
  {
   "cell_type": "code",
   "execution_count": null,
   "metadata": {},
   "outputs": [],
   "source": []
  },
  {
   "cell_type": "markdown",
   "metadata": {},
   "source": [
    "--- \n",
    "\n",
    "**6. Nájdite decimálne reprezentácie zadaných oktálnych čísel a svoje riešenia overte v Sage:** \n",
    "\n",
    "$$\\text{a) } 145; \\qquad\\qquad \\text{b) } 6760; \\qquad\\qquad \\text{c) } 455; \\qquad\\qquad \\text{d) } 10.75.$$ "
   ]
  },
  {
   "cell_type": "code",
   "execution_count": null,
   "metadata": {},
   "outputs": [],
   "source": []
  },
  {
   "cell_type": "markdown",
   "metadata": {},
   "source": [
    "---\n",
    "\n",
    "**7. Nájdite hexadecimálne reprezentácie zadaných decimálnych čísel a svoje riešenia overte v Sage:** \n",
    "\n",
    "$$\\text{a) } 548; \\qquad\\qquad \\text{b) } 4052; \\qquad\\qquad \\text{c) } 58; \\qquad\\qquad \\text{d) } 100.25.$$ "
   ]
  },
  {
   "cell_type": "code",
   "execution_count": null,
   "metadata": {},
   "outputs": [],
   "source": []
  },
  {
   "cell_type": "markdown",
   "metadata": {},
   "source": [
    "---\n",
    "\n",
    "**8. Nájdite decimálne reprezentácie zadaných hexadecimálnych čísel a svoje riešenia overte v Sage:** \n",
    "\n",
    "$$\\text{a) } 4A2; \\qquad\\qquad \\text{b) } 9E1A; \\qquad\\qquad \\text{c) } 6BD; \\qquad\\qquad \\text{d) } 6C.34.$$ "
   ]
  },
  {
   "cell_type": "code",
   "execution_count": null,
   "metadata": {},
   "outputs": [],
   "source": []
  },
  {
   "cell_type": "markdown",
   "metadata": {},
   "source": [
    "---\n",
    "\n",
    "**9. Urobte konverziu zadaných binárnych čísel do oktálnej i hexadecimálmej čiselnej sústavy a svoje riešenia overte v Sage:** \n",
    "\n",
    "$$\\clubsuit\\,\\text{a) } 1110001000; \\qquad\\qquad \\text{b) } 110110101; \\qquad\\qquad \\text{c) } 1010100; \\qquad\\qquad \\text{d) } 1010.1001;$$ \n",
    "\n",
    "$$\\text{e) } 1011001; \\qquad\\qquad \\text{f) } 110111; \\qquad\\qquad \\text{g) } 10101010; \\qquad\\qquad \\text{h) } 1001101$$ \n",
    "\n",
    "$$\\text{i) } 1100; \\qquad\\qquad \\text{j) } 10100111100100; \\qquad\\qquad \\text{k) } \\clubsuit\\,11101011010; \\qquad\\qquad \\text{l) } 11101011010.$$"
   ]
  },
  {
   "cell_type": "code",
   "execution_count": null,
   "metadata": {},
   "outputs": [],
   "source": []
  },
  {
   "cell_type": "markdown",
   "metadata": {},
   "source": [
    "--- \n",
    "\n",
    "**10. Zapíšte dané oktálne čísla v binárnej číselnej sústave a svoje riešenia overte v Sage:** \n",
    "\n",
    "$$\\text{a) } 2306; \\qquad\\qquad \\text{b) } 5610; \\qquad\\qquad \\text{c) } 742; \\qquad\\qquad \\text{d) } 65.203;$$ \n",
    "\n",
    "$$\\text{e) } 44; \\qquad\\qquad \\text{f) } 100; \\qquad\\qquad \\text{g) } 327; \\qquad\\qquad \\text{h) } 351.$$ "
   ]
  },
  {
   "cell_type": "code",
   "execution_count": null,
   "metadata": {},
   "outputs": [],
   "source": []
  },
  {
   "cell_type": "markdown",
   "metadata": {},
   "source": [
    "--- \n",
    "\n",
    "**11. Zapíšte dané hexadecimálne čísla v binárnej číselnej sústave a svoje riešenia overte v Sage:** \n",
    "\n",
    "$$\\text{a) } 4026; \\qquad\\qquad \\text{b) } BCA1; \\qquad\\qquad \\text{c) } 98E; \\qquad\\qquad \\text{d) } 132.45; \\qquad\\qquad \\text{e) } B73C.$$ "
   ]
  },
  {
   "cell_type": "code",
   "execution_count": null,
   "metadata": {},
   "outputs": [],
   "source": []
  },
  {
   "cell_type": "markdown",
   "metadata": {},
   "source": [
    "--- \n",
    "\n",
    "**$\\clubsuit$ 12. Zakódujte slovo \"COMPUTER\" pomocou ASCII a hodnotu kódovania preveďte do binárnej sústavy.** "
   ]
  },
  {
   "cell_type": "code",
   "execution_count": null,
   "metadata": {},
   "outputs": [],
   "source": []
  },
  {
   "cell_type": "markdown",
   "metadata": {},
   "source": [
    "---\n",
    "\n",
    "**13. Čísla zadané v desiatkovej sústave konvertujte do príslušnej sústavy so základom $b$ a svoje riešenia skontrolujte pomocou Sage:** \n",
    "\n",
    "\n",
    "$$\\text{a) } (40)_{10}=(?)_{4}; \\qquad\\qquad \\text{b) } (17)_{10}=(?)_{5}; \\qquad\\qquad \\text{c) } (17)_{10}=(?)_{2};$$ \n",
    "\n",
    "$$\\text{d) } (123456)_{10}=(?)_{7}; \\qquad\\qquad \\text{e) } (22875)_{10}=(?)_{7}; \\qquad\\qquad \\text{f) } (126)_{10}=(?)_{16}.$$"
   ]
  },
  {
   "cell_type": "code",
   "execution_count": null,
   "metadata": {},
   "outputs": [],
   "source": []
  },
  {
   "cell_type": "markdown",
   "metadata": {},
   "source": [
    "---\n",
    "\n",
    "**14. Vypočítajte zadané súčty a svoje riešenia overte v Sage:** \n",
    "\n",
    "$$\\text{a) } 3_7+1_7; \\qquad\\qquad \\text{b) } 5_6+4_6; \\qquad\\qquad \\clubsuit\\,\\text{c) } 110_2+1011_2;$$ \n",
    "\n",
    "$$\\clubsuit\\,\\text{d) } 122_3+201_3; \\qquad\\qquad \\text{e) } 43_5+10_5; \\qquad\\qquad \\clubsuit\\,\\text{f) } 3_5+1_7.$$"
   ]
  },
  {
   "cell_type": "code",
   "execution_count": null,
   "metadata": {},
   "outputs": [],
   "source": []
  },
  {
   "cell_type": "markdown",
   "metadata": {},
   "source": [
    "---\n",
    "\n",
    "**15. Sčítajte nasledujúce dvojice čísel v dvojkovej číselnej sústave s urobte kontrolu v Sage:** \n",
    "\n",
    "$$\\text{a) } 9_{10} \\text{ a } 6_{10}; \\qquad\\qquad \\text{b) } 94_{10} \\text{ a } 90_{10}; \\qquad\\qquad \\text{c) } (10011.11)_{2} \\text{ a } (1001.10)_{2}.$$ "
   ]
  },
  {
   "cell_type": "code",
   "execution_count": null,
   "metadata": {},
   "outputs": [],
   "source": []
  },
  {
   "cell_type": "markdown",
   "metadata": {},
   "source": [
    "---\n",
    "\n",
    "**$\\clubsuit$ 16. Odčítajte čísla $(10011.11)_2$ a $(1001.10)_2$ v dvojkovej číselnej sústave s urobte kontrolu v Sage:** "
   ]
  },
  {
   "cell_type": "code",
   "execution_count": null,
   "metadata": {},
   "outputs": [],
   "source": []
  },
  {
   "cell_type": "markdown",
   "metadata": {},
   "source": [
    "--- \n",
    "\n",
    "**17. Vypočítajte zadané rozdiely a svoje riešenia overte v Sage:**  \n",
    "\n",
    "$$\\clubsuit\\,\\text{a) } 5_8−2_8; \\qquad\\qquad \\text{b) } 100_2−1_2; \\qquad\\qquad \\text{c) } 527_8−333_8;$$ \n",
    "\n",
    "$$\\text{d) } 210_3−21_3; \\qquad\\qquad \\clubsuit\\,\\text{e) } 43_5−14_5; \\qquad\\qquad \\text{f) } 3_7−11_7.$$\n"
   ]
  },
  {
   "cell_type": "code",
   "execution_count": null,
   "metadata": {},
   "outputs": [],
   "source": []
  },
  {
   "cell_type": "markdown",
   "metadata": {},
   "source": [
    "--- \n",
    "\n",
    "**18. Vypočítajte zadané súčiny a svoje riešenia overte v Sage:**  \n",
    "\n",
    "$$\\clubsuit\\,\\text{a) } 110_2\\cdot10_2; \\qquad\\qquad \\text{b) } 110_2\\cdot11_2; \\qquad\\qquad \\clubsuit\\,\\text{c) } 110_3\\cdot11_3;$$ \n",
    "\n",
    "$$\\text{d) } 43_5\\cdot2_5; \\qquad\\qquad \\text{e) } 720_8\\cdot15_8; \\qquad\\qquad \\text{f) } 210_3\\cdot12_3; \\qquad\\qquad \\text{g) } 101_2\\cdot11_2.$$"
   ]
  },
  {
   "cell_type": "code",
   "execution_count": null,
   "metadata": {},
   "outputs": [],
   "source": []
  },
  {
   "cell_type": "markdown",
   "metadata": {},
   "source": [
    "--- \n",
    "\n",
    "**19. Určte číslo $k_2$ tak, aby platilo $11000_2+k_2=101010_2$.**"
   ]
  },
  {
   "cell_type": "code",
   "execution_count": null,
   "metadata": {},
   "outputs": [],
   "source": []
  },
  {
   "cell_type": "markdown",
   "metadata": {},
   "source": [
    "--- \n",
    "\n",
    "**$\\clubsuit$ 20.**\n",
    "\n",
    "**a) Reprezentujte číslo $7$ v sedmičkovej sústave, číslo $37$ v $37$-čkovej sústave a číslo $4$ v štvorkovej sústave. Čo ste si všimli? Skúste všeobecne formulovať svoje pozorovanie.** \n",
    "\n",
    "**b) Určte hodnotu základu $b$ aby platilo $13=10_b$. Ďalej určte hodnotu základu $b$ aby platilo $100=10_b$. Pre aké prirodzené čísla $a$ existuje základ $b$ taký, že platí $a=10_b$ ?** \n",
    "\n",
    "Na prípadné experimenty využite Sage. "
   ]
  },
  {
   "cell_type": "code",
   "execution_count": null,
   "metadata": {},
   "outputs": [],
   "source": []
  },
  {
   "cell_type": "markdown",
   "metadata": {},
   "source": [
    "--- \n",
    "\n",
    "**$\\clubsuit$ 21.** \n",
    "\n",
    "**a) Vyjadrite číslo $400$ v dvadsiatkovej sústave, číslo $4$ v dvojkovej sústave, číslo $64$ v osmičkovej sústave a číslo $289$ v sedemnástkovej sústave. Čo ste si všimli? Skúste všeobecne formulovať svoje pozorovanie.** \n",
    "\n",
    "**b) Určte takú hodnotu základu $b$ aby platilo $25=100_b$. Taktiež určte také $b$, že $841=100_b$. Pre ktoré prirodzené čísla $a$ existuje také $b$, že bude platiť $a=100_b$ ?** \n",
    "\n",
    "**c) Pre ktoré prirodzené čísla $a$ existuje také $b$, že bude platiť $a=1000_b$ ?** \n",
    "\n",
    "Na prípadné experimenty využite Sage.  "
   ]
  },
  {
   "cell_type": "code",
   "execution_count": null,
   "metadata": {},
   "outputs": [],
   "source": []
  }
 ],
 "metadata": {
  "kernelspec": {
   "display_name": "SageMath 9.2",
   "language": "sage",
   "name": "sagemath"
  },
  "language_info": {
   "codemirror_mode": {
    "name": "ipython",
    "version": 3
   },
   "file_extension": ".py",
   "mimetype": "text/x-python",
   "name": "python",
   "nbconvert_exporter": "python",
   "pygments_lexer": "ipython3",
   "version": "3.7.7"
  }
 },
 "nbformat": 4,
 "nbformat_minor": 2
}
