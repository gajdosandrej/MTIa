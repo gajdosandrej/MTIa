{
 "cells": [
  {
   "cell_type": "markdown",
   "metadata": {},
   "source": [
    "**Autor:** Andrej Gajdoš  <br> \n",
    "*[Ústav matematických vied](https://www.upjs.sk/prirodovedecka-fakulta/ustav/umv/), [Prírodovedecká fakulta](https://www.upjs.sk/prirodovedecka-fakulta/), Univerzita Pavla Jozefa Šafárika v Košiciach,* <br> \n",
    "email: [andrej.gajdos@upjs.sk](mailto:andrej.gajdos@upjs.sk)\n",
    "***\n",
    "**_Tento materiál vznikol za podpory grantu VVGS-2021-1758._** \n",
    "*** \n",
    "\n",
    "**<font size=6 color=gold> MTIa: Téma 4 - Číselné sústavy: úlohy k učebnému textu </font>**"
   ]
  },
  {
   "cell_type": "markdown",
   "metadata": {},
   "source": [
    "---\n",
    "\n",
    "**1. Podobne ako v Príklade 2, s využitím Sage a [tabuľky ASCII kódov](https://en.wikipedia.org/wiki/List_of_Unicode_characters) (druhá tabuľka zhora) nájdite binárne vyjadrenia pre všetky písmená v slove MATEMATIKA.**"
   ]
  },
  {
   "cell_type": "code",
   "execution_count": null,
   "metadata": {},
   "outputs": [],
   "source": []
  },
  {
   "cell_type": "markdown",
   "metadata": {},
   "source": [
    "---\n",
    "\n",
    "**2. Podľa príkladu s číslom $123.45$ alebo s číslom $237.25$ z učebného textu zapíšte číslo $8204.11$ v desiatkovej sústave pomocou mocnín základu - t.j. pomocou mocnín čísla $10$ (resp. pomocou súčtu súčinov pozičných hodnôt a číslic).**"
   ]
  },
  {
   "cell_type": "code",
   "execution_count": null,
   "metadata": {},
   "outputs": [],
   "source": []
  },
  {
   "cell_type": "markdown",
   "metadata": {},
   "source": [
    "---\n",
    "\n",
    "**3. Podľa príkladov z učebného textu rozpíšte binárne čísla $(1001011)_2$, $(111111.01)_2$ pomocou mocnín základu - t.j. mocnín dvojky (resp. pomocou súčtu súčinov pozičných hodnôt a číslic) a nájdite ich hodnoty resp. vyjadrenia v desiatkovej sústave. Svoje riešenia overte v Sage.**"
   ]
  },
  {
   "cell_type": "code",
   "execution_count": null,
   "metadata": {},
   "outputs": [],
   "source": []
  },
  {
   "cell_type": "markdown",
   "metadata": {},
   "source": [
    "--- \n",
    "\n",
    "**4. Nájdite vyjadrenia pre $(13)_8$ a $(617.24)_8$ pomocou mocnín základu - t.j. mocnín čísla $8$ (resp. pomocou súčtu súčinov pozičných hodnôt a číslic) a napíšte tak hodnoty týchto čísel (zadaných v osmičkovej sústave) v desiatkovej sústave. Svoje riešenia overte v Sage.**"
   ]
  },
  {
   "cell_type": "code",
   "execution_count": null,
   "metadata": {},
   "outputs": [],
   "source": []
  },
  {
   "cell_type": "markdown",
   "metadata": {},
   "source": [
    "--- \n",
    "\n",
    "**5. Podľa príkladu z učebného textu rozpíšte hexadecimálne čísla $(23A.05)_{16}$, $(619B.A)_{16}$ pomocou mocnín základu - t.j. mocnín šestnástky (resp. pomocou súčtu súčinov pozičných hodnôt a číslic) a nájdite ich hodnoty resp. vyjadrenia v desiatkovej sústave. Svoje riešenia overte v Sage.**"
   ]
  },
  {
   "cell_type": "code",
   "execution_count": null,
   "metadata": {},
   "outputs": [],
   "source": []
  },
  {
   "cell_type": "markdown",
   "metadata": {},
   "source": [
    "--- \n",
    "\n",
    "**6. Overte v Sage, že kódy farieb v desiatkovej sústave z tabuľky v učebnom texte majú uvedené binárne a hexadecimálne reprezentácie.**"
   ]
  },
  {
   "cell_type": "code",
   "execution_count": null,
   "metadata": {},
   "outputs": [],
   "source": []
  },
  {
   "cell_type": "markdown",
   "metadata": {},
   "source": [
    "---\n",
    "\n",
    "**7. Dôkladným rozpísaním  preveďte (obidva sčítance i výsledok) príklad $457_8 + 325_8 = 1004_8$  do desiatkovej sústavy a tam ho vypočítajte. Svoje riešenie (prevody aj sčítanie) skontrolujte v Sage.**"
   ]
  },
  {
   "cell_type": "code",
   "execution_count": null,
   "metadata": {},
   "outputs": [],
   "source": []
  },
  {
   "cell_type": "markdown",
   "metadata": {},
   "source": [
    "---\n",
    "\n",
    "**8. Dôkladným rozpísaním  preveďte príklad (všetky čísla v ňom) $321_8 - 177_8 = 122_8$  do desiatkovej sústavy a tam ho vypočítajte. Svoje riešenie (prevody aj sčítanie) skontrolujte v Sage.**\n"
   ]
  },
  {
   "cell_type": "code",
   "execution_count": null,
   "metadata": {},
   "outputs": [],
   "source": []
  },
  {
   "cell_type": "markdown",
   "metadata": {},
   "source": [
    "--- \n",
    "\n",
    "**9. Dôkladným rozpísaním  preveďte príklad (všetky čísla v ňom) $312_4 \\times 12_4=11010_4$ do desiatkovej sústavy a tam ho vypočítajte. Svoje riešenie (prevody aj sčítanie) skontrolujte v Sage.**"
   ]
  },
  {
   "cell_type": "code",
   "execution_count": null,
   "metadata": {},
   "outputs": [],
   "source": []
  },
  {
   "cell_type": "markdown",
   "metadata": {},
   "source": [
    "---\n",
    "\n",
    "**10. Aké <font color=red> konkrétne </font> otázky máte k náplni študijných materiálov, ktoré by ste chceli na hodine prediskutovať?**"
   ]
  },
  {
   "cell_type": "code",
   "execution_count": null,
   "metadata": {},
   "outputs": [],
   "source": []
  }
 ],
 "metadata": {
  "kernelspec": {
   "display_name": "SageMath 9.1",
   "language": "sage",
   "name": "sagemath"
  },
  "language_info": {
   "codemirror_mode": {
    "name": "ipython",
    "version": 3
   },
   "file_extension": ".py",
   "mimetype": "text/x-python",
   "name": "python",
   "nbconvert_exporter": "python",
   "pygments_lexer": "ipython3",
   "version": "3.7.3"
  }
 },
 "nbformat": 4,
 "nbformat_minor": 2
}
