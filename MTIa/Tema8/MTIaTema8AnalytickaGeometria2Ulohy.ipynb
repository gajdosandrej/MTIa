{
 "cells": [
  {
   "cell_type": "markdown",
   "metadata": {},
   "source": [
    "**Autor:** Andrej Gajdoš  <br> \n",
    "*[Ústav matematických vied](https://www.upjs.sk/prirodovedecka-fakulta/ustav/umv/), [Prírodovedecká fakulta](https://www.upjs.sk/prirodovedecka-fakulta/), Univerzita Pavla Jozefa Šafárika v Košiciach,* <br> \n",
    "email: [andrej.gajdos@upjs.sk](mailto:andrej.gajdos@upjs.sk)\n",
    "*** \n",
    "**_Tento materiál vznikol za podpory grantu VVGS-2021-1758._** \n",
    "*** \n",
    "\n",
    "**<font size=6 color=gold> MTIa: Téma 6 - Základy analytickej geometrie: úlohy </font>**"
   ]
  },
  {
   "cell_type": "markdown",
   "metadata": {},
   "source": [
    "--- \n",
    "\n",
    "**1. Overte, či uvedené body ležia na zadaných priamkach:** \n",
    "\n",
    "$$\\text{a) }\\,p:\\,y=3x-8,\\,A=[4,4],B=[7,3]; \\qquad \\text{b) }\\,q:\\,x=2+3t,\\,y=7-6t,\\,t\\in\\mathbb{R},\\,C=[5,1],D=[-2,2];$$ \n",
    "\n",
    "$$\\text{c) }\\,a:\\,x=2+4s,\\,y=4-s,\\,z=-3+10s,\\,s\\in\\mathbb{R},\\,E=[4,-2,2],F=[3,2,-1];$$  \n",
    "\n",
    "$$\\text{d) }\\,b:\\,2x+y-z=3,\\,x−y+z=3,\\,t\\in\\mathbb{R},\\,G=[1,1,3],H=[2,-1,0].$$ "
   ]
  },
  {
   "cell_type": "code",
   "execution_count": null,
   "metadata": {},
   "outputs": [],
   "source": []
  },
  {
   "cell_type": "markdown",
   "metadata": {},
   "source": [
    "---\n",
    "\n",
    "**2. Určte vzájomnú polohu dvojíc priamok a pri rôznobežných priamkach nájdite aj bod prieniku:** \n",
    "\n",
    "$$\\text{a) }\\,p:\\, x = 5 − 7t,\\, y = 3 − 14t,\\, t\\in\\mathbb{R}; \\quad q:\\, x = 19 + 3t,\\, y = 17 − t,\\, t\\in\\mathbb{R};$$ \n",
    "\n",
    "$$\\clubsuit\\,\\text{b) }\\,p:\\,  6x − 5y + 25 = 0; \\quad q:\\, x = −5 + 5t,\\, y = −1 + 6t,\\, t\\in\\mathbb{R};$$ \n",
    "\n",
    "$$\\text{c) }\\,p:\\,  x = 15 − 7t,\\, y = 23 + 3t,\\, t\\in\\mathbb{R}; \\quad q:\\, 3x + 7y + 29 = 0;$$ \n",
    "\n",
    "$$\\text{d) }\\,p:\\,  2x − 5y + 6 = 0; \\quad q:\\, 8x + 15y + 10 = 0;$$ \n",
    "\n",
    "$$\\text{e) }\\,p:\\,  x + y − 5 = 0; \\quad q:\\, 2x + 2y + 3 = 0;$$ \n",
    "\n",
    "$$\\text{f) }\\,p:\\,  x + 3y − 7 = 0; \\quad q:\\, x = 2 + t,\\, y = 1 − t,\\, t\\in\\mathbb{R}.$$"
   ]
  },
  {
   "cell_type": "code",
   "execution_count": null,
   "metadata": {},
   "outputs": [],
   "source": []
  },
  {
   "cell_type": "markdown",
   "metadata": {},
   "source": [
    "---\n",
    "\n",
    "**3. Vypočítajte odchýlku daných dvoch priamok:** \n",
    "\n",
    "$$\\text{a) }\\,a:\\, 3x − 7 = 0; \\quad b:\\, x + y + 13 = 0;$$ \n",
    "\n",
    "$$\\text{b) }\\,a:\\,  5x + 3y − 7 = 0; \\quad b:\\, x = s,\\, y = 5 + 4s,\\, s\\in\\mathbb{R};$$ \n",
    "\n",
    "$$\\clubsuit\\,\\text{c) }\\,a:\\,  4x − 5 = 0; \\quad b:\\, x = t,\\, y = 7,\\, t\\in\\mathbb{R}.$$ "
   ]
  },
  {
   "cell_type": "code",
   "execution_count": null,
   "metadata": {},
   "outputs": [],
   "source": []
  },
  {
   "cell_type": "markdown",
   "metadata": {},
   "source": [
    "---\n",
    "\n",
    "**$\\clubsuit$ 4 Napíšte rovnicu priamky, ktorá prechádza priesečníkom priamok $x − 7y + 13 = 0$, $7x + y − 9 = 0$ a je kolmá na priamku $3x + 4y + 2 = 0$.** "
   ]
  },
  {
   "cell_type": "code",
   "execution_count": null,
   "metadata": {},
   "outputs": [],
   "source": []
  },
  {
   "cell_type": "markdown",
   "metadata": {},
   "source": [
    "---\n",
    "\n",
    "**5. Nájdite rovnicu priamky $p$, ktorá prechádza bodom $M=[3,1]$ a je:** \n",
    "\n",
    "**a) rovnobežná s osou $x$;**\n",
    "\n",
    "**b) rovnobežná s osou $y$;** \n",
    "\n",
    "**c) rovnobežná s priamkou $q$ určenou rovnicou $x+3y−1=0$;** \n",
    "\n",
    "**d) kolmá na priamku r určenú rovnicou $2x+3y−12=0$.** \n"
   ]
  },
  {
   "cell_type": "code",
   "execution_count": null,
   "metadata": {},
   "outputs": [],
   "source": []
  },
  {
   "cell_type": "markdown",
   "metadata": {},
   "source": [
    "---\n",
    "\n",
    "**6. Strany trojuholníka ležia na priamkach $x + y − 4 = 0$, $3x − y = 0$, $x − 3y = 8$. Určte jeho obsah.**\n"
   ]
  },
  {
   "cell_type": "code",
   "execution_count": null,
   "metadata": {},
   "outputs": [],
   "source": []
  },
  {
   "cell_type": "markdown",
   "metadata": {},
   "source": [
    "---\n",
    "\n",
    "**7. Určte vzdialenosť priamky $x = 3 + 4t,\\, y = 3t$, $t\\in\\mathbb{R}$, od priamky $4y − 3x − 1 = 0$.** \n"
   ]
  },
  {
   "cell_type": "code",
   "execution_count": null,
   "metadata": {},
   "outputs": [],
   "source": []
  },
  {
   "cell_type": "markdown",
   "metadata": {},
   "source": [
    "---\n",
    "\n",
    "**8. Určte v akom vzťahu je priamka ku kružnici:** \n",
    "\n",
    "$$\\text{a) }\\,k:\\,x^2+y^2=4,\\, p:\\,x+2y=0; \\qquad \\text{b) }\\,k:\\,(x+2)^2+(y-3)^2=125,\\, p:\\,y=2x;$$ \n",
    "\n",
    "$$\\text{c) }\\,k:\\,x^2+y^2=1,\\, p:\\,x+y-1=0; \\text{d) }\\,k:\\,x^2+(y-1)^2=9,\\, p:\\,y=x-3.$$"
   ]
  },
  {
   "cell_type": "code",
   "execution_count": null,
   "metadata": {},
   "outputs": [],
   "source": []
  },
  {
   "cell_type": "markdown",
   "metadata": {},
   "source": [
    "---\n",
    "\n",
    "**9. Určte všetky hodnoty parametra $c\\in\\mathbb{R}$, pre ktoré je priamka $p:\\,2x−y+c=0$ dotyčnicou, sečnicou, nesečnicou kružnice $k:\\,(x-3)^2+(y+1)^2=4$.**\n"
   ]
  },
  {
   "cell_type": "code",
   "execution_count": null,
   "metadata": {},
   "outputs": [],
   "source": []
  },
  {
   "cell_type": "markdown",
   "metadata": {},
   "source": [
    "--- \n",
    "\n",
    "**10. Napíšte parametrické rovnice a všeobecnú rovnicu roviny, ktorá prechádza priesečníkom priamky $r$ s rovinou $\\rho$ a je rovnobežná s priamkami p,q:** \n",
    "\n",
    "$$\\begin{align}\n",
    "    x & =  2  +  3s \\\\\n",
    "r:\\,  y & =  4  -  4s \\\\ \n",
    "    z & =  1  +  s,\\,s\\in\\mathbb{R}\n",
    "\\end{align} \n",
    "\\qquad \n",
    "\\rho:\\,2x-3y+z-12=0$$ \n",
    "\n",
    "$$\\begin{align}\n",
    "    x & =  2  -  4t \\\\\n",
    "p:\\,  y & =  3  +  7t \\\\ \n",
    "    z & =  6  -  t,\\,t\\in\\mathbb{R}\n",
    "\\end{align}$$ \n",
    "\n",
    "$$\\begin{align}\n",
    "    x & =  10  -  6u \\\\\n",
    "q:\\,  y & =      3u \\\\ \n",
    "    z & =  1,\\,u\\in\\mathbb{R}.   \n",
    "\\end{align}$$"
   ]
  },
  {
   "cell_type": "code",
   "execution_count": null,
   "metadata": {},
   "outputs": [],
   "source": []
  },
  {
   "cell_type": "markdown",
   "metadata": {},
   "source": [
    "--- \n",
    "\n",
    "**11. Vypočítajte vzdialenosť bodu $A$ od priamky $r$, pričom bod $A$ je priesečník priamok $p$, $q$ a priamka $r$ je daná bodom $K$ i smerovým vektorom $\\boldsymbol{s}_r$:** \n",
    "\n",
    "$$\\begin{align}\n",
    "    x & =  2  +  3u \\\\\n",
    "p:\\,  y & =  4  -  u \\\\ \n",
    "    z & =  1  +  u,\\,u\\in\\mathbb{R}\n",
    "\\end{align}$$ \n",
    "\n",
    "$$\\begin{align}\n",
    "    x & =  1 - 4v \\\\\n",
    "q:\\,  y & = 7 + 4v \\\\ \n",
    "    z & =  2,\\,v\\in\\mathbb{R}.  \n",
    "\\end{align}$$\n",
    "\n",
    "$$K=[1,3,1],\\qquad\\boldsymbol{s}_r=(2,-2,1)^T.$$"
   ]
  },
  {
   "cell_type": "code",
   "execution_count": null,
   "metadata": {},
   "outputs": [],
   "source": []
  },
  {
   "cell_type": "markdown",
   "metadata": {},
   "source": [
    "--- \n",
    "\n",
    "**12. Overte, či sú priamky $p$, $q$ kolmé, pričom priamka $p$ je priesečníkom rovín $\\alpha$, $\\beta$ a priamka $q$ je daná bodom $Q$ i smerovým vektorom $\\boldsymbol{s}_q$:**\n",
    "\n",
    "$$\\alpha:\\,2x-y+3z-4=0, \\qquad \\beta:\\,4x+y-2z+1=0, \\qquad Q=[7,6,-1], \\qquad \\boldsymbol{s}_q=(6,0,1)^7.$$"
   ]
  },
  {
   "cell_type": "code",
   "execution_count": null,
   "metadata": {},
   "outputs": [],
   "source": []
  },
  {
   "cell_type": "markdown",
   "metadata": {},
   "source": [
    "--- \n",
    "\n",
    "**13. Nájdite rovnice priamky určenej:**\n",
    "\n",
    "**a) bodmi $A = [-1,4,1]$ a $B = [2,0,3]$;**\n",
    "\n",
    "**b) bodom $A = [3,-2,1]$ a rovnobežnou priamkou $p:\\ [x,y,z] = [1 - 2t,3t,-4]$, $t\\in\\mathbb{R}$;**\n",
    "\n",
    "**c) bodom $A = [1,1,1]$ a rovinou $\\varrho:\\ 3x - 2y + 5z - 1 =0$, ktorá je na ňu kolmá.** "
   ]
  },
  {
   "cell_type": "code",
   "execution_count": null,
   "metadata": {},
   "outputs": [],
   "source": []
  },
  {
   "cell_type": "markdown",
   "metadata": {},
   "source": [
    "--- \n",
    "\n",
    "**14. Popíšte vzájomnú polohu dvojíc priamok:**\n",
    "\n",
    "**a) $p:\\ [x,y,z] = [-2t,7+4t,-11]$ a $q:\\ [x,y,z] = [-2+u,-2u,0]$;**\n",
    "\n",
    "**b) $p:\\ [x,y,z] = [2-3t,t,-1+t]$ a $q:\\ [x,y,z] = [2+u,-2-u,4u]$;** \n",
    "\n",
    "**c) $p:\\ [x,y,z] = [2-t,2t,1-t]$ a $q:\\ [x,y,z] = [u,-u,-13+4u]$;** \n",
    "\n",
    "**$\\clubsuit$ d) $p:\\ [x,y,z] = [2+t,2t,1-t]$ a $q:\\ [x,y,z] = [6-3u,8-6u,-3+3u]$.**"
   ]
  },
  {
   "cell_type": "code",
   "execution_count": null,
   "metadata": {},
   "outputs": [],
   "source": []
  },
  {
   "cell_type": "markdown",
   "metadata": {},
   "source": [
    "--- \n",
    "\n",
    "**15. Popíšte vzájomnú polohu priamky $p:\\ [x,y,z] = [2-3t,-1+t,2t]$, $t\\in\\mathbb{R}$ a roviny:**\n",
    "\n",
    "**a) $\\varrho:\\ 3x + y + 2z - 4 = 0$;** \n",
    "\n",
    "**b) $\\varrho:\\ x - y + 2z + 7 = 0$;** \n",
    "\n",
    "**c) $\\varrho:\\ x - y + 2z - 3 = 0$.**"
   ]
  },
  {
   "cell_type": "code",
   "execution_count": null,
   "metadata": {},
   "outputs": [],
   "source": []
  },
  {
   "cell_type": "markdown",
   "metadata": {},
   "source": [
    "--- \n",
    "\n",
    "**16. Vypočítajte odchýlku:** \n",
    "\n",
    "**a) priamky $p:\\ [x,y,z] = [2-t,-1+4t,3]$     a      priamky $q:\\ [x,y,z] = [-1,5-2u,1+u]$;** \n",
    "\n",
    "**$\\clubsuit$ b) priamky $p:\\ [x,y,z] = [1+2t,-3t,-3-t]$     a      roviny $\\varrho:\\ x + 2y - 4z + 11 = 0$;** \n",
    "\n",
    "**c) roviny $\\varrho:\\ x - 2y + 2z = 0$ a roviny $\\nu:\\ x + 4y - z + 5 = 0$.**"
   ]
  },
  {
   "cell_type": "code",
   "execution_count": null,
   "metadata": {},
   "outputs": [],
   "source": []
  },
  {
   "cell_type": "markdown",
   "metadata": {},
   "source": [
    "--- \n",
    "\n",
    "**17. Vypočítajte vzdialenosti:**\n",
    "\n",
    "**a) bodu $P = [-1,4,7]$ od roviny $\\varrho:\\ 3x - 5y + z - 9 = 0$;**\n",
    "\n",
    "**$\\clubsuit$ b) dvoch rovín $\\alpha:\\ -x + 2y + z = 7$     a      $\\beta:\\ 3x - 6y - 3z = 0$;** \n",
    "\n",
    "**c) priamky $p:\\ [x,y,z] = [t,-1-3t,5]$ a roviny $\\varrho:\\ 3x + y - 2z + 11 = 0$;** \n",
    "\n",
    "**d) rovnobežných priamok $p:\\ [x,y,z] = [3t,-2t,-1+t]$     a      $q:\\ [x,y,z] = [5-3u,1+2u,-u]$.**"
   ]
  },
  {
   "cell_type": "code",
   "execution_count": null,
   "metadata": {},
   "outputs": [],
   "source": []
  },
  {
   "cell_type": "markdown",
   "metadata": {},
   "source": [
    "--- \n",
    "\n",
    "**18. Do rohov bazéna je potrebné umiesniť zvyšné tyče s dĺžkami $2$m, $3$m a $5$m. Na konce tyčí sa pripevní plachta aby do bazéna nenapršalo. Aká by mala byť dĺžka tyče vo štvrtom rohu aby sa plachta neprehýbala (bola napnutá)? Koľko existuje možností rozmiestniť tyče? Pri ktorej z nich bude potrebná najkratšia štvrtá tyč?**"
   ]
  },
  {
   "cell_type": "code",
   "execution_count": null,
   "metadata": {},
   "outputs": [],
   "source": []
  }
 ],
 "metadata": {
  "kernelspec": {
   "display_name": "SageMath 9.2",
   "language": "sage",
   "name": "sagemath"
  },
  "language_info": {
   "codemirror_mode": {
    "name": "ipython",
    "version": 3
   },
   "file_extension": ".py",
   "mimetype": "text/x-python",
   "name": "python",
   "nbconvert_exporter": "python",
   "pygments_lexer": "ipython3",
   "version": "3.7.7"
  }
 },
 "nbformat": 4,
 "nbformat_minor": 2
}
