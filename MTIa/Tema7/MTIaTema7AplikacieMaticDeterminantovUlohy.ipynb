{
 "cells": [
  {
   "cell_type": "markdown",
   "metadata": {},
   "source": [
    "**Autor:** Andrej Gajdoš  <br> \n",
    "*[Ústav matematických vied](https://www.upjs.sk/prirodovedecka-fakulta/ustav/umv/), [Prírodovedecká fakulta](https://www.upjs.sk/prirodovedecka-fakulta/), Univerzita Pavla Jozefa Šafárika v Košiciach,* <br> \n",
    "email: [andrej.gajdos@upjs.sk](mailto:andrej.gajdos@upjs.sk)\n",
    "*** \n",
    "**_Tento materiál vznikol za podpory grantu VVGS-2021-1758._** \n",
    "***  \n",
    "\n",
    "**<font size=6 color=gold> MTIa: Téma 7 - Aplikácie matíc a determinantov: úlohy </font>**"
   ]
  },
  {
   "cell_type": "markdown",
   "metadata": {},
   "source": [
    "---\n",
    "\n",
    "**$\\clubsuit$ 1. Ukážte, že štvorica $[1,1,3,2]$ je riešením systému lineárnych rovníc**\n",
    "\n",
    "\\begin{align*}\n",
    "2x_1+x_2+x_3-3x_4&=0\\\\\n",
    "x_1+4x_2-3x_3+x_4&=-2\\\\\n",
    "3x_1-2x_2+x_3+5x_4&=14.\n",
    "\\end{align*}"
   ]
  },
  {
   "cell_type": "code",
   "execution_count": null,
   "metadata": {},
   "outputs": [],
   "source": []
  },
  {
   "cell_type": "markdown",
   "metadata": {},
   "source": [
    "---\n",
    "\n",
    "**$\\clubsuit$ 2. Spoločnosť Pyro-Tech, Inc. modernizuje kancelársku techniku nákupom atramentových tlačiarní, LCD monitorov a ďalších pamäťových čipov. Celkový počet kusov zakúpeného hardvéru je $46$. Cena každej atramentovej tlačiarne je $109$ dolárov, cena každého monitora LCD je $129$ dolárov a cena každého pamäťového čipu je $89$ dolárov. Celková suma peňazí vynaložených na nový hardvér dosiahla $4774$ dolárov. Kúpili dvakrát toľko pamäťových čipov ako LCD monitorov. Určte počet zakúpených položiek.**  (Zdroj: Nathan Borchelt)"
   ]
  },
  {
   "cell_type": "code",
   "execution_count": null,
   "metadata": {},
   "outputs": [],
   "source": []
  },
  {
   "cell_type": "markdown",
   "metadata": {},
   "source": [
    "--- \n",
    "\n",
    "**$\\clubsuit$ 3.**\n",
    "\n",
    "Zaveďme nasledovné označenia pre elementárne riadkové úpravy (operácie) v SLR: \n",
    "\n",
    "1. $r_i \\leftrightarrow r_j$: výmena $i$-teho a $j$-teho riadka; \n",
    "\n",
    "2. $kr_i$: vynásobenie $i$-teho riadka prvkom (číslom) $k$; \n",
    "\n",
    "3. $r_i+kr_j$: pripočítanie $k$-násobku riadka $j$ k riadku $i$ (a nahradenie $i$-teho riadka týmto výsledkom). \n",
    "\n",
    "**Vo všeobecnosti ku každej elementárnej riadkovej úprave (operácii) existuje tzv. spätná (inverzná) elementárna riadková úprava, ktorá vráti SLR do predošlého tvaru. Aké sú spätné elementárne riadkové úpravy k operáciám: $r_i \\leftrightarrow r_j$, $kr_i$, $r_i+kr_j$ ?** \n",
    "\n",
    "Pomôžte si konkrétnou SLR napr. \n",
    "\n",
    "$$3x+4y=8$$\n",
    "$$x-2y=6.$$"
   ]
  },
  {
   "cell_type": "code",
   "execution_count": null,
   "metadata": {},
   "outputs": [],
   "source": []
  },
  {
   "cell_type": "markdown",
   "metadata": {},
   "source": [
    "---\n",
    "\n",
    "**4.** \n",
    "\n",
    "Dve matice $\\mathbf{A}$, $\\mathbf{B}$ sa nazývajú riadkovo ekvivalentné ak existuje (konečná) postupnosť elementárnych riadkových operácii taká, že prevedie $\\mathbf{A}$ na $\\mathbf{B}$. \n",
    "\n",
    "**Ukážte, že nasledujúce dvojice matíc $\\mathbf{A}$, $\\mathbf{B}$ sú riadkovo ekvivalentné a nájdite postupnosti elementárnych riadkových operácii, ktoré prevedú jednu maticu na druhú:**\n",
    "\n",
    "$\n",
    "\\clubsuit\\, \\text{a)}\\quad\n",
    "\\mathbf{A}=\\begin{pmatrix}\n",
    "1 & 2\\\\\n",
    "3 & 4\n",
    "\\end{pmatrix}\n",
    "\\mathbf{B}=\\begin{pmatrix}\n",
    "3 & -1\\\\\n",
    "1 & 0\n",
    "\\end{pmatrix};\n",
    "\\qquad$\n",
    "$\n",
    "\\text{ b)}\\quad\n",
    "\\mathbf{A}=\\begin{pmatrix}\n",
    "2 & 0 & -1\\\\\n",
    "1 & 1 & 0 \\\\\n",
    "-1 & 1 & 1 \n",
    "\\end{pmatrix}\n",
    "\\mathbf{B}=\\begin{pmatrix}\n",
    "3 & 1 & -1\\\\\n",
    "3 & 5 & 1 \\\\\n",
    "2 & 2  & 0\n",
    "\\end{pmatrix}.\n",
    "$ \n",
    "\n",
    "a) Jedna z možností je vykonať nasledujúce elementárne riadkové operácie s maticou $\\mathbf{A}$: $r_2-3r_1$, $\\dfrac{1}{2}r_2$, $r_1+2r_2$, $r_2+3r_1$, $r_1\\leftrightarrow r_2$. **OVERTE!**"
   ]
  },
  {
   "cell_type": "code",
   "execution_count": null,
   "metadata": {},
   "outputs": [],
   "source": []
  },
  {
   "cell_type": "markdown",
   "metadata": {},
   "source": [
    "---\n",
    "\n",
    "**5. Overte (využite Sage), že na to, aby sme previedli maticu**\n",
    "\n",
    "$$\\begin{pmatrix}\n",
    "1 & 2 & -4 & -4 & 5 \\\\\n",
    "2 & 4 & 0 & 0 & 2 \\\\ \n",
    "2 & 3 & 2 & 1 & 5 \\\\ \n",
    "-1 & 1 & 3 & 6 & 5\n",
    "\\end{pmatrix}.$$\n",
    "\n",
    "**na maticu**\n",
    "\n",
    "$$\\begin{pmatrix}\n",
    "1 & 2 & -4 & -4 & 5 \\\\\n",
    "0 & -1 & 10 & 9 & -5 \\\\ \n",
    "0 & 0 & 1 & 1 & -1 \\\\ \n",
    "0 & 0 & 0 & 0 & 24\n",
    "\\end{pmatrix}$$\n",
    "\n",
    "**sú potrebné tieto elementárne riadkové operácie: $r_2-2r_1$, $r_3-2r_1$, $r_4+r_1$, $r_2\\leftrightarrow r_3$, $r_4+3r_2$, $\\dfrac{1}{8}r_3$, $r_4-29r_3$.** \n",
    "\n",
    "**Napíšte postupnosť opačných (revezných) elementárnych riadkových operácii k tým uvedeným, aby ste maticu**\n",
    "\n",
    "$$\\begin{pmatrix}\n",
    "1 & 2 & -4 & -4 & 5 \\\\\n",
    "0 & -1 & 10 & 9 & -5 \\\\ \n",
    "0 & 0 & 1 & 1 & -1 \\\\ \n",
    "0 & 0 & 0 & 0 & 24\n",
    "\\end{pmatrix}$$\n",
    "\n",
    "**previedli späť na maticu**\n",
    "\n",
    "$$\\begin{pmatrix}\n",
    "1 & 2 & -4 & -4 & 5 \\\\\n",
    "2 & 4 & 0 & 0 & 2 \\\\ \n",
    "2 & 3 & 2 & 1 & 5 \\\\ \n",
    "-1 & 1 & 3 & 6 & 5\n",
    "\\end{pmatrix}.$$ \n",
    "\n",
    "**Svoje riešenie overte v Sage.**\n"
   ]
  },
  {
   "cell_type": "code",
   "execution_count": null,
   "metadata": {},
   "outputs": [],
   "source": []
  },
  {
   "cell_type": "markdown",
   "metadata": {},
   "source": [
    "---\n",
    "\n",
    "**$\\clubsuit$ 6. Nájdite čísla $p,q,r$ tak, aby štvorica $[1,3,2,1]$ bola riešením systému lineárnych rovníc**\n",
    "\t\t\n",
    "\\begin{align*} \n",
    "px_1+2x_2-3x_3+4x_4&=5\\\\\n",
    "2px_1+qx_2+x_3+x_4&=2\\\\\n",
    "x_1-2qx_2+rx_3-3x_4&=10.\n",
    "\\end{align*}"
   ]
  },
  {
   "cell_type": "code",
   "execution_count": null,
   "metadata": {},
   "outputs": [],
   "source": []
  },
  {
   "cell_type": "markdown",
   "metadata": {},
   "source": [
    "---\n",
    "\n",
    "**7. Nájdite hodnoty parametra $k$ tak, aby SLR**\n",
    "\n",
    "\\begin{align*}\n",
    "-x-2y&=-5\\\\\n",
    "3x-ky&=8\n",
    "\\end{align*}\n",
    "\n",
    "**mala:** \n",
    "\n",
    "**a) práve jedno riešenie;**\n",
    "\n",
    "**b) žiadne riešenie.**\n"
   ]
  },
  {
   "cell_type": "code",
   "execution_count": null,
   "metadata": {},
   "outputs": [],
   "source": []
  },
  {
   "cell_type": "markdown",
   "metadata": {},
   "source": [
    "---\n",
    "\n",
    "**8. Nájdite hodnoty parametra $k$ tak, aby SLR**\n",
    "\n",
    "\\begin{align*}\n",
    "x-5y&=5\\\\\n",
    "4x-2ky&=20\n",
    "\\end{align*}\n",
    "\n",
    "**mala nekonečne veľa riešení.**\n",
    "\n"
   ]
  },
  {
   "cell_type": "code",
   "execution_count": null,
   "metadata": {},
   "outputs": [],
   "source": []
  },
  {
   "cell_type": "markdown",
   "metadata": {},
   "source": [
    "---\n",
    "\n",
    "**9. Riešte sústavy lineárnych rovníc (Gaussovou eliminačnou a/alebo dosadzovacou metódou) nad $\\mathbb{R}$:** \n",
    "\n",
    "$\\clubsuit\\, \\text{a)}\\quad{\\begin{array}{@{}*{7}{c@{}}}\n",
    "x_1 & {}-{} & 2 x_2 & {}+{} & x_3 & {}={} & 5\\\\\n",
    "3x_1 & {}+{} & x_2 & {}-{} & 4x_3 & {}={} & 1\\\\\n",
    "2x_1 & {}-{} & x_2 & {}-{} & 3x_3 & {}={} & 4;\\\\\n",
    "\\end{array}}\\qquad\\qquad\\qquad\\qquad\\qquad\n",
    "\\clubsuit\\, \\text{b)}\\qquad{\\begin{array}{@{}*{7}{c@{}}}\n",
    "x_1 & {}+{} & 2 x_2 & {}+{} & 3x_3 & {}={} & 1\\\\\n",
    "5x_1 & {}+{} & 8 x_2 & {}+{} & 5x_3 & {}={} & 1\\\\\n",
    "3x_1 & {}+{} & 5 x_2 & {}+{} & 4x_3 & {}={} & 1;\\\\\n",
    "\\end{array}}$\n",
    "\n",
    "$\\clubsuit\\, \\text{c)}\\quad{\\begin{array}{@{}*{7}{c@{}}}\n",
    "x_1 & {}+{} & 4x_2 & {}+{} & 2x_3 & {}={} & 5\\\\\n",
    "3x_1 & {}+{} & 2x_2 & {}+{} & 2x_3 & {}={} & 1\\\\\n",
    "2x_1 & {}+{} & 3 x_2 & {}+{} & 2x_3 & {}={} & 2;\\\\\n",
    "\\end{array}}\\qquad\\qquad\\qquad\\qquad\\qquad\n",
    "\\text{d)}\\qquad{\\begin{array}{@{}*{7}{c@{}}}\n",
    "&  & 5x_2 & {}+{} & x_3 & {}={} & -3\\\\\n",
    "4x_1 & {}+{} & 2x_2 & {}-{} & 3x_3 & {}={} &4\\\\\n",
    "-3x_1 & {}+{} & 4 x_2 & {}+{} & x_3 & {}={} & -11;\\\\\n",
    "\\end{array}}$\n",
    "\n",
    "$\\text{e)}\\quad{\\begin{array}{@{}*{7}{c@{}}}\n",
    "&  & x_2 & {}+{} & 2x_3 & {}={} & -6\\\\\n",
    "2x_1 & {}-{} & x_2 & {}-{} & x_3 & {}={} &4\\\\\n",
    "3x_1 & {}+{} & x_2 & {}-{} & x_3 & {}={} & 9\\\\\n",
    "5x_1 & {}+{} & 2x_2 &  &  & {}={} & 9;\\\\\n",
    "\\end{array}}\\qquad\\qquad\\qquad\\qquad\\qquad\n",
    "\\text{f)}\\qquad{\\begin{array}{@{}*{9}{c@{}}}\n",
    "3x_1 & {}-{}  & 5x_2 & {}+{} & 2x_3 & {}+{} & 4x_4 & {}={} & 2\\\\\n",
    "7x_1 & {}-{}  & 4x_2 & {}+{} & x_3 & {}+{} & 3x_4 & {}={} & 5\\\\\n",
    "5x_1 & {}+{}  & 7x_2 & {}-{} & 4x_3 & {}-{} & 6x_4 & {}={} & 3;\\\\\n",
    "\\end{array}}$\n",
    "\n",
    "$\\text{g)}\\quad{\\begin{array}{@{}*{9}{c@{}}}\n",
    "x_1 & {}+{} & x_2 & {}+{} & x_3 & {}-{} & x_4 & {}={} & 12\\\\\n",
    "x_1 & {}+{} & x_2 & {}-{} & x_3 & {}+{} & x_4 & {}={} & 13\\\\\n",
    "x_1 & {}-{} & x_2 & {}+{} & x_3 & {}+{} & x_4 & {}={} & 5\\\\\n",
    "-x_1 & {}+{} & x_2 & {}+{} & x_3 & {}+{} & x_4 & {}={} & 8;\\\\\n",
    "\\end{array}}\\qquad\\qquad\\qquad\\qquad\n",
    "\\text{h)}\\quad{\\begin{array}{@{}*{9}{c@{}}}\n",
    "3x_1 & {}-{} & 2 x_2 & {}+{} & 5x_3 & {}-{} & 6x_4 & {}={} & 0\\\\\n",
    "7x_1 & {}+{} & x_2 & {}-{} & 3x_3 & {}-{} & 4x_4 & {}={} & 1\\\\\n",
    "6x_1 & {}+{} & 5x_2 & {}-{} & 13x_3 & {}+{} & 3x_4 & {}={} & 1\\\\\n",
    "2x_1 & {}-{} & 13x_2 & {}+{} & 40x_3 & {}-{} & 16x_4 & {}={} & 13;\\\\\n",
    "\\end{array}}$ \n",
    "\n",
    "$\\text{i)}\\quad{\\begin{array}{@{}*{9}{c@{}}}\n",
    "2x_1 & {}+{} & 2 x_2 & {}-{} & x_3 & {}+{} & x_4 & {}={} & 4\\\\\n",
    "4x_1 & {}+{} & 3x_2 & {}-{} & x_3 & {}+{} & 2x_4 & {}={} & 6\\\\\n",
    "8x_1 & {}+{} & 5x_2 & {}-{} & 3x_3 & {}+{} & 4x_4 & {}={} & 12\\\\\n",
    "3x_1 & {}+{} & 3x_2 & {}-{} & 2x_3 & {}+{} & 2x_4 & {}={} & 6;\\\\\n",
    "\\end{array}}\\qquad\\qquad\\qquad\\qquad\n",
    "\\text{j)}\\quad{\\begin{array}{@{}*{9}{c@{}}}\n",
    "6x_1 & {}+{} & 5x_2 & {}-{} & 2x_3 & {}+{} & 4x_4 & {}={} & -4\\\\\n",
    "9x_1 & {}-{} & x_2 & {}+{} & 4x_3 & {}-{} & x_4 & {}={} & 13\\\\\n",
    "3x_1 & {}+{} & 4x_2 & {}+{} & 2x_3 & {}-{} & 2x_4 & {}={} & 1\\\\\n",
    "3x_1 & {}-{} & 9x_2 &  &  & {}+{} & 2x_4 & {}={} & 11.\\\\\n",
    "\\end{array}}$\n",
    "\n"
   ]
  },
  {
   "cell_type": "code",
   "execution_count": null,
   "metadata": {},
   "outputs": [],
   "source": []
  },
  {
   "cell_type": "markdown",
   "metadata": {},
   "source": [
    "----\n",
    "\n",
    "**10. Pomocou Cramerovho pravidla riešte systémy lineárnych rovníc nad $\\mathbb{R}$:** \n",
    "\n",
    "$\\clubsuit\\, \\text{a)}\\quad{\\begin{array}{@{}*{7}{c@{}}}\n",
    "3x_1 & {}-{} & 2 x_2 & {}+{} & x_3 & {}={} & 11\\\\\n",
    "x_1 & {}+{} & x_2 & {}-{} & 3x_3 & {}={} & 7\\\\\n",
    "11x_1 & {}-{} & 4x_2 & {}-{} & 3x_3 & {}={} & 10;\\\\\n",
    "\\end{array}}\\qquad\\qquad\\qquad\\qquad\\qquad\\qquad\n",
    "\\text{b)}\\quad{\\begin{array}{@{}*{9}{c@{}}}\n",
    "3x_1 & {}+{} & x_2 & {}-{} & x_3 & {}+{} & 2x_4 & {}={} & 0\\\\\n",
    "x_1 & {}+{} & 2x_2 & {}+{} & x_3 & {}-{} & x_4 & {}={} & 0\\\\\n",
    "2x_1 & {}-{} & x_2 & {}+{} & 2x_3 & {}+{} & x_4 & {}={} & 0\\\\\n",
    "x_1 & {}+{} & 3x_2 & {}+{} & x_3 & {}+{} & 3x_4 & {}={} & 0;\\\\\t\n",
    "\\end{array}}$\n",
    "\n",
    "$\\clubsuit\\, \\text{c)}\\quad{\\begin{array}{@{}*{9}{c@{}}}\n",
    "2x_1 & {}-{} & 3x_2 & {}+{} & 6x_3 & {}-{} & x_4 & {}={} & 1\\\\\n",
    "& {}+{} & 2x_2 & {}-{} & x_3 &  &  & {}={} & 0\\\\\n",
    "x_1 & {}+{} & 3x_2 & {}-{} & x_3 & {}-{} & x_4 & {}={} & -2\\\\\n",
    "9x_1 & {}-{} & x_2 & {}+{} & 15x_3 & {}-{} & 5x_4 & {}={} & 1;\\\\\t\n",
    "\\end{array}}\\qquad\\qquad\\qquad\\qquad\n",
    "\\text{d)}\\quad{\\begin{array}{@{}*{7}{c@{}}}\n",
    "2x_1 & {}-{} & 3 x_2 & {}+{} & x_3 & {}={} & 0\\\\\n",
    "x_1 & {}+{} & 2x_2 & {}-{} & x_3 & {}={} & 3\\\\\n",
    "2x_1 & {}+{} & x_2 & {}+{} & x_3 & {}={} & 12.\\\\\n",
    "\\end{array}}$"
   ]
  },
  {
   "cell_type": "code",
   "execution_count": null,
   "metadata": {},
   "outputs": [],
   "source": []
  },
  {
   "cell_type": "markdown",
   "metadata": {},
   "source": [
    "---\n",
    "\n",
    "**11. Použite Cramerovo pravidlo na vyriešenie SLR vzhľadom na parameter $k$** \n",
    "\n",
    "$\\begin{align*}\n",
    "\\clubsuit\\,\\text{a)}\\quad 5x-ky&=6\\\\\n",
    "-2x+2ky&=-3;\n",
    "\\end{align*}\\qquad$\n",
    "$\\begin{align*}\n",
    "\\text{b)}\\quad 2x-3y&=k\\\\\n",
    "x+2y&=-2k.\n",
    "\\end{align*}$ "
   ]
  },
  {
   "cell_type": "code",
   "execution_count": null,
   "metadata": {},
   "outputs": [],
   "source": []
  },
  {
   "cell_type": "markdown",
   "metadata": {},
   "source": [
    "---\n",
    "\n",
    "**12. Použite Cramerovo pravidlo na vyriešenie SLR vzhľadom na parametre $p$ a $q$** \n",
    "\n",
    "$\\begin{align*}\n",
    "-x-3y&=5p\\\\\n",
    "-2x-5y&=-2q.\n",
    "\\end{align*}\\qquad$"
   ]
  },
  {
   "cell_type": "code",
   "execution_count": null,
   "metadata": {},
   "outputs": [],
   "source": []
  },
  {
   "cell_type": "markdown",
   "metadata": {},
   "source": [
    "---\n",
    "\n",
    "**13. Vyriešte SLR a ukážte, že jeho riešenie nezávisí na parametri $p$**\n",
    "\n",
    "\\begin{align*}\n",
    "5x&\\quad-\\quad6y&+\\quad6z&\\quad=\\quad-14\\\\\n",
    "9x&\\quad-\\quad py&\\quad-\\quad z&\\quad=\\quad22\\\\\n",
    "-2x&\\quad-\\quad6y&\\quad &\\quad=\\quad-4.\n",
    "\\end{align*} \n"
   ]
  },
  {
   "cell_type": "code",
   "execution_count": null,
   "metadata": {},
   "outputs": [],
   "source": []
  },
  {
   "attachments": {
    "vahy.PNG": {
     "image/png": "[encoded data removed]"
    }
   },
   "cell_type": "markdown",
   "metadata": {},
   "source": [
    "--- \n",
    "\n",
    "**14. Predpokladajme, že máme tri objekty, vieme, že jeden má hmotnosť 2 kg a chceme nájsť zvyšné dve neznáme hmotnosti. Uskutočnené experimenty ukázali rovnováhy znázornené na obrázku.** \n",
    "\n",
    "![vahy.PNG](attachment:vahy.PNG) \n",
    "\n",
    "**Pre vyváženie hmotností musí platiť, že súčet momentov vľavo sa rovná súčtu momentov vpravo, kde momentom objektu je jeho hmotnosť krát jeho vzdialenosť od bodu rovnováhy. Určte hmotnosti objektov označených ako $h,c$.**\n"
   ]
  },
  {
   "cell_type": "code",
   "execution_count": null,
   "metadata": {},
   "outputs": [],
   "source": []
  },
  {
   "cell_type": "markdown",
   "metadata": {},
   "source": [
    "--- \n",
    "\n",
    "**15. Overte, či vektory $\\boldsymbol{u}=(6,-5)^T$, $\\boldsymbol{v}=(3,-2)^T$ sú vlastné vektory matice $\\mathbf{A}=\n",
    "\\begin{pmatrix}\n",
    "1 & 6\\\\\n",
    "5 & 2\n",
    "\\end{pmatrix}$.**"
   ]
  },
  {
   "cell_type": "code",
   "execution_count": null,
   "metadata": {},
   "outputs": [],
   "source": []
  },
  {
   "cell_type": "markdown",
   "metadata": {},
   "source": [
    "**$\\clubsuit$ 16. Nájdite vlastné čísla a príslušné vlastné vektory matice $\\mathbf{B}=\n",
    "\\begin{pmatrix}\n",
    "1 & -1 & 0\\\\\n",
    "-1 & 2 & -1\\\\\n",
    "0 & -1 & 1 \n",
    "\\end{pmatrix}$.**"
   ]
  },
  {
   "cell_type": "code",
   "execution_count": null,
   "metadata": {},
   "outputs": [],
   "source": []
  },
  {
   "attachments": {
    "slr_riesenia_pomocka.PNG": {
     "image/png": "[encoded data removed]"
    }
   },
   "cell_type": "markdown",
   "metadata": {},
   "source": [
    "--- \n",
    "\n",
    "**Pomôcka:**\n",
    "\n",
    "![slr_riesenia_pomocka.PNG](attachment:slr_riesenia_pomocka.PNG)"
   ]
  }
 ],
 "metadata": {
  "kernelspec": {
   "display_name": "SageMath 9.2",
   "language": "sage",
   "name": "sagemath"
  },
  "language_info": {
   "codemirror_mode": {
    "name": "ipython",
    "version": 3
   },
   "file_extension": ".py",
   "mimetype": "text/x-python",
   "name": "python",
   "nbconvert_exporter": "python",
   "pygments_lexer": "ipython3",
   "version": "3.7.7"
  }
 },
 "nbformat": 4,
 "nbformat_minor": 2
}
