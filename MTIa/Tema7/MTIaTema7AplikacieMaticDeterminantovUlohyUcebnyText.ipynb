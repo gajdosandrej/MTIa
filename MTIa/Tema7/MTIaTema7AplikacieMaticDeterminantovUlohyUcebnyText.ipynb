{
 "cells": [
  {
   "cell_type": "markdown",
   "metadata": {},
   "source": [
    "**Autor:** Andrej Gajdoš  <br> \n",
    "*[Ústav matematických vied](https://www.upjs.sk/prirodovedecka-fakulta/ustav/umv/), [Prírodovedecká fakulta](https://www.upjs.sk/prirodovedecka-fakulta/), Univerzita Pavla Jozefa Šafárika v Košiciach,* <br> \n",
    "email: [andrej.gajdos@upjs.sk](mailto:andrej.gajdos@upjs.sk)\n",
    "*** \n",
    "**_Tento materiál vznikol za podpory grantu VVGS-2021-1758._** \n",
    "*** \n",
    "\n",
    "**<font size=6 color=gold> MTIa: Téma 7 - Aplikácie matíc a determinantov: úlohy k učebnému textu </font>**"
   ]
  },
  {
   "cell_type": "markdown",
   "metadata": {},
   "source": [
    "---\n",
    "\n",
    "**1. Overte, že $x=5$, $y=10$ je riešením sústavy dvoch lineárnych rovníc z úvodného príkladu s výrobou krmiva.**"
   ]
  },
  {
   "cell_type": "code",
   "execution_count": null,
   "metadata": {},
   "outputs": [],
   "source": []
  },
  {
   "cell_type": "markdown",
   "metadata": {},
   "source": [
    "---\n",
    "\n",
    "**2. Napíšte príklad jednej lineárnej rovnice so štyrmi neznámymi, príklad sústavy troch lineárnych rovníc s troma neznámymi, príklad sústavy troch lineárnych rovníc s dvoma neznámymi a príklad sústavy dvoch lineárnych rovníc s troma neznámymi.**"
   ]
  },
  {
   "cell_type": "code",
   "execution_count": null,
   "metadata": {},
   "outputs": [],
   "source": []
  },
  {
   "cell_type": "markdown",
   "metadata": {},
   "source": [
    "--- \n",
    "\n",
    "**3. Mohlo by sa stať, že taký typ SLR ako v Príklade 4 nemá riešenie? Ak áno, dokážete nájsť príklad? Pomôžte si experimentovaním v Sage a geometrickou predstavou v prípade dvoch rovníc s troma neznámymi (v prvej rovnici vystupujú všetky tri premenné s nenulovými koeficientami a v druhej rovnici vystupujú iba dve premenné s nenulovými koeficientami).**"
   ]
  },
  {
   "cell_type": "code",
   "execution_count": null,
   "metadata": {},
   "outputs": [],
   "source": []
  },
  {
   "cell_type": "markdown",
   "metadata": {},
   "source": [
    "---\n",
    "\n",
    "**4. Uvažujte SLR z Príkladu 5 ako homogénnu sústavu, t.j. s nulovými pravými stranami. Koľko má riešení? Jednotlivé kroky riešenia môžete realizovať aj v Sage.**  \n"
   ]
  },
  {
   "cell_type": "code",
   "execution_count": null,
   "metadata": {},
   "outputs": [],
   "source": []
  },
  {
   "cell_type": "markdown",
   "metadata": {},
   "source": [
    "---\n",
    "\n",
    "**5. Využite Sage a overte, že matica $\\mathbf{A}^{-1}$ v Príklade 6 je naozaj inverzná k $\\mathbf{A}$. Ďalej využite Sage spolu s maticami $\\mathbf{A}$, $\\mathbf{A}^{-1}$ z Príkladu 6 a zašifrujte správu s obsahom _Behold_ a tiež dešifrujte správu obsahujúcu čísla $96,87,74,141,117,114$.**"
   ]
  },
  {
   "cell_type": "code",
   "execution_count": null,
   "metadata": {},
   "outputs": [],
   "source": []
  },
  {
   "cell_type": "markdown",
   "metadata": {},
   "source": [
    "---\n",
    "\n",
    "**6. Pokúste sa zodpovedať otázky v Príklade 8 vyznačené oranžovou farbou.**  \n"
   ]
  },
  {
   "cell_type": "code",
   "execution_count": null,
   "metadata": {},
   "outputs": [],
   "source": []
  },
  {
   "cell_type": "markdown",
   "metadata": {},
   "source": [
    "--- \n",
    "\n",
    "**7. Ako by ste v príklade z Poznámky 10 vyjadrili sčítacou metódou najprv premennú $y$ ?**"
   ]
  },
  {
   "cell_type": "code",
   "execution_count": null,
   "metadata": {},
   "outputs": [],
   "source": []
  },
  {
   "cell_type": "markdown",
   "metadata": {},
   "source": [
    "---\n",
    "\n",
    "**8. Pomocou interaktívneho kódu v závere učebného textu určte inverznú maticu k matici** \n",
    "$\\left (\n",
    "\\begin{array}{ccc|c}\n",
    " 3 & 0 & 2\\\\\n",
    " 2 & 0 & -2\\\\\n",
    " 0 & 1 & 1\\\\\n",
    "\\end{array}\n",
    "\\right ).$ \n",
    "**Postup riadne okomentujte a urobte skúšku správnosti, že naozaj ide o inverznú maticu (definíciu inverznej matice môžete overiť aj v Sage).**"
   ]
  },
  {
   "cell_type": "code",
   "execution_count": null,
   "metadata": {},
   "outputs": [],
   "source": []
  },
  {
   "cell_type": "markdown",
   "metadata": {},
   "source": [
    "--- \n",
    "\n",
    "**9. Overte (ručne aj pomocou Sage), že matica $\\mathbf{A}=\n",
    "\\begin{pmatrix}\n",
    "1 & 3 \\\\\n",
    "0 & 1\n",
    "\\end{pmatrix}$ má dvojnásobné vlastné číslo $\\lambda=1$ (tzn. $\\lambda$ je dvojnásobný koreň kvadratickej rovnice $\\left|\\mathbf{A}-\\lambda\\mathbf{I}\\right|=0$). Nájdite i prislúchajúci vlastný vektor. Pomôžte si Príkladom 11.** "
   ]
  },
  {
   "cell_type": "code",
   "execution_count": null,
   "metadata": {},
   "outputs": [],
   "source": []
  },
  {
   "cell_type": "markdown",
   "metadata": {},
   "source": [
    "---\n",
    "\n",
    "**10. Aké <font color=red> konkrétne </font> otázky máte k náplni študijných materiálov, ktoré by ste chceli na hodine prediskutovať?**"
   ]
  },
  {
   "cell_type": "code",
   "execution_count": null,
   "metadata": {},
   "outputs": [],
   "source": []
  }
 ],
 "metadata": {
  "kernelspec": {
   "display_name": "SageMath 9.2",
   "language": "sage",
   "name": "sagemath"
  },
  "language_info": {
   "codemirror_mode": {
    "name": "ipython",
    "version": 3
   },
   "file_extension": ".py",
   "mimetype": "text/x-python",
   "name": "python",
   "nbconvert_exporter": "python",
   "pygments_lexer": "ipython3",
   "version": "3.7.7"
  }
 },
 "nbformat": 4,
 "nbformat_minor": 2
}
