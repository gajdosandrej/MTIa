{
 "cells": [
  {
   "cell_type": "markdown",
   "metadata": {},
   "source": [
    "**Autor:** Andrej Gajdoš  <br> \n",
    "*[Ústav matematických vied](https://www.upjs.sk/prirodovedecka-fakulta/ustav/umv/), [Prírodovedecká fakulta](https://www.upjs.sk/prirodovedecka-fakulta/), Univerzita Pavla Jozefa Šafárika v Košiciach,* <br> \n",
    "email: [andrej.gajdos@upjs.sk](mailto:andrej.gajdos@upjs.sk)\n",
    "***\n",
    "**_Tento materiál vznikol za podpory grantu VVGS-2021-1758._** \n",
    "*** \n",
    "\n",
    "**<font size=6 color=gold> MTIa: Téma 1 - Deliteľnosť celých čísel: úlohy k učebnému textu </font>**  "
   ]
  },
  {
   "cell_type": "markdown",
   "metadata": {},
   "source": [
    "---\n",
    "\n",
    "**1. Prečo nasledujúce tvrdenie vo všeobecnosti neplatí? $\\left(\\forall a,b\\in\\mathbb{Z}\\right)\\,\\, a\\mid b\\Rightarrow |a|\\le |b|$. Uveďte príklad - tzn. nájdite konkrétne $a,b$, pre ktoré uvedená implikácia neplatí. Čize nájdite také konkrétne celé čísla $a,b$, že $a\\mid b$ ale súčasne $|a| > |b|$.**"
   ]
  },
  {
   "cell_type": "code",
   "execution_count": null,
   "metadata": {},
   "outputs": [],
   "source": []
  },
  {
   "cell_type": "markdown",
   "metadata": {},
   "source": [
    "---\n",
    "\n",
    "**2. Vymyslite príklad (tzn. nájdite konkrétne celé čísla $a,b,c,u,v$) pre nasledujúcu vlastnosť deliteľnosti: $\\left(\\forall a,b,c,u,v\\in\\mathbb{Z}\\right)\\left(a\\mid b \\wedge a\\mid c\\right)\\Rightarrow a\\mid (bu\\pm cv)$. Na príklade tiež ukážte, že opačná implikácia neplatí, tzn. ak $a\\mid (bu + cv)$ nemusí potom platiť, že $a\\mid b$ a súčasne $a\\mid c$.**"
   ]
  },
  {
   "cell_type": "code",
   "execution_count": null,
   "metadata": {},
   "outputs": [],
   "source": []
  },
  {
   "cell_type": "markdown",
   "metadata": {},
   "source": [
    "---\n",
    "\n",
    "**3. Aplikujte Vetu o delení so zvyškom na nasledujúce dvojice čísel: $59,7$; $-100,9$ a $84,12$.** Na pomocné výpočty použite Sage. "
   ]
  },
  {
   "cell_type": "code",
   "execution_count": null,
   "metadata": {},
   "outputs": [],
   "source": []
  },
  {
   "cell_type": "markdown",
   "metadata": {},
   "source": [
    "---\n",
    "\n",
    "**4. Využite a vhodne upravte kódy z Príkladu 3 a urobte analogický výpočet pre Príklad 4 pomocou Sage.**"
   ]
  },
  {
   "cell_type": "code",
   "execution_count": null,
   "metadata": {},
   "outputs": [],
   "source": []
  },
  {
   "cell_type": "markdown",
   "metadata": {},
   "source": [
    "--- \n",
    "\n",
    "**5. Overte (môžete aj pomocou Sage), že $x=-3,y=1$ je riešením rovnice $10x+35y=5$ a $x=-3,y=2$ je riešením rovnice $7x+11y=1$. Overte tiež, že aj dvojica $x=8,y=-5$ je riešením rovnice $7x+11y=1$.** "
   ]
  },
  {
   "cell_type": "code",
   "execution_count": null,
   "metadata": {},
   "outputs": [],
   "source": []
  },
  {
   "cell_type": "markdown",
   "metadata": {},
   "source": [
    "**6. S využitím kódov a postupu z Príkladu 5, nájdite pomocou Sage riešenie rovnice $12453x+2347y=(12453,2347)$.**"
   ]
  },
  {
   "cell_type": "code",
   "execution_count": null,
   "metadata": {},
   "outputs": [],
   "source": []
  },
  {
   "cell_type": "markdown",
   "metadata": {},
   "source": [
    "---\n",
    "\n",
    "**7. Rozhodnite o správnosti výroku a svoju odpoveď zdôvodnite (pomôžte si výpočtom v Sage): Čísla $77$ a $791$ sú nesúdeliteľné.** "
   ]
  },
  {
   "cell_type": "code",
   "execution_count": 1,
   "metadata": {},
   "outputs": [
    {
     "data": {
      "text/plain": [
       "7"
      ]
     },
     "execution_count": 1,
     "metadata": {},
     "output_type": "execute_result"
    }
   ],
   "source": [
    "gcd(77,791)"
   ]
  },
  {
   "cell_type": "markdown",
   "metadata": {},
   "source": [
    "--- \n",
    "\n",
    "**8. Pomocou interaktivneho kódu v časti \"Riešenie diofantických rovníc\" vizualizujte riešenie rovnice $2x-5y=2$ na oblasti $x\\in\\langle-10,10\\rangle \\wedge y\\in\\langle-10,10\\rangle$ a vypíšte súradnice znázornených bodov na priamke, ktoré sú riešením tejto rovnice.**"
   ]
  },
  {
   "cell_type": "code",
   "execution_count": null,
   "metadata": {},
   "outputs": [],
   "source": []
  },
  {
   "cell_type": "markdown",
   "metadata": {},
   "source": [
    "---\n",
    "\n",
    "**9. Aké <span style=\"color:red\"> konkrétne </span> otázky máte k náplni študijných materiálov, ktoré by ste chceli na hodine prediskutovať?**"
   ]
  },
  {
   "cell_type": "code",
   "execution_count": null,
   "metadata": {},
   "outputs": [],
   "source": []
  }
 ],
 "metadata": {
  "kernelspec": {
   "display_name": "SageMath 9.2",
   "language": "sage",
   "name": "sagemath"
  },
  "language_info": {
   "codemirror_mode": {
    "name": "ipython",
    "version": 3
   },
   "file_extension": ".py",
   "mimetype": "text/x-python",
   "name": "python",
   "nbconvert_exporter": "python",
   "pygments_lexer": "ipython3",
   "version": "3.7.7"
  }
 },
 "nbformat": 4,
 "nbformat_minor": 2
}
