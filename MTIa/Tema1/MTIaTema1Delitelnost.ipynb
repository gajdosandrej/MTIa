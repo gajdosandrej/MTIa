{
 "cells": [
  {
   "cell_type": "markdown",
   "metadata": {},
   "source": [
    "**Autor:** Andrej Gajdoš  <br> \n",
    "*[Ústav matematických vied](https://www.upjs.sk/prirodovedecka-fakulta/ustav/umv/), [Prírodovedecká fakulta](https://www.upjs.sk/prirodovedecka-fakulta/), Univerzita Pavla Jozefa Šafárika v Košiciach,* <br> \n",
    "email: [andrej.gajdos@upjs.sk](mailto:andrej.gajdos@upjs.sk)\n",
    "*** \n",
    "**_Tento materiál vznikol za podpory grantu VVGS-2021-1758._** \n",
    "*** \n",
    "\n",
    "**<font size=6 color=gold> MTIa: Téma 1 - Deliteľnosť celých čísel </font>**  "
   ]
  },
  {
   "cell_type": "markdown",
   "metadata": {},
   "source": [
    "--- \n",
    "\n",
    "<a id=obsah></a>\n",
    "##  Obsah \n",
    "\n",
    "\n",
    "* [Vlastnosti deliteľnosti celých čísel](#delitelnost) \n",
    "\n",
    "\n",
    "* [Euklidov algoritmus](#ea) \n",
    "\n",
    "\n",
    "* [Riešenie diofantických rovníc](#dr) \n",
    "\n",
    "\n",
    "* [Ďalšie dôležité pojmy súvisiace s deliteľnosťou](#delitelnost2) \n",
    "\n",
    "\n",
    "* [Použité zdroje](#zdroje) \n",
    "\n",
    "\n",
    "**Pre návrat na obsah stlačte klávesu <font color=brown>Home</font>.** \n",
    "\n",
    "--- "
   ]
  },
  {
   "cell_type": "markdown",
   "metadata": {},
   "source": [
    "***\n",
    "<a id=delitelnost></a>\n",
    "# <font color=brown> Vlastnosti deliteľnosti celých čísel </font>"
   ]
  },
  {
   "cell_type": "markdown",
   "metadata": {},
   "source": [
    "Čísla z množiny $\\mathbb{N}=\\{1,2,3,\\ldots\\}$ budeme nazývať *prirodzené čísla*. \n",
    "\n",
    "Čísla z množiny $\\mathbb{Z}=\\{\\ldots,-3,-2,-1,0,1,2,3,\\ldots\\}$ budeme nazývať *celé čísla*. \n",
    "\n",
    "Čísla z množiny $\\mathbb{Z}^{+}=\\{1,2,3,\\ldots\\}$ budeme nazývať *kladné celé čísla*. V tomto prípade je to len iné označenie pre prirodzené čísla. \n",
    "\n",
    "Symbolmi $\\mathbb{N}_{0}$ a $Z^{+}_{0}$ budeme označovať prirodzené čísla aj s nulou resp. nezáporné celé čísla. "
   ]
  },
  {
   "cell_type": "markdown",
   "metadata": {},
   "source": [
    "Pozrime sa na nasledujúce dvojice čísel a ich podiely:  \n",
    "\n",
    "$\\{3,6\\}$, $\\{132,12\\}$, $\\{5,7\\}$, $\\{-3,15\\}$, $\\{71,71\\}$. "
   ]
  },
  {
   "cell_type": "code",
   "execution_count": 1,
   "metadata": {},
   "outputs": [
    {
     "data": {
      "text/plain": [
       "(2, 1/2, 11, 1/11, 7/5, 5/7, -5, -1/5, 8, -8, 1)"
      ]
     },
     "execution_count": 1,
     "metadata": {},
     "output_type": "execute_result"
    }
   ],
   "source": [
    "6/3, 3/6, 132/12, 12/132, 7/5, 5/7, 15/(-3), -3/15, -40/(-5), -40/5, 71/71"
   ]
  },
  {
   "cell_type": "markdown",
   "metadata": {},
   "source": [
    "<font color=orange>Čo si môžeme všimnúť na výsledkoch delenia? </font>  "
   ]
  },
  {
   "cell_type": "code",
   "execution_count": null,
   "metadata": {},
   "outputs": [],
   "source": [
    "# odpoved "
   ]
  },
  {
   "cell_type": "markdown",
   "metadata": {},
   "source": [
    "Výsledky delení sú zrejme dvoch typov: celočíselné a neceločíselné. "
   ]
  },
  {
   "cell_type": "markdown",
   "metadata": {},
   "source": [
    "<font color=orange>Ako súvisí typ výsledku so vzťahom medzi príslušnými dvoma číslami a operáciou delenia? </font>  "
   ]
  },
  {
   "cell_type": "code",
   "execution_count": null,
   "metadata": {},
   "outputs": [],
   "source": [
    "# odpoved"
   ]
  },
  {
   "cell_type": "code",
   "execution_count": 14,
   "metadata": {},
   "outputs": [
    {
     "data": {
      "text/plain": [
       "(True, True, True)"
      ]
     },
     "execution_count": 14,
     "metadata": {},
     "output_type": "execute_result"
    }
   ],
   "source": [
    "6 == 3*2, 132 == 12 * 11, -15 == -3*5"
   ]
  },
  {
   "cell_type": "markdown",
   "metadata": {},
   "source": [
    "V prípade celočíselných výsledkov bolo možné jedno číslo napísať ako celočíselný násobok druhého čísla. \n",
    "Vo zvyšných prípadoch (pri neceločíselných výsledkoch) to takto nie je možné urobiť. "
   ]
  },
  {
   "cell_type": "markdown",
   "metadata": {},
   "source": [
    "---\n",
    "\n",
    "### <font color=red>Definícia 1</font>  \n",
    "\n",
    "Nech $a$, $b$ sú dve celé čísla t.j. $a,b\\in\\mathbb{Z}$ také, že $a\\neq0$. Hovoríme, že $a$ **_delí_** $b$ ak $b$ je celočíselným násobkom $a$ t.j. ak existuje celé číslo $k$ také, že $b=a\\cdot k$. Ak $a$ delí b tak to označujeme $a\\mid b$. Podobne ak neexistuje celé číslo $l$ také, že $b=a\\cdot l$ tak hovoríme, že $a$ nedelí $b$ a značíme $a\\nmid b$. <br/>\n",
    "Každé číslo, ktoré delí $b$ nazývame **_deliteľ_** čísla $b$. \n",
    "\n",
    "---"
   ]
  },
  {
   "cell_type": "markdown",
   "metadata": {},
   "source": [
    "---\n",
    "\n",
    "#### Poznámka 1\n",
    "\n",
    "* Deliteľnosť celých čísel je teda vzťahom medzi dvojicou čísel, t.j. je\n",
    "to binárna relácia na množine $\\mathbb{Z}$ (pre každé dve celé čísla platí, že\n",
    "prvé z nich buď delí, alebo nedelí druhé). \n",
    "\n",
    "\n",
    "* Ako sme videli v predošlých príkladoch ak prvé číslo delí druhé, nemusí nutne aj druhé deliť prvé ($3\\mid6$ ale $6\\nmid3$).  Hovoríme, že **relácia deliteľnosti nie je *symetrická***. \n",
    "\n",
    "\n",
    "* Ak však $a\\mid b$ a súčasne $b\\mid a$ tak potom nutne $|a|=|b|$. \n",
    "\n",
    "\n",
    "* Keďže pre každé celé číslo $a$ platí $a=a\\cdot1$ tak $a\\mid a$. Táto vlasnosť dleiteľnosti sa nazýva ***reflexívnosť***. \n",
    "\n",
    "---"
   ]
  },
  {
   "cell_type": "markdown",
   "metadata": {},
   "source": [
    "Čísla $0$ a $1$ majú často v matematike špeciálne postavenie, inak tomu nie je ani v prípade deliteľnosti. Urobme niekoľko experimentov aby sme si to objasnili. "
   ]
  },
  {
   "cell_type": "code",
   "execution_count": 18,
   "metadata": {},
   "outputs": [
    {
     "data": {
      "text/plain": [
       "(0, 0, 0)"
      ]
     },
     "execution_count": 18,
     "metadata": {},
     "output_type": "execute_result"
    }
   ],
   "source": [
    "0/5, 0/7, 0/4"
   ]
  },
  {
   "cell_type": "code",
   "execution_count": 24,
   "metadata": {},
   "outputs": [
    {
     "data": {
      "text/plain": [
       "(-1, 1, 1/5)"
      ]
     },
     "execution_count": 24,
     "metadata": {},
     "output_type": "execute_result"
    }
   ],
   "source": [
    "1/-1, 1/1, 1/5"
   ]
  },
  {
   "cell_type": "code",
   "execution_count": 23,
   "metadata": {},
   "outputs": [
    {
     "data": {
      "text/plain": [
       "(21, 413, 3)"
      ]
     },
     "execution_count": 23,
     "metadata": {},
     "output_type": "execute_result"
    }
   ],
   "source": [
    "21/1, 413/1, 3/1"
   ]
  },
  {
   "cell_type": "markdown",
   "metadata": {},
   "source": [
    "---\n",
    "\n",
    "#### Poznámka 2 \n",
    "\n",
    "* Všetky celé čísla delia $0$. \n",
    "\n",
    "\n",
    "* $0$ delí iba $0$.  \n",
    "\n",
    "\n",
    "* $1$ je deliteľná iba $1$ a $-1$. \n",
    "\n",
    "\n",
    "* $1$ delí každé celé číslo. \n",
    "\n",
    "---"
   ]
  },
  {
   "cell_type": "markdown",
   "metadata": {},
   "source": [
    "Deliteľnosť má veľa zaujímavých vlastností. Poďme ešte trochu experimentovať aby sme si ich všimli. "
   ]
  },
  {
   "cell_type": "code",
   "execution_count": 1,
   "metadata": {},
   "outputs": [
    {
     "data": {
      "text/plain": [
       "(2, 3, 6)"
      ]
     },
     "execution_count": 1,
     "metadata": {},
     "output_type": "execute_result"
    }
   ],
   "source": [
    "a = 3 \n",
    "b = 6\n",
    "c = 18\n",
    "b/a, c/b, c/a"
   ]
  },
  {
   "cell_type": "code",
   "execution_count": 2,
   "metadata": {},
   "outputs": [
    {
     "data": {
      "text/plain": [
       "(4, 12)"
      ]
     },
     "execution_count": 2,
     "metadata": {},
     "output_type": "execute_result"
    }
   ],
   "source": [
    "a = 2\n",
    "b = 8 \n",
    "c = 3\n",
    "b/a,c*b/a"
   ]
  },
  {
   "cell_type": "code",
   "execution_count": 3,
   "metadata": {},
   "outputs": [
    {
     "data": {
      "text/plain": [
       "(4, 16)"
      ]
     },
     "execution_count": 3,
     "metadata": {},
     "output_type": "execute_result"
    }
   ],
   "source": [
    "a = 2 \n",
    "b = 8\n",
    "c = 3\n",
    "b/a,c*b/c*a"
   ]
  },
  {
   "cell_type": "code",
   "execution_count": 5,
   "metadata": {},
   "outputs": [
    {
     "data": {
      "text/plain": [
       "(3, 4, 18, -6)"
      ]
     },
     "execution_count": 5,
     "metadata": {},
     "output_type": "execute_result"
    }
   ],
   "source": [
    "a = 5\n",
    "b = 15\n",
    "c = 20\n",
    "u = 2 \n",
    "v = 3\n",
    "b/a,c/a,(u*b+v*c)/a,(u*b-v*c)/a"
   ]
  },
  {
   "cell_type": "markdown",
   "metadata": {},
   "source": [
    "<font color=orange>Čo ste si všimli na predchádzajúcich výpočtoch? Dokážete nájsť ďalšie analogické príklady? </font> "
   ]
  },
  {
   "cell_type": "code",
   "execution_count": null,
   "metadata": {},
   "outputs": [],
   "source": [
    "# odpoved "
   ]
  },
  {
   "cell_type": "markdown",
   "metadata": {},
   "source": [
    "<font color=orange> Viete na základe predošlých ilustračných výpočtov a ďalšich vlastných sformulovať nejaké vlastnosti deliteľnosti, ktoré by platili vo všeobecnosti?</font> "
   ]
  },
  {
   "cell_type": "code",
   "execution_count": null,
   "metadata": {},
   "outputs": [],
   "source": [
    "# odpoved"
   ]
  },
  {
   "cell_type": "markdown",
   "metadata": {},
   "source": [
    "Predošlé výpočty je možné zovšeobecniť a zosumarizovať do nasledujúceho pozorovania."
   ]
  },
  {
   "cell_type": "markdown",
   "metadata": {},
   "source": [
    "---\n",
    "\n",
    "#### <font color=green> Pozorovanie 1</font>\n",
    "\n",
    "* ***tranzitívnosť***: $\\left(\\forall a,b,c\\in\\mathbb{Z}\\right)\\left(a\\mid b \\wedge b\\mid c\\right)\\Rightarrow a\\mid c$. \n",
    "\n",
    "\n",
    "* $\\left(\\forall a,b,c\\in\\mathbb{Z}\\right)\\,\\, a\\mid b\\Rightarrow a\\mid cb$. \n",
    "\n",
    "\n",
    "* $\\left(\\forall a,b,c\\in\\mathbb{Z}\\right)\\,\\, a\\mid b\\Rightarrow ca\\mid cb$.\n",
    "\n",
    "\n",
    "* $\\left(\\forall a,b,c,u,v\\in\\mathbb{Z}\\right)\\left(a\\mid b \\wedge a\\mid c\\right)\\Rightarrow a\\mid (bu\\pm cv)$. \n",
    "\n",
    "\n",
    "* $\\left(\\forall a,b,c\\in\\mathbb{Z}\\right)\\,\\, (a\\mid b \\wedge a\\mid c)\\Rightarrow a\\mid cb$.\n",
    "\n",
    "\n",
    "* $\\left(\\forall a,b\\in\\mathbb{Z}, b\\neq0\\right)\\,\\, a\\mid b\\Rightarrow |a|\\le |b|$.\n",
    "\n",
    "---"
   ]
  },
  {
   "cell_type": "markdown",
   "metadata": {},
   "source": [
    "<font color=orange>Čo nám ilustrujú tieto výpočty? </font> "
   ]
  },
  {
   "cell_type": "code",
   "execution_count": 2,
   "metadata": {},
   "outputs": [
    {
     "data": {
      "text/plain": [
       "(5, 17/4, 3/4)"
      ]
     },
     "execution_count": 2,
     "metadata": {},
     "output_type": "execute_result"
    }
   ],
   "source": [
    "(17+3)/4, 17/4, 3/4"
   ]
  },
  {
   "cell_type": "code",
   "execution_count": 3,
   "metadata": {},
   "outputs": [
    {
     "data": {
      "text/plain": [
       "(5, 5/2, 1/2)"
      ]
     },
     "execution_count": 3,
     "metadata": {},
     "output_type": "execute_result"
    }
   ],
   "source": [
    "(10*2)/4, 10/4, 2/4"
   ]
  },
  {
   "cell_type": "code",
   "execution_count": null,
   "metadata": {},
   "outputs": [],
   "source": []
  },
  {
   "cell_type": "markdown",
   "metadata": {},
   "source": [
    "<font color=orange>Dokážete nájsť podobné príklady a urobiť nejaký záver? </font> "
   ]
  },
  {
   "cell_type": "code",
   "execution_count": null,
   "metadata": {},
   "outputs": [],
   "source": [
    "# priklady zapiste tu"
   ]
  },
  {
   "cell_type": "markdown",
   "metadata": {},
   "source": [
    "Posledné dva príklady súvisia s Poznámkou 3. "
   ]
  },
  {
   "cell_type": "markdown",
   "metadata": {},
   "source": [
    "---\n",
    "\n",
    "#### Poznámka 3\n",
    "\n",
    "* Ak $a \\mid (b\\pm c)$ **nemusí platiť**, že $a\\mid b$ alebo $a\\mid c$.  \n",
    "\n",
    "\n",
    "* Ak $a \\mid bc$ **nemusí platiť**, že $a\\mid b$ alebo $a\\mid c$. \n",
    "\n",
    "---"
   ]
  },
  {
   "cell_type": "markdown",
   "metadata": {},
   "source": [
    "Uvažujme teraz podiel čísel $207$ a $15$. Ten je evidentne necelošíselný. "
   ]
  },
  {
   "cell_type": "code",
   "execution_count": 4,
   "metadata": {},
   "outputs": [
    {
     "data": {
      "text/plain": [
       "69/5"
      ]
     },
     "execution_count": 4,
     "metadata": {},
     "output_type": "execute_result"
    }
   ],
   "source": [
    "207/15"
   ]
  },
  {
   "cell_type": "code",
   "execution_count": 5,
   "metadata": {},
   "outputs": [
    {
     "data": {
      "text/plain": [
       "13.8000000000000"
      ]
     },
     "execution_count": 5,
     "metadata": {},
     "output_type": "execute_result"
    }
   ],
   "source": [
    "N(207/15)"
   ]
  },
  {
   "cell_type": "code",
   "execution_count": 7,
   "metadata": {},
   "outputs": [
    {
     "data": {
      "text/plain": [
       "195"
      ]
     },
     "execution_count": 7,
     "metadata": {},
     "output_type": "execute_result"
    }
   ],
   "source": [
    "15*13"
   ]
  },
  {
   "cell_type": "code",
   "execution_count": 8,
   "metadata": {},
   "outputs": [
    {
     "data": {
      "text/plain": [
       "12"
      ]
     },
     "execution_count": 8,
     "metadata": {},
     "output_type": "execute_result"
    }
   ],
   "source": [
    "207-15*13"
   ]
  },
  {
   "cell_type": "markdown",
   "metadata": {},
   "source": [
    "Zrejme najbližší celočíselný násobok čísla $15$ k číslu $207$ je $13\\cdot15=195$. Do $207$ chýba ešte $207-13\\cdot15=12$. \n",
    "\n",
    "Číslo $207$ je teda možné vyjadriť v tvare $207=15\\cdot13+12$"
   ]
  },
  {
   "cell_type": "markdown",
   "metadata": {},
   "source": [
    "Predošlé úvahy je možné zhrnúť do nasledujúcej **dôležitej matematickej vety**. "
   ]
  },
  {
   "cell_type": "markdown",
   "metadata": {},
   "source": [
    "---\n",
    "\n",
    "### <font color=green>Veta 1 (O delení so zvyškom) </font>\n",
    "\n",
    "Nech $a\\in\\mathbb{Z}^{+}$, $b\\in\\mathbb{Z}$. Potom existujú jediné dve celé čísla $q$ a $r$ také, že \n",
    "\n",
    "$$b=q\\cdot a+r$$ \n",
    "\n",
    "kde $0\\le r < a$. \n",
    "\n",
    "---"
   ]
  },
  {
   "cell_type": "markdown",
   "metadata": {},
   "source": [
    "*Idea dôkazu: nájdeme najbližší násobok $a$, ktorý je menší ako $a$\n",
    "(príslušný násobiteľ bude hľadané číslo $q$); rozdiel medzi ním a\n",
    "číslom $a$ je potom hľadané $r$. Viď ilustračné príklady vyššie.*\n"
   ]
  },
  {
   "cell_type": "markdown",
   "metadata": {},
   "source": [
    "---\n",
    "\n",
    "#### Poznámka 4 \n",
    "\n",
    "Číslo $a$ nazývame ***deliteľ***, číslo $b$ ***delenec***, číslo $q$ ***kvocient*** (*quotient*) a číslo $r$ ***zvyšok*** (*remainder*). \n",
    "\n",
    "---"
   ]
  },
  {
   "cell_type": "markdown",
   "metadata": {},
   "source": [
    "Pozrime sa teraz čo hovorí Veta o delení so zvyškom pre dvojicu čísel $-23$ a $5$. "
   ]
  },
  {
   "cell_type": "code",
   "execution_count": 11,
   "metadata": {},
   "outputs": [
    {
     "data": {
      "text/plain": [
       "-23/5"
      ]
     },
     "execution_count": 11,
     "metadata": {},
     "output_type": "execute_result"
    }
   ],
   "source": [
    "-23/5"
   ]
  },
  {
   "cell_type": "code",
   "execution_count": 12,
   "metadata": {},
   "outputs": [
    {
     "data": {
      "text/plain": [
       "-4.60000000000000"
      ]
     },
     "execution_count": 12,
     "metadata": {},
     "output_type": "execute_result"
    }
   ],
   "source": [
    "N(-23/5)"
   ]
  },
  {
   "cell_type": "markdown",
   "metadata": {},
   "source": [
    "Keďže $-23=(-4)\\cdot5+(-3)$ tak by nás to mohlo zvádzať k tomu, že $q=-4$ a $r=-3$. Avšak podľa uvedenej Vety zvyšok nemôže byť nikdy záporný (zjednodušuje to situáciu v tzv. Euklidovom algoritme - pozri ďalej). Preto vyjadríme $-23$ nasledovne: $-23=(-5)\\cdot5+2$ kde $0\\le2<5$ a teda $q=-5$, $r=2$. "
   ]
  },
  {
   "cell_type": "code",
   "execution_count": 13,
   "metadata": {},
   "outputs": [
    {
     "data": {
      "text/plain": [
       "-23"
      ]
     },
     "execution_count": 13,
     "metadata": {},
     "output_type": "execute_result"
    }
   ],
   "source": [
    "5*(-5)+2"
   ]
  },
  {
   "attachments": {
    "vodsz_pr1.PNG": {
     "image/png": "[encoded data removed]"
    }
   },
   "cell_type": "markdown",
   "metadata": {},
   "source": [
    "--- \n",
    "\n",
    "#### <font color=blue>Príklad 1 </font>  \n",
    "\n",
    "Aplikujte vetu o delení so zvyškom na čísla $38,5$. \n",
    "\n",
    "<ins> Riešenie: </ins>\n",
    "\n",
    "$38 = 7\\cdot5+3$, pričom delenec $b=38$, deliteľ $a=5$, kvocient $q=7$ a zvyšok $r=3$. \n",
    "\n",
    "Situácu je možné znázorniť aj na reálnej osi \n",
    "\n",
    "![vodsz_pr1.PNG](attachment:vodsz_pr1.PNG) \n",
    "\n",
    "---"
   ]
  },
  {
   "attachments": {
    "vodsz_pr2.PNG": {
     "image/png": "[encoded data removed]"
    }
   },
   "cell_type": "markdown",
   "metadata": {},
   "source": [
    "--- \n",
    "\n",
    "#### <font color=blue>Príklad 2 </font> \n",
    "\n",
    "Aplikujte vetu o delení so zvyškom na čísla $-38,5$.\n",
    "\n",
    "<ins> Riešenie: </ins>\n",
    "\n",
    "$-38 = (-8)\\cdot5+2$, pričom delenec $b=-38$, deliteľ $a=5$, kvocient $q=-8$ a zvyšok $r=2$. \n",
    "\n",
    "Situácu je možné znázorniť aj na reálnej osi \n",
    "\n",
    "![vodsz_pr2.PNG](attachment:vodsz_pr2.PNG) \n",
    "\n",
    "---"
   ]
  },
  {
   "cell_type": "markdown",
   "metadata": {},
   "source": [
    "<font color=orange>Aplikujte Vetu o delení so zvyškom na nasledujúce dvojice čísel: $59,7$; $-100,9$ a $84,12$. </font> "
   ]
  },
  {
   "cell_type": "code",
   "execution_count": null,
   "metadata": {},
   "outputs": [],
   "source": []
  },
  {
   "cell_type": "markdown",
   "metadata": {},
   "source": [
    "Význam Vety o delení so zvyškom - tohto jednoduchého a na pohľad samozrejmého matematického tvrdenia oceníme o chvíľu pri hľadaní najväčšieho spoločného deliteľa dvoch celých čísel. \n",
    "\n",
    "Okrem toho nám táto veta môže napríklad poslúžiť pri odhaľovaní zaujímavých vzorov zvyškov po delení. "
   ]
  },
  {
   "cell_type": "code",
   "execution_count": 11,
   "metadata": {},
   "outputs": [
    {
     "data": {
      "text/html": [
       "Čislo 0 umocnené na druhú dáva po delení číslom 4 zvyšok 0"
      ],
      "text/plain": [
       "Čislo 0 umocnené na druhú dáva po delení číslom 4 zvyšok 0"
      ]
     },
     "metadata": {},
     "output_type": "display_data"
    },
    {
     "data": {
      "text/html": [
       "Čislo 1 umocnené na druhú dáva po delení číslom 4 zvyšok 1"
      ],
      "text/plain": [
       "Čislo 1 umocnené na druhú dáva po delení číslom 4 zvyšok 1"
      ]
     },
     "metadata": {},
     "output_type": "display_data"
    },
    {
     "data": {
      "text/html": [
       "Čislo 2 umocnené na druhú dáva po delení číslom 4 zvyšok 0"
      ],
      "text/plain": [
       "Čislo 2 umocnené na druhú dáva po delení číslom 4 zvyšok 0"
      ]
     },
     "metadata": {},
     "output_type": "display_data"
    },
    {
     "data": {
      "text/html": [
       "Čislo 3 umocnené na druhú dáva po delení číslom 4 zvyšok 1"
      ],
      "text/plain": [
       "Čislo 3 umocnené na druhú dáva po delení číslom 4 zvyšok 1"
      ]
     },
     "metadata": {},
     "output_type": "display_data"
    },
    {
     "data": {
      "text/html": [
       "Čislo 4 umocnené na druhú dáva po delení číslom 4 zvyšok 0"
      ],
      "text/plain": [
       "Čislo 4 umocnené na druhú dáva po delení číslom 4 zvyšok 0"
      ]
     },
     "metadata": {},
     "output_type": "display_data"
    },
    {
     "data": {
      "text/html": [
       "Čislo 5 umocnené na druhú dáva po delení číslom 4 zvyšok 1"
      ],
      "text/plain": [
       "Čislo 5 umocnené na druhú dáva po delení číslom 4 zvyšok 1"
      ]
     },
     "metadata": {},
     "output_type": "display_data"
    },
    {
     "data": {
      "text/html": [
       "Čislo 6 umocnené na druhú dáva po delení číslom 4 zvyšok 0"
      ],
      "text/plain": [
       "Čislo 6 umocnené na druhú dáva po delení číslom 4 zvyšok 0"
      ]
     },
     "metadata": {},
     "output_type": "display_data"
    },
    {
     "data": {
      "text/html": [
       "Čislo 7 umocnené na druhú dáva po delení číslom 4 zvyšok 1"
      ],
      "text/plain": [
       "Čislo 7 umocnené na druhú dáva po delení číslom 4 zvyšok 1"
      ]
     },
     "metadata": {},
     "output_type": "display_data"
    },
    {
     "data": {
      "text/html": [
       "Čislo 8 umocnené na druhú dáva po delení číslom 4 zvyšok 0"
      ],
      "text/plain": [
       "Čislo 8 umocnené na druhú dáva po delení číslom 4 zvyšok 0"
      ]
     },
     "metadata": {},
     "output_type": "display_data"
    },
    {
     "data": {
      "text/html": [
       "Čislo 9 umocnené na druhú dáva po delení číslom 4 zvyšok 1"
      ],
      "text/plain": [
       "Čislo 9 umocnené na druhú dáva po delení číslom 4 zvyšok 1"
      ]
     },
     "metadata": {},
     "output_type": "display_data"
    },
    {
     "data": {
      "text/html": [
       "Čislo 10 umocnené na druhú dáva po delení číslom 4 zvyšok 0"
      ],
      "text/plain": [
       "Čislo 10 umocnené na druhú dáva po delení číslom 4 zvyšok 0"
      ]
     },
     "metadata": {},
     "output_type": "display_data"
    }
   ],
   "source": [
    "for i in [0..10]:\n",
    "    pretty_print(html(\"Čislo {} umocnené na druhú dáva po delení číslom 4 zvyšok {}\".format(i,divmod(i^2,4)[1])))"
   ]
  },
  {
   "cell_type": "markdown",
   "metadata": {},
   "source": [
    "Zamyslime sa teraz nad kladnými celočíselnými deliteľmi čísel $12$ a $20$. "
   ]
  },
  {
   "cell_type": "code",
   "execution_count": 14,
   "metadata": {},
   "outputs": [
    {
     "data": {
      "text/plain": [
       "(12, 6, 4, 3, 2, 1)"
      ]
     },
     "execution_count": 14,
     "metadata": {},
     "output_type": "execute_result"
    }
   ],
   "source": [
    "12/1, 12/2, 12/3, 12/4, 12/6, 12/12"
   ]
  },
  {
   "cell_type": "code",
   "execution_count": 15,
   "metadata": {},
   "outputs": [
    {
     "data": {
      "text/plain": [
       "(20, 10, 5, 4, 2, 1)"
      ]
     },
     "execution_count": 15,
     "metadata": {},
     "output_type": "execute_result"
    }
   ],
   "source": [
    "20/1, 20/2, 20/4, 20/5, 20/10, 20/20"
   ]
  },
  {
   "cell_type": "code",
   "execution_count": 1,
   "metadata": {},
   "outputs": [
    {
     "data": {
      "text/plain": [
       "{1, 2, 4}"
      ]
     },
     "execution_count": 1,
     "metadata": {},
     "output_type": "execute_result"
    }
   ],
   "source": [
    "# spolocne kladne celociselne delitele pre 12 a 20 je mozne najst napriklad tak, \n",
    "# ze definujeme dve mnoziny (delitele cisla 12 a delitele cisla 20) a nasledne urobime ich prienik\n",
    "delitele12 = Set([12/1, 12/2, 12/3, 12/4, 12/6, 12/12])\n",
    "delitele20 = Set([20/1, 20/2, 20/4, 20/5, 20/10, 20/20])\n",
    "delitele12.intersection(delitele20)"
   ]
  },
  {
   "cell_type": "code",
   "execution_count": 2,
   "metadata": {},
   "outputs": [],
   "source": [
    "# pre urcenie spolocnych kladnych celociselnych delitelov dvoch cisel je mozne naprogramovat jednoduchu funkciu \n",
    "# funkcia bude postupne prechadzat kladne cele cisla od 1 po cislo n, kde cislo n je minimum z cisel a,b \n",
    "# priebezne bude testovat, ci uvazovane cislo deli sucasne cisla a,b bezo zvysku \n",
    "# ak ano, prislusne cislo sa ulozi do zoznamu \n",
    "# na konci funkcia vrati vsetky kladne celociselne delitele cisel a,b\n",
    "def spolocne_delitele_dvoch_cisel(a,b):\n",
    "    n = min(a,b)\n",
    "    zoznam = [i for i in range(1,n+1) if a % i == 0 and b % i == 0]\n",
    "    return zoznam \n",
    "            "
   ]
  },
  {
   "cell_type": "code",
   "execution_count": 3,
   "metadata": {},
   "outputs": [
    {
     "data": {
      "text/plain": [
       "[1, 2, 4]"
      ]
     },
     "execution_count": 3,
     "metadata": {},
     "output_type": "execute_result"
    }
   ],
   "source": [
    "spolocne_delitele_dvoch_cisel(12,20)"
   ]
  },
  {
   "cell_type": "markdown",
   "metadata": {},
   "source": [
    "Zrejme spoločné delitele pre $12$ a $20$ sú $1,2,4$. Špeciálne postavenie má najväčší z nich a to je $4$. "
   ]
  },
  {
   "cell_type": "code",
   "execution_count": 4,
   "metadata": {},
   "outputs": [
    {
     "data": {
      "text/plain": [
       "[1, 2, 3, 6]"
      ]
     },
     "execution_count": 4,
     "metadata": {},
     "output_type": "execute_result"
    }
   ],
   "source": [
    "spolocne_delitele_dvoch_cisel(18,30)"
   ]
  },
  {
   "cell_type": "markdown",
   "metadata": {},
   "source": [
    "Ako vidíme, najväčším spoločným deliteľom (NSD) čísel $18$ a $30$ je číslo $6$."
   ]
  },
  {
   "cell_type": "markdown",
   "metadata": {},
   "source": [
    "---\n",
    "\n",
    "### <font color=red>Definícia 2 (Najväčší spoločný deliteľ)</font>  \n",
    "\n",
    "Číslo $d\\in\\mathbb{Z}$ nazývame **_spoločným deliteľom_** čísel $a,b\\in\\mathbb{Z}$ ak $d\\mid a$ a súčasne $d\\mid b$. \n",
    "\n",
    "Číslo $d\\in\\mathbb{Z}$ nazývame **_najväčším spoločným deliteľom_** čísel $a,b\\in\\mathbb{Z}$ ak platia súčasne tieto dve podmienky: \n",
    "\n",
    "* 1) $d\\mid a \\wedge d\\mid b$ ($d$ delí $a$ aj $b$), \n",
    "\n",
    "* 2) $\\left(\\forall d'\\in\\mathbb{Z}\\right)\\left(d'\\mid a \\wedge d'\\mid b\\right)\\Rightarrow d'\\mid d$ (ak je $d'$ nejaký spoločný deliteľ čísel $a,b$, tak potom $d'$ delí $d$). \n",
    "\n",
    "Množinu všetkých spoločných deliteľov čísel $a,b\\in\\mathbb{Z}$ označujeme $D(a,b)$; $D(a)=D(a,a)$ označuje množinu všetkých deliteľov čísla $a$. \n",
    "\n",
    "---"
   ]
  },
  {
   "cell_type": "markdown",
   "metadata": {},
   "source": [
    "<font color=purple>EXTRA: Dokážete v Sage vytvoriť funkciu, ktorá nájde a vráti (kladný) NSD dvoch kladných celých čísel? Môžete pri tom využiť funkciu zavedenú vyššie, ktorá hľadá (kladných) spoločných deliteľov dvoch kladných celých čísel? Za správne riešenie (komentovaný kód) spolu s testovacími príkladmi je možné získať dva bonusové body.</font> "
   ]
  },
  {
   "cell_type": "code",
   "execution_count": null,
   "metadata": {},
   "outputs": [],
   "source": [
    "# tu napiste kod Vasej funkcie i testovacie priklady pouzitia Vasej funkcie "
   ]
  },
  {
   "cell_type": "markdown",
   "metadata": {},
   "source": [
    "---\n",
    "\n",
    "#### Poznámka 5 \n",
    "\n",
    "* Číslo $2$ spĺňa obidve podmienky (z Definície 2) pre NSD čísel\n",
    "$10$ a $4$, tieto podmienky však spĺňa aj číslo $-2$. Všeobecne platí, že\n",
    "ak $d$ je NSD čísel $a,b$, tak aj $−d$ je NSD týchto čísel. \n",
    "\n",
    "\n",
    "* Najväčší **kladný** spoločný deliteľ čísel $a, b$ budeme označovať $(a, b)$. \n",
    "\n",
    "\n",
    "* Ďalej budeme pod NSD myslieť automaticky kladného NSD ak to nebude uvedené inak. Taktiež  budeme pre jednoduchosť predpokladať, že čísla $a,b$ sú kladné celé čísla. Analogické úvahy je však možné robiť aj pre záporné celé čísla. \n",
    "\n",
    "---"
   ]
  },
  {
   "cell_type": "markdown",
   "metadata": {},
   "source": [
    "***\n",
    "<a id=ea></a>\n",
    "# <font color=brown> Euklidov algoritmus </font>"
   ]
  },
  {
   "cell_type": "markdown",
   "metadata": {},
   "source": [
    "Prirodzený spôsob ako hľadať NSD dvoch celých čísel, je nájsť všetkých deliteľov jedného čísla, nájsť všetkých deliteľov druhého čísla, pozrieť sa, ktorých deliteľov majú spoločných a vybrať najväčšieho z nich. Iný spôsob (ukážeme si neskôr) je založený na prvočíselnom rozklade daných dvoch čísel. Je však známe (dá sa aj overiť výpočtom a odmeraním času v Sage), že oba zmienené prístupy nie sú príliš výpočtovo efektívne. Existuje lepší spôsob - **_Euklidov algoritmus_**, ktorý si teraz vysvetlíme. **Dôležitou prípravou, ktorá nás oprávňuje k takému algoritmu (a garantuje jeho jednoznačnosť) je vyššie uvedená Veta o delení so zvyškom**. Pred tým, než samotný algoritmus zapíšeme formálne, ukážeme si pre lepšiu predstavu ako funguje na dvoch príkladoch. "
   ]
  },
  {
   "attachments": {
    "ea1.PNG": {
     "image/png": "[encoded data removed]"
    },
    "ea2.PNG": {
     "image/png": "[encoded data removed]"
    }
   },
   "cell_type": "markdown",
   "metadata": {},
   "source": [
    "---\n",
    "\n",
    "#### <font color=blue>Príklad 3 </font>  \n",
    "\n",
    "Nájdite (kladný) NSD čísel $60$ a $207$ teda $(60,207)$. \n",
    "\n",
    "<ins> Riešenie: </ins>\n",
    "\n",
    "V prvom kroku vydelíme $207$ číslom $60$, čo nám dá kvocient $q_1=3$, zvyšok $r_1=27$ a zapíšeme to takto: \n",
    "\n",
    "$$207=3\\cdot60+27.$$ \n",
    "\n",
    "V ďalšom kroku vezmeme číslo $60$ a vydelíme ho zvyškom $27$ z predošlého kroku. Ináč povedané, aplikujeme Vetu o delení so zvyškom na dvojicu čísel $60,27$. Dostaneme tak kvocient $q_2=2$ a zvyšok $r_2=6$. Zapíšeme to nasledovne: \n",
    "\n",
    "$$60=2\\cdot27+6.$$\n",
    "\n",
    "Ďalej vydelíme $27$ zvyškom $r_2=6$ (aplikujeme Vetu o delení so zvyškom na dvojicu čísel $27,6$) z predošlého kroku a tentokrát dostaneme $q_3=4$, $r_3=3$, t.j.  \n",
    "\n",
    "$$27=4\\cdot6+3.$$ \n",
    "\n",
    "Teraz aplikujeme Vetu o delení so zvyškom na dvojicu čísel $6,3$, čím dostaneme $q_4=2$ a $r_4=0$, čo zapíšeme takto: \n",
    "\n",
    "$$6=2\\cdot3+0.$$\n",
    "\n",
    "Tu postup končí, keďže posledný zvyšok je $r_4=0$ (týmto zvyškom, keďže je nulový, by sme už ďalej deliť nemohli). Euklidov algoritmus hovorí, že akonáhle dostaneme zvyšok $0$, potom zvyšok z predchádzajúceho kroku je najväčším spoločným deliteľom pôvodných dvoch čísel. V tomto prípade teda zistíme, že $(207, 60) = 3$. \n",
    "\n",
    "Jednotlivé kroky uvedené vyššie môžeme kompaktne zapísať takto: \n",
    "\n",
    "![ea1.PNG](attachment:ea1.PNG) \n",
    "\n",
    "Vo všeobecnosti by sme kroky Euklidovho algoritmu zapísali nasledovne: \n",
    "\n",
    "![ea2.PNG](attachment:ea2.PNG) \n",
    "\n",
    "Ukážeme si ešte ako by uvedené kroky výpočtu v našom príklade vyzerali v Sage."
   ]
  },
  {
   "cell_type": "code",
   "execution_count": 1,
   "metadata": {},
   "outputs": [
    {
     "data": {
      "text/plain": [
       "(60, 207)"
      ]
     },
     "execution_count": 1,
     "metadata": {},
     "output_type": "execute_result"
    }
   ],
   "source": [
    "b = 207\n",
    "a = 60 \n",
    "a,b"
   ]
  },
  {
   "cell_type": "code",
   "execution_count": 2,
   "metadata": {},
   "outputs": [
    {
     "data": {
      "text/plain": [
       "(3, 27)"
      ]
     },
     "execution_count": 2,
     "metadata": {},
     "output_type": "execute_result"
    }
   ],
   "source": [
    "q1 = 207 // 60\n",
    "r1 = 207 % 60\n",
    "q1,r1"
   ]
  },
  {
   "cell_type": "code",
   "execution_count": 3,
   "metadata": {},
   "outputs": [
    {
     "data": {
      "text/plain": [
       "(2, 6)"
      ]
     },
     "execution_count": 3,
     "metadata": {},
     "output_type": "execute_result"
    }
   ],
   "source": [
    "q2 = a // r1\n",
    "r2 = a % r1\n",
    "q2,r2"
   ]
  },
  {
   "cell_type": "code",
   "execution_count": 4,
   "metadata": {},
   "outputs": [
    {
     "data": {
      "text/plain": [
       "(4, 3)"
      ]
     },
     "execution_count": 4,
     "metadata": {},
     "output_type": "execute_result"
    }
   ],
   "source": [
    "q3 = r1 // r2\n",
    "r3 = r1 % r2\n",
    "q3,r3"
   ]
  },
  {
   "cell_type": "code",
   "execution_count": 6,
   "metadata": {},
   "outputs": [
    {
     "data": {
      "text/plain": [
       "(2, 0)"
      ]
     },
     "execution_count": 6,
     "metadata": {},
     "output_type": "execute_result"
    }
   ],
   "source": [
    "q4 = r2 // r3\n",
    "r4 = r2 % r3\n",
    "q4,r4"
   ]
  },
  {
   "cell_type": "markdown",
   "metadata": {},
   "source": [
    "Pre výpočet kvocientov a zvyškov je tiež možné použiť vstavanú Sage funkciu `divmod()`, pozor na poradie vstupov!"
   ]
  },
  {
   "cell_type": "code",
   "execution_count": 7,
   "metadata": {},
   "outputs": [
    {
     "data": {
      "text/plain": [
       "(3, 27)"
      ]
     },
     "execution_count": 7,
     "metadata": {},
     "output_type": "execute_result"
    }
   ],
   "source": [
    "divmod(b,a)"
   ]
  },
  {
   "cell_type": "code",
   "execution_count": 8,
   "metadata": {},
   "outputs": [
    {
     "data": {
      "text/plain": [
       "(3, 27)"
      ]
     },
     "execution_count": 8,
     "metadata": {},
     "output_type": "execute_result"
    }
   ],
   "source": [
    "# ulozenie kvocientu a zvysku do premennych\n",
    "q1 = divmod(b,a)[0]\n",
    "r1 = divmod(b,a)[1]\n",
    "q1,r1"
   ]
  },
  {
   "cell_type": "code",
   "execution_count": 2,
   "metadata": {},
   "outputs": [
    {
     "data": {
      "text/plain": [
       "(2, 6)"
      ]
     },
     "execution_count": 2,
     "metadata": {},
     "output_type": "execute_result"
    }
   ],
   "source": [
    "divmod(a,27)"
   ]
  },
  {
   "cell_type": "code",
   "execution_count": 10,
   "metadata": {},
   "outputs": [
    {
     "data": {
      "text/plain": [
       "(4, 3)"
      ]
     },
     "execution_count": 10,
     "metadata": {},
     "output_type": "execute_result"
    }
   ],
   "source": [
    "divmod(27,6)"
   ]
  },
  {
   "cell_type": "code",
   "execution_count": 11,
   "metadata": {},
   "outputs": [
    {
     "data": {
      "text/plain": [
       "(2, 0)"
      ]
     },
     "execution_count": 11,
     "metadata": {},
     "output_type": "execute_result"
    }
   ],
   "source": [
    "divmod(6,3)"
   ]
  },
  {
   "cell_type": "markdown",
   "metadata": {},
   "source": [
    "Na tomto konkrétnom príklade si skúsime zosumarizovať **niekoľko dôležitých pozorovaní a myšlienok, vďaka ktorým korektne funguje** naznačený **Euklidov algoritmus** (EA). Tieto myšlienky a presnejšie argumenty sú ďalej v texte uvedené ako EXTRA časť vyznačená fialovou farbou. \n",
    "\n",
    "S každým krokom Euklidovho algoritmu sa zvyšok zmenšuje. Je to tak preto, lebo napríklad v druhom kroku je zvyšok $6$, t.j. zvyšok po vydelení čísla $60$ číslom $27$, a preto musí byť menší ako $27$, čo je zvyšok z prvého kroku. Z toho vyplýva, že nakoniec by mohol byť posledný krok so zvyškom $0$. \n",
    "\n",
    "Aby sme lepšie rozumeli, prečo EA funguje, uvažujme nasledujúce dvojice čísel (delenec a deliteľ) z postupu uvedeného vyššie: \n",
    "\n",
    "$$207,60 \\rightarrow 60,27 \\rightarrow 27,6 \\rightarrow 6,3.$$ \n",
    "\n",
    "NSD dvojice čísel $207,60$ je rovnaký ako pre dvojicu čísel $60,27$. Aby sme videli, prečo to tak je, vezmime prvú rovnosť z EA uvedenú vyššie v postupe: \n",
    "\n",
    "$$207=3\\cdot60+27.$$ \n",
    "\n",
    "V nasledujúcich úvahách budeme využívať niektoré vlastnosti deliteľnosti uvedené napr. aj v Pozorovaní 1 (pozri vyššie v texte). \n",
    "Ak sú čísla $207$ a $60$ deliteľné celým číslom $n$, potom $3\\cdot60$ je tiež deliteľné číslom $n$. To znamená, že $207 - 3\\cdot60$ je deliteľné $n$. Takže $27$, čo je rovné $207 - 3\\cdot60$, je tiež deliteľné číslom $n$. Inými slovami z týchto úvah dostávame, že ak $n$ delí $207$ aj $60$, tak potom $n$ delí $60$ aj $27$. Použitím rovnakého typu argumentu dostaneme aj opačnú implikáciu, tzn. ak $n$ delí $60$ aj $27$, tak potom $n$ delí $207$ aj $60$. Z toho vyplýva, že NSD $207$ a $60$ je rovný NSD $60$ a $27$. <br/>\n",
    "Ako to vidieť? Zapíšme predchádzajúce úvahy nasledovne (teraz nahradíme $n$ pomocou $d_1$ resp. $d_2$): Označme $d_1=(207,60)$ a ak $d1|207 \\wedge d1|60$ tak $d_1|60 \\wedge d_1|27$; ďalej označme $d_2=(60,27)$ a ak $d_2|60 \\wedge d_2|27$ tak $d_2|207 \\wedge d_2|60$. Keďže $d_2$ je NSD pre $60,27$ a $d_1|60 \\wedge d_1|27$, tak podľa druhej podmienky v definícii NSD musí platiť, že $d_1|d_2$. Podobne keďže $d_1$ je NSD pre $207,60$ a $d_2|207 \\wedge d_2|60$, tak podľa druhej podmienky v definícii NSD musí platiť, že $d_2|d_1$. Situácia $d_1|d_2 \\wedge d_2|d_1$, nastáva vtedy a len vtedy, keď $d_1=d_2$, čo znamená, že NSD čísel $207,60$ je rovnaký ako NSD čísel $60,27$. \n",
    "\n",
    "Tieto úvahy vieme zopakovať postupne pre každú po sebe nasledujúcu dvojicu čísel v reťazci \n",
    "\n",
    "$$207,60 \\rightarrow 60,27 \\rightarrow 27,6 \\rightarrow 6,3.$$\n",
    "\n",
    "Dostaneme tak, že NSD uvedených dvojíc čísel sú rovnaké t.j. \n",
    "\n",
    "$$(207,60)=(60,27)=(27,6)=(6,3).$$ \n",
    "\n",
    "Zrejme NSD dvojice čísel $6,3$ je $3$, čo zapíšeme takto: $(6,3)=3$. Je to vlastne posledný nenulový zvyšok, ktorý sa nachádza v predposlednom kroku EA. Preto NSD čísel $207,60$ je $3$ t.j. $(207,60)=3$.  "
   ]
  },
  {
   "cell_type": "markdown",
   "metadata": {},
   "source": [
    "---"
   ]
  },
  {
   "cell_type": "markdown",
   "metadata": {},
   "source": [
    "---\n",
    "\n",
    "#### <font color=blue>Príklad 4 </font>  \n",
    "\n",
    "Nájdite $(1160718174,316258250)$. \n",
    "\n",
    "<ins> Riešenie: </ins>\n",
    "\n",
    "Začneme delením čísla $1160718174$ číslom $316258250$, čo dáva $3$ so zvyškom $211943424$. Ďalej vezmeme $316258250$ a vydelíme ho $211943424$. Tento proces pokračuje, kým nezískame zvyšok $0$. Celý výpočet vyzerá nasledovne. \n",
    "\n",
    "\\begin{align*} \n",
    "1160718174 &\\qquad=&  3 \\cdot 316258250 &\\qquad+& 211943424 \\\\ \n",
    "316258250 &\\qquad=&  1 \\cdot 211943424 &\\qquad+& 104314826 \\\\ \n",
    "211943424 &\\qquad=& 2 \\cdot 104314826 &\\qquad+& 3313772 \\\\ \n",
    "104314826 &\\qquad=& 31 \\cdot 3313772 &\\qquad+& 1587894 \\\\\n",
    "3313772 &\\qquad=& 2 \\cdot 1587894 &\\qquad+& 137984 \\\\ \n",
    "1587894 &\\qquad=& 11 \\cdot 137984 &\\qquad+& 70070 \\\\\n",
    "137984 &\\qquad=& 1 \\cdot 70070 &\\qquad+& 67914 \\\\\n",
    "70070 &\\qquad=& 1 \\cdot 67914 &\\qquad+& 2156 \\\\ \n",
    "67914 &\\qquad=& 31 \\cdot 2156 &\\qquad+& \\boxed{1078} & \\leftarrow NSD \\\\\n",
    "2156 &\\qquad=& 2 \\cdot 1078 &\\qquad+& 0\n",
    "\\end{align*}\n",
    "\n",
    "Všimnime si ešte, ako v každom kroku delíme číslo $b$ číslom $a$, aby sme dostali kvocient $q$ a zvyšok $r$. V podstate opakovane využívame Vetu o delení so zvyškom v tvare \n",
    "\n",
    "$$b = q \\cdot a + r.$$ \n",
    "\n",
    "Potom v ďalšom kroku nahradíme staré $b$, $a$ číslami $a$, $r$ a\n",
    "pokračujeme v procese, až kým nezískame zvyšok $0$. V tomto okamihu je zvyšok $r$ z predchádzajúceho kroku najväčším spoločným deliteľom našich pôvodných dvoch čísel."
   ]
  },
  {
   "cell_type": "code",
   "execution_count": 19,
   "metadata": {},
   "outputs": [
    {
     "data": {
      "text/plain": [
       "(316258250, 1160718174)"
      ]
     },
     "execution_count": 19,
     "metadata": {},
     "output_type": "execute_result"
    }
   ],
   "source": [
    "b = 1160718174\n",
    "a = 316258250 \n",
    "a,b"
   ]
  },
  {
   "cell_type": "markdown",
   "metadata": {},
   "source": [
    "<font color=orange> Dokážete na základe Príkladu 3 (využite a vhodne upravte kódy) urobiť analogický výpočet pre Príklad 4 pomocou Sage? </font> "
   ]
  },
  {
   "cell_type": "code",
   "execution_count": null,
   "metadata": {},
   "outputs": [],
   "source": [
    "# tu urobte vypocet v Sage"
   ]
  },
  {
   "cell_type": "markdown",
   "metadata": {},
   "source": [
    "Výsledok je možné overiť aj vstavanou Sage funkciou `gcd()`. Všimnime si, že na poradí vstupov nezáleží. "
   ]
  },
  {
   "cell_type": "code",
   "execution_count": 21,
   "metadata": {},
   "outputs": [
    {
     "data": {
      "text/plain": [
       "(1078, 1078)"
      ]
     },
     "execution_count": 21,
     "metadata": {},
     "output_type": "execute_result"
    }
   ],
   "source": [
    "gcd(b,a), gcd(a,b)"
   ]
  },
  {
   "cell_type": "markdown",
   "metadata": {},
   "source": [
    "---"
   ]
  },
  {
   "cell_type": "markdown",
   "metadata": {},
   "source": [
    "**Vo všeobecnosti vyzerá výpočet pomocou Euklidovho algoritmu nasledovne:** \n",
    "\n",
    "\\begin{align*}\n",
    "b &\\quad=& q_1 \\cdot a &\\quad+& r_1 \\\\\n",
    "a &\\quad=& q_2 \\cdot r_1 &\\quad+& r_2 \\\\ \n",
    "r_1 &\\quad=& q_3 \\cdot r_2 &\\quad+& r_3 \\\\\n",
    "r_2 &\\quad=& q_4 \\cdot r_3 &\\quad+& r_4 \\\\ \n",
    "    &      &     \\vdots    &      &     \\\\ \n",
    "r_{n-3} &\\quad=& q_{n-1} \\cdot r_{n-2} &\\quad+& r_{n-1} \\\\\n",
    "r_{n-2} &\\quad=& q_{n} \\cdot r_{n-1} &\\quad+& \\boxed{r_{n}} & \\leftarrow NSD \\\\\n",
    "r_{n-1} &\\quad=& q_{n+1} \\cdot r_{n} &\\quad+& 0.\n",
    "\\end{align*}\n",
    "\n",
    "Ak by sme zaviedli značenie kde $r_0=a$, $r_{-1}=b$, potom každý riadok výpočtu môžeme zapísať v tvare \n",
    "\n",
    "$$r_{i-1}=q_{i+1}\\cdot r_i+r_{i+1}.$$"
   ]
  },
  {
   "cell_type": "markdown",
   "metadata": {},
   "source": [
    "<font color=purple>EXTRA: \n",
    "\n",
    "Ako sme mohli vidieť na predošlých dvoch príkladoch, algoritmus pekne funguje ale prirodzene sa vynára otázka, prečo si môžeme byť istý, že práve $r_n$ je NSD čísel $a,b$ ? Dva príklady na zdôvodnenie nestačia, vyžaduje si to všeobecnejšiu úvahu. \n",
    "Začnime od konca, teda od posledného kroku (riadka) výpočtu. Keďže $r_{n-1}=q_{n+1}\\cdot r_{n}$ tak zrejme $r_n\\mid r_{n-1}$. Predposledný riadok je v tvare $r_{n-2}=q_n\\cdot r_{n-1}+r_n$, a keďže $r_n\\mid r_n$, no zároveň $r_n\\mid r_{n-1}$, podľa Pozorovania 1 tiež $r_n\\mid q_n\\cdot r_{n-1}$, tým pádom $r_n\\mid(q_n\\cdot r_{n-1}+r_n)$ a teda $r_n\\mid r_{n-2}$. Ak sa teraz opäť posunieme o jeden riadok vyššie tak z predošlých úvah už vieme, že $r_n\\mid r_{n-1}$, $r_n\\mid r_{n-2}$ a rovnako ako pred tým zdôvodníme (napíšte si to!), že $r_n\\mid r_{n-3}$. Uvedený postup opakujeme riadok po riadku a keď prídeme k druhému riadku tak už vieme, že $r_n\\mid r_2$ a tiež $r_n\\mid r_1$. Potom druhý riadok $a=q_2\\cdot r_1+r_2$ nám hovorí, že $r_n\\mid a$. Posunom do prvého riadka a s využitím vzťahov $r_n\\mid r_1$, $r_n\\mid a$ dostávame, že $r_n\\mid b$. Teda $r_n$ je spoločným deliteľom čísel $a,b$ (overili sme prvú podmienku pre NSD v Definícii 2). \n",
    "\n",
    "Prečo je ale $r_n$ najväčší zo spoločných deliteľov čísel $a,b$? Predpokladajme, že $d$ je nejaký spoločný deliteľ čísel $a,b$. Teraz pojdeme zhora smerom nadol - od prvej rovnice výpočtu k poslednej. Z prvej rovnice $b=q_1\\cdot a+r_1$ a z predpokladu, že $d\\mid a$, $d\\mid b$ aj vďaka Pozorovaniu 1 dostávame $d\\mid r_1$ (lebo $r_1=b-q_1\\cdot a$). Potom z druhej rovnice $a=q_2\\cdot r_1+r_2$ vyplýva, že $d\\mid r_2$. Takto postupujeme riadok po riadku smerom dole, pričom v každom (i-tom) kroku vieme, že $d$ delí predošlé dva zvyšky t.j. $r_{i-1}$, $r_i$ a aktuálny (i-tý) riadok $r_{i-1}=q_{i+1}\\cdot r_i+r_{i+1}$ nám dá informáciu, že taktiež d musí deliť nasledujúci zvyšok t.j. $d\\mid r_{i+1}$. Keď prídeme k predposlednému riadku $r_{n-2}=q_n\\cdot r_{n-1}+r_n$ tak odtiaľ nám vyplynie $d\\mid r_n$. Týmto činom sme ukázali, že ak $d$ je nejaký spoločný deliteľ čísel $a,b$ tak potom $d\\mid r_n$ (overili sme druhú podmienku pre NSD v Definícii 2). Preto podľa Definície 2 musí byť $r_n$ NSD čísel $a,b$. \n",
    "\n",
    "Týmto máme dokázané, že Euklidov algoritmus nájde NSD dvoch celých čísel. \n",
    "\n",
    "Aby boli naše úvahy o Euklidovom algoritme úplne a korektné, je potrebné sa ešte zamyslieť nad konečnosťou tohto algoritmu. Inými slovami či a prečo Euklidov algoritmus vždy skončí po konečnom počte krokov? Ešte ináč povedané, vieme, že posledným nenulovým zvyškom bude požadovaný NSD, ale ako si môžeme byť istí, že niekedy dostaneme zvyšok, ktorý sa rovná $0$ ? Zdôvodnenie je nasledovné. V každom kroku algoritmu sa vypočíta kvocient a zvyšok, čo sa vyjadrí v tvare \n",
    "\n",
    "$$b=q\\cdot a+r,$$\n",
    "\n",
    "pričom pre zvyšok vždy platí $0\\le r \\le a-1$ lebo ak by $r\\ge a$ potom by bolo možné zväčšiť kvocient o $1$ a odrátať $a$ od $r$. Takže po sebe nasledujúce zvyšky v Euklidovom algoritme vytvárajú (ostro) klesajúcu postupnosť \n",
    "\n",
    "$$a=r_0>r_1>r_2>r_3>\\ldots.$$\n",
    "\n",
    "Všetky zvyšky sú však väčšie alebo rovné $0$, takže máme striktne (ostro) klesajúcu postupnosť nezáporných celých čísel. Nakoniec musíme dosiahnuť zvyšok, ktorý sa rovná $0$; v skutočnosti je zrejmé, že zvyšok $0$ sa dosiahne nanajvýš v počte krokov ktorý je rovný číslu $a$ (najhorší možný prípad). Našťastie je Euklidovský algoritmus omnoho efektívnejší. \n",
    "Dá sa ukázať že počet krokov v Euklidovom algoritme je nanajvýš rovný sedem násobku počtu číslic v $a$. \n",
    "Na počítači je teda možné počítať $(a, b)$ aj keď $a, b$ majú stovky či dokonca tisíce číslic!\n",
    "\n",
    "V predošlých úvahách sme vlastne dokázali platnosť nasledujúcej vety.\n",
    "\n",
    "</font>"
   ]
  },
  {
   "cell_type": "markdown",
   "metadata": {},
   "source": [
    "---\n",
    "\n",
    "### <font color=green>Veta 2 (Euklidov algoritmus) </font> \n",
    "\n",
    "Nech $a,b$ sú dve kladné celé čísla. Položme $r_{-1}=b$, $r_0=a$ a určme postupnosť za sebou idúcich kvocientov a zvyškov podľa vzťahu \n",
    "\n",
    "$$r_{i-1}=q_{i+1}\\cdot r_i+r_{i+1}$$\n",
    "\n",
    "pre $i=0,1,2,\\ldots$ až kým pre nejaký zvyšok platí $r_{n+1}=0$. Potom posledný nenulový zvyšok $r_n$ je NSD čísel $a,b$. \n",
    "\n",
    "---"
   ]
  },
  {
   "cell_type": "markdown",
   "metadata": {},
   "source": [
    "<font color=purple>EXTRA: Vedeli by ste naprogramovať v Sage funkciu, ktorá vykonáva Euklidov algoritmus - t.j. nájde NSD dvoch zadaných čísel? Ak áno, tak komentovaný kód aj s testovacími príkladmi môžete vo forme Jupyter notebooku odovzdať v Google triede v sekcii Téma 1 - Úlohy k učebnému textu. V prípade správneho riešenia môžete získať dva bonusové body. <br/>\n",
    "Váš program by mal fungovať, aj keď jedno z čísel $a$ alebo $b$ je $0$. Uistite sa, že program sa nezacyklí (t.j. nebude bežať nekonečne dlho), ak $a$ a $b$ sú $0$ !\n",
    "</font>"
   ]
  },
  {
   "cell_type": "code",
   "execution_count": null,
   "metadata": {},
   "outputs": [],
   "source": []
  },
  {
   "cell_type": "markdown",
   "metadata": {},
   "source": [
    "***\n",
    "<a id=dr></a>\n",
    "# <font color=brown> Riešenie diofantických rovníc </font>"
   ]
  },
  {
   "cell_type": "markdown",
   "metadata": {},
   "source": [
    "Uvažujme teraz takúto úlohu, ktorá zdanlivo nesúvisí s Euklidovým algoritmom a deliteľnosťou. <br/>\n",
    "Sú dané dve celé čísla $a,b$ a hľadáme **všetky celé čísla**, ktoré je možné dostať ako súčet nejakého celočíselného násobku $a$ a celočíselného násobku $b$. Inými slovami, zaujímajú nás čísla v tvare \n",
    "\n",
    "$$ax+by$$ \n",
    "\n",
    "kde $a,b$ sú dané a $x,y$ sú ľubovoľné celé čísla. \n",
    "\n",
    "Konkrétne sa pozrime na situáciu keď $a=42$, $b=30$. Niektoré z čísel tvaru $42x+30y$ sú uvedené v nasledujúcej tabuľke. "
   ]
  },
  {
   "cell_type": "markdown",
   "metadata": {},
   "source": [
    "<style type=\"text/css\">\n",
    ".tg  {border-collapse:collapse;border-spacing:0;}\n",
    ".tg td{border-color:black;border-style:solid;border-width:1px;font-family:Arial, sans-serif;font-size:14px;\n",
    "  overflow:hidden;padding:10px 5px;word-break:normal;}\n",
    ".tg th{border-color:black;border-style:solid;border-width:1px;font-family:Arial, sans-serif;font-size:14px;\n",
    "  font-weight:normal;overflow:hidden;padding:10px 5px;word-break:normal;}\n",
    ".tg .tg-c3ow{border-color:inherit;text-align:center;vertical-align:top}\n",
    "</style>\n",
    "<table class=\"tg\">\n",
    "<thead>\n",
    "  <tr>\n",
    "    <th class=\"tg-c3ow\"></th>\n",
    "    <th class=\"tg-c3ow\">x=-3</th>\n",
    "    <th class=\"tg-c3ow\">x=-2</th>\n",
    "    <th class=\"tg-c3ow\">x=-1</th>\n",
    "    <th class=\"tg-c3ow\">x=0</th>\n",
    "    <th class=\"tg-c3ow\">x=1</th>\n",
    "    <th class=\"tg-c3ow\">x=2</th>\n",
    "    <th class=\"tg-c3ow\">x=3</th>\n",
    "  </tr>\n",
    "</thead>\n",
    "<tbody>\n",
    "  <tr>\n",
    "    <td class=\"tg-c3ow\">y=-3</td>\n",
    "    <td class=\"tg-c3ow\">-216</td>\n",
    "    <td class=\"tg-c3ow\">-174</td>\n",
    "    <td class=\"tg-c3ow\">-132</td>\n",
    "    <td class=\"tg-c3ow\">-90</td>\n",
    "    <td class=\"tg-c3ow\">-48</td>\n",
    "    <td class=\"tg-c3ow\">-6</td>\n",
    "    <td class=\"tg-c3ow\">36</td>\n",
    "  </tr>\n",
    "  <tr>\n",
    "    <td class=\"tg-c3ow\">y=-2</td>\n",
    "    <td class=\"tg-c3ow\">-186</td>\n",
    "    <td class=\"tg-c3ow\">-144</td>\n",
    "    <td class=\"tg-c3ow\">-102</td>\n",
    "    <td class=\"tg-c3ow\">-60</td>\n",
    "    <td class=\"tg-c3ow\">-18</td>\n",
    "    <td class=\"tg-c3ow\">24</td>\n",
    "    <td class=\"tg-c3ow\">66</td>\n",
    "  </tr>\n",
    "  <tr>\n",
    "    <td class=\"tg-c3ow\">y=-1</td>\n",
    "    <td class=\"tg-c3ow\">-156</td>\n",
    "    <td class=\"tg-c3ow\">-114</td>\n",
    "    <td class=\"tg-c3ow\">-72</td>\n",
    "    <td class=\"tg-c3ow\">-30</td>\n",
    "    <td class=\"tg-c3ow\">12</td>\n",
    "    <td class=\"tg-c3ow\">54</td>\n",
    "    <td class=\"tg-c3ow\">96</td>\n",
    "  </tr>\n",
    "  <tr>\n",
    "    <td class=\"tg-c3ow\">y=0</td>\n",
    "    <td class=\"tg-c3ow\">-126</td>\n",
    "    <td class=\"tg-c3ow\">-84</td>\n",
    "    <td class=\"tg-c3ow\">-42</td>\n",
    "    <td class=\"tg-c3ow\">0</td>\n",
    "    <td class=\"tg-c3ow\">42</td>\n",
    "    <td class=\"tg-c3ow\">84</td>\n",
    "    <td class=\"tg-c3ow\">126</td>\n",
    "  </tr>\n",
    "  <tr>\n",
    "    <td class=\"tg-c3ow\">y=1</td>\n",
    "    <td class=\"tg-c3ow\">-96</td>\n",
    "    <td class=\"tg-c3ow\">-54</td>\n",
    "    <td class=\"tg-c3ow\">-12</td>\n",
    "    <td class=\"tg-c3ow\">30</td>\n",
    "    <td class=\"tg-c3ow\">72</td>\n",
    "    <td class=\"tg-c3ow\">114</td>\n",
    "    <td class=\"tg-c3ow\">156</td>\n",
    "  </tr>\n",
    "  <tr>\n",
    "    <td class=\"tg-c3ow\">y=2</td>\n",
    "    <td class=\"tg-c3ow\">-66</td>\n",
    "    <td class=\"tg-c3ow\">-24</td>\n",
    "    <td class=\"tg-c3ow\">18</td>\n",
    "    <td class=\"tg-c3ow\">60</td>\n",
    "    <td class=\"tg-c3ow\">102</td>\n",
    "    <td class=\"tg-c3ow\">144</td>\n",
    "    <td class=\"tg-c3ow\">186</td>\n",
    "  </tr>\n",
    "  <tr>\n",
    "    <td class=\"tg-c3ow\">y=3</td>\n",
    "    <td class=\"tg-c3ow\">-36</td>\n",
    "    <td class=\"tg-c3ow\">6</td>\n",
    "    <td class=\"tg-c3ow\">48</td>\n",
    "    <td class=\"tg-c3ow\">90</td>\n",
    "    <td class=\"tg-c3ow\">132</td>\n",
    "    <td class=\"tg-c3ow\">174</td>\n",
    "    <td class=\"tg-c3ow\">216</td>\n",
    "  </tr>\n",
    "</tbody>\n",
    "</table>"
   ]
  },
  {
   "cell_type": "markdown",
   "metadata": {},
   "source": [
    "Prvé pozorovanie je, že každý prvok v tabuľke je deliteľný číslom $6$. To nie je prekvapujúce, pretože $42$ aj $30$ sú deliteľné $6$, takže každé číslo v tvare $42x + 30y = 6 (7x + 5y)$ je násobkom $6$. Všeobecnejšie je zrejmé, že každé číslo v tvare $ax + by$ je deliteľné $(a, b)$, pretože $a$ aj $b$ sú deliteľné $(a, b)$. \n",
    "\n",
    "Druhé pozorovanie, ktoré je trochu prekvapujúce, je, že v našej tabuľke sa skutočne nachádza najväčší spoločný deliteľ $42$ a $30$, ktorým je $6$. Z tabuľky teda vyplýva, že $42\\cdot(-2) + 30\\cdot3 = 6 = (42,30)$. Ďalšie príklady naznačujú tento záver: \n",
    "\n",
    "$\\boxed{\\text{Najmenšia kladná hodnota výrazu } ax+by \\text{ je rovná } (a,b)}.$"
   ]
  },
  {
   "cell_type": "markdown",
   "metadata": {},
   "source": [
    "Existuje niekoľko spôsobov ako dokázať, že uvedené tvrdenie je pravdivé, my zvolíme **konštruktívny prístup s využitím Euklidovho algoritmu, ktorý poskytuje procedúru pre nájdenie vhodných $x,y$**. Ináč povedané, **popíšeme postup na nájdenie celočíselných hodnôt $x$ a $y$, aby platilo $ax+by=(a,b)$**. \n",
    "\n",
    "Všimli sme si, že každé číslo v tvare $ax+by$ je deliteľné $(a,b)$, a preto najmenšie kladné číslo v tvare $ax+by$ bude práve $(a,b)$. \n",
    "\n",
    "**Ako by sme teda riešii rovnicu $ax+by=(a,b)$ ?** Ak sú dané čísla $a,b$ malé, ľahko uhádneme riešenie. Vezmime napr. rovnicu \n",
    "\n",
    "$$10x+35y=5,$$\n",
    "\n",
    "ktorá ma riešenie $x=-3$, $y=1$ a rovnicu \n",
    "\n",
    "$$7x+11y=1,$$\n",
    "\n",
    "ktorá má riešenie $x=-3$, $y=2$. Všimnime si, že riešení môže byť viac, lebo aj $x=8$, $y=-5$ je riešením rovnice $7x+11y=1$. \n",
    "Keď však $a,b$ budú príliš veľke čísla, potom hádanie ani metóda pokus-omyl nám veľmi nepomôžu. Ukážeme si teraz na príklade ako nám v tejto situácii pomôže Euklidov algoritmus. "
   ]
  },
  {
   "cell_type": "markdown",
   "metadata": {},
   "source": [
    "<font color=orange> Overte (môžete aj pomocou Sage), že $x=-3,y=1$ je riešením rovnice $10x+35y=5$ a $x=-3,y=2$ je riešením rovnice $7x+11y=1$. Overte tiež, že aj dvojica $x=8,y=-5$ je riešením rovnice $7x+11y=1$. </font> "
   ]
  },
  {
   "cell_type": "code",
   "execution_count": null,
   "metadata": {},
   "outputs": [],
   "source": []
  },
  {
   "cell_type": "markdown",
   "metadata": {},
   "source": [
    "---\n",
    "\n",
    "#### <font color=blue>Príklad 5 </font>  \n",
    "\n",
    "Vyriešte rovnicu \n",
    "\n",
    "$$60x+22y=(60,22),$$\n",
    "\n",
    "kde $(60,22)$ je (kladný) NSD čísel $60,22$. \n",
    "\n",
    "<ins> Riešenie: </ins>\n",
    "\n",
    "Ak sa zamyslíme, tak **vyriešiť zadanú rovnicu vlastne znamená vyjadriť NSD (60,22) čísel $60$, $22$ ako určitú celočíselnú kombináciu v tvare $60x+22y$, pričom hľadáme konkrétne hodnoty koeficientov $x$, $y$ v tejto kombinácii**. \n",
    "V prvom kroku aplikujeme Euklidov algoritmus na nájdenie NSD čísel $a=60$, $b=22$. Všimnime si, že teraz uvažujeme prvú rovnicu Euklidovho algoritmu v tvare $a = q_1b+r_1$ a nie v tvare $b=q_1a+r_1$ ako to bolo uvedené vyššie pri Euklidovom algoritme, je to len vecou označenia - teda ktoré číslo (či delenca alebo deliteľa) si označíme $a$, a ktoré (či deliteľa alebo delenca) označíme $b$. \n",
    "\n",
    "\\begin{align*}\n",
    "60 &\\quad=& 2 \\cdot 22 &\\quad+& 16 \\\\\n",
    "22 &\\quad=& 1\\cdot16 &\\quad+& 6 \\\\ \n",
    "16 &\\quad=& 2\\cdot6&\\quad+& 4 \\\\ \n",
    "6&\\quad=& 1\\cdot4&\\quad+& 2 \\\\\n",
    "4&\\quad=& 2\\cdot2&\\quad+& 0\n",
    "\\end{align*} \n",
    "\n",
    "Zrejme $(60,22)=2$, čo bolo možné vytušiť aj bez použitia algoritmu ale **výpočet pomocou Euklidovho algoritmu je dôležitý, lebo využijeme kvocienty a zvyšky pre nájdenie (konštrukciu) riešenia rovnice $60x+22y=2$**. \n",
    "\n",
    "Z prvej rovnosti v Eulidovom algoritme vyjadríme zvyšok $16$, t.j. \n",
    "\n",
    "$$16=a-2b, \\qquad \\text{ kde } a=60 \\text{ a } b=22.$$ \n",
    "\n",
    "Ďalej z druhej rovnosti v Euklidovom algoritme vyjadríme zvyšok $6$ (nezabudnime, že $b=22$) a za $16$ dosadíme predchádzajúce vyjadrenie v tvare $a-2b$, čím dostaneme \n",
    "\n",
    "$$6 = b - 1\\cdot16 = b - 1\\cdot(a-2b)=-a+3b.$$\n",
    "\n",
    "Následne z tretej rovnosti v Euklidovom algoritme vyjadríme zvyšok $4$ a súčasne miesto čísel $16$ a $2$ dosadíme ich vyjadrenie z predošlých dvoch krokov t.j. \n",
    "\n",
    "$$4 = 16 - 2\\cdot6 = (a-2b)-2\\cdot(-a+3b) = 3a-8b.$$\n",
    "\n",
    "Nakoniec z predposlednej rovnosti v Euklidovom algoritme vyjadríme zvyšok $2$ (t.j. NSD čísel $60$, $22$) \n",
    "\n",
    "$$2 = 6 - 1\\cdot4$$ \n",
    "\n",
    "a miesto hodnôt $6$ a $4$ dosadíme ich vyjrednia z predchádzajúcich dvoch krokov, čo dáva \n",
    "\n",
    "$$2 = 6 - 1\\cdot4 = (-a+3b) - 1\\cdot(3a-8b) = -4a+11b.$$\n",
    "\n",
    "Dosadením $a=60,b=22$ ľahko overíme, že $-4\\cdot60+11\\cdot22=-240+242=2.$, čiže vyjadrenie NSD čísel $a=60$, $b=22$ je správne.  Všimnime si, čo sme dostali v poslednom vzťahu \n",
    "\n",
    "$$2 = (-4)\\cdot60+11\\cdot22,$$ \n",
    "\n",
    "odkiaľ máme hľadané $x$, $y$, konkrétne teda $x=-4$, $y=11$, čo sú v podstate riešenia zadanej rovnice $60x+22y=(60,22)=2$. "
   ]
  },
  {
   "attachments": {
    "tabulka1.png": {
     "image/png": "[encoded data removed]"
    }
   },
   "cell_type": "markdown",
   "metadata": {},
   "source": [
    "Predchádzajúce výpočty môžeme prehľadne zosumarizovať, pričom vľavo sú jednotlivé kroky Euklidovho algoritmu a vpravo sú jednotlivé kroky pre výpočet riešenia danej rovnice $ax+by=(a,b)$. \n",
    "\n",
    "![tabulka1.png](attachment:tabulka1.png)"
   ]
  },
  {
   "attachments": {
    "tabulka2.png": {
     "image/png": "[encoded data removed]"
    }
   },
   "cell_type": "markdown",
   "metadata": {},
   "source": [
    "Opäť sa prirodzene vynára otázka, **prečo táto metóda funguje?** Ako ukazuje ďalšia tabuľka, začneme s prvými dvoma riadkami Euklidovho algoritmu, ktoré obsahujú čísla $a,b$ a postupujeme smerom nadol. \n",
    "\n",
    "![tabulka2.png](attachment:tabulka2.png)"
   ]
  },
  {
   "cell_type": "markdown",
   "metadata": {},
   "source": [
    "Ako prechádzame riadok po riadku, tak vždy vytvárame rovnice (z rovníc - krokov Euklidovho algoritmu) v tvare \n",
    "\n",
    "$$\\text{posledný zvyšok = nejaký násobok čísla } a \\text{ plus nejaký násobok čísla } b. $$ \n",
    "\n",
    "Do takto vytvorenej rovnice dosádzame vyjadrenia zvyškov z predošlých krokov. \n",
    "\n",
    "Nakoniec sa dostaneme k poslednému nenulovému zvyšku, o ktorom vieme, že je rovný $(a, b)$ a to dáva požadované riešenie rovnice $(a, b) = ax + by$, čiže takto nájdeme neznáme $x,y$. "
   ]
  },
  {
   "cell_type": "markdown",
   "metadata": {},
   "source": [
    "Ukážeme si teraz ako nám pri výpočte pomôže Sage. Najprv urobíme Euklidov algoritmus a nájdeme (a,b) kde $a=60$, $b=22$."
   ]
  },
  {
   "cell_type": "code",
   "execution_count": 6,
   "metadata": {},
   "outputs": [
    {
     "data": {
      "text/plain": [
       "(60, 22)"
      ]
     },
     "execution_count": 6,
     "metadata": {},
     "output_type": "execute_result"
    }
   ],
   "source": [
    "a = 60 \n",
    "b = 22\n",
    "a,b"
   ]
  },
  {
   "cell_type": "code",
   "execution_count": 7,
   "metadata": {},
   "outputs": [
    {
     "data": {
      "text/plain": [
       "(2, 16)"
      ]
     },
     "execution_count": 7,
     "metadata": {},
     "output_type": "execute_result"
    }
   ],
   "source": [
    "q1 = a // b\n",
    "r1 = a % b\n",
    "q1,r1 # kvocient q1, zvysok r1 (1. riadok v Euklidovom algoritme)"
   ]
  },
  {
   "cell_type": "code",
   "execution_count": 8,
   "metadata": {},
   "outputs": [
    {
     "data": {
      "text/plain": [
       "(1, 6)"
      ]
     },
     "execution_count": 8,
     "metadata": {},
     "output_type": "execute_result"
    }
   ],
   "source": [
    "q2 = b // r1  \n",
    "r2 = b % r1\n",
    "q2,r2 # kvocient q2, zvysok r2 (2. riadok v Euklidovom algoritme)"
   ]
  },
  {
   "cell_type": "code",
   "execution_count": 9,
   "metadata": {},
   "outputs": [
    {
     "data": {
      "text/plain": [
       "(2, 4)"
      ]
     },
     "execution_count": 9,
     "metadata": {},
     "output_type": "execute_result"
    }
   ],
   "source": [
    "q3 = r1 // r2  \n",
    "r3 = r1 % r2\n",
    "q3,r3 # kvocient q3, zvysok r3 (2. riadok v Euklidovom algoritme)"
   ]
  },
  {
   "cell_type": "code",
   "execution_count": 10,
   "metadata": {},
   "outputs": [
    {
     "data": {
      "text/plain": [
       "(1, 2)"
      ]
     },
     "execution_count": 10,
     "metadata": {},
     "output_type": "execute_result"
    }
   ],
   "source": [
    "q4 = r2 // r3  \n",
    "r4 = r2 % r3\n",
    "q4,r4 # kvocient q4, zvysok r4 (4. riadok v Euklidovom algoritme)"
   ]
  },
  {
   "cell_type": "code",
   "execution_count": 11,
   "metadata": {},
   "outputs": [
    {
     "data": {
      "text/plain": [
       "(2, 0)"
      ]
     },
     "execution_count": 11,
     "metadata": {},
     "output_type": "execute_result"
    }
   ],
   "source": [
    "q5 = r3 // r4  \n",
    "r5 = r3 % r4\n",
    "q5,r5 # # kvocient q5, zvysok r5 (5. riadok v Euklidovom algoritme) \n",
    "# zvysok r5 je 0, cize Euklidov algoritmus konci a posledny nenulovy zvysok t.j. r4 = 2 je NSD cisel a=60, b=22 "
   ]
  },
  {
   "cell_type": "markdown",
   "metadata": {},
   "source": [
    "V ďalšom postupe potrebujeme zaviesť (pomocné) symbolické premenné $aa$, $bb$, ktoré odpovedajú číslam $a,b$ ale nemajú priradenú žiadnu konkrétnu hodnotu. Robíme to kvôli tomu aby sme mohli $(a,b)$ vyjadriť v tvare $ax+by$ a použiť Sage funkciu `solve()`, ktorá nám z príslušných rovníc vyjadrí odpovedajúce zvyšky pomocou násobku čísla $a$ a násobku čísla $b$. Z rovnakého dôvodu zavádzame (pomocné) symbolické premenné s označeniami $rr1, rr2, rr3, rr4$. Názvy premenných $aa,bb,rr1,rr2,rr3,rr4$ sú zvolené tak, aby neboli totožné s názvami premenných $a,b,r1,r2,r3,r4$ z Euklidovho algoritmu (pozri kódy vyššie), ktoré už majú priradené konkrétne hodnoty. Funkcia `rhs()` len vráti požadovanú časť (righthand side) riešenia rovnice potrebnú pre ďalšie použitie. Skúste pozrieť, čo sa uloží do premennej napr. $rr1$ bez použitia funkcie `rhs`. "
   ]
  },
  {
   "cell_type": "code",
   "execution_count": 12,
   "metadata": {},
   "outputs": [
    {
     "data": {
      "text/plain": [
       "aa - 2*bb"
      ]
     },
     "execution_count": 12,
     "metadata": {},
     "output_type": "execute_result"
    }
   ],
   "source": [
    "var('rr1,aa,bb') # zavedieme symbolicke premenne pre cisla a,b aj pre prvy zvysok r1  \n",
    "eqn1 = [aa==q1*bb+rr1] # prva rovnost z Euklidovho algoritmu \n",
    "s1 = solve(eqn1, rr1) # vyjadrime z prvej rovnice prvy zvysok (po deleni) r1 pomocou cisel a,b \n",
    "rr1 = s1[0].rhs() # vyjadreny zvysok ulozime do premennej (funkcia rhs() vrati pravu stranu riesenia resp. vyjadrenia z rovnice)\n",
    "rr1"
   ]
  },
  {
   "cell_type": "code",
   "execution_count": 13,
   "metadata": {},
   "outputs": [
    {
     "data": {
      "text/plain": [
       "-aa + 3*bb"
      ]
     },
     "execution_count": 13,
     "metadata": {},
     "output_type": "execute_result"
    }
   ],
   "source": [
    "var('rr2') # zavedieme symbolicku premennu pre druhy zvysok r2 \n",
    "eqn2 = [bb==q2*rr1+rr2] # druha rovnost z Euklidovho algoritmu\n",
    "s2 = solve(eqn2, rr2) # vyjadrime z druhej rovnice druhy zvysok (po deleni) r2 pomocou cisel a,b \n",
    "rr2 = s2[0].rhs() # vyjadreny zvysok ulozime do premennej (funkcia rhs() vrati pravu stranu riesenia resp. vyjadrenia z rovnice)\n",
    "rr2"
   ]
  },
  {
   "cell_type": "code",
   "execution_count": 14,
   "metadata": {},
   "outputs": [
    {
     "data": {
      "text/plain": [
       "3*aa - 8*bb"
      ]
     },
     "execution_count": 14,
     "metadata": {},
     "output_type": "execute_result"
    }
   ],
   "source": [
    "var('rr3') # zavedieme symbolicku premennu pre druhy zvysok r3\n",
    "eqn3 = [rr1==q3*rr2+rr3] # tretia rovnost z Euklidovho algoritmu \n",
    "s3 = solve(eqn3, rr3) # vyjadrime z tretej rovnice prvy zvysok (po deleni) r3 pomocou cisel a,b\n",
    "rr3 = s3[0].rhs() # vyjadreny zvysok ulozime do premennej (funkcia rhs() vrati pravu stranu riesenia resp. vyjadrenia z rovnice)\n",
    "rr3"
   ]
  },
  {
   "cell_type": "code",
   "execution_count": 15,
   "metadata": {},
   "outputs": [
    {
     "data": {
      "text/plain": [
       "-4*aa + 11*bb"
      ]
     },
     "execution_count": 15,
     "metadata": {},
     "output_type": "execute_result"
    }
   ],
   "source": [
    "var('rr4')\n",
    "eqn4 = [rr2==q4*rr3+rr4]\n",
    "s4 = solve(eqn4, rr4)\n",
    "rr4 = s4[0].rhs()\n",
    "rr4"
   ]
  },
  {
   "cell_type": "code",
   "execution_count": 16,
   "metadata": {},
   "outputs": [
    {
     "data": {
      "text/plain": [
       "2"
      ]
     },
     "execution_count": 16,
     "metadata": {},
     "output_type": "execute_result"
    }
   ],
   "source": [
    "# kontrola spravnosti vypoctu tym, ze dosadime hodnoty a = 60, b = 22 a mali by sme dostat NSD teda 2\n",
    "rr4.subs(aa == a, bb = b)"
   ]
  },
  {
   "cell_type": "markdown",
   "metadata": {},
   "source": [
    "Ďalšia kontrola aby sme sa uistili o správnosti nášho výsledku je použitie vstavanej Sage funkcie `xgcd()`. Funkcia vráti $(a,b)$ a čísla $x$, $y$, ktoré sú riešením rovnice $ax+by=(a,b)$.  "
   ]
  },
  {
   "cell_type": "code",
   "execution_count": 55,
   "metadata": {},
   "outputs": [
    {
     "data": {
      "text/plain": [
       "(2, -4, 11)"
      ]
     },
     "execution_count": 55,
     "metadata": {},
     "output_type": "execute_result"
    }
   ],
   "source": [
    "xgcd(60,22)"
   ]
  },
  {
   "cell_type": "markdown",
   "metadata": {},
   "source": [
    "---"
   ]
  },
  {
   "cell_type": "markdown",
   "metadata": {},
   "source": [
    "<font color=orange> Vedeli by ste uvedenú procedúru zopakovať pre nájdenie riešenia rovnice $12453x+2347y=(12453,2347)$ pomocou Sage ? </font>"
   ]
  },
  {
   "cell_type": "code",
   "execution_count": null,
   "metadata": {},
   "outputs": [],
   "source": []
  },
  {
   "cell_type": "markdown",
   "metadata": {},
   "source": [
    "V tejto chvíli už vieme, **že rovnica** \n",
    "\n",
    "$$ax+by=(a,b)$$ \n",
    "\n",
    "**má vždy aspoň jedno celočíselné riešenie**, teda existujú $x,y\\in\\mathbb{Z}$ také, že po dosadení do rovnice nastáva rovnosť. Ukázali sme si aj spôsob ako toto riešenie nájsť. Ostáva ešte zodpovedať otázku, **koľko je všetkých riešení uvažovanej rovnice a ako ich vyjadriť / popísať?** \n",
    "\n",
    "Začnime najprv s prípadom keď $(a,b)=1$. Uvažujme konkrétny príklad \n",
    "\n",
    "$$5x+3y=1.$$ \n",
    "\n",
    "**Nájsť celočíselné riešenia takej rovnice zrejme geometricky znamená nájsť body na priamke s rovnicnou $5x+3y=1$ resp. po úprave $y=-\\dfrac{5}{3}x+\\dfrac{1}{3}$, ktoré majú celočíselné súradnice.** "
   ]
  },
  {
   "cell_type": "code",
   "execution_count": 24,
   "metadata": {},
   "outputs": [
    {
     "data": {
      "image/png": "[encoded data removed]",
      "text/plain": [
       "Graphics object consisting of 6 graphics primitives"
      ]
     },
     "execution_count": 24,
     "metadata": {},
     "output_type": "execute_result"
    }
   ],
   "source": [
    "plot(-5/3 * x + 1/3, (x,-10,10)) + point((-1,2), size = 40, color = 'blue') + point((2,-3), size = 40, color = 'red') +  point((5,-8), size = 40, color = 'red') + point((-4,7), size = 40, color = 'green') +  point((-7,12), size = 40, color = 'green')"
   ]
  },
  {
   "cell_type": "markdown",
   "metadata": {},
   "source": [
    "Takže napr. ak začneme s riešením $[-1,2]$, potom ďalšie riešenia (body priamky s celočíselnými súradnicami) sú v tvare $[-1+3k,2-5k]$ kde $k\\in\\mathbb{Z}$ (všimnime si, že $(3,-5)$ je smerový vektor uvažovanej priamky $5x+3y=1$). Dosadzovaním konkrétnych hodnôt (celých čísel) za $k$ dostávame napr. riešenia $\\ldots,[-13,22],[-10,17],[-7,12],[-4,7],[-1,2],[2,-3],[5,-8],[8,-13],[11,-18], \\ldots$. Inými slovami, vyštartujeme z bodu $[-1,2]$ (modrá bodka) na priamke a posúvame sa po priamke o celočíselné násobky jej smerového vektora $(3,-5)$ (červené bodky sú kladné násobky a zelené bodky sú záporné násobky smerového vektora $(3,-5)$ pripočítané k bodu $[-1,2]$). "
   ]
  },
  {
   "cell_type": "markdown",
   "metadata": {},
   "source": [
    "<font color=orange> Overte pomocou Sage, že uvedené riešenia sú naozaj riešeniami rovnice $5x+3y=1$. </font>"
   ]
  },
  {
   "cell_type": "code",
   "execution_count": null,
   "metadata": {},
   "outputs": [],
   "source": []
  },
  {
   "cell_type": "markdown",
   "metadata": {},
   "source": [
    "<font color=orange> Spustite **interaktívny kód** v nasledujúcej bunke a chvíľu počkajte. Následne skúste pomocou posúvnikov nastaviť parametre tak, aby ste získali vizualizáciu riešenia rovnice $5x+3y=1$ z predošlého príkladu (mali by ste dostať rovankú priamku s rovnakými bodmi ako je na predchádzajúcom obrázku). Pomocou tohto interaktivneho kódu vyzualizujte aj riešenie rovnice $2x-5y=2$ na oblasti $x\\in\\langle-10,10\\rangle \\wedge y\\in\\langle-10,10\\rangle$ a vypíšte súradnice znázornených bodov na priamke, ktoré sú riešením tejto rovnice. </font>"
   ]
  },
  {
   "cell_type": "code",
   "execution_count": 1,
   "metadata": {},
   "outputs": [
    {
     "data": {
      "application/vnd.jupyter.widget-view+json": {
       "model_id": "e8d71f4bf729420bb6fa74d886417379",
       "version_major": 2,
       "version_minor": 0
      },
      "text/plain": [
       "Interactive function <function _ at 0x6ffe6864b5f0> with 4 widgets\n",
       "  a: TransformIntSlider(value=6, descriptio…"
      ]
     },
     "metadata": {},
     "output_type": "display_data"
    }
   ],
   "source": [
    "# Crisman (2020)\n",
    "@interact\n",
    "def _(a=slider(-10,10,1,6),b=slider(-10,10,1,4), c=slider(-20,20,1,2),viewsize=slider(3,20,1,5)):\n",
    "    p = plot(-(a/b)*x+c/b,-viewsize,viewsize, plot_points=200)\n",
    "    lattice_pts=[[i,j] for i in [-viewsize..viewsize] for j in [-viewsize..viewsize]]\n",
    "    plot_lattice_pts = points(lattice_pts,rgbcolor=(0,0,0), pointsize=2)\n",
    "    if mod(c,gcd(a,b))==0:\n",
    "        line_pts = [coords for coords in lattice_pts if a*coords[0]+b*coords[1]==c]\n",
    "        if line_pts==[]:\n",
    "            plot_line_pts = Graphics()\n",
    "        else:\n",
    "            plot_line_pts = points(line_pts,rgbcolor=(0,0,1), pointsize=20)\n",
    "        pretty_print(html(\"Showing solutions to $%sx+%sy=%s$ in this viewing window\"%(str(a),str(b),str(c))))\n",
    "        show(p+plot_lattice_pts+plot_line_pts, figsize=[5,5], xmin=-viewsize,xmax=viewsize, ymin=-viewsize,ymax=viewsize)\n",
    "    else:\n",
    "        pretty_print(html(\"The gcd of $%s$ and $%s$ is $%s$, which does not divide $%s$,\"%(str(a),str(b),str(gcd(a,b)),str(c))))\n",
    "        pretty_print(html(\"so no solutions to $%sx+%sy=%s$\"%(str(a),str(b),str(c))))\n",
    "        show(p+plot_lattice_pts, figsize=[5,5],xmin=-viewsize,xmax=viewsize, ymin=-viewsize,ymax=viewsize)"
   ]
  },
  {
   "cell_type": "code",
   "execution_count": null,
   "metadata": {},
   "outputs": [],
   "source": []
  },
  {
   "cell_type": "markdown",
   "metadata": {},
   "source": [
    "Vo všeobecnosti teda majme nejaké riešenie $[x_1,y_1]$ rovnice $ax+by=1$ (nájdené napr. s využitím Euklidovho algoritmu - ako napr. v Príklade 5).  Ďalšie riešenia vytvoríme tak, že k $x_1$ pripočítame celočíselný nasobok čísla $b$ a ten istý násobok ale čísla $a$ odčítame od $y_1$. Ináč povedané, $\\forall k\\in\\mathbb{Z}$ máme nové riešenie v tvare $[x_1+kb,y_1-ka]$. Ľahko overíme, že je to riešenie \n",
    "\n",
    "$$a(x_1 +kb)+ b(y_1 - ka) = ax_1 + akb + by_1 - bka = ax_1 + by_1 = 1.$$"
   ]
  },
  {
   "cell_type": "markdown",
   "metadata": {},
   "source": [
    "<font color=purple>EXTRA: Geometricky poňaté, začíname zo známeho bodu $[x_1,y_1]$ na priamke $ax+by=1$ a na nájdenie nových bodov priamky $[x_1+t,y_1-(a/b)t]$ využijeme fakt, že táto priamka má smernicu $-a/b$. Aby sme dostali nové body s celočíselnými súradnicami, potrebujeme aby $t$ bolo násobkom $b$. Nahradením $t=kb$ dostaneme nové celočíselné riešenie v tvare $[x_1+kb,y_1-ka]$. \n",
    "</font>"
   ]
  },
  {
   "cell_type": "markdown",
   "metadata": {},
   "source": [
    "<font color=purple>EXTRA: Ukážeme teraz, že popísaná procedúra poskytne všetky možné riešenia rovnice $ax+by=1.$ Predpokladajme, že máme k dispozícii jej dve riešenia, konrétne $[x_1,y_1]$ a $[x_2,y_2]$. Platí teda \n",
    "    \n",
    "$$ax_1+by_1=1\\qquad \\text{ a } \\qquad ax_2+by_2=1.$$ \n",
    "\n",
    "Výnasobne prvú rovnicu číslom $y_2$, vynásobme druhú rovnicu číslom $y_1$ a odčítajme jednu od druhej. Týmto činom sa zbavíme $b$ a po úpravách dostávame \n",
    "\n",
    "$$ax_1y_2-ax_2y_1=y_2-y_1.$$\n",
    "\n",
    "Podobne ak by sme vynásobili prvú rovnicu $x_2$, druhú rovnicu vynásobili $x_1$ a odčítali, dostali by sme \n",
    "\n",
    "$$bx_2y_1-bx_1y_2=x_2-x_1.$$\n",
    "\n",
    "Teraz ak položíme $k=x_2y_1-x_1y_2$ tak máme \n",
    "\n",
    "$$x_2=x_1+kb\\qquad \\text{ a } \\qquad. y_2=y_1-ka.$$\n",
    "\n",
    "To znamená, že druhé riešenie $[x_2,y_2]$ sme získali z prvého riešenia $[x_1,y_1]$ pripočítaním násobku $b$ k $x_1$ a odčítaním toho istého násobku ale $a$ od $y_1$. Ukázali sme teda, že každé riešenie (ukázali sme to pre jedno ľubovoľné pevné, zvolené na začaku dôkazu) je možné vytvoriť z počiatočného riešenia $[x_1,y_1]$ dosadením rôznych celočíselnych hodnôt do výrazu $[x_1+kb,y_1-ka]$. \n",
    "</font>"
   ]
  },
  {
   "cell_type": "markdown",
   "metadata": {},
   "source": [
    "Potrebujeme ešte doriešiť situáciu ak je $(a,b)>1$. Kvôli jednoduchosti označme $g = (a,b)$. Vďaka Euklidovmu algoritmu vieme, že existuje aspoň jedno riešenie $[x_1,y_1]$ rovnice \n",
    "\n",
    "$$ax+by=g.$$\n",
    "\n",
    "Ale keďže $g\\mid a \\wedge g\\mid b$ tak $[x_1,y_1]$ je riešením jednoduchšej rovnice (ekvivalentnej s predošlou) v tvare \n",
    "\n",
    "$$\\dfrac{a}{g}x+\\dfrac{b}{g}y=1.$$ \n",
    "\n",
    "Poďla predošlých úvah, ktoré už môžeme použiť pre túto novú rovnicu vieme, že každé ďalšie riešenie rovnice dostaneme tak, že za $k$ dosádzame rôzne celočíselné hodnoty do výrazu $\\left[x_1+k\\dfrac{b}{g},y_1-k\\dfrac{a}{g}\\right]$. \n",
    "\n",
    "Predchádzajúce úvahy a argumenty zhrnieme do nasledovnej Vety."
   ]
  },
  {
   "cell_type": "markdown",
   "metadata": {},
   "source": [
    "---\n",
    "\n",
    "### <font color=green>Veta 3 </font> \n",
    "\n",
    "Nech $a,b\\in\\mathbb{Z}$, $a,b\\neq0$ a $g=(a,b)$. \n",
    "Potom rovnica \n",
    "\n",
    "$$ax+by=g$$\n",
    "\n",
    "má vždy celočíselné riešenie $[x_1,y_1]$ a toto riešenie je možné nájsť s využitím Euklidovho algoritmu ako je popísané vyššie. Každé ďalšie riešenie tejto rovnice dostaneme dosádzaním rôznych celočíselných hodnôt za $k$ do vzťahu \n",
    "\n",
    "$$\\left[x_1+k\\dfrac{b}{g},y_1-k\\dfrac{a}{g}\\right].$$\n",
    "\n",
    "---"
   ]
  },
  {
   "cell_type": "markdown",
   "metadata": {},
   "source": [
    "Potreba vedieť riešiť rovnice uvedeného typu vzniká napríklad aj v kryptografii a s tým tiež úzko súvisí prvočíselný rozklad čísel ako uvidíme neskôr. "
   ]
  },
  {
   "cell_type": "markdown",
   "metadata": {},
   "source": [
    "V Príklade 5, rozoberanom vyššie, sme videli, že rovnica \n",
    "\n",
    "$$60x+22y=(60,22)=2$$\n",
    "\n",
    "má riešenie $x=-4$, $y=11$. Veta 3 hovorí, že každé ďalšie riešenie je v tvare $[-4+11k,11-30k]$ kde $k\\in\\mathbb{Z}$. Vypíšme si pomocou Sage niekoľko riešení. "
   ]
  },
  {
   "cell_type": "code",
   "execution_count": 59,
   "metadata": {},
   "outputs": [
    {
     "data": {
      "text/plain": [
       "[[-59, 161],\n",
       " [-48, 131],\n",
       " [-37, 101],\n",
       " [-26, 71],\n",
       " [-15, 41],\n",
       " [-4, 11],\n",
       " [7, -19],\n",
       " [18, -49],\n",
       " [29, -79],\n",
       " [40, -109]]"
      ]
     },
     "execution_count": 59,
     "metadata": {},
     "output_type": "execute_result"
    }
   ],
   "source": [
    "[[-4+11*k,11-30*k] for k in range(-5,5,1)]"
   ]
  },
  {
   "cell_type": "markdown",
   "metadata": {},
   "source": [
    "---\n",
    "\n",
    "#### Poznámka 6 \n",
    "\n",
    "Rovnice v tvare $ax+by=c$ kde $a,b,c\\in\\mathbb{Z}$ a neznáme $x,y$ sú tiež celočíselné sa nazývajú **_lineárne diofantické rovnice_** (LDR). **Platí tvrdenie, že LDR má celočíselné riešenie práve vtedy keď $g\\mid c$, pričom $g=(a,b)$. Navyše platí, že riešenie (ak existuje) rovnice $ax+by=c$ kde $a,b,c\\in\\mathbb{Z}$, je možné vyjadriť v tvare** \n",
    "\n",
    "$$\\left[x_1+k\\dfrac{b}{g},y_1-k\\dfrac{a}{g}\\right],$$\n",
    "\n",
    "**pričom $[x_1,y_1]$ je jedno konkrétne riešenie rovnice $ax+by=c$ a $k\\in\\mathbb{Z}$**. **Všimnime si, že kým vo Vete 3 je na pravej strane rovnice $g$, t.j. NSD čísel $a,b$, tu je na pravej strane rovnice číslo $c$ také, že $g\\mid c$, pričom $g=(a,b)$ (aby existovalo riešenie rovnice). Teda toto je určité zovšeobecnenie Vety 3 a je možné ho využiť v prípadoch, keď na pravej strane rovnice nie je NSD čísel $a,b$**. \n",
    "\n",
    "---"
   ]
  },
  {
   "cell_type": "markdown",
   "metadata": {},
   "source": [
    "S využitím Sage sa pozrime, ako je to s NSD čísel $105$, $1133$ a s jeho vyjadrením v tvare lineárnej kombinácie $105x+1133y$, teda v tvare $(105,1133)=105x+1133y$, kde $x,y$ sú hľadané riešenia rovnice (resp. koeficienty lineárnej kombinácie). "
   ]
  },
  {
   "cell_type": "code",
   "execution_count": 12,
   "metadata": {},
   "outputs": [
    {
     "data": {
      "text/plain": [
       "1"
      ]
     },
     "execution_count": 12,
     "metadata": {},
     "output_type": "execute_result"
    }
   ],
   "source": [
    "gcd(105,1133)"
   ]
  },
  {
   "cell_type": "code",
   "execution_count": 13,
   "metadata": {},
   "outputs": [
    {
     "data": {
      "text/plain": [
       "(1, 464, -43)"
      ]
     },
     "execution_count": 13,
     "metadata": {},
     "output_type": "execute_result"
    }
   ],
   "source": [
    "xgcd(105,1133)"
   ]
  },
  {
   "cell_type": "code",
   "execution_count": 14,
   "metadata": {},
   "outputs": [
    {
     "data": {
      "text/plain": [
       "1"
      ]
     },
     "execution_count": 14,
     "metadata": {},
     "output_type": "execute_result"
    }
   ],
   "source": [
    "464*105 + (-43*1133)"
   ]
  },
  {
   "cell_type": "markdown",
   "metadata": {},
   "source": [
    "***\n",
    "<a id=delitelnost2></a>\n",
    "# <font color=brown> Ďalšie dôležité pojmy súvisiace s deliteľnosťou </font>"
   ]
  },
  {
   "cell_type": "markdown",
   "metadata": {},
   "source": [
    "---\n",
    "\n",
    "### <font color=red>Definícia 3 </font> \n",
    "\n",
    "Čísla $a,b\\in\\mathbb{Z}$ sa nazývajú **_nesúdeliteľné_** ak je ich najväčší spoločný deliteľ rovný $1$. \n",
    "\n",
    "---"
   ]
  },
  {
   "cell_type": "markdown",
   "metadata": {},
   "source": [
    "Predchádzajúce úvahy o vyjadrení NSD ako lineárnej kombinácie nás vedú k vysloveniu nasledujúceho tvrdenia. "
   ]
  },
  {
   "cell_type": "markdown",
   "metadata": {},
   "source": [
    "---\n",
    "\n",
    "#### <font color=green>Tvrdenie 1 </font>\n",
    "\n",
    "Čísla $a,b\\in\\mathbb{Z}$ sú nesúdeliteľné práve vtedy, keď existujú čísla $u,v\\in\\mathbb{Z}$ také, že $1=bu+av$. \n",
    "\n",
    "---"
   ]
  },
  {
   "cell_type": "markdown",
   "metadata": {},
   "source": [
    "Preskúmajme ešte niekoľko základných a užitočných vzťahov medzi nesúdeliteľnými číslami. "
   ]
  },
  {
   "cell_type": "code",
   "execution_count": 22,
   "metadata": {},
   "outputs": [
    {
     "data": {
      "text/plain": [
       "1"
      ]
     },
     "execution_count": 22,
     "metadata": {},
     "output_type": "execute_result"
    }
   ],
   "source": [
    "a = 36\n",
    "b = 132\n",
    "gcd(b/gcd(a,b),a/gcd(a,b))"
   ]
  },
  {
   "cell_type": "code",
   "execution_count": 23,
   "metadata": {},
   "outputs": [
    {
     "data": {
      "text/plain": [
       "(1, 1, 1)"
      ]
     },
     "execution_count": 23,
     "metadata": {},
     "output_type": "execute_result"
    }
   ],
   "source": [
    "a = 105\n",
    "b = 416\n",
    "c = 1133\n",
    "gcd(a,b),gcd(a,c),gcd(a,b*c)"
   ]
  },
  {
   "cell_type": "code",
   "execution_count": 24,
   "metadata": {},
   "outputs": [
    {
     "data": {
      "text/plain": [
       "(28, 1, 4)"
      ]
     },
     "execution_count": 24,
     "metadata": {},
     "output_type": "execute_result"
    }
   ],
   "source": [
    "a = 2\n",
    "b = 7\n",
    "c = 8\n",
    "b*c/a,gcd(a,b),c/a"
   ]
  },
  {
   "cell_type": "code",
   "execution_count": 25,
   "metadata": {},
   "outputs": [
    {
     "data": {
      "text/plain": [
       "(9, 2, 1, 81)"
      ]
     },
     "execution_count": 25,
     "metadata": {},
     "output_type": "execute_result"
    }
   ],
   "source": [
    "a = 2\n",
    "b = 9\n",
    "c = 18\n",
    "c/a,c/b,gcd(a,b),c/a*b"
   ]
  },
  {
   "cell_type": "markdown",
   "metadata": {},
   "source": [
    "<font color=orange>Čo ste si všimli na uvedených príkladoch? Viete nájsť analogické príklady? Je možné pozorované vzťahy zovšeobecniť? </font>"
   ]
  },
  {
   "cell_type": "code",
   "execution_count": null,
   "metadata": {},
   "outputs": [],
   "source": []
  },
  {
   "cell_type": "markdown",
   "metadata": {},
   "source": [
    "Tvrdenie 2 nám zovšeobecňuje situácie ilustrované v predchádzajúcich príkladoch. "
   ]
  },
  {
   "cell_type": "markdown",
   "metadata": {},
   "source": [
    "---\n",
    "\n",
    "#### <font color=green>Tvrdenie 2 </font> \n",
    "\n",
    "Nech $a,b,c\\in\\mathbb{Z}$. Potom platia nasledujúce tvrdenia: \n",
    "\n",
    "* Ak $b\\neq0$, tak $\\dfrac{a}{(a,b)},\\dfrac{b}{(a,b)}$ sú nesúdeliteľné; \n",
    "\n",
    "\n",
    "* Ak $a$ je nesúdeliteľné s $b$ a $a$ je nesúdeliteľné s $c$, tak $a$ je nesúdeliteľné s $bc$; \n",
    "\n",
    "\n",
    "* Ak $a\\mid bc$ a $a$ je nesúdeliteľné s $b$ tak $a\\mid c$; \n",
    "\n",
    "\n",
    "* Ak $a\\mid c$, $b\\mid c$ a $a$ je nesúdeliteľné s $b$ tak $ab\\mid c$. \n",
    "\n",
    "---"
   ]
  },
  {
   "cell_type": "markdown",
   "metadata": {},
   "source": [
    "---\n",
    "\n",
    "#### <font color=blue>Príklad 6 </font>  \n",
    "\n",
    "O tom, že veci súvisiace s deliteľnosťou sú užitočné sa môžeme presvedčiť napríklad aj pri sčítaní zlomkov. Ako by sme postupovali, keď by sme chceli vypočítať $\\dfrac{2}{5}+\\dfrac{1}{3}$ ? \n",
    "\n",
    "Zrejme potrebujeme nájsť spoločného menovateľa pre tieto dva zlomky. Aké možnosti pripadajú do úvahy? Hľadaný spoločný menovateľ, označme ho $x$, musí určite spĺnať tieto dve podmienky: $5\\mid x$, $3\\mid x$.\n",
    "Ako vhodní kandidáti sa javia napr. čísla $15,30,45,60,\\ldots$. Ktoré z nich vybrať? Z praktického hľadiska je rozumné zvoliť najmenšie z týchto čísel aby sme nemuseli zbytočne narábať s veľkými číslami, pokiaľ to nie je nevyhnutné. Vyberieme teda číslo $15$ a dopočítame požadovaný súčet. \n",
    "\n",
    "$$\\dfrac{2}{5}+\\dfrac{1}{3}=\\dfrac{2}{5}\\cdot\\dfrac{3}{3}+\\dfrac{1}{3}\\cdot\\dfrac{5}{5}=\\dfrac{2\\cdot3}{15}+\\dfrac{1\\cdot5}{15}=\\dfrac{6+5}{15}=\\dfrac{11}{15}.$$ \n",
    "\n",
    "Číslo $15$ je _najmenší spoločný násobok_ čísel $5$ a $3$. \n",
    "\n",
    "---"
   ]
  },
  {
   "cell_type": "markdown",
   "metadata": {},
   "source": [
    "---\n",
    "\n",
    "### <font color=red>Definícia 4 </font> \n",
    "\n",
    "Číslo $n\\in\\mathbb{Z}$ nazývame **_najmenším spoločným násobkom_** (NSN) čísel $a,b\\in\\mathbb{Z}$ ak spĺňa: \n",
    "\n",
    "1. $\\,a\\mid n \\wedge b\\mid n$; \n",
    "\n",
    "\n",
    "2. $\\left(\\forall n'\\in\\mathbb{Z}\\right)\\left(a\\mid n' \\wedge b\\mid n'\\right)\\Rightarrow n\\mid n'$. \n",
    "\n",
    "---"
   ]
  },
  {
   "cell_type": "markdown",
   "metadata": {},
   "source": [
    "---\n",
    "\n",
    "#### Poznámka 7 \n",
    "\n",
    "NSN čísel $a,b$ budeme označovať $[a,b]$.\n",
    "\n",
    "---"
   ]
  },
  {
   "cell_type": "markdown",
   "metadata": {},
   "source": [
    "Všimnime si ešte zaujímavý vzťah medzi súčinom čísel $a,b$, $(a,b)$ a $[a,b]$. Na nájdenie NSN nám v Sage slúži funkcia `lcm()`. Iný prístup pomocou prvočíselného rozkladu si ukážeme neskôr. "
   ]
  },
  {
   "cell_type": "code",
   "execution_count": 10,
   "metadata": {},
   "outputs": [
    {
     "data": {
      "text/plain": [
       "(4752, 12, 396)"
      ]
     },
     "execution_count": 10,
     "metadata": {},
     "output_type": "execute_result"
    }
   ],
   "source": [
    "a = 36\n",
    "b = 132 \n",
    "a*b, gcd(a,b), lcm(a,b)"
   ]
  },
  {
   "cell_type": "code",
   "execution_count": 11,
   "metadata": {},
   "outputs": [
    {
     "data": {
      "text/plain": [
       "True"
      ]
     },
     "execution_count": 11,
     "metadata": {},
     "output_type": "execute_result"
    }
   ],
   "source": [
    "lcm(a,b) == a*b / gcd(a,b)"
   ]
  },
  {
   "cell_type": "markdown",
   "metadata": {},
   "source": [
    "---\n",
    "\n",
    "#### <font color=green>Tvrdenie 3 </font> \n",
    "\n",
    "Pre $a,b\\in\\mathbb{Z}$, $a,b\\neq0$ platí \n",
    "\n",
    "$$[a,b]=\\dfrac{ab}{(a,b)}.$$ \n",
    "\n",
    "---"
   ]
  },
  {
   "cell_type": "markdown",
   "metadata": {},
   "source": [
    "***\n",
    "<a id=zdroje></a>\n",
    "# <font color=brown> Použité zdroje</font>"
   ]
  },
  {
   "cell_type": "markdown",
   "metadata": {},
   "source": [
    "* Crisman K.D. (2020). [Number Theory: In Context and Interactive](http://math.gordon.edu/ntic/ntic2017/frontmatter-1.html). \n",
    "\n",
    "\n",
    "* Koshy T. (2007). Elementary Number Theory with Applications. Elsevier. \n",
    "\n",
    "\n",
    "* Silverman J. H. (2013). A Friendly Introduction to Number Theory. Pearson. \n",
    "\n",
    "\n",
    "* Stein W. (2009). Elementary Number Theory: Primes, Congruences, and Secrets: A Computational Approach. Springer. \n",
    "\n",
    "\n",
    "* [Prednáška](https://umv.science.upjs.sk/madaras/MZIa/MZIa2011_1.pdf) prof. Madaras."
   ]
  }
 ],
 "metadata": {
  "kernelspec": {
   "display_name": "SageMath 9.2",
   "language": "sage",
   "name": "sagemath"
  },
  "language_info": {
   "codemirror_mode": {
    "name": "ipython",
    "version": 3
   },
   "file_extension": ".py",
   "mimetype": "text/x-python",
   "name": "python",
   "nbconvert_exporter": "python",
   "pygments_lexer": "ipython3",
   "version": "3.7.7"
  }
 },
 "nbformat": 4,
 "nbformat_minor": 2
}
