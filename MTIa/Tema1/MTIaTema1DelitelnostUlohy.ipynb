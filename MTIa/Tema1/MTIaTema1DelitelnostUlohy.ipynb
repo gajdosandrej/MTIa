{
 "cells": [
  {
   "cell_type": "markdown",
   "metadata": {},
   "source": [
    "**Autor:** Andrej Gajdoš  <br> \n",
    "*[Ústav matematických vied](https://www.upjs.sk/prirodovedecka-fakulta/ustav/umv/), [Prírodovedecká fakulta](https://www.upjs.sk/prirodovedecka-fakulta/), Univerzita Pavla Jozefa Šafárika v Košiciach,* <br> \n",
    "email: [andrej.gajdos@upjs.sk](mailto:andrej.gajdos@upjs.sk)\n",
    "***\n",
    "**_Tento materiál vznikol za podpory grantu VVGS-2021-1758._** \n",
    "*** \n",
    "\n",
    "**<font size=6 color=gold> MTIa: Téma 1 - Deliteľnosť celých čísel: úlohy </font>**   "
   ]
  },
  {
   "cell_type": "markdown",
   "metadata": {},
   "source": [
    "---\n",
    "\n",
    "**1. Nájdite čiastočný podiel (kvocient) a zvyšok pri delení čísla 100 číslom 27.**"
   ]
  },
  {
   "cell_type": "code",
   "execution_count": null,
   "metadata": {},
   "outputs": [],
   "source": []
  },
  {
   "cell_type": "markdown",
   "metadata": {},
   "source": [
    "---\n",
    "\n",
    "$\\clubsuit$ **2. Ako vyzerá množina všetkých celočíselných deliteľov čísla 30?**"
   ]
  },
  {
   "cell_type": "code",
   "execution_count": null,
   "metadata": {},
   "outputs": [],
   "source": []
  },
  {
   "cell_type": "markdown",
   "metadata": {},
   "source": [
    "--- \n",
    "\n",
    "**$\\clubsuit$ 3. Uvažujme štandardný balíček 52 hracích kariet. Pôvodne sú kartám priradené čísla 0 až 51. Na označenie farby sa použije nasledovné označenie: 0 = zelene, 1 = žalude, 2 = srdcia, 3 = gule a na identifikáciu hodnoty kariet v každej farbe sa použije označenie 0 = eso, 1 = dva, 2 = tri, ... a 12 = kráľ. Predpokladajme, že náhodne sa vyberie zo zamiešaného balíka karta $x$, kde $0 \\le x \\le 51$. Ako identifikujeme vytiahnutú kartu?**"
   ]
  },
  {
   "cell_type": "code",
   "execution_count": null,
   "metadata": {},
   "outputs": [],
   "source": []
  },
  {
   "cell_type": "markdown",
   "metadata": {},
   "source": [
    "---\n",
    "\n",
    "**$\\clubsuit$ 4. Koľko párov prirodzených čísel existuje takých, že ich NSD je $12$ a ich súčet je rovný $216$?**"
   ]
  },
  {
   "cell_type": "code",
   "execution_count": null,
   "metadata": {},
   "outputs": [],
   "source": []
  },
  {
   "cell_type": "markdown",
   "metadata": {},
   "source": [
    "---\n",
    "\n",
    "**5. Určte (postup riadne rozpíšte a správnosť overte v Sage) najväčší spoločný deliteľ (NSD) čísel $a, b$, ak:**\n",
    "\n",
    "a) $a = 16, b = 88$; \n",
    "\n",
    "b) $a = 28, b = 69$;  \n",
    "\n",
    "c) $a = 55, b = 89$; \n",
    "\n",
    "d) $a = 146, b = 220$;\n",
    "\n",
    "e) $a = 1001, b = 7655$;\n",
    "\n",
    "f) $a = 2873, b = 6643$;\n",
    "\n",
    "g) $a = 4148, b = 7684$;\n",
    "\n",
    "h) $a = 5238, b = 6921$."
   ]
  },
  {
   "cell_type": "code",
   "execution_count": null,
   "metadata": {},
   "outputs": [],
   "source": []
  },
  {
   "cell_type": "markdown",
   "metadata": {},
   "source": [
    "---\n",
    "\n",
    "**6. Nájdite najväčšie celé číslo, ktoré pri delení $13$ dáva čiastočný podiel (kvocient) $17$.**"
   ]
  },
  {
   "cell_type": "code",
   "execution_count": null,
   "metadata": {},
   "outputs": [],
   "source": []
  },
  {
   "cell_type": "markdown",
   "metadata": {},
   "source": [
    "--- \n",
    "\n",
    "**$\\clubsuit$ 7. Ak $a,b\\in\\mathbb{Z}^{+}$ a $(a,b)=9$ tak $a+b=9x+9y$ pričom pre $x$ a $y$ platí, že sú:** \n",
    "\n",
    "**A) súdeliteľné t.j. $(x,y)>1$;**\n",
    "\n",
    "**B) nesúdeliteľné t.j. $(x,y)=1$;**  \n",
    "\n",
    "**C) môžu nastať obidva prípady t.j. niekedy A) a niekedy B).** \n",
    "\n",
    "**Svoju odpoveď zdôvodnite.**"
   ]
  },
  {
   "cell_type": "code",
   "execution_count": null,
   "metadata": {},
   "outputs": [],
   "source": []
  },
  {
   "cell_type": "markdown",
   "metadata": {},
   "source": [
    "---\n",
    "\n",
    "**8. Pomocou Euklidovho algoritmu nájdite (postup riadne rozpíšte a správnosť overte v Sage):** \n",
    "\n",
    "a) $(166, 198)$ a vyjadrite ho v tvare $166u + 198v$; \n",
    "\n",
    "$\\clubsuit$ b) $(85, 62)$ a vyjadrite ho v tvare $85u + 62v$; \n",
    "\n",
    "c) $(194, 216)$ a vyjadrite ho v tvare $194u + 216v$;\n",
    "\n",
    "d) $(2076, 1776)$ a vyjadrite ho v tvare $2076u + 1776v$. "
   ]
  },
  {
   "cell_type": "code",
   "execution_count": null,
   "metadata": {},
   "outputs": [],
   "source": []
  },
  {
   "cell_type": "markdown",
   "metadata": {},
   "source": [
    "---\n",
    "\n",
    "**9. Nájdite najmenší spoločný násobok čísel $28$ a $77$. Ako súvisí s ich najväčším spoločným deliteľom?**"
   ]
  },
  {
   "cell_type": "code",
   "execution_count": null,
   "metadata": {},
   "outputs": [],
   "source": []
  },
  {
   "cell_type": "markdown",
   "metadata": {},
   "source": [
    "---\n",
    "\n",
    "**$\\clubsuit$ 10. Predpokladajme, že $(m, n) = 18$ a $[m, n] = 720$. Nájdite čísla $m$ a $n$. Existuje viac ako jedna možnosť? Ak áno, nájdite všetky.**"
   ]
  },
  {
   "cell_type": "code",
   "execution_count": null,
   "metadata": {},
   "outputs": [],
   "source": []
  },
  {
   "cell_type": "markdown",
   "metadata": {},
   "source": [
    "----\n",
    "\n",
    "**11. Nájdite všetky riešenia diofantickej rovnice:**\n",
    "\n",
    "$\\clubsuit$ a) $101x + 55y = 10, \\quad x,y \\in\\mathbb{Z}$; \n",
    "\n",
    "b) $13x + 11y = 3, \\quad x, y \\in\\mathbb{Z}$; \n",
    "\n",
    "c) $366x + 124y = 8,  \\quad x, y \\in\\mathbb{Z}$;\n",
    "\n",
    "d) $26x − 19y = 51,  \\quad x, y \\in\\mathbb{Z}$."
   ]
  },
  {
   "cell_type": "code",
   "execution_count": null,
   "metadata": {},
   "outputs": [],
   "source": []
  },
  {
   "cell_type": "markdown",
   "metadata": {},
   "source": [
    "---\n",
    "\n",
    "**12. Predpokladajte, že máte dve vedrá s objemom 23 litrov, 16 litrov a tiež kotol s objemom 200 litrov. Vedrá môžete naplniť  vodou z kohútika. Použitím týchto vedier môžete dosiahnúť určité množstvo vody v kotle. Napríklad v kotle môžete dosiahnúť 7 litrov vody tak, že z kohútika naplníte 23-litrové vedro a nalejete ho do kotla, potom z kotla naplníte 16-litrové vedro a vyprázdnite ho. Je možné podobnou metódou dosiahnúť v kotli presne 1 liter vody? Ak áno, opíšte, ako by ste to urobili.** "
   ]
  },
  {
   "cell_type": "code",
   "execution_count": null,
   "metadata": {},
   "outputs": [],
   "source": []
  },
  {
   "cell_type": "markdown",
   "metadata": {},
   "source": [
    "---\n",
    "\n",
    "**$\\clubsuit$ 13. Dokážte, že $2 \\mid \\left(n \\cdot (n + 1)\\right)$ , pre každé $n \\in\\mathbb{Z}$.**"
   ]
  },
  {
   "cell_type": "code",
   "execution_count": null,
   "metadata": {},
   "outputs": [],
   "source": []
  },
  {
   "cell_type": "markdown",
   "metadata": {},
   "source": [
    "---\n",
    "\n",
    "**14. Je súčet:** \n",
    "\n",
    "**a) dvoch za sebou idúcich celých čísel deliteľný $2$ ?**\n",
    "\n",
    "**b) troch za sebou idúcich celých čísel deliteľný $2$ ?**"
   ]
  },
  {
   "cell_type": "code",
   "execution_count": null,
   "metadata": {},
   "outputs": [],
   "source": []
  }
 ],
 "metadata": {
  "kernelspec": {
   "display_name": "SageMath 9.3",
   "language": "sage",
   "name": "sagemath"
  },
  "language_info": {
   "codemirror_mode": {
    "name": "ipython",
    "version": 3
   },
   "file_extension": ".py",
   "mimetype": "text/x-python",
   "name": "python",
   "nbconvert_exporter": "python",
   "pygments_lexer": "ipython3",
   "version": "3.7.10"
  }
 },
 "nbformat": 4,
 "nbformat_minor": 2
}
