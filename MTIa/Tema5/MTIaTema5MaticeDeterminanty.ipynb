{
 "cells": [
  {
   "cell_type": "markdown",
   "metadata": {},
   "source": [
    "**Autor:** Andrej Gajdoš  <br> \n",
    "*[Ústav matematických vied](https://www.upjs.sk/prirodovedecka-fakulta/ustav/umv/), [Prírodovedecká fakulta](https://www.upjs.sk/prirodovedecka-fakulta/), Univerzita Pavla Jozefa Šafárika v Košiciach,* <br> \n",
    "email: [andrej.gajdos@upjs.sk](mailto:andrej.gajdos@upjs.sk)\n",
    "***\n",
    "**_Tento materiál vznikol za podpory grantu VVGS-2021-1758._** \n",
    "*** \n",
    "\n",
    "**<font size=6 color=gold> MTIa: Téma 5 - Matice a determinanty </font>** "
   ]
  },
  {
   "cell_type": "markdown",
   "metadata": {},
   "source": [
    "--- \n",
    "\n",
    "<a id=obsah></a>\n",
    "##  Obsah \n",
    "\n",
    "\n",
    "* [Matice](#matice) \n",
    "\n",
    "\n",
    "* [Determinanty](#determinanty) \n",
    "\n",
    "\n",
    "* [Použité zdroje](#zdroje) \n",
    "\n",
    "\n",
    "**Pre návrat na obsah stlačte klávesu <font color=brown>Home</font>.** \n",
    "\n",
    "--- "
   ]
  },
  {
   "cell_type": "markdown",
   "metadata": {},
   "source": [
    "***\n",
    "<a id=matice></a>\n",
    " # <font color=brown> Matice</font>"
   ]
  },
  {
   "cell_type": "markdown",
   "metadata": {},
   "source": [
    "Začnime príkladom zo života, aby sme videli, že matice vznikajú prirodzene ako úsporný a prehľadný spôsob reprezentáncie dát. Neskôr sa dostaneme aj k špecifickým aplikáciam matíc v informatike. "
   ]
  },
  {
   "cell_type": "markdown",
   "metadata": {},
   "source": [
    "---\n",
    "\n",
    "#### <font color=blue> Príklad - distribúcia nábytku </font>\n",
    "\n",
    "Spoločnosť EZ Life vyrába pohovky a kreslá v troch modeloch A, B a C. Spoločnosť má regionálne sklady v New Yorku, Chicagu a San Franciscu. Vo svojej augustovej zásielke spoločnosť posiela do každého skladu 10 pohoviek model-A, 12 pohoviek model-B, 5 pohoviek model-C, 15 stoličiek model-A, 20 stoličiek model-B a 8 stoličiek model-C. Na usporiadanie týchto informácií môžeme  použiť maticu. \n",
    "\n",
    "<style type=\"text/css\">\n",
    ".tg  {border-collapse:collapse;border-spacing:0;}\n",
    ".tg td{border-color:black;border-style:solid;border-width:1px;font-family:Arial, sans-serif;font-size:14px;\n",
    "  overflow:hidden;padding:10px 5px;word-break:normal;}\n",
    ".tg th{border-color:black;border-style:solid;border-width:1px;font-family:Arial, sans-serif;font-size:14px;\n",
    "  font-weight:normal;overflow:hidden;padding:10px 5px;word-break:normal;}\n",
    ".tg .tg-c3ow{border-color:inherit;text-align:center;vertical-align:top}\n",
    ".tg .tg-0pky{border-color:inherit;text-align:left;vertical-align:top}\n",
    "</style>\n",
    "<table class=\"tg\">\n",
    "<thead>\n",
    "  <tr>\n",
    "    <th class=\"tg-c3ow\" colspan=\"5\">Počet kusov nábytkov</th>\n",
    "  </tr>\n",
    "</thead>\n",
    "<tbody>\n",
    "  <tr>\n",
    "    <td class=\"tg-0pky\"></td>\n",
    "    <td class=\"tg-0pky\"></td>\n",
    "    <td class=\"tg-c3ow\" colspan=\"3\">Model</td>\n",
    "  </tr>\n",
    "  <tr>\n",
    "    <td class=\"tg-0pky\"></td>\n",
    "    <td class=\"tg-0pky\"></td>\n",
    "    <td class=\"tg-0pky\">A</td>\n",
    "    <td class=\"tg-0pky\">B</td>\n",
    "    <td class=\"tg-0pky\">C</td>\n",
    "  </tr>\n",
    "  <tr>\n",
    "    <td class=\"tg-0pky\" rowspan=\"2\"><br>Typ nábytku</td>\n",
    "    <td class=\"tg-0pky\">Pohovky</td>\n",
    "    <td class=\"tg-0pky\">10</td>\n",
    "    <td class=\"tg-0pky\">12</td>\n",
    "    <td class=\"tg-0pky\">5</td>\n",
    "  </tr>\n",
    "  <tr>\n",
    "    <td class=\"tg-0pky\">Kreslá</td>\n",
    "    <td class=\"tg-0pky\">15</td>\n",
    "    <td class=\"tg-0pky\">20</td>\n",
    "    <td class=\"tg-0pky\">8</td>\n",
    "  </tr>\n",
    "</tbody>\n",
    "</table>\n",
    "\n",
    "S chápaním, že čísla v každom riadku sa vzťahujú na typ nábytku (pohovka, kreslo) a čísla v každom stĺpci sa vzťahujú na model (A, B, C), rovnaké informácie môžu byť poskytnuté maticou, konkrétne takto \n",
    "\n",
    "$$\\mathbf{M}=\n",
    "\\begin{pmatrix}\n",
    "10 & 12 & 5 \\\\\n",
    "15 & 20 & 8\n",
    "\\end{pmatrix}.$$\n",
    "\n",
    "---"
   ]
  },
  {
   "cell_type": "code",
   "execution_count": 59,
   "metadata": {},
   "outputs": [
    {
     "data": {
      "text/html": [
       "<html><script type=\"math/tex; mode=display\">\\newcommand{\\Bold}[1]{\\mathbf{#1}}\\left(\\begin{array}{rrrrr}\n",
       "-1 & 2 & 1 & -5 & 6 \\\\\n",
       "0 & 0 & -1 & 1 & -5 \\\\\n",
       "1 & 3 & 3 & -1 & 0 \\\\\n",
       "-1 & 5 & -1 & 0 & -1\n",
       "\\end{array}\\right) \\left(\\begin{array}{rrr}\n",
       "1 & 2 & 3 \\\\\n",
       "4 & 5 & 6 \\\\\n",
       "7 & 8 & 9\n",
       "\\end{array}\\right) \\left(\\begin{array}{rrrr}\n",
       "-\\frac{1}{2} & 2 & 1 & -5 \\\\\n",
       "\\frac{3}{2} & 0 & 0 & -1 \\\\\n",
       "\\frac{1}{2} & -\\frac{5}{3} & 1 & \\frac{3}{2} \\\\\n",
       "3 & -1 & 0 & -\\frac{1}{5} \\\\\n",
       "5 & -\\frac{1}{4} & 0 & -1\n",
       "\\end{array}\\right) \\left(\\begin{array}{r}\n",
       "2.50000000000000 \\\\\n",
       "3.00000000000000 \\\\\n",
       "4.20000000000000\n",
       "\\end{array}\\right) \\left(\\begin{array}{rrrrr}\n",
       "1 & -2 & 3 & -4 & 5\n",
       "\\end{array}\\right)</script></html>"
      ],
      "text/plain": [
       "[-1  2  1 -5  6]\n",
       "[ 0  0 -1  1 -5]\n",
       "[ 1  3  3 -1  0]\n",
       "[-1  5 -1  0 -1] [1 2 3]\n",
       "[4 5 6]\n",
       "[7 8 9] [-1/2    2    1   -5]\n",
       "[ 3/2    0    0   -1]\n",
       "[ 1/2 -5/3    1  3/2]\n",
       "[   3   -1    0 -1/5]\n",
       "[   5 -1/4    0   -1] [2.50000000000000]\n",
       "[3.00000000000000]\n",
       "[4.20000000000000] [ 1 -2  3 -4  5]"
      ]
     },
     "metadata": {},
     "output_type": "display_data"
    }
   ],
   "source": [
    "# priklady matic \n",
    "# na vytvorenie matice sluzi funkcia matrix(), prve dve cisla urcuju rozmery - teda pocet riadkov a pocet stlpcov \n",
    "A = matrix( 4, 5, [-1, 2, 1, -5, 6, 0, 0, -1, 1, -5, 1, 3, 3, -1, 0, -1, 5, -1, 0, -1 ] )\n",
    "B = matrix(3, 3, [1, 2, 3, 4, 5, 6, 7, 8, 9]) \n",
    "# matica C je vytvorena pomocou zoznamov riadkov - t.j. jeden zoznam = jeden riadok\n",
    "C = matrix( [ [-1/2, 2, 1, -5,], [6/4, 0, 0, -1], [1/2 , -5/3, 1, 3/2], [3, -1, 0, -1/5] , [5, -1/4, 0, -1 ] ] )\n",
    "D = matrix(3, 1, [2.5, 3, 4.2])\n",
    "E = matrix(1, 5, [1, -2, 3,-4, 5])\n",
    "show(A,B,C,D,E)"
   ]
  },
  {
   "cell_type": "markdown",
   "metadata": {},
   "source": [
    "$\\boldsymbol{\\mathrm{A}} = \\left(\\begin{array}{rrrrr}\n",
    "-1 & 2 & 1 & -5 & 6 \\\\\n",
    "0 & 0 & -1 & 1 & -5 \\\\\n",
    "1 & 3 & 3 & -1 & 0 \\\\\n",
    "-1 & 5 & -1 & 0 & -1\n",
    "\\end{array}\\right)$\n",
    "$\\boldsymbol{\\mathrm{B}}=\\left(\\begin{array}{rrr}\n",
    "1 & 2 & 3 \\\\\n",
    "4 & 5 & 6 \\\\\n",
    "7 & 8 & 9\n",
    "\\end{array}\\right)$\n",
    "$\\boldsymbol{\\mathrm{C}}=\\left(\\begin{array}{rrrr}\n",
    "-\\frac{1}{2} & 2 & 1 & -5 \\\\\n",
    "\\frac{3}{2} & 0 & 0 & -1 \\\\\n",
    "\\frac{1}{2} & -\\frac{5}{3} & 1 & \\frac{3}{2} \\\\\n",
    "3 & -1 & 0 & -\\frac{1}{5} \\\\\n",
    "5 & -\\frac{1}{4} & 0 & -1\n",
    "\\end{array}\\right)$\n",
    "$\\boldsymbol{\\mathrm{D}}=\\left(\\begin{array}{r}\n",
    "2.5 \\\\\n",
    "3.0 \\\\\n",
    "4.2\n",
    "\\end{array}\\right)$\n",
    "$\\boldsymbol{\\mathrm{E}}=\\left(\\begin{array}{rrrrr}\n",
    "1 & -2 & 3 & -4 & 5\n",
    "\\end{array}\\right)$"
   ]
  },
  {
   "cell_type": "markdown",
   "metadata": {},
   "source": [
    "<font color=orange> V čom sa odlišujú tabuľky (polia) uvedené vyššie? Majú aj niečo spoločné? Pokúste sa na základe predstavených príkladov vytvoriť v Sage podobné objekty (tabuľky / polia). </font>"
   ]
  },
  {
   "cell_type": "code",
   "execution_count": null,
   "metadata": {},
   "outputs": [],
   "source": []
  },
  {
   "cell_type": "markdown",
   "metadata": {},
   "source": [
    "---\n",
    "\n",
    "### <font color=red> Definícia 1 </font> \n",
    "\n",
    "Nech $m,n\\in\\mathbb{Z}^{+}$. **_Matica_** typu $m\\times n$ je obdĺžniková schéma, v ktorej sú prvky usporiadané v $m$ riadkoch a $n$ stĺpcoch. \n",
    "\n",
    "Matica, ktorá má jediný riadok (stĺpec) sa nazýva **_riadkový_** (**_stĺpcový_**) **_vektor_**. <br/>\n",
    "Matica typu $n\\times n$ sa nazýva **_štvorcová_** matica (číslo $n$ je jej **_rád_**). \n",
    "\n",
    "--- "
   ]
  },
  {
   "attachments": {
    "image.png": {
     "image/png": "[encoded data removed]"
    }
   },
   "cell_type": "markdown",
   "metadata": {},
   "source": [
    "![image.png](attachment:image.png)"
   ]
  },
  {
   "cell_type": "code",
   "execution_count": 2,
   "metadata": {},
   "outputs": [
    {
     "data": {
      "text/plain": [
       "[a11 a12 a13 a14 a15]\n",
       "[a21 a22 a23 a24 a25]\n",
       "[a31 a32 a33 a34 a35]\n",
       "[a41 a42 a43 a44 a45]"
      ]
     },
     "execution_count": 2,
     "metadata": {},
     "output_type": "execute_result"
    }
   ],
   "source": [
    "listnames = ['a{c}{b}'.format(c=i, b=j) for i in [1..4] for j in [1..5]]\n",
    "strnames = ','.join(listnames) \n",
    "A = matrix(4,5, var(strnames))\n",
    "A"
   ]
  },
  {
   "cell_type": "code",
   "execution_count": 3,
   "metadata": {},
   "outputs": [
    {
     "data": {
      "text/html": [
       "<html><script type=\"math/tex; mode=display\">\\newcommand{\\Bold}[1]{\\mathbf{#1}}\\left(\\begin{array}{rrrrr}\n",
       "a_{11} & a_{12} & a_{13} & a_{14} & a_{15} \\\\\n",
       "a_{21} & a_{22} & a_{23} & a_{24} & a_{25} \\\\\n",
       "a_{31} & a_{32} & a_{33} & a_{34} & a_{35} \\\\\n",
       "a_{41} & a_{42} & a_{43} & a_{44} & a_{45}\n",
       "\\end{array}\\right)</script></html>"
      ],
      "text/plain": [
       "[a11 a12 a13 a14 a15]\n",
       "[a21 a22 a23 a24 a25]\n",
       "[a31 a32 a33 a34 a35]\n",
       "[a41 a42 a43 a44 a45]"
      ]
     },
     "metadata": {},
     "output_type": "display_data"
    }
   ],
   "source": [
    "show(A)"
   ]
  },
  {
   "cell_type": "markdown",
   "metadata": {},
   "source": [
    "$\\boldsymbol{\\mathrm{A}}=\\left(\\begin{array}{rrrrr}\n",
    "a_{11} & a_{12} & a_{13} & a_{14} & a_{15} \\\\\n",
    "a_{21} & a_{22} & a_{23} & a_{24} & a_{25} \\\\\n",
    "a_{31} & a_{32} & a_{33} & a_{34} & a_{35} \\\\\n",
    "a_{41} & a_{42} & a_{43} & a_{44} & a_{45}\n",
    "\\end{array}\\right)$"
   ]
  },
  {
   "cell_type": "code",
   "execution_count": 4,
   "metadata": {},
   "outputs": [
    {
     "data": {
      "text/html": [
       "<html><script type=\"math/tex; mode=display\">\\newcommand{\\Bold}[1]{\\mathbf{#1}}a_{11} a_{22} a_{35} a_{43}</script></html>"
      ],
      "text/plain": [
       "a11 a22 a35 a43"
      ]
     },
     "metadata": {},
     "output_type": "display_data"
    }
   ],
   "source": [
    "# vypis konkretnych prvkov matice (vo zvolenom riadku a stlpci)\n",
    "# Sage indexuje od 0, nie od 1, takze pozor na to!\n",
    "show(A[0,0],A[1,1],A[2,4],A[3,2])"
   ]
  },
  {
   "cell_type": "code",
   "execution_count": 5,
   "metadata": {},
   "outputs": [
    {
     "data": {
      "text/html": [
       "<html><script type=\"math/tex; mode=display\">\\newcommand{\\Bold}[1]{\\mathbf{#1}}\\left(\\begin{array}{rrrrr}\n",
       "a_{31} & a_{32} & a_{33} & a_{34} & a_{35}\n",
       "\\end{array}\\right) \\left(\\begin{array}{r}\n",
       "a_{12} \\\\\n",
       "a_{22} \\\\\n",
       "a_{32} \\\\\n",
       "a_{42}\n",
       "\\end{array}\\right)</script></html>"
      ],
      "text/plain": [
       "[a31 a32 a33 a34 a35] [a12]\n",
       "[a22]\n",
       "[a32]\n",
       "[a42]"
      ]
     },
     "metadata": {},
     "output_type": "display_data"
    }
   ],
   "source": [
    "# vypis celeho riadka resp. stlpca matice\n",
    "show(A[2,:],A[:,1])"
   ]
  },
  {
   "cell_type": "code",
   "execution_count": 6,
   "metadata": {},
   "outputs": [
    {
     "data": {
      "text/html": [
       "<html><script type=\"math/tex; mode=display\">\\newcommand{\\Bold}[1]{\\mathbf{#1}}\\left(a_{31},\\,a_{32},\\,a_{33},\\,a_{34},\\,a_{35}\\right) \\left(a_{12},\\,a_{22},\\,a_{32},\\,a_{42}\\right)</script></html>"
      ],
      "text/plain": [
       "(a31, a32, a33, a34, a35) (a12, a22, a32, a42)"
      ]
     },
     "metadata": {},
     "output_type": "display_data"
    }
   ],
   "source": [
    "# iny sposob: vypis celeho riadka resp. stlpca matice\n",
    "show(A.row(2),A.column(1))"
   ]
  },
  {
   "cell_type": "code",
   "execution_count": 7,
   "metadata": {},
   "outputs": [
    {
     "data": {
      "text/html": [
       "<html><script type=\"math/tex; mode=display\">\\newcommand{\\Bold}[1]{\\mathbf{#1}}\\left(\\begin{array}{rrrrr}\n",
       "a_{31} & a_{32} & a_{33} & a_{34} & a_{35} \\\\\n",
       "a_{41} & a_{42} & a_{43} & a_{44} & a_{45}\n",
       "\\end{array}\\right)</script></html>"
      ],
      "text/plain": [
       "[a31 a32 a33 a34 a35]\n",
       "[a41 a42 a43 a44 a45]"
      ]
     },
     "metadata": {},
     "output_type": "display_data"
    }
   ],
   "source": [
    "# vypis nejakej casti matic tzv. podmatice \n",
    "show(A[2:])"
   ]
  },
  {
   "cell_type": "markdown",
   "metadata": {},
   "source": [
    "Vráťme sa ešte k úvodnému ilustračnému príkladu s maticami $\\mathbf{A},\\mathbf{B},\\mathbf{C},\\mathbf{D},\\mathbf{E}$. <font color=orange> Čomu sú rovné nasledujúce prvky matíc: $a_{12}$, $b_{22}$, $b_{43}$, $c_{23}$ ? Čomu odpovedajú vektory $c_{.4}$ a $c_{4.}$ ? Vypíšte všetky diagonálne prvky (na hlavnej diagonále) matice $\\boldsymbol{\\mathrm{A}}$ a matice $\\boldsymbol{\\mathrm{B}}$. </font>"
   ]
  },
  {
   "cell_type": "code",
   "execution_count": null,
   "metadata": {},
   "outputs": [],
   "source": []
  },
  {
   "cell_type": "markdown",
   "metadata": {},
   "source": [
    "---\n",
    "\n",
    "#### Poznámka 2\n",
    "\n",
    "**Uvedomme si ešte, že prvkami matíc možu byť okrem čísel (napr. prvky z poľa reálnych čísel) aj iné objekty resp. prvky z nejakého iného poľa napr. komplexné čísla, zvyškové triedy alebo polynómy (viď príklady nižšie). Preto sa zvykne hovoriť, že uvažujeme maticu nad nejakým poľom $\\mathbb{F}$, tzn. ak uvažujeme maticu nad poľom reálnych čísel ($\\mathbb{F}=\\mathbb{R}$),  tak jej prvky sú reálne čísla (viď príklady vyššie).** My budeme uvažovať z praktického hľadiska najmä matice nad $\\mathbb{R}$, takže miesto $\\mathbb{F}$ si môžeme predstaviť $\\mathbb{R}$, aj keď vlastnosti, ktoré budeme skúmať, platia zväčša pre matice nad všeobecným poľom $\\mathbb{F}$. Ďalšie príklady matíc nad inými poliami (matice s prvkami, ktoré patria do iných polí) resp. s inými prvkami uvádzame tu: "
   ]
  },
  {
   "cell_type": "code",
   "execution_count": 1,
   "metadata": {},
   "outputs": [
    {
     "data": {
      "text/html": [
       "<html><script type=\"math/tex; mode=display\">\\newcommand{\\Bold}[1]{\\mathbf{#1}}\\left(\\begin{array}{rrr}\n",
       "1.00000000000000 + 2.00000000000000i & 2.00000000000000 - 1.00000000000000i & 3.00000000000000 \\\\\n",
       "4.00000000000000 + 5.00000000000000i & -5.00000000000000 + 3.00000000000000i & -6.00000000000000 - 2.00000000000000i \\\\\n",
       "1.00000000000000i & 4.00000000000000 & -2.00000000000000i\n",
       "\\end{array}\\right) \\left(\\begin{array}{rr}\n",
       "1 & 2 \\\\\n",
       "3 & 4 \\\\\n",
       "2 & 0\n",
       "\\end{array}\\right) \\left(\\begin{array}{rr}\n",
       "x^{2} + 1 & x - 1 \\\\\n",
       "2 \\, x + 5 & 4 \\, x^{3} + 2\n",
       "\\end{array}\\right)</script></html>"
      ],
      "text/plain": [
       "[ 1.00000000000000 + 2.00000000000000*I  2.00000000000000 - 1.00000000000000*I                       3.00000000000000]\n",
       "[ 4.00000000000000 + 5.00000000000000*I -5.00000000000000 + 3.00000000000000*I -6.00000000000000 - 2.00000000000000*I]\n",
       "[                    1.00000000000000*I                       4.00000000000000                    -2.00000000000000*I] [1 2]\n",
       "[3 4]\n",
       "[2 0] [  x^2 + 1     x - 1]\n",
       "[  2*x + 5 4*x^3 + 2]"
      ]
     },
     "metadata": {},
     "output_type": "display_data"
    }
   ],
   "source": [
    "x = var('x')\n",
    "M = matrix(CC,3, 3, [1+2j, 2-1j, 3+0j, 4+5j, -5+3j, -6-2j, 0+1j, 4, 0-2j]) \n",
    "R = IntegerModRing(5)\n",
    "N = Matrix(R, [[1,2],[8,4],[2,15]]) # matica, ktorej prvky su zvyskove triedy pri module 5 \n",
    "O = matrix(2,2,[x^2+1,x-1,2*x+5,4*x^3+2]) \n",
    "show(M,N,O)"
   ]
  },
  {
   "cell_type": "markdown",
   "metadata": {},
   "source": [
    "Matica $\\mathbf{N}=\\left(\\begin{array}{rr}\n",
    "1 & 2 \\\\\n",
    "3 & 4 \\\\\n",
    "2 & 0\n",
    "\\end{array}\\right)$ uvedená vyššie má ako prvky zvyškové triedy, nie reálne resp. celé čísla! Pre úplnosť by sme teda mali písať $\\mathbf{N}=\\left(\\begin{array}{rr}\n",
    "1_5 & 2_5 \\\\\n",
    "3_5 & 4_5 \\\\\n",
    "2_5 & 0_5\n",
    "\\end{array}\\right)$"
   ]
  },
  {
   "cell_type": "markdown",
   "metadata": {},
   "source": [
    "---"
   ]
  },
  {
   "cell_type": "markdown",
   "metadata": {},
   "source": [
    "Poďme sa ešte pozrieť aké ďalšie matice so zaujímavou štruktúrou sú dôležité z hľadiska lineárnej algebry a často sa s nimi môžeme stretnúť v aplikáciách. Uvažujme maticu $\\boldsymbol{\\mathrm{A}}$ typu $m\\times n$ nad poľom $\\mathbb{F}$. "
   ]
  },
  {
   "cell_type": "code",
   "execution_count": 66,
   "metadata": {},
   "outputs": [
    {
     "data": {
      "text/html": [
       "<html><script type=\"math/tex; mode=display\">\\newcommand{\\Bold}[1]{\\mathbf{#1}}\\left(\\begin{array}{rrrr}\n",
       "0 & 0 & 0 & 0 \\\\\n",
       "0 & 0 & 0 & 0 \\\\\n",
       "0 & 0 & 0 & 0\n",
       "\\end{array}\\right)</script></html>"
      ],
      "text/plain": [
       "[0 0 0 0]\n",
       "[0 0 0 0]\n",
       "[0 0 0 0]"
      ]
     },
     "metadata": {},
     "output_type": "display_data"
    }
   ],
   "source": [
    "A = matrix(3, 4, [0, 0, 0, 0, 0, 0, 0, 0, 0, 0, 0, 0])\n",
    "show(A)"
   ]
  },
  {
   "cell_type": "markdown",
   "metadata": {},
   "source": [
    "Matica $\\boldsymbol{\\mathrm{A}}$ sa nazýva **nulová**, ak $a_{ij}=0$, $\\forall i,j:\\, i\\in\\{1,\\ldots,m\\},\\,j\\in\\{1,\\ldots,n\\}$."
   ]
  },
  {
   "cell_type": "code",
   "execution_count": 67,
   "metadata": {},
   "outputs": [
    {
     "data": {
      "text/html": [
       "<html><script type=\"math/tex; mode=display\">\\newcommand{\\Bold}[1]{\\mathbf{#1}}\\left(\\begin{array}{rrrr}\n",
       "2 & 0 & 0 & 0 \\\\\n",
       "0 & 3 & 0 & 0 \\\\\n",
       "0 & 0 & 5 & 0 \\\\\n",
       "0 & 0 & 0 & 4\n",
       "\\end{array}\\right)</script></html>"
      ],
      "text/plain": [
       "[2 0 0 0]\n",
       "[0 3 0 0]\n",
       "[0 0 5 0]\n",
       "[0 0 0 4]"
      ]
     },
     "metadata": {},
     "output_type": "display_data"
    }
   ],
   "source": [
    "# diagonal_matrix() vytvori maticu s nulami a na hlavnu diagonalu da prvky zo zoznamu zadane uzivatelom \n",
    "A = diagonal_matrix([2, 3, 5, 4]);\n",
    "show(A)"
   ]
  },
  {
   "cell_type": "markdown",
   "metadata": {},
   "source": [
    "Matica $\\boldsymbol{\\mathrm{A}}$ sa nazýva **diagonálna**, ak je štvorcová a $a_{ij}=0$, $\\forall i\\neq j:\\, i,j\\in\\{1,\\ldots,n\\}$. "
   ]
  },
  {
   "cell_type": "code",
   "execution_count": 69,
   "metadata": {},
   "outputs": [
    {
     "data": {
      "text/html": [
       "<html><script type=\"math/tex; mode=display\">\\newcommand{\\Bold}[1]{\\mathbf{#1}}\\left(\\begin{array}{rrrr}\n",
       "1 & 0 & 0 & 0 \\\\\n",
       "0 & 1 & 0 & 0 \\\\\n",
       "0 & 0 & 1 & 0 \\\\\n",
       "0 & 0 & 0 & 1\n",
       "\\end{array}\\right)</script></html>"
      ],
      "text/plain": [
       "[1 0 0 0]\n",
       "[0 1 0 0]\n",
       "[0 0 1 0]\n",
       "[0 0 0 1]"
      ]
     },
     "metadata": {},
     "output_type": "display_data"
    }
   ],
   "source": [
    "# identity_matrix() vytvori jednotkovu diagonalnu maticu \n",
    "A = identity_matrix(4);\n",
    "show(A)"
   ]
  },
  {
   "cell_type": "markdown",
   "metadata": {},
   "source": [
    "Matica $\\boldsymbol{\\mathrm{A}}$ sa nazýva **jednotková diagonálna** (identita resp. matica identity), ak je diagonálna a $a_{ii}=1$, $\\forall i, j:\\, i,j\\in\\{1,\\ldots,n\\}$. Táto matica sa zvykne označovať $\\boldsymbol{\\mathrm{I}}$ alebo $\\boldsymbol{\\mathrm{I}}_n$, kde $n$ určuje rád matice. V našom príklade je $n=4$. "
   ]
  },
  {
   "cell_type": "code",
   "execution_count": 72,
   "metadata": {},
   "outputs": [
    {
     "data": {
      "text/html": [
       "<html><script type=\"math/tex; mode=display\">\\newcommand{\\Bold}[1]{\\mathbf{#1}}\\left(\\begin{array}{rrr}\n",
       "1 & 2 & 3 \\\\\n",
       "2 & 4 & 5 \\\\\n",
       "3 & 5 & 6\n",
       "\\end{array}\\right)</script></html>"
      ],
      "text/plain": [
       "[1 2 3]\n",
       "[2 4 5]\n",
       "[3 5 6]"
      ]
     },
     "metadata": {},
     "output_type": "display_data"
    }
   ],
   "source": [
    "A = matrix(3, 3, [1, 2, 3, 2, 4, 5, 3, 5, 6])\n",
    "show(A)"
   ]
  },
  {
   "cell_type": "markdown",
   "metadata": {},
   "source": [
    "Matica $\\boldsymbol{\\mathrm{A}}$ sa nazýva **symetrická**, ak je štvorcová a $a_{ij}=a_{ji}$, $\\forall i, j:\\, i\\in\\{1,\\ldots,m\\},\\,j\\in\\{1,\\ldots,n\\}$."
   ]
  },
  {
   "cell_type": "code",
   "execution_count": 73,
   "metadata": {},
   "outputs": [
    {
     "data": {
      "text/html": [
       "<html><script type=\"math/tex; mode=display\">\\newcommand{\\Bold}[1]{\\mathbf{#1}}\\left(\\begin{array}{rrr}\n",
       "3 & 0 & 0 \\\\\n",
       "2 & 4 & 0 \\\\\n",
       "1 & -1 & -2\n",
       "\\end{array}\\right)</script></html>"
      ],
      "text/plain": [
       "[ 3  0  0]\n",
       "[ 2  4  0]\n",
       "[ 1 -1 -2]"
      ]
     },
     "metadata": {},
     "output_type": "display_data"
    }
   ],
   "source": [
    "A = matrix(3, 3, [3, 0, 0, 2, 4, 0, 1, -1, -2])\n",
    "show(A)"
   ]
  },
  {
   "cell_type": "markdown",
   "metadata": {},
   "source": [
    "Matica $\\boldsymbol{\\mathrm{A}}$ sa nazýva **dolná trojuholníková**, ak $a_{ij}=0$, $\\forall i< j:\\, i\\in\\{1,\\ldots,m\\},\\,j\\in\\{1,\\ldots,n\\}$."
   ]
  },
  {
   "cell_type": "code",
   "execution_count": 74,
   "metadata": {},
   "outputs": [
    {
     "data": {
      "text/html": [
       "<html><script type=\"math/tex; mode=display\">\\newcommand{\\Bold}[1]{\\mathbf{#1}}\\left(\\begin{array}{rrr}\n",
       "3 & 2 & 1 \\\\\n",
       "0 & 4 & -1 \\\\\n",
       "0 & 0 & -2\n",
       "\\end{array}\\right)</script></html>"
      ],
      "text/plain": [
       "[ 3  2  1]\n",
       "[ 0  4 -1]\n",
       "[ 0  0 -2]"
      ]
     },
     "metadata": {},
     "output_type": "display_data"
    }
   ],
   "source": [
    "A = A.T\n",
    "show(A)"
   ]
  },
  {
   "cell_type": "markdown",
   "metadata": {},
   "source": [
    "Matica $\\boldsymbol{\\mathrm{A}}$ sa nazýva **horná trojuholníková**, ak $a_{ij}=0$, $\\forall i> j:\\, i\\in\\{1,\\ldots,m\\},\\,j\\in\\{1,\\ldots,n\\}$."
   ]
  },
  {
   "cell_type": "markdown",
   "metadata": {},
   "source": [
    "**Matice nad určitým poľom vytvárajú podobnú štruktúru ako napr. reálne čísla či zvyškové triedy, preto je možné s nimi vykonávať analogické aritmetické operácie, t.j. sčítavať ich, odčítavať, násobiť a pod.** Poďme sa postupne pozrieť ako a kedy to všetko funguje. "
   ]
  },
  {
   "cell_type": "code",
   "execution_count": 80,
   "metadata": {},
   "outputs": [],
   "source": [
    "A = matrix(3, 3, [1, 2, 3, 4, 5, 6, 7, 8, 9])\n",
    "B = matrix(3, 3, [1, 2, 3, 4, 5, 6, 7, 8, 9])"
   ]
  },
  {
   "cell_type": "markdown",
   "metadata": {},
   "source": [
    "$\\boldsymbol{\\mathrm{A}}=\\left(\\begin{array}{rrr}\n",
    "1 & 2 & 3 \\\\\n",
    "4 & 5 & 6 \\\\\n",
    "7 & 8 & 9\n",
    "\\end{array}\\right)$, $\\boldsymbol{\\mathrm{B}}=\\left(\\begin{array}{rrr}\n",
    "1 & 2 & 3 \\\\\n",
    "4 & 5 & 6 \\\\\n",
    "7 & 8 & 9\n",
    "\\end{array}\\right)$"
   ]
  },
  {
   "cell_type": "markdown",
   "metadata": {},
   "source": [
    "<font color=orange> Všimli ste si niečo na týchto maticiach $\\boldsymbol{\\mathrm{A}},\\boldsymbol{\\mathrm{B}}$ ? </font>"
   ]
  },
  {
   "cell_type": "code",
   "execution_count": 82,
   "metadata": {},
   "outputs": [
    {
     "data": {
      "text/plain": [
       "True"
      ]
     },
     "execution_count": 82,
     "metadata": {},
     "output_type": "execute_result"
    }
   ],
   "source": [
    "# testovanie rovnosti matic\n",
    "A == B"
   ]
  },
  {
   "cell_type": "markdown",
   "metadata": {},
   "source": [
    "Zrejme je vidieť, že tieto matice sú v nejakom zmysle rovnaké a potvrdzuje to aj porovnanie v Sage. Hovoríme, že **dve matice $\\boldsymbol{\\mathrm{A}}$ a $\\boldsymbol{\\mathrm{B}}$ sa rovnajú**, ak majú rovnaké rozmery (zhodný počet riadkov a stĺpcov) a odpovedajúce prvky matíc sú totožné, t.j. $a_{ij}=b_{ij}$ $\\forall i,j:\\, i\\in\\{1,\\ldots,m\\},\\,j\\in\\{1,\\ldots,n\\}$. "
   ]
  },
  {
   "cell_type": "markdown",
   "metadata": {},
   "source": [
    "---\n",
    "\n",
    "#### <font color=blue> Príklad - distribúcia nábytku: pokračovanie </font>\n",
    "\n",
    "Vráťme sa k úvodnemu príkladu s nábytkom. Matica \n",
    "\n",
    "$$\\mathbf{M}=\n",
    "\\begin{pmatrix}\n",
    "10 & 12 & 5\\\\\n",
    "15 & 20 & 8\n",
    "\\end{pmatrix}\n",
    "$$\n",
    "\n",
    "zobrazuje augustovú prepravu zo závodu EZ Life do každého z jeho skladov. Ak matica $\\mathbf{N}$ uvedená nižšie poskytne septembrovú prepravu do skladu v New Yorku, aká je celková dodávka každej položky nábytku do skladu v New Yorku za tieto dva mesiace? \n",
    "\n",
    "$$\\mathbf{N}=\n",
    "\\begin{pmatrix}\n",
    "45 & 35 & 20\\\\\n",
    "65 & 40 & 35\n",
    "\\end{pmatrix}\n",
    ".$$\n",
    "\n",
    "Ak bolo v auguste dodaných $10$ pohoviek typu A a v septembri $45$, potom sa v obidvoch mesiacoch odoslalo celkom $10+45=55$  pohoviek typu A. Ostatné zodpovedajúce záznamy sa môžu sčítať podobným spôsobom, aby sa získala nová matica $\\mathbf{Q}$, ktorá predstavuje celkovú dodávku za dva mesiace. \n",
    "\n",
    "$$\\mathbf{Q}=\n",
    "\\begin{pmatrix}\n",
    "55 & 47 & 25\\\\\n",
    "80 & 60 & 43\n",
    "\\end{pmatrix}\n",
    ".$$\n",
    "\n",
    "Je vhodné a prirodzené označiť $\\mathbf{Q}$ ako súčet $\\mathbf{M}$ a $\\mathbf{N}$.\n",
    "\n",
    "---"
   ]
  },
  {
   "cell_type": "markdown",
   "metadata": {},
   "source": [
    "Uvažujme matice $\\boldsymbol{\\mathrm{A}}$, $\\boldsymbol{\\mathrm{B}}$. **Sčítať dve matice znamená ščítať ich prvky, ktoré si navzájom odpovedajú.** Výsledkom sčítania je teda matica $\\boldsymbol{\\mathrm{C}}$, ktorá má prvky $\\boldsymbol{\\mathrm{C}}=[c_{ij}]$, pričom $c_{ij}=a_{ij}+b_{ij}$ pre  $i\\in\\{1,\\ldots,m\\},\\,j\\in\\{1,\\ldots,n\\}$. **Odčítanie matíc funguje rovnako, len sa nahradí operáci sčítania operáciou odčítania.** "
   ]
  },
  {
   "cell_type": "code",
   "execution_count": 92,
   "metadata": {},
   "outputs": [
    {
     "data": {
      "text/html": [
       "<html><script type=\"math/tex; mode=display\">\\newcommand{\\Bold}[1]{\\mathbf{#1}}\\left(\\begin{array}{rrr}\n",
       "5 & 1 & 6 \\\\\n",
       "2 & 8 & 9\n",
       "\\end{array}\\right) \\left(\\begin{array}{rrr}\n",
       "3 & -1 & 4 \\\\\n",
       "-4 & -2 & -5\n",
       "\\end{array}\\right)</script></html>"
      ],
      "text/plain": [
       "[5 1 6]\n",
       "[2 8 9] [ 3 -1  4]\n",
       "[-4 -2 -5]"
      ]
     },
     "metadata": {},
     "output_type": "display_data"
    }
   ],
   "source": [
    "A = matrix(2, 3, [4,0,5,-1,3,2])\n",
    "B = matrix(2, 3, [1,1,1,3,5,7])\n",
    "C = A + B # scitanie matic \n",
    "D = A - B # odcitanie matic \n",
    "show(C,D)"
   ]
  },
  {
   "cell_type": "markdown",
   "metadata": {},
   "source": [
    "$\\boldsymbol{\\mathrm{A}}=\\left(\\begin{array}{rrr}\n",
    "4 & 0 & 5 \\\\\n",
    "-1 & 3 & 2\n",
    "\\end{array}\\right)$, \n",
    "$\\boldsymbol{\\mathrm{B}}=\\left(\\begin{array}{rrr}\n",
    "1 & 1 & 1 \\\\\n",
    "3 & 5 & 7\n",
    "\\end{array}\\right)$, \n",
    "$\\boldsymbol{\\mathrm{C}}=\\boldsymbol{\\mathrm{A}}+\\boldsymbol{\\mathrm{B}}=\n",
    "\\left(\\begin{array}{rrr}\n",
    "4 & 0 & 5 \\\\\n",
    "-1 & 3 & 2\n",
    "\\end{array}\\right) + \n",
    "\\left(\\begin{array}{rrr}\n",
    "1 & 1 & 1 \\\\\n",
    "3 & 5 & 7\n",
    "\\end{array}\\right) = \n",
    "\\left(\\begin{array}{rrr}\n",
    "5 & 1 & 6 \\\\\n",
    "2 & 8 & 9\n",
    "\\end{array}\\right)$, \n",
    "$\\boldsymbol{\\mathrm{D}}=\\boldsymbol{\\mathrm{A}}-\\boldsymbol{\\mathrm{B}}=\n",
    "\\left(\\begin{array}{rrr}\n",
    "4 & 0 & 5 \\\\\n",
    "-1 & 3 & 2\n",
    "\\end{array}\\right) - \n",
    "\\left(\\begin{array}{rrr}\n",
    "1 & 1 & 1 \\\\\n",
    "3 & 5 & 7\n",
    "\\end{array}\\right) = \n",
    "\\left(\\begin{array}{rrr}\n",
    "3 & -1 & 4 \\\\\n",
    "-4 & -2 & -5\n",
    "\\end{array}\\right)$. "
   ]
  },
  {
   "cell_type": "markdown",
   "metadata": {},
   "source": [
    "Čiže napr. prvok výslednej matice $\\boldsymbol{\\mathrm{C}}$ na pozícii $[1,2]$ t.j. $c_{12}$ vznikol takto: $c_{12}=a_{12}+b_{12}=0+1=1$, ostatné prvky vznikli analogicky. Podobné je to pri prvkoch matice $\\boldsymbol{\\mathrm{D}}$ avšak s tým rozdielom, že príslušné prvky sa odčítajú. \n",
    "\n",
    "Ak by sme uvažovali ešte maticu $\\boldsymbol{\\mathrm{E}}$, ktorá má ale iné rozmery ako matice  $\\boldsymbol{\\mathrm{A}}$,  $\\boldsymbol{\\mathrm{B}}$ tak Sage vypíše chybu. **Operácia sčítania resp. odčítania dvoch matíc je definovaná len pre matice s rovnakými rozmermi!** "
   ]
  },
  {
   "cell_type": "code",
   "execution_count": 94,
   "metadata": {},
   "outputs": [
    {
     "data": {
      "text/html": [
       "<html><script type=\"math/tex; mode=display\">\\newcommand{\\Bold}[1]{\\mathbf{#1}}\\left(\\begin{array}{rr}\n",
       "2 & -3 \\\\\n",
       "0 & 1\n",
       "\\end{array}\\right)</script></html>"
      ],
      "text/plain": [
       "[ 2 -3]\n",
       "[ 0  1]"
      ]
     },
     "metadata": {},
     "output_type": "display_data"
    }
   ],
   "source": [
    "E = matrix(2,2,[2,-3,0,1])\n",
    "show(E)"
   ]
  },
  {
   "cell_type": "code",
   "execution_count": 95,
   "metadata": {
    "scrolled": true
   },
   "outputs": [
    {
     "ename": "TypeError",
     "evalue": "unsupported operand parent(s) for +: 'Full MatrixSpace of 2 by 3 dense matrices over Integer Ring' and 'Full MatrixSpace of 2 by 2 dense matrices over Integer Ring'",
     "output_type": "error",
     "traceback": [
      "\u001b[0;31m---------------------------------------------------------------------------\u001b[0m",
      "\u001b[0;31mTypeError\u001b[0m                                 Traceback (most recent call last)",
      "\u001b[0;32m<ipython-input-95-3edecfcdd001>\u001b[0m in \u001b[0;36m<module>\u001b[0;34m()\u001b[0m\n\u001b[0;32m----> 1\u001b[0;31m \u001b[0mA\u001b[0m \u001b[0;34m+\u001b[0m \u001b[0mE\u001b[0m\u001b[0;34m\u001b[0m\u001b[0;34m\u001b[0m\u001b[0m\n\u001b[0m",
      "\u001b[0;32m/opt/sagemath-9.0/local/lib/python3.7/site-packages/sage/structure/element.pyx\u001b[0m in \u001b[0;36msage.structure.element.Element.__add__ (build/cythonized/sage/structure/element.c:10834)\u001b[0;34m()\u001b[0m\n\u001b[1;32m   1232\u001b[0m         \u001b[0;31m# Left and right are Sage elements => use coercion model\u001b[0m\u001b[0;34m\u001b[0m\u001b[0;34m\u001b[0m\u001b[0;34m\u001b[0m\u001b[0m\n\u001b[1;32m   1233\u001b[0m         \u001b[0;32mif\u001b[0m \u001b[0mBOTH_ARE_ELEMENT\u001b[0m\u001b[0;34m(\u001b[0m\u001b[0mcl\u001b[0m\u001b[0;34m)\u001b[0m\u001b[0;34m:\u001b[0m\u001b[0;34m\u001b[0m\u001b[0;34m\u001b[0m\u001b[0m\n\u001b[0;32m-> 1234\u001b[0;31m             \u001b[0;32mreturn\u001b[0m \u001b[0mcoercion_model\u001b[0m\u001b[0;34m.\u001b[0m\u001b[0mbin_op\u001b[0m\u001b[0;34m(\u001b[0m\u001b[0mleft\u001b[0m\u001b[0;34m,\u001b[0m \u001b[0mright\u001b[0m\u001b[0;34m,\u001b[0m \u001b[0madd\u001b[0m\u001b[0;34m)\u001b[0m\u001b[0;34m\u001b[0m\u001b[0;34m\u001b[0m\u001b[0m\n\u001b[0m\u001b[1;32m   1235\u001b[0m \u001b[0;34m\u001b[0m\u001b[0m\n\u001b[1;32m   1236\u001b[0m         \u001b[0mcdef\u001b[0m \u001b[0mlong\u001b[0m \u001b[0mvalue\u001b[0m\u001b[0;34m\u001b[0m\u001b[0;34m\u001b[0m\u001b[0m\n",
      "\u001b[0;32m/opt/sagemath-9.0/local/lib/python3.7/site-packages/sage/structure/coerce.pyx\u001b[0m in \u001b[0;36msage.structure.coerce.CoercionModel.bin_op (build/cythonized/sage/structure/coerce.c:11180)\u001b[0;34m()\u001b[0m\n\u001b[1;32m   1253\u001b[0m         \u001b[0;31m# We should really include the underlying error.\u001b[0m\u001b[0;34m\u001b[0m\u001b[0;34m\u001b[0m\u001b[0;34m\u001b[0m\u001b[0m\n\u001b[1;32m   1254\u001b[0m         \u001b[0;31m# This causes so much headache.\u001b[0m\u001b[0;34m\u001b[0m\u001b[0;34m\u001b[0m\u001b[0;34m\u001b[0m\u001b[0m\n\u001b[0;32m-> 1255\u001b[0;31m         \u001b[0;32mraise\u001b[0m \u001b[0mbin_op_exception\u001b[0m\u001b[0;34m(\u001b[0m\u001b[0mop\u001b[0m\u001b[0;34m,\u001b[0m \u001b[0mx\u001b[0m\u001b[0;34m,\u001b[0m \u001b[0my\u001b[0m\u001b[0;34m)\u001b[0m\u001b[0;34m\u001b[0m\u001b[0;34m\u001b[0m\u001b[0m\n\u001b[0m\u001b[1;32m   1256\u001b[0m \u001b[0;34m\u001b[0m\u001b[0m\n\u001b[1;32m   1257\u001b[0m     \u001b[0mcpdef\u001b[0m \u001b[0mcanonical_coercion\u001b[0m\u001b[0;34m(\u001b[0m\u001b[0mself\u001b[0m\u001b[0;34m,\u001b[0m \u001b[0mx\u001b[0m\u001b[0;34m,\u001b[0m \u001b[0my\u001b[0m\u001b[0;34m)\u001b[0m\u001b[0;34m:\u001b[0m\u001b[0;34m\u001b[0m\u001b[0;34m\u001b[0m\u001b[0m\n",
      "\u001b[0;31mTypeError\u001b[0m: unsupported operand parent(s) for +: 'Full MatrixSpace of 2 by 3 dense matrices over Integer Ring' and 'Full MatrixSpace of 2 by 2 dense matrices over Integer Ring'"
     ]
    }
   ],
   "source": [
    "A + E "
   ]
  },
  {
   "cell_type": "markdown",
   "metadata": {},
   "source": [
    "---\n",
    "\n",
    "### <font color=red> Definícia 2 </font> \n",
    "\n",
    "Nech $\\boldsymbol{\\mathrm{A}}$, $\\boldsymbol{\\mathrm{B}}$ sú matice typu $m\\times n$ nad poľom $\\mathbb{F}$. **_Súčet (rozdiel)_** matíc $\\boldsymbol{\\mathrm{A}}$, $\\boldsymbol{\\mathrm{B}}$ je matica $\\boldsymbol{\\mathrm{C}}=[c_{ij}]$ typu $m\\times n$ taká, že $c_{ij}=a_{ij}+b_{ij}$ (resp. $c_{ij}=a_{ij}-b_{ij}$) pre každé $i\\in\\{1,\\ldots,m\\}$, $j\\in\\{1,\\ldots,n\\}$. \n",
    "\n",
    "---"
   ]
  },
  {
   "cell_type": "markdown",
   "metadata": {},
   "source": [
    "---\n",
    "\n",
    "#### <font color=blue> Príklad - distribúcia nábytku: pokračovanie 2. </font>\n",
    "\n",
    "Septembrové zásielky od spoločnosti EZ Life Company do skladov v New Yorku, San Franciscu a Chicagu sú uvedené nižšie v matriciach $\\mathbf{N}$, $\\mathbf{S}$ a $\\mathbf{C}$.\n",
    "\n",
    "$$\n",
    "\\mathbf{N}=\n",
    "\\begin{pmatrix}\n",
    "45 & 35 & 20 \\\\\n",
    "65 & 40 & 35\n",
    "\\end{pmatrix}, \\quad\n",
    "\\mathbf{S}=\n",
    "\\begin{pmatrix}\n",
    "30 & 32 & 28 \\\\\n",
    "43 & 47 & 30\n",
    "\\end{pmatrix}, \\quad \n",
    "\\mathbf{C}=\n",
    "\\begin{pmatrix}\n",
    "22 & 25 & 38 \\\\\n",
    "31 & 34 & 35\n",
    "\\end{pmatrix}\n",
    ".$$\n",
    "\n",
    "<font color=orange> Aká bol celkový počet jednotlivých tovarov dodaný do týchto troch skladov v septembri? Môžete vyriešiť aj pomocou Sage. </font>\n"
   ]
  },
  {
   "cell_type": "code",
   "execution_count": null,
   "metadata": {},
   "outputs": [],
   "source": []
  },
  {
   "cell_type": "markdown",
   "metadata": {},
   "source": [
    "Počas septembra v Chicagu sklad EZ Life Company vyexpedoval nasledujúce čísla každého modelu. \n",
    "\n",
    "$$\\mathbf{K}=\n",
    "\\begin{pmatrix}\n",
    "5 & 10 & 8 \\\\\n",
    "11 & 14 & 15\n",
    "\\end{pmatrix}.$$\n",
    "\n",
    "<font color=orange>Aký bol inventár v sklade v Chicagu k 1. októbru, berúc do úvahy iba počet položiek prijatých a odoslaných v priebehu mesiaca? Môžete vyriešiť aj pomocou Sage. </font>"
   ]
  },
  {
   "cell_type": "code",
   "execution_count": null,
   "metadata": {},
   "outputs": [],
   "source": []
  },
  {
   "cell_type": "markdown",
   "metadata": {},
   "source": [
    "---"
   ]
  },
  {
   "cell_type": "markdown",
   "metadata": {},
   "source": [
    "Aj **násobenie matice skalárom** (číslom resp. prvkom poľa) funguje veľmi jednoducho a prirodzene. **Každý prvok matice je vynásobený príslušným skalárom** (číslom resp. prvkom). Napr. vypočítajme čomu je rovné $2\\cdot \\boldsymbol{\\mathrm{B}}$. "
   ]
  },
  {
   "cell_type": "code",
   "execution_count": 97,
   "metadata": {},
   "outputs": [
    {
     "data": {
      "text/html": [
       "<html><script type=\"math/tex; mode=display\">\\newcommand{\\Bold}[1]{\\mathbf{#1}}\\left(\\begin{array}{rrr}\n",
       "2 & 2 & 2 \\\\\n",
       "6 & 10 & 14\n",
       "\\end{array}\\right)</script></html>"
      ],
      "text/plain": [
       "[ 2  2  2]\n",
       "[ 6 10 14]"
      ]
     },
     "metadata": {},
     "output_type": "display_data"
    }
   ],
   "source": [
    "show(2*B)"
   ]
  },
  {
   "cell_type": "markdown",
   "metadata": {},
   "source": [
    "$\\boldsymbol{\\mathrm{B}}=\\left(\\begin{array}{rrr}\n",
    "1 & 1 & 1 \\\\\n",
    "3 & 5 & 7\n",
    "\\end{array}\\right)$, \n",
    "$2\\boldsymbol{\\mathrm{B}}=\\left(\\begin{array}{rrr}\n",
    "2 & 2 & 2 \\\\\n",
    "6 & 10 & 14\n",
    "\\end{array}\\right)$."
   ]
  },
  {
   "cell_type": "markdown",
   "metadata": {},
   "source": [
    "---\n",
    "\n",
    "### <font color=red> Definícia 3 </font> \n",
    "\n",
    "Nech $p\\in\\mathbb{F}$. **_Skalárny násobok_** matice $\\boldsymbol{\\mathrm{A}}$ je matica  $\\boldsymbol{\\mathrm{D}}=p\\boldsymbol{\\mathrm{A}}$ typu $m\\times n$ taká, že $\\boldsymbol{\\mathrm{D}}=[d_{ij}]$ kde  $d_{ij}=p\\cdot a_{ij}$ pre každé $i\\in\\{1,\\ldots,m\\}$, $j\\in\\{1,\\ldots,n\\}$. \n",
    "\n",
    "---"
   ]
  },
  {
   "cell_type": "markdown",
   "metadata": {},
   "source": [
    "Dôsledkom Definície 2 a Definície 3 je nasledovné tvrdenie. "
   ]
  },
  {
   "cell_type": "markdown",
   "metadata": {},
   "source": [
    "---\n",
    "\n",
    "#### <font color=green> Tvrdenie 1 </font> \n",
    "\n",
    "Nech $\\boldsymbol{\\mathrm{A}}$, $\\boldsymbol{\\mathrm{B}}$ a $\\boldsymbol{\\mathrm{C}}$ sú matice rovnakých rozmerov a nech $p$, $q$ sú prvky (skaláry) z poľa $\\mathbb{F}$. Potom platia nasledujúce vzťahy: \n",
    "\n",
    "a) $\\boldsymbol{\\mathrm{A}}+\\boldsymbol{\\mathrm{B}}=\\boldsymbol{\\mathrm{B}}+\\boldsymbol{\\mathrm{A}}$;\n",
    "\n",
    "b) $\\left(\\boldsymbol{\\mathrm{A}}+\\boldsymbol{\\mathrm{B}}\\right)+\\boldsymbol{\\mathrm{C}}=\\boldsymbol{\\mathrm{A}}+\\left(\\boldsymbol{\\mathrm{B}}+\\boldsymbol{\\mathrm{C}}\\right)$; \n",
    "\n",
    "c) $\\boldsymbol{\\mathrm{A}}+\\boldsymbol{\\mathrm{0}}=\\boldsymbol{\\mathrm{A}}$, kde $\\boldsymbol{\\mathrm{0}}$ predstavuje nulovú maticu (všetky jej prvky sú $0$); \n",
    "\n",
    "d) $p\\left(\\boldsymbol{\\mathrm{A}}+\\boldsymbol{\\mathrm{B}}\\right)=p\\boldsymbol{\\mathrm{A}}+p\\boldsymbol{\\mathrm{B}}$; \n",
    "\n",
    "e) $(p+q)\\boldsymbol{\\mathrm{A}}=p\\boldsymbol{\\mathrm{A}}+q\\boldsymbol{\\mathrm{A}}$;\n",
    "\n",
    "f) $p(q\\boldsymbol{\\mathrm{A}})=(pq)\\boldsymbol{\\mathrm{A}}$. \n",
    "\n",
    "---"
   ]
  },
  {
   "cell_type": "markdown",
   "metadata": {},
   "source": [
    "<font color=orange> Vzťahy a) - f) z predošlého tvrdenia ilustrujte na konrétnych príkladoch v Sage.  </font>"
   ]
  },
  {
   "cell_type": "code",
   "execution_count": null,
   "metadata": {},
   "outputs": [],
   "source": []
  },
  {
   "cell_type": "markdown",
   "metadata": {},
   "source": [
    "<font color=orange> Čo je možné všimnúť si na nasledujúcich dvojiciach matíc? Ako spolu súvisia? </font>"
   ]
  },
  {
   "cell_type": "code",
   "execution_count": 99,
   "metadata": {},
   "outputs": [
    {
     "data": {
      "text/html": [
       "<html><script type=\"math/tex; mode=display\">\\newcommand{\\Bold}[1]{\\mathbf{#1}}\\left(\\begin{array}{rrr}\n",
       "3 & 0 & 0 \\\\\n",
       "2 & 4 & 0 \\\\\n",
       "1 & -1 & -2\n",
       "\\end{array}\\right) \\left(\\begin{array}{rrr}\n",
       "3 & 2 & 1 \\\\\n",
       "0 & 4 & -1 \\\\\n",
       "0 & 0 & -2\n",
       "\\end{array}\\right)</script></html>"
      ],
      "text/plain": [
       "[ 3  0  0]\n",
       "[ 2  4  0]\n",
       "[ 1 -1 -2] [ 3  2  1]\n",
       "[ 0  4 -1]\n",
       "[ 0  0 -2]"
      ]
     },
     "metadata": {},
     "output_type": "display_data"
    }
   ],
   "source": [
    "A = matrix(3, 3, [3, 0, 0, 2, 4, 0, 1, -1, -2])\n",
    "show(A,A.T)"
   ]
  },
  {
   "cell_type": "code",
   "execution_count": 100,
   "metadata": {},
   "outputs": [
    {
     "data": {
      "text/html": [
       "<html><script type=\"math/tex; mode=display\">\\newcommand{\\Bold}[1]{\\mathbf{#1}}\\left(\\begin{array}{rrr}\n",
       "1 & 2 & 3 \\\\\n",
       "4 & 5 & 6 \\\\\n",
       "7 & 8 & 9\n",
       "\\end{array}\\right) \\left(\\begin{array}{rrr}\n",
       "1 & 4 & 7 \\\\\n",
       "2 & 5 & 8 \\\\\n",
       "3 & 6 & 9\n",
       "\\end{array}\\right)</script></html>"
      ],
      "text/plain": [
       "[1 2 3]\n",
       "[4 5 6]\n",
       "[7 8 9] [1 4 7]\n",
       "[2 5 8]\n",
       "[3 6 9]"
      ]
     },
     "metadata": {},
     "output_type": "display_data"
    }
   ],
   "source": [
    "B = matrix(3, 3, [1, 2, 3, 4, 5, 6, 7, 8, 9])\n",
    "show(B,B.T)"
   ]
  },
  {
   "cell_type": "markdown",
   "metadata": {},
   "source": [
    "Je jedno, ktorú dvojicu matíc vezmeme do úvahy, no vidíme, že prvky na hlavnej diagonále sú v maticiach v rámci jednej dvojice rovnaké a zvyšné prvky sú ako keby zrkadlovo preklopené (vymenené) podľa hlavnej diagonály. Ak matice nie sú štvorcové tak to vyzerá nasledovne. "
   ]
  },
  {
   "cell_type": "code",
   "execution_count": 101,
   "metadata": {},
   "outputs": [
    {
     "data": {
      "text/html": [
       "<html><script type=\"math/tex; mode=display\">\\newcommand{\\Bold}[1]{\\mathbf{#1}}\\left(\\begin{array}{rrr}\n",
       "1 & 1 & 1 \\\\\n",
       "3 & 5 & 7\n",
       "\\end{array}\\right) \\left(\\begin{array}{rr}\n",
       "1 & 3 \\\\\n",
       "1 & 5 \\\\\n",
       "1 & 7\n",
       "\\end{array}\\right)</script></html>"
      ],
      "text/plain": [
       "[1 1 1]\n",
       "[3 5 7] [1 3]\n",
       "[1 5]\n",
       "[1 7]"
      ]
     },
     "metadata": {},
     "output_type": "display_data"
    }
   ],
   "source": [
    "C = matrix(2, 3, [1,1,1,3,5,7])\n",
    "show(C,C.T)"
   ]
  },
  {
   "cell_type": "markdown",
   "metadata": {},
   "source": [
    "V podstate môžeme povedať, že **z riadkov prvej matice (vľavo) sa stali stĺpce druhej matice (vpravo) a vice versa**. Formálne vzťah týchto dvoch matíc vyjadruje ďalšia definícia. "
   ]
  },
  {
   "cell_type": "markdown",
   "metadata": {},
   "source": [
    "---\n",
    "\n",
    "### <font color=red> Definícia 4 </font> \n",
    "\n",
    "**_Transponovaná matica_** k matici $\\boldsymbol{\\mathrm{A}}$ typu $m\\times n$ je matica $\\boldsymbol{\\mathrm{A}}^{T}$ resp. $\\boldsymbol{\\mathrm{A}}^{'}$ typu $n\\times m$ s prvkami $a_{ij}^T$ taká, že $a_{ij}^T=a_{ji}$ pre každé $i\\in\\{1,\\ldots,m\\}$, $j\\in\\{1,\\ldots,n\\}$.\n",
    "\n",
    "---"
   ]
  },
  {
   "cell_type": "markdown",
   "metadata": {},
   "source": [
    "---\n",
    "\n",
    "#### <font color=blue> Príklad - distribúcia nábytku: pokračovanie 3. </font>\n",
    "\n",
    "Hľadanie súčinu dvoch matíc je náročnejšie, ale takéto násobenie je dôležité pri riešení praktických problémov. Na pochopenie princípu násobenia matíc môže byť užitočný ďalší príklad týkajúci sa spoločnosti EZ Life Company uvedený v predchádzajúcej časti. Predpokladajme, že pohovky a kreslá rovnakého modelu sa často predávajú ako súpravy. Matica $\\mathbf{W}$ zobrazuje počet sád každého modelu (súpravy resp. sady A,B,C) v každom sklade."
   ]
  },
  {
   "attachments": {
    "priklad_nabytok_maticaW.png": {
     "image/png": "[encoded data removed]"
    }
   },
   "cell_type": "markdown",
   "metadata": {},
   "source": [
    "![priklad_nabytok_maticaW.png](attachment:priklad_nabytok_maticaW.png)"
   ]
  },
  {
   "cell_type": "markdown",
   "metadata": {},
   "source": [
    "Ak je predajná cena súpravy typu A $1 000$ dolárov, súpravy modelu B $1200$ dolárov a sady C modelu $1400$ USD, celková hodnota súprav v sklade v New Yorku sa zistí nasledovne. \n",
    "\n",
    "<style type=\"text/css\">\n",
    ".tg  {border-collapse:collapse;border-spacing:0;}\n",
    ".tg td{border-color:black;border-style:solid;border-width:1px;font-family:Arial, sans-serif;font-size:14px;\n",
    "  overflow:hidden;padding:10px 5px;word-break:normal;}\n",
    ".tg th{border-color:black;border-style:solid;border-width:1px;font-family:Arial, sans-serif;font-size:14px;\n",
    "  font-weight:normal;overflow:hidden;padding:10px 5px;word-break:normal;}\n",
    ".tg .tg-baqh{text-align:center;vertical-align:top}\n",
    "</style>\n",
    "<table class=\"tg\">\n",
    "<thead>\n",
    "  <tr>\n",
    "    <th class=\"tg-baqh\" colspan=\"6\">Hodnota nábytku</th>\n",
    "  </tr>\n",
    "</thead>\n",
    "<tbody>\n",
    "  <tr>\n",
    "    <td class=\"tg-baqh\">Typ</td>\n",
    "    <td class=\"tg-baqh\">Počet setov</td>\n",
    "    <td class=\"tg-baqh\"></td>\n",
    "    <td class=\"tg-baqh\">Cena setu</td>\n",
    "    <td class=\"tg-baqh\"></td>\n",
    "    <td class=\"tg-baqh\">Spolu</td>\n",
    "  </tr>\n",
    "  <tr>\n",
    "    <td class=\"tg-baqh\">A</td>\n",
    "    <td class=\"tg-baqh\">10</td>\n",
    "    <td class=\"tg-baqh\">x</td>\n",
    "    <td class=\"tg-baqh\">1 000 USD</td>\n",
    "    <td class=\"tg-baqh\">=</td>\n",
    "    <td class=\"tg-baqh\">10 000 USD</td>\n",
    "  </tr>\n",
    "  <tr>\n",
    "    <td class=\"tg-baqh\">B</td>\n",
    "    <td class=\"tg-baqh\">7</td>\n",
    "    <td class=\"tg-baqh\">x</td>\n",
    "    <td class=\"tg-baqh\">1 200 USD</td>\n",
    "    <td class=\"tg-baqh\">=</td>\n",
    "    <td class=\"tg-baqh\">8 400 USD</td>\n",
    "  </tr>\n",
    "  <tr>\n",
    "    <td class=\"tg-baqh\">C</td>\n",
    "    <td class=\"tg-baqh\">3</td>\n",
    "    <td class=\"tg-baqh\">x</td>\n",
    "    <td class=\"tg-baqh\"> 1 400 USD</td>\n",
    "    <td class=\"tg-baqh\">=</td>\n",
    "    <td class=\"tg-baqh\">4 200&nbsp;&nbsp;USD</td>\n",
    "  </tr>\n",
    "  <tr>\n",
    "    <td class=\"tg-baqh\" colspan=\"5\">Celkovo za New York</td>\n",
    "    <td class=\"tg-baqh\">22 600 USD</td>\n",
    "  </tr>\n",
    "</tbody>\n",
    "</table>\n",
    "\n",
    "Celková hodnota troch druhov setovv New Yorku je $22 600$ dolárov. Práca vykonaná v tabuľke vyššie je zhrnutá takto: \n",
    "\n",
    "$$10\\cdot($1\\,000) + 7\\cdot($1\\,200) + 3\\cdot($1\\,400) = $22\\, 600.$$ \n",
    "\n",
    "Rovnakým spôsobom zistíme, že Chicago sety majú celkovú hodnotu \n",
    "\n",
    "$$5\\cdot($1\\,000) + 9\\cdot($1\\,200) + 6\\cdot($1\\,400) = $24\\, 200,$$ \n",
    "\n",
    "a v San Franciscu je celková hodnota súprav \n",
    "\n",
    "$$4\\cdot($1\\,000) + 8\\cdot($1\\,200) + 2\\cdot($1\\,400) = $16\\, 400.$$ \n",
    "\n",
    "Predajné ceny môžu byť zapísané ako stĺpcová matica (resp. vektor) $\\mathbf{P}$ a celková hodnota v každej lokalite ako ďalšia stĺpcová matica  $\\mathbf{V}$. \n",
    "\n",
    "$$\\mathbf{P}=\n",
    "\\begin{pmatrix}\n",
    "1000 \\\\ \n",
    "1200 \\\\\n",
    "1400 \\\\\n",
    "\\end{pmatrix}, \\qquad\n",
    "\\mathbf{V}=\n",
    "\\begin{pmatrix}\n",
    "22600 \\\\ \n",
    "24200 \\\\\n",
    "16400 \\\\\n",
    "\\end{pmatrix}. \n",
    "$$\n",
    "\n",
    "Pozrime sa na prvky matíc $\\mathbf{W}$ a $\\mathbf{P}$ nižšie; vynásobením prvého, druhého a tretieho prvku prvého riadka matice  $\\mathbf{W}$ s odpovedajúcim prvým, druhým a tretím prvkom stĺpcovej matice $\\mathbf{P}$ a následným sčítaním týchto súčinov sa získa prvý prvok v matici $\\mathbf{V}$, t.j. $10\\cdot1000 + 7\\cdot1200 + 3\\cdot1400 = 22600.$. Rovnaký postup s druhým riadkom matice $\\mathbf{W}$ určuje druhý prvok matice $V$, t.j. $5\\cdot1000 + 9\\cdot1200 + 6\\cdot1400 = 24200,$; tretí riadok matice $\\mathbf{W}$ vedie k tretiemu prvku matice $\\mathbf{V}$ t.j. $4\\cdot1000 + 8\\cdot1200) + 2\\cdot1400 = 16400.$, čo naznačuje, že je rozumné napísať súčin matíc \n",
    "\n",
    "$$\n",
    "\\mathbf{W}=\n",
    "\\begin{pmatrix}\n",
    "10 & 7 & 3\\\\\n",
    "5 & 9 & 6 \\\\\n",
    "4 & 8 & 2\n",
    "\\end{pmatrix} \\quad \\text{ a } \\quad \n",
    "\\mathbf{P}=\n",
    "\\begin{pmatrix}\n",
    "1000 \\\\\n",
    "1200 \\\\\n",
    "1400\n",
    "\\end{pmatrix}\n",
    "$$\n",
    "\n",
    "takto  \n",
    "\n",
    "$$\n",
    "\\mathbf{WP}=\n",
    "\\begin{pmatrix}\n",
    "10 & 7 & 3\\\\\n",
    "5 & 9 & 6 \\\\\n",
    "4 & 8 & 2\n",
    "\\end{pmatrix} \n",
    "\\begin{pmatrix}\n",
    "1000 \\\\\n",
    "1200 \\\\\n",
    "1400\n",
    "\\end{pmatrix}=\n",
    "\\begin{pmatrix}\n",
    "22600 \\\\ \n",
    "24200 \\\\\n",
    "16400 \\\\\n",
    "\\end{pmatrix}=\n",
    "\\mathbf{V}.\n",
    "$$\n",
    "\n",
    "Súčin sa našiel vynásobením prvkov v riadkoch matice vľavo s odpovedajúcimi prvkami v stĺpci matice vpravo a následným sčítaním  jednotlivých súčinov. Všimnime si, že súčin matice typu $3\\times3$ s maticou typu $3\\times1$ je matica typu $3\\times1$. Všimnime si tiež, že každý prvok súčinu dvoch matíc predstavuje súčet súčinov (jednotlivých prvkov dvoch matíc). To je presne to, čo robíme, keď ideme do obchodu a kupujeme 8 cukrárskych tyčiniek po 0,80 centov za kus, 4 fľaše vody v cene 1,25 eura za kus atď. a celkovú hodnotu vypočítame ako $8\\cdot0.80+4\\cdot1.25+\\ldots$. \n",
    "\n",
    "---"
   ]
  },
  {
   "cell_type": "markdown",
   "metadata": {},
   "source": [
    "Pozrime sa trochu všeobecnejšie na súčin $\\mathbf{AB}$, t.j. súčin matice $\\mathbf{A}$ typu $m\\times r$ s maticou $\\mathbf{B}$ typu $r\\times n$. Uvažujme nasledovné matice $\\mathbf{A}$, $\\mathbf{B}$ s rozmermi $m=2,r=2,n=3$. \n",
    "\n",
    "$\\boldsymbol{\\mathrm{A}}=\\left(\\begin{array}{rr}\n",
    " 2 & 3 \\\\\n",
    " 1 & -5\n",
    " \\end{array}\\right)$, \n",
    " $\\boldsymbol{\\mathrm{B}}=\\left(\\begin{array}{rrr}\n",
    " 4 & 3 & 6 \\\\\n",
    " 1 & -2 & 3\n",
    " \\end{array}\\right)$. "
   ]
  },
  {
   "cell_type": "code",
   "execution_count": 2,
   "metadata": {},
   "outputs": [
    {
     "data": {
      "text/html": [
       "<html><script type=\"math/tex; mode=display\">\\newcommand{\\Bold}[1]{\\mathbf{#1}}\\left(\\begin{array}{rr}\n",
       "2 & 3 \\\\\n",
       "1 & -5\n",
       "\\end{array}\\right) \\left(\\begin{array}{rrr}\n",
       "4 & 3 & 6 \\\\\n",
       "1 & -2 & 3\n",
       "\\end{array}\\right)</script></html>"
      ],
      "text/plain": [
       "[ 2  3]\n",
       "[ 1 -5] [ 4  3  6]\n",
       "[ 1 -2  3]"
      ]
     },
     "metadata": {},
     "output_type": "display_data"
    }
   ],
   "source": [
    "A = matrix(2,2,[2,3,1,-5])\n",
    "B = matrix(2,3,[4,3,6,1,-2,3])\n",
    "show(A,B)"
   ]
  },
  {
   "cell_type": "markdown",
   "metadata": {},
   "source": [
    "Urobme ich súčin a výsledok označme ako maticu $\\boldsymbol{\\mathrm{C}}$. Môžeme si niečo všimnúť? Ako mohol vzniknúť taký súčin?"
   ]
  },
  {
   "cell_type": "code",
   "execution_count": 4,
   "metadata": {},
   "outputs": [
    {
     "data": {
      "text/html": [
       "<html><script type=\"math/tex; mode=display\">\\newcommand{\\Bold}[1]{\\mathbf{#1}}\\left(\\begin{array}{rrr}\n",
       "11 & 0 & 21 \\\\\n",
       "-1 & 13 & -9\n",
       "\\end{array}\\right)</script></html>"
      ],
      "text/plain": [
       "[11  0 21]\n",
       "[-1 13 -9]"
      ]
     },
     "metadata": {},
     "output_type": "display_data"
    }
   ],
   "source": [
    "C = A * B\n",
    "show(C)"
   ]
  },
  {
   "cell_type": "markdown",
   "metadata": {},
   "source": [
    "$$\\boldsymbol{\\mathrm{C}}=\\boldsymbol{\\mathrm{A}}\\cdot\\boldsymbol{\\mathrm{B}}=\n",
    "\\left(\\begin{array}{rr}\n",
    " 2 & 3 \\\\\n",
    " 1 & -5\n",
    " \\end{array}\\right)\\cdot\n",
    " \\left(\\begin{array}{rrr}\n",
    " 4 & 3 & 6 \\\\\n",
    " 1 & -2 & 3\n",
    " \\end{array}\\right)=\n",
    " \\left(\\begin{array}{rrr}\n",
    "11 & 0 & 21 \\\\\n",
    "-1 & 13 & -9\n",
    "\\end{array}\\right).$$"
   ]
  },
  {
   "cell_type": "markdown",
   "metadata": {},
   "source": [
    "**Každý stĺpec matice $\\mathbf{B}$ je vynásobený každým riadkom matice $\\mathbf{A}$ a každý taký súčin nám dá (vytvorí) nový prvok vo výslednej matici $\\mathbf{C}$**. Čiže ak $\\mathbf{C}=\\mathbf{A}\\cdot\\mathbf{B}$ je výslená matica s prvkami $\\mathbf{C}=[c_{ij}]$ tak $c_{ij}=\\mathbf{a}_{i.}\\cdot\\mathbf{b}_{.j}$, tzn. prvok vo výslednej matici v $i$-tom riadku a $j$-tom stĺpci vznikne súčinom $i$-teho riadka matice $\\mathbf{A}$ s $j$-tym stĺpcom matice $\\mathbf{B}$. Názorne to ilustruje nasledujúci obrázok, miesto oblých zátvoriek sú tentokrát použité hranaté zátvorky v zápise matíc ale to je len vecou označenia :-) \n",
    "\n",
    "Konkrétne teda prvok $c_{13}$ výslednej matice $\\mathbf{C}$ vznikne (viď obrázok) ako súčin prvého riadka matice $\\mathbf{A}$ s tretím stĺpcom matice $\\mathbf{B}$. Pod súčinom riadka so stĺpcom v podstate rozumieme nasledovné: prvý prvok riadka sa vynásobí s prvým prvkom stĺpca, k tomu sa pripočíta súčin druhého prvku riadka s druhým prvkom stĺpca, k tomu sa pripočíta súčin tretieho prvu riadka s tretím prvkom stĺpca atď. (v závislosti od dĺžky riadka/stĺpca). Čize tu konkrétne máme \n",
    "\n",
    "$$\n",
    "c_{13}=(2,3)\\cdot\\begin{pmatrix}\n",
    "6\\\\\n",
    "3\n",
    "\\end{pmatrix}\n",
    "=2\\cdot6+3\\cdot3=21.\n",
    "$$\n",
    "\n",
    "**Súčin riadka matice so stĺpcom matice je vlastne súčin riadkového vektora so stĺpcovým vektorom a nazýva sa _skalárny súčin_ vektorov.** "
   ]
  },
  {
   "attachments": {
    "sucin_matic.png": {
     "image/png": "[encoded data removed]"
    }
   },
   "cell_type": "markdown",
   "metadata": {},
   "source": [
    "![sucin_matic.png](attachment:sucin_matic.png)"
   ]
  },
  {
   "cell_type": "markdown",
   "metadata": {},
   "source": [
    "Je tu ešte jedno pozorovanie vyplývajúce z tohto ilustračného príkladu. **Počet riadkov výslednej matice $\\boldsymbol{\\mathrm{C}}$ je rovný poču riadkov matice $\\boldsymbol{\\mathrm{A}}$ a počet stĺpcov výslednej matice $\\boldsymbol{\\mathrm{C}}$ je rovný počtu stĺpcov matice $\\boldsymbol{\\mathrm{B}}$.**"
   ]
  },
  {
   "cell_type": "markdown",
   "metadata": {},
   "source": [
    "Predchádzajúce úvahy je možné sformulovať do defínicie súčinu dvoch matíc takto. "
   ]
  },
  {
   "cell_type": "markdown",
   "metadata": {},
   "source": [
    "---\n",
    "\n",
    "### <font color=red> Definícia 5 </font> \n",
    "\n",
    "Nech $\\boldsymbol{\\mathrm{A}}$ je matica typu $m\\times r$ a $\\boldsymbol{\\mathrm{B}}$ je matica typu $r\\times n$ nad poľom $\\mathbb{F}$. Súčin matíc $\\boldsymbol{\\mathrm{A}}$, $\\boldsymbol{\\mathrm{B}}$ je matica $\\boldsymbol{\\mathrm{C}}=\\boldsymbol{\\mathrm{A}}\\cdot\\boldsymbol{\\mathrm{B}}$ typu $m\\times n$ taká, že $c_{ij}=\\sum\\limits_{k=1}^{r}a_{ik}\\cdot b_{kj}$ pre každé $i\\in\\{1,\\ldots,m\\}$, $j\\in\\{1,\\ldots,n\\}$. \n",
    "\n",
    "---"
   ]
  },
  {
   "cell_type": "markdown",
   "metadata": {},
   "source": [
    "---\n",
    "\n",
    "#### Poznámka 3\n",
    "\n",
    "**Násobiť je možné len také dve matice, pri ktorých počet stĺpcov prvej matice je rovný počtu riadkov druhej matice.** Vyplýva to z úvahy (viď vyššie), že násobenie dvoch matíc sa redukuje na skalárne súčiny dvojíc vektorov (riadok krát stĺpec), pričom vektory, ktoré sa násobia musia byť rovnako dlhé (majú rovnaký počet prvkov, len pre také vektory je definovaný ich skalárny súčin).  \n",
    "\n",
    "---"
   ]
  },
  {
   "cell_type": "markdown",
   "metadata": {},
   "source": [
    "K Definícii 5 urobme ešte jeden ilustračný príklad. "
   ]
  },
  {
   "cell_type": "markdown",
   "metadata": {},
   "source": [
    "---\n",
    "\n",
    "#### <font color=blue> Príklad 1  </font>\n",
    "\n",
    "Vypočítajte $\\mathbf{A}\\mathbf{B}$ ak \n",
    "$\\mathbf{A}=\n",
    "\\left(\\begin{array}{rrr}\n",
    "1 & 2 & 4 \\\\\n",
    "-1 & 3 & 5\n",
    "\\end{array}\\right)$, \n",
    "$\\mathbf{B}=\n",
    "\\left(\\begin{array}{rr}\n",
    "-2 & 5 \\\\\n",
    "3 & -1 \\\\\n",
    "4 & 6\n",
    "\\end{array}\\right)$. \n",
    "\n",
    "<ins> Riešenie: </ins>\n",
    "\n",
    "Súčin týchto matíc je matica $\\mathbf{C}$ typu $2\\times2$, jej prvky sú: \n",
    "\n",
    "$$c_{11}=\\mathbf{a}_{1.}\\cdot\\mathbf{b}_{.1}=a_{11}b_{11}+a_{12}b_{21}+a_{13}b_{31}=1\\cdot(-2)+2\\cdot3+4\\cdot4=20;$$\n",
    "\n",
    "$$c_{12}=\\mathbf{a}_{1.}\\cdot\\mathbf{b}_{.2}=a_{11}b_{12}+a_{12}b_{22}+a_{13}b_{32}=1\\cdot5+2\\cdot(-1)+4\\cdot6=27;$$\n",
    "\n",
    "$$c_{21}=\\mathbf{a}_{2.}\\cdot\\mathbf{b}_{.1}=a_{21}b_{11}+a_{22}b_{21}+a_{23}b_{31}=(-1)\\cdot(-2)+3\\cdot3+5\\cdot4=31;$$\n",
    "\n",
    "$$c_{22}=\\mathbf{a}_{2.}\\cdot\\mathbf{b}_{.2}=a_{21}b_{12}+a_{22}b_{22}+a_{23}b_{32}=(-1)\\cdot5+3\\cdot(-1)+5\\cdot6=22.$$\n",
    "\n",
    "Teda \n",
    "\n",
    "$$\\mathbf{C}=\n",
    "\\begin{pmatrix}\n",
    "c_{11} & c_{12} \\\\\n",
    "c_{21} & c_{22} \n",
    "\\end{pmatrix}=\n",
    "\\begin{pmatrix}\n",
    "20 & 27 \\\\\n",
    "31 & 22 \n",
    "\\end{pmatrix}.$$\n",
    "\n",
    "Ukážme si ešte dva spôsoby výpočtu súčinu matíc $\\mathbf{A}$, $\\mathbf{B}$ v Sage. "
   ]
  },
  {
   "cell_type": "code",
   "execution_count": 31,
   "metadata": {},
   "outputs": [
    {
     "data": {
      "text/html": [
       "<html><script type=\"math/tex; mode=display\">\\newcommand{\\Bold}[1]{\\mathbf{#1}}\\left(\\begin{array}{rr}\n",
       "0 & 0 \\\\\n",
       "0 & 0\n",
       "\\end{array}\\right)</script></html>"
      ],
      "text/plain": [
       "[0 0]\n",
       "[0 0]"
      ]
     },
     "metadata": {},
     "output_type": "display_data"
    }
   ],
   "source": [
    "# 1. sposob - presne tak ako v rieseni Prikladu 1\n",
    "A = matrix(2,3,[1,2,4,-1,3,5])\n",
    "B = matrix(3,2,[-2,5,3,-1,4,6])\n",
    "# vytvorime si nulovu maticu (vsetky jej prvky su 0) rozmerov 2x2 lebo vieme, ze vysledok sucinu bude matica typu 2x2\n",
    "C = zero_matrix(2)\n",
    "show(C)"
   ]
  },
  {
   "cell_type": "code",
   "execution_count": 32,
   "metadata": {},
   "outputs": [
    {
     "data": {
      "text/html": [
       "<html><script type=\"math/tex; mode=display\">\\newcommand{\\Bold}[1]{\\mathbf{#1}}\\left(\\begin{array}{rr}\n",
       "20 & 27 \\\\\n",
       "31 & 22\n",
       "\\end{array}\\right)</script></html>"
      ],
      "text/plain": [
       "[20 27]\n",
       "[31 22]"
      ]
     },
     "metadata": {},
     "output_type": "display_data"
    }
   ],
   "source": [
    "# postupne budeme nasobit kazdy riadok matice A s kazdym stlpcom matice B a budeme tak dostavat prvky vyslednej matice C \n",
    "# cize vezmeme prvy riadok matice A, vynasobime nim postupne vsetky stlpce matice B, \n",
    "# vysledky ulozime na prislusne miesta do matice C (miesto tych nul, ktore sme tam vygenerovali na zaciatku) \n",
    "# dalej vezmeme druhy riadok matice A a vynasobime nim vsetky stlpce matice B a opat vysledky sucinov ulozime do matice C atd. \n",
    "# postup opakujeme so vsetkymi dalsimi riadkami matice A\n",
    "\n",
    "for i in range(C.nrows()): \n",
    "    for j in range(C.ncols()): \n",
    "        C[i,j] = (A[i,:] * B[:,j])[0,0]\n",
    "        \n",
    "show(C)"
   ]
  },
  {
   "cell_type": "code",
   "execution_count": 33,
   "metadata": {},
   "outputs": [
    {
     "data": {
      "text/html": [
       "<html><script type=\"math/tex; mode=display\">\\newcommand{\\Bold}[1]{\\mathbf{#1}}\\left(\\begin{array}{rr}\n",
       "20 & 27 \\\\\n",
       "31 & 22\n",
       "\\end{array}\\right)</script></html>"
      ],
      "text/plain": [
       "[20 27]\n",
       "[31 22]"
      ]
     },
     "metadata": {},
     "output_type": "display_data"
    }
   ],
   "source": [
    "# alternativny vypocet v Sage k Prikladu 1\n",
    "# vyuzije sa nasobenie matic zabudovane priamo v Sage\n",
    "A = matrix(2,3,[1,2,4,-1,3,5])\n",
    "B = matrix(3,2,[-2,5,3,-1,4,6])\n",
    "show(A*B)"
   ]
  },
  {
   "cell_type": "markdown",
   "metadata": {},
   "source": [
    "---"
   ]
  },
  {
   "cell_type": "markdown",
   "metadata": {},
   "source": [
    "V nasledujúcom tvrdení sumarizujeme ďalšie pravidlá, ktoré platia pre násobenie a sčítanie matíc.  "
   ]
  },
  {
   "cell_type": "markdown",
   "metadata": {},
   "source": [
    "---\n",
    "\n",
    "#### <font color=green> Tvrdenie 2 </font> \n",
    "\n",
    "Nech $\\boldsymbol{\\mathrm{A}}$, $\\boldsymbol{\\mathrm{B}}$, $\\boldsymbol{\\mathrm{C}}$ sú matice nad poľom $\\mathbb{F}$ vhodných rozmerov tak, aby príslušné operácie (súčty, súčiny) s nimi boli definované, pričom matica $\\boldsymbol{\\mathrm{A}}$ nech je typu $m\\times n$ a nech $p$ je prvok (skalár) z poľa $\\mathbb{F}$. Potom platia tieto vzťahy: \n",
    "\n",
    "a) $\\boldsymbol{\\mathrm{A}}(\\boldsymbol{\\mathrm{B}}\\boldsymbol{\\mathrm{C}})=(\\boldsymbol{\\mathrm{A}}\\boldsymbol{\\mathrm{B}})\\boldsymbol{\\mathrm{C}}$;\n",
    "\n",
    "b) $A(\\boldsymbol{\\mathrm{B}}+\\boldsymbol{\\mathrm{C}})=\\boldsymbol{\\mathrm{A}}\\boldsymbol{\\mathrm{B}}+\\boldsymbol{\\mathrm{A}}\\boldsymbol{\\mathrm{C}}$;\n",
    "\n",
    "c) $(\\boldsymbol{\\mathrm{B}}+\\boldsymbol{\\mathrm{C}})\\boldsymbol{\\mathrm{A}}=\\boldsymbol{\\mathrm{B}}\\boldsymbol{\\mathrm{A}}+\\boldsymbol{\\mathrm{C}}\\boldsymbol{\\mathrm{A}}$;\n",
    "\n",
    "d) $p(\\boldsymbol{\\mathrm{A}}\\boldsymbol{\\mathrm{B}})=(p\\boldsymbol{\\mathrm{A}})\\boldsymbol{\\mathrm{B}}=\\boldsymbol{\\mathrm{A}}(p\\boldsymbol{\\mathrm{B}})$;\n",
    "\n",
    "e) $\\boldsymbol{\\mathrm{I}}_m\\boldsymbol{\\mathrm{A}}=\\boldsymbol{\\mathrm{A}}=\\boldsymbol{\\mathrm{A}}\\boldsymbol{\\mathrm{I}}_n$, ak $m=n$ tak $\\boldsymbol{\\mathrm{I}}_n\\boldsymbol{\\mathrm{A}}=\\boldsymbol{\\mathrm{A}}=\\boldsymbol{\\mathrm{A}}\\boldsymbol{\\mathrm{I}}_n$.\n",
    "\n",
    "---"
   ]
  },
  {
   "cell_type": "markdown",
   "metadata": {},
   "source": [
    "<font color=orange> Vzťahy a) - e) z predošlého tvrdenia ilustrujte na konrétnych príkladoch v Sage.  </font>"
   ]
  },
  {
   "cell_type": "code",
   "execution_count": null,
   "metadata": {},
   "outputs": [],
   "source": []
  },
  {
   "cell_type": "markdown",
   "metadata": {},
   "source": [
    "Pozrime sa ešte na nejaké vlastnosti násobenia matíc, o ktorých by sme sa mohli mylne domnievať, že platia, no opak je pravdou a upozorňujú nás na to, že pri narábaní s maticami by sme mali byť opatrní.  "
   ]
  },
  {
   "cell_type": "code",
   "execution_count": 11,
   "metadata": {},
   "outputs": [
    {
     "data": {
      "text/html": [
       "<html><script type=\"math/tex; mode=display\">\\newcommand{\\Bold}[1]{\\mathbf{#1}}\\left(\\begin{array}{rr}\n",
       "5 & 1 \\\\\n",
       "3 & -2\n",
       "\\end{array}\\right) \\left(\\begin{array}{rr}\n",
       "2 & 0 \\\\\n",
       "4 & 3\n",
       "\\end{array}\\right) \\left(\\begin{array}{rr}\n",
       "14 & 3 \\\\\n",
       "-2 & -6\n",
       "\\end{array}\\right) \\left(\\begin{array}{rr}\n",
       "10 & 2 \\\\\n",
       "29 & -2\n",
       "\\end{array}\\right)</script></html>"
      ],
      "text/plain": [
       "[ 5  1]\n",
       "[ 3 -2] [2 0]\n",
       "[4 3] [14  3]\n",
       "[-2 -6] [10  2]\n",
       "[29 -2]"
      ]
     },
     "metadata": {},
     "output_type": "display_data"
    }
   ],
   "source": [
    "A = matrix(2,2,[5,1,3,-2])\n",
    "B = matrix(2,2,[2,0,4,3])\n",
    "show(A,B,A*B,B*A)"
   ]
  },
  {
   "cell_type": "code",
   "execution_count": 12,
   "metadata": {},
   "outputs": [
    {
     "data": {
      "text/html": [
       "<html><script type=\"math/tex; mode=display\">\\newcommand{\\Bold}[1]{\\mathbf{#1}}\\left(\\begin{array}{rr}\n",
       "3 & -6 \\\\\n",
       "-1 & 2\n",
       "\\end{array}\\right) \\left(\\begin{array}{rr}\n",
       "-1 & 1 \\\\\n",
       "3 & 4\n",
       "\\end{array}\\right) \\left(\\begin{array}{rr}\n",
       "-3 & -5 \\\\\n",
       "2 & 1\n",
       "\\end{array}\\right) \\left(\\begin{array}{rr}\n",
       "-21 & -21 \\\\\n",
       "7 & 7\n",
       "\\end{array}\\right) \\left(\\begin{array}{rr}\n",
       "-21 & -21 \\\\\n",
       "7 & 7\n",
       "\\end{array}\\right)</script></html>"
      ],
      "text/plain": [
       "[ 3 -6]\n",
       "[-1  2] [-1  1]\n",
       "[ 3  4] [-3 -5]\n",
       "[ 2  1] [-21 -21]\n",
       "[  7   7] [-21 -21]\n",
       "[  7   7]"
      ]
     },
     "metadata": {},
     "output_type": "display_data"
    }
   ],
   "source": [
    "A = matrix(2,2,[3,-6,-1,2])\n",
    "B = matrix(2,2,[-1,1,3,4])\n",
    "C = matrix(2,2,[-3,-5,2,1])\n",
    "show(A,B,C,A*B,A*C)"
   ]
  },
  {
   "cell_type": "code",
   "execution_count": 13,
   "metadata": {},
   "outputs": [
    {
     "data": {
      "text/html": [
       "<html><script type=\"math/tex; mode=display\">\\newcommand{\\Bold}[1]{\\mathbf{#1}}\\left(\\begin{array}{rr}\n",
       "3 & -6 \\\\\n",
       "-1 & 2\n",
       "\\end{array}\\right) \\left(\\begin{array}{rr}\n",
       "2 & 6 \\\\\n",
       "1 & 3\n",
       "\\end{array}\\right) \\left(\\begin{array}{rr}\n",
       "0 & 0 \\\\\n",
       "0 & 0\n",
       "\\end{array}\\right)</script></html>"
      ],
      "text/plain": [
       "[ 3 -6]\n",
       "[-1  2] [2 6]\n",
       "[1 3] [0 0]\n",
       "[0 0]"
      ]
     },
     "metadata": {},
     "output_type": "display_data"
    }
   ],
   "source": [
    "A = matrix(2,2,[3,-6,-1,2])\n",
    "B = matrix(2,2,[2,6,1,3])\n",
    "show(A,B,A*B)"
   ]
  },
  {
   "cell_type": "markdown",
   "metadata": {},
   "source": [
    "---\n",
    "\n",
    "#### Poznámka 4 \n",
    "\n",
    "* **Násobenie matíc nie je komutatívne**, tzn. vo všeobecnosti neplatí $\\boldsymbol{\\mathrm{A}}\\boldsymbol{\\mathrm{B}}=\\boldsymbol{\\mathrm{B}}\\boldsymbol{\\mathrm{A}}$ a to dokonca aj v prípade, že sú oba súčiny definované. \n",
    "\n",
    "\n",
    "* **Vo všeobecnosti nie je možné matice \"vykrátiť\"**, tzn. ak platí $\\boldsymbol{\\mathrm{A}}\\boldsymbol{\\mathrm{B}}=\\boldsymbol{\\mathrm{A}}\\boldsymbol{\\mathrm{C}}$ potom ešte nemusí nutne platiť $\\boldsymbol{\\mathrm{B}}=\\boldsymbol{\\mathrm{C}}$. \n",
    "\n",
    "\n",
    "* Ak je súčin $\\boldsymbol{\\mathrm{A}}\\boldsymbol{\\mathrm{B}}$ rovný nulovej matici, t.j. $\\boldsymbol{\\mathrm{A}}\\boldsymbol{\\mathrm{B}}=\\boldsymbol{\\mathrm{0}}$ tak to **nemusí znamenať** že $\\boldsymbol{\\mathrm{A}}=\\boldsymbol{\\mathrm{0}}$ alebo $\\boldsymbol{\\mathrm{B}}=\\boldsymbol{\\mathrm{0}}$, prípadne, že obe matice sú nulové. Môže sa kľudne stať (viď príklad pred touto poznámkou), ze súčin matíc je nulový, no obe matice sú nenulové. \n",
    "\n",
    "---"
   ]
  },
  {
   "cell_type": "markdown",
   "metadata": {},
   "source": [
    "Na nasledujúcich príkladoch si všimnime niekoľko vlastností, ktoré dávajú do súvisu transponovanú maticu so súčtom a súčinom matíc. "
   ]
  },
  {
   "cell_type": "code",
   "execution_count": 12,
   "metadata": {},
   "outputs": [
    {
     "data": {
      "text/html": [
       "<html><script type=\"math/tex; mode=display\">\\newcommand{\\Bold}[1]{\\mathbf{#1}}\\left(\\begin{array}{rr}\n",
       "a & b \\\\\n",
       "c & d\n",
       "\\end{array}\\right) \\left(\\begin{array}{rr}\n",
       "a & c \\\\\n",
       "b & d\n",
       "\\end{array}\\right) \\left(\\begin{array}{rr}\n",
       "-5 & 2 \\\\\n",
       "1 & -3 \\\\\n",
       "0 & 4\n",
       "\\end{array}\\right) \\left(\\begin{array}{rrr}\n",
       "-5 & 1 & 0 \\\\\n",
       "2 & -3 & 4\n",
       "\\end{array}\\right) \\left(\\begin{array}{rrrr}\n",
       "1 & 1 & 1 & 1 \\\\\n",
       "-3 & 5 & -2 & 7\n",
       "\\end{array}\\right) \\left(\\begin{array}{rr}\n",
       "1 & -3 \\\\\n",
       "1 & 5 \\\\\n",
       "1 & -2 \\\\\n",
       "1 & 7\n",
       "\\end{array}\\right) \\left(\\begin{array}{rr}\n",
       "1 & 2 \\\\\n",
       "3 & 4\n",
       "\\end{array}\\right) \\left(\\begin{array}{rr}\n",
       "1 & 3 \\\\\n",
       "2 & 4\n",
       "\\end{array}\\right)</script></html>"
      ],
      "text/plain": [
       "[a b]\n",
       "[c d] [a c]\n",
       "[b d] [-5  2]\n",
       "[ 1 -3]\n",
       "[ 0  4] [-5  1  0]\n",
       "[ 2 -3  4] [ 1  1  1  1]\n",
       "[-3  5 -2  7] [ 1 -3]\n",
       "[ 1  5]\n",
       "[ 1 -2]\n",
       "[ 1  7] [1 2]\n",
       "[3 4] [1 3]\n",
       "[2 4]"
      ]
     },
     "metadata": {},
     "output_type": "display_data"
    }
   ],
   "source": [
    "# vypis matic a ich transpozicii (transponovanych matic)\n",
    "a,b,c,d = var('a,b,c,d')\n",
    "A = matrix(2,2,[a,b,c,d])\n",
    "B = matrix(3,2,[-5,2,1,-3,0,4])\n",
    "C = matrix(2,4,[1,1,1,1,-3,5,-2,7])\n",
    "D = matrix(2,2,[1,2,3,4])\n",
    "show(A,A.T,B,B.T,C,C.T,D,D.T)"
   ]
  },
  {
   "cell_type": "code",
   "execution_count": 5,
   "metadata": {},
   "outputs": [
    {
     "data": {
      "text/html": [
       "<html><script type=\"math/tex; mode=display\">\\newcommand{\\Bold}[1]{\\mathbf{#1}}\\left(\\begin{array}{rr}\n",
       "a & b \\\\\n",
       "c & d\n",
       "\\end{array}\\right) \\left(\\begin{array}{rr}\n",
       "a & b \\\\\n",
       "c & d\n",
       "\\end{array}\\right)</script></html>"
      ],
      "text/plain": [
       "[a b]\n",
       "[c d] [a b]\n",
       "[c d]"
      ]
     },
     "metadata": {},
     "output_type": "display_data"
    }
   ],
   "source": [
    "show((A.T).T,A)"
   ]
  },
  {
   "cell_type": "code",
   "execution_count": 11,
   "metadata": {},
   "outputs": [
    {
     "data": {
      "text/html": [
       "<html><script type=\"math/tex; mode=display\">\\newcommand{\\Bold}[1]{\\mathbf{#1}}\\left(\\begin{array}{rr}\n",
       "a + 1 & c + 3 \\\\\n",
       "b + 2 & d + 4\n",
       "\\end{array}\\right) \\left(\\begin{array}{rr}\n",
       "a + 1 & c + 3 \\\\\n",
       "b + 2 & d + 4\n",
       "\\end{array}\\right)</script></html>"
      ],
      "text/plain": [
       "[a + 1 c + 3]\n",
       "[b + 2 d + 4] [a + 1 c + 3]\n",
       "[b + 2 d + 4]"
      ]
     },
     "metadata": {},
     "output_type": "display_data"
    }
   ],
   "source": [
    "show((A+D).T,A.T+D.T)"
   ]
  },
  {
   "cell_type": "code",
   "execution_count": 13,
   "metadata": {},
   "outputs": [
    {
     "data": {
      "text/html": [
       "<html><script type=\"math/tex; mode=display\">\\newcommand{\\Bold}[1]{\\mathbf{#1}}\\left(\\begin{array}{rr}\n",
       "5 \\, a & 5 \\, c \\\\\n",
       "5 \\, b & 5 \\, d\n",
       "\\end{array}\\right) \\left(\\begin{array}{rr}\n",
       "5 \\, a & 5 \\, c \\\\\n",
       "5 \\, b & 5 \\, d\n",
       "\\end{array}\\right)</script></html>"
      ],
      "text/plain": [
       "[5*a 5*c]\n",
       "[5*b 5*d] [5*a 5*c]\n",
       "[5*b 5*d]"
      ]
     },
     "metadata": {},
     "output_type": "display_data"
    }
   ],
   "source": [
    "p = 5\n",
    "show((p*A).T,5*A.T)"
   ]
  },
  {
   "cell_type": "code",
   "execution_count": 14,
   "metadata": {},
   "outputs": [
    {
     "data": {
      "text/html": [
       "<html><script type=\"math/tex; mode=display\">\\newcommand{\\Bold}[1]{\\mathbf{#1}}\\left(\\begin{array}{rr}\n",
       "a + 3 \\, b & c + 3 \\, d \\\\\n",
       "2 \\, a + 4 \\, b & 2 \\, c + 4 \\, d\n",
       "\\end{array}\\right) \\left(\\begin{array}{rr}\n",
       "a + 3 \\, b & c + 3 \\, d \\\\\n",
       "2 \\, a + 4 \\, b & 2 \\, c + 4 \\, d\n",
       "\\end{array}\\right)</script></html>"
      ],
      "text/plain": [
       "[  a + 3*b   c + 3*d]\n",
       "[2*a + 4*b 2*c + 4*d] [  a + 3*b   c + 3*d]\n",
       "[2*a + 4*b 2*c + 4*d]"
      ]
     },
     "metadata": {},
     "output_type": "display_data"
    }
   ],
   "source": [
    "show((A*D).T,D.T*A.T)"
   ]
  },
  {
   "cell_type": "markdown",
   "metadata": {},
   "source": [
    "Tieto ilustračné príklady nás vedú k Tvrdeniu 3. "
   ]
  },
  {
   "cell_type": "markdown",
   "metadata": {},
   "source": [
    "---\n",
    "\n",
    "#### <font color=green> Tvrdenie 3 </font>\n",
    "\n",
    "Nech $\\boldsymbol{\\mathrm{A}}$, $\\boldsymbol{\\mathrm{B}}$ sú matice nad poľom $\\mathbb{F}$ vhodných rozmerov tak, aby ich súčiny a súčty boli definované a $p$ nech je prvok z poľa $\\mathbb{F}$. Potom platia tieto vzťahy: \n",
    "\n",
    "a) $\\left(\\boldsymbol{\\mathrm{A}}^{T}\\right)^{T}=\\boldsymbol{\\mathrm{A}}$; \n",
    "\n",
    "b) $\\left(\\boldsymbol{\\mathrm{A}}+\\boldsymbol{\\mathrm{B}}\\right)^{T}=\\boldsymbol{\\mathrm{A}}^{T}+\\boldsymbol{\\mathrm{B}}^{T}$;\n",
    "\n",
    "c) $\\left(p\\boldsymbol{\\mathrm{A}}\\right)^{T}=p\\boldsymbol{\\mathrm{A}}^{T}$;\n",
    "\n",
    "d) $\\left(\\boldsymbol{\\mathrm{A}}\\boldsymbol{\\mathrm{B}}\\right)^{T}=\\boldsymbol{\\mathrm{B}}^{T}\\boldsymbol{\\mathrm{A}}^{T}$.\n",
    "\n",
    "---"
   ]
  },
  {
   "cell_type": "markdown",
   "metadata": {},
   "source": [
    "S tzv. inverzným prvkom resp. prevrátenou hodnotou (vzľadom na násobenie) sme sa stretli pri zvyškových triedach a poznáme to aj z reálnych čísel, kde napr. $5^{-1}=\\dfrac{1}{5}$ je inverzným prvkom k číslu $5$ lebo platí $5\\cdot5^{-1}=1$ a tiež $5^{-1}\\cdot5=1$ (prvok krát inverzný prvok je jednotkový prvok). Keďže sme už videli, že **s maticami je možné robiť podobné (aritmetické) operácie (s určitými výnimkami) ako s reálnymi číslami či zvyškovými triedami, tak by nás nemalo prekvapiť, že aj pri maticiach má zmysel uvažovať o inverznom prvku (vzľadom na násobenie) a budeme ho nazývať _inverzná matica_. Ako jednotkový prvok pri maticiach budeme brať do úvahy maticu $\\boldsymbol{\\mathrm{I}}_n$**, k čomu dáva odpostatnenie Tvrdenie 2 časť e). Skôr  než vyslovíme formálnu definíciu inverznej matice, ukážme si príklad. "
   ]
  },
  {
   "cell_type": "code",
   "execution_count": 1,
   "metadata": {},
   "outputs": [
    {
     "data": {
      "text/html": [
       "<html><script type=\"math/tex; mode=display\">\\newcommand{\\Bold}[1]{\\mathbf{#1}}\\left(\\begin{array}{rr}\n",
       "2 & 5 \\\\\n",
       "-3 & -7\n",
       "\\end{array}\\right) \\left(\\begin{array}{rr}\n",
       "-7 & -5 \\\\\n",
       "3 & 2\n",
       "\\end{array}\\right) \\left(\\begin{array}{rr}\n",
       "1 & 0 \\\\\n",
       "0 & 1\n",
       "\\end{array}\\right) \\left(\\begin{array}{rr}\n",
       "1 & 0 \\\\\n",
       "0 & 1\n",
       "\\end{array}\\right)</script></html>"
      ],
      "text/plain": [
       "[ 2  5]\n",
       "[-3 -7] [-7 -5]\n",
       "[ 3  2] [1 0]\n",
       "[0 1] [1 0]\n",
       "[0 1]"
      ]
     },
     "metadata": {},
     "output_type": "display_data"
    }
   ],
   "source": [
    "# vsimnime si suciny A*B a B*A\n",
    "A = matrix(2,2,[2,5,-3,-7])\n",
    "B = matrix(2,2,[-7,-5,3,2]) \n",
    "show(A,B,A*B,B*A)"
   ]
  },
  {
   "cell_type": "markdown",
   "metadata": {},
   "source": [
    "Už vieme, že s kongruenciami je možné narábať podobne ako s rovnicami. Spomeňme si, ako sme riešili niektoré kongruencie použitím finty resp. využitím inverzného prvku (zvyškovej triedy). Podobne je to pri maticových rovniciach, aj tu by sa žiadalo aplikovať analogickú fintu. **Inverzná matica nám pomôže také maticové  rovnice vyriešiť.** Predstavme si, že potrebujeme vyriešiť maticovú rovnicu v tvare \n",
    "\n",
    "$$\\boldsymbol{\\mathrm{A}}\\boldsymbol{\\mathrm{X}}=\\boldsymbol{\\mathrm{C}},$$\n",
    "\n",
    "kde napr. \n",
    "\n",
    "$$\\boldsymbol{\\mathrm{A}}=\n",
    "\\begin{pmatrix}\n",
    "1 & -4 \\\\\n",
    "2 & -7\n",
    "\\end{pmatrix}, \\quad \n",
    "\\boldsymbol{\\mathrm{X}}=\n",
    "\\begin{pmatrix}\n",
    "x_{11} & x_{12} \\\\\n",
    "x_{21} & x_{22}\n",
    "\\end{pmatrix}, \\quad\n",
    "\\boldsymbol{\\mathrm{C}}=\n",
    "\\begin{pmatrix}\n",
    "-1 & 2 \\\\\n",
    "3 & -5\n",
    "\\end{pmatrix}.\n",
    "$$ \n",
    "\n",
    "Cieľom je teda nájsť neznáme prvky matice $\\boldsymbol{\\mathrm{X}}$. Ak by sme vedeli nájsť maticu napr. $\\boldsymbol{\\mathrm{B}}$ takú, že $\\boldsymbol{\\mathrm{B}}\\boldsymbol{\\mathrm{A}}=\\boldsymbol{\\mathrm{I}}$, tak máme vyhraté lebo po vynásobení oboch strán rovnice by platilo \n",
    "\n",
    "$$\\boldsymbol{\\mathrm{B}}\\boldsymbol{\\mathrm{A}}\\boldsymbol{\\mathrm{X}}=\\boldsymbol{\\mathrm{B}}\\boldsymbol{\\mathrm{C}},$$ \n",
    "\n",
    "$$\\boldsymbol{\\mathrm{I}}\\boldsymbol{\\mathrm{X}}=\\boldsymbol{\\mathrm{B}}\\boldsymbol{\\mathrm{C}},$$ \n",
    "\n",
    "$$\\boldsymbol{\\mathrm{X}}=\\boldsymbol{\\mathrm{B}}\\boldsymbol{\\mathrm{C}}$$. \n",
    "\n",
    "Riešenie naozaj existuje. Ak zvolíme $\\boldsymbol{\\mathrm{B}}=\\left(\\begin{array}{rr}\n",
    "\\frac{7}{15} & \\frac{4}{15} \\\\\n",
    "-\\frac{2}{15} & \\frac{1}{15}\n",
    "\\end{array}\\right)$\n",
    "\n",
    "tak dostaneme \n",
    "\n",
    "$$\\boldsymbol{\\mathrm{X}}=\\left(\\begin{array}{rr}\n",
    "\\frac{1}{3} & -\\frac{2}{5} \\\\\n",
    "\\frac{1}{3} & -\\frac{3}{5}\n",
    "\\end{array}\\right).$$"
   ]
  },
  {
   "cell_type": "code",
   "execution_count": 37,
   "metadata": {},
   "outputs": [
    {
     "data": {
      "text/html": [
       "<html><script type=\"math/tex; mode=display\">\\newcommand{\\Bold}[1]{\\mathbf{#1}}\\left(\\begin{array}{rr}\n",
       "\\frac{1}{3} & -\\frac{2}{5} \\\\\n",
       "\\frac{1}{3} & -\\frac{3}{5}\n",
       "\\end{array}\\right)</script></html>"
      ],
      "text/plain": [
       "[ 1/3 -2/5]\n",
       "[ 1/3 -3/5]"
      ]
     },
     "metadata": {},
     "output_type": "display_data"
    }
   ],
   "source": [
    "A = matrix(2,2,[1,-4,2,7])\n",
    "C = matrix(2,2,[-1,2,3,-5])\n",
    "# inverse() najde inverznu maticu k danej matici\n",
    "B = A.inverse()\n",
    "X = B*C\n",
    "show(X)"
   ]
  },
  {
   "cell_type": "code",
   "execution_count": 38,
   "metadata": {},
   "outputs": [
    {
     "data": {
      "text/html": [
       "<html><script type=\"math/tex; mode=display\">\\newcommand{\\Bold}[1]{\\mathbf{#1}}\\left(\\begin{array}{rr}\n",
       "-1 & 2 \\\\\n",
       "3 & -5\n",
       "\\end{array}\\right) \\left(\\begin{array}{rr}\n",
       "-1 & 2 \\\\\n",
       "3 & -5\n",
       "\\end{array}\\right)</script></html>"
      ],
      "text/plain": [
       "[-1  2]\n",
       "[ 3 -5] [-1  2]\n",
       "[ 3 -5]"
      ]
     },
     "metadata": {},
     "output_type": "display_data"
    }
   ],
   "source": [
    "# skuska spravnosti riesenia\n",
    "show(A*X,C)"
   ]
  },
  {
   "cell_type": "markdown",
   "metadata": {},
   "source": [
    "---\n",
    "\n",
    "### <font color=red> Definícia 6 </font> \n",
    "\n",
    "Štvorcová matica $\\boldsymbol{\\mathrm{B}}$ rádu $n$ sa nazýva **_inverzná matica_** k štvorcovej matici $\\boldsymbol{\\mathrm{A}}$ rádu $n$ ak spĺňa \n",
    "\n",
    "$$\\boldsymbol{\\mathrm{A}}\\cdot\\boldsymbol{\\mathrm{B}}=\\boldsymbol{\\mathrm{B}}\\cdot\\boldsymbol{\\mathrm{A}}=\\boldsymbol{\\mathrm{I}}_n.$$ \n",
    "\n",
    "Inverznú maticu označujeme $\\boldsymbol{\\mathrm{A}}^{-1}$. Matica, ku ktorej existuje inverzná matica sa nazýva **_invertovateľná_** resp. **_regulárna_**. Matica, ktorá nie je invertovateľná sa nazýva **_singulárna_**.\n",
    "\n",
    "---"
   ]
  },
  {
   "cell_type": "code",
   "execution_count": 31,
   "metadata": {},
   "outputs": [
    {
     "data": {
      "text/html": [
       "<html><script type=\"math/tex; mode=display\">\\newcommand{\\Bold}[1]{\\mathbf{#1}}\\left(\\begin{array}{rrr}\n",
       "5 & 9 & -1 \\\\\n",
       "5 & 7 & -1 \\\\\n",
       "5 & -3 & -1\n",
       "\\end{array}\\right)</script></html>"
      ],
      "text/plain": [
       "[ 5  9 -1]\n",
       "[ 5  7 -1]\n",
       "[ 5 -3 -1]"
      ]
     },
     "metadata": {},
     "output_type": "display_data"
    },
    {
     "ename": "ZeroDivisionError",
     "evalue": "matrix must be nonsingular",
     "output_type": "error",
     "traceback": [
      "\u001b[0;31m---------------------------------------------------------------------------\u001b[0m",
      "\u001b[0;31mZeroDivisionError\u001b[0m                         Traceback (most recent call last)",
      "\u001b[0;32m<ipython-input-31-08f93f4d1355>\u001b[0m in \u001b[0;36m<module>\u001b[0;34m()\u001b[0m\n\u001b[1;32m      1\u001b[0m \u001b[0;31m# priklad singularnej matice\u001b[0m\u001b[0;34m\u001b[0m\u001b[0;34m\u001b[0m\u001b[0;34m\u001b[0m\u001b[0m\n\u001b[1;32m      2\u001b[0m \u001b[0mD\u001b[0m \u001b[0;34m=\u001b[0m \u001b[0mmatrix\u001b[0m\u001b[0;34m(\u001b[0m\u001b[0mInteger\u001b[0m\u001b[0;34m(\u001b[0m\u001b[0;36m3\u001b[0m\u001b[0;34m)\u001b[0m\u001b[0;34m,\u001b[0m\u001b[0mInteger\u001b[0m\u001b[0;34m(\u001b[0m\u001b[0;36m3\u001b[0m\u001b[0;34m)\u001b[0m\u001b[0;34m,\u001b[0m\u001b[0;34m[\u001b[0m\u001b[0mInteger\u001b[0m\u001b[0;34m(\u001b[0m\u001b[0;36m5\u001b[0m\u001b[0;34m)\u001b[0m\u001b[0;34m,\u001b[0m\u001b[0mInteger\u001b[0m\u001b[0;34m(\u001b[0m\u001b[0;36m9\u001b[0m\u001b[0;34m)\u001b[0m\u001b[0;34m,\u001b[0m\u001b[0;34m-\u001b[0m\u001b[0mInteger\u001b[0m\u001b[0;34m(\u001b[0m\u001b[0;36m1\u001b[0m\u001b[0;34m)\u001b[0m\u001b[0;34m,\u001b[0m\u001b[0mInteger\u001b[0m\u001b[0;34m(\u001b[0m\u001b[0;36m5\u001b[0m\u001b[0;34m)\u001b[0m\u001b[0;34m,\u001b[0m\u001b[0mInteger\u001b[0m\u001b[0;34m(\u001b[0m\u001b[0;36m7\u001b[0m\u001b[0;34m)\u001b[0m\u001b[0;34m,\u001b[0m\u001b[0;34m-\u001b[0m\u001b[0mInteger\u001b[0m\u001b[0;34m(\u001b[0m\u001b[0;36m1\u001b[0m\u001b[0;34m)\u001b[0m\u001b[0;34m,\u001b[0m\u001b[0mInteger\u001b[0m\u001b[0;34m(\u001b[0m\u001b[0;36m5\u001b[0m\u001b[0;34m)\u001b[0m\u001b[0;34m,\u001b[0m\u001b[0;34m-\u001b[0m\u001b[0mInteger\u001b[0m\u001b[0;34m(\u001b[0m\u001b[0;36m3\u001b[0m\u001b[0;34m)\u001b[0m\u001b[0;34m,\u001b[0m\u001b[0;34m-\u001b[0m\u001b[0mInteger\u001b[0m\u001b[0;34m(\u001b[0m\u001b[0;36m1\u001b[0m\u001b[0;34m)\u001b[0m\u001b[0;34m]\u001b[0m\u001b[0;34m)\u001b[0m\u001b[0;34m\u001b[0m\u001b[0;34m\u001b[0m\u001b[0m\n\u001b[0;32m----> 3\u001b[0;31m \u001b[0mshow\u001b[0m\u001b[0;34m(\u001b[0m\u001b[0mD\u001b[0m\u001b[0;34m)\u001b[0m\u001b[0;34m,\u001b[0m\u001b[0mshow\u001b[0m\u001b[0;34m(\u001b[0m\u001b[0mD\u001b[0m\u001b[0;34m**\u001b[0m\u001b[0;34m(\u001b[0m\u001b[0;34m-\u001b[0m\u001b[0mInteger\u001b[0m\u001b[0;34m(\u001b[0m\u001b[0;36m1\u001b[0m\u001b[0;34m)\u001b[0m\u001b[0;34m)\u001b[0m\u001b[0;34m)\u001b[0m\u001b[0;34m\u001b[0m\u001b[0;34m\u001b[0m\u001b[0m\n\u001b[0m",
      "\u001b[0;32m/opt/sagemath-9.0/local/lib/python3.7/site-packages/sage/matrix/matrix_integer_dense.pyx\u001b[0m in \u001b[0;36msage.matrix.matrix_integer_dense.Matrix_integer_dense.__pow__ (build/cythonized/sage/matrix/matrix_integer_dense.c:10881)\u001b[0;34m()\u001b[0m\n\u001b[1;32m    937\u001b[0m                         \u001b[0;32mraise\u001b[0m \u001b[0mNotImplementedError\u001b[0m\u001b[0;34m(\u001b[0m\u001b[0;34m\"the given exponent is not supported\"\u001b[0m\u001b[0;34m)\u001b[0m\u001b[0;34m\u001b[0m\u001b[0;34m\u001b[0m\u001b[0m\n\u001b[1;32m    938\u001b[0m             \u001b[0;32mif\u001b[0m \u001b[0mmpz_sgn\u001b[0m\u001b[0;34m(\u001b[0m\u001b[0;34m(\u001b[0m\u001b[0;34m<\u001b[0m\u001b[0mInteger\u001b[0m\u001b[0;34m>\u001b[0m\u001b[0mn\u001b[0m\u001b[0;34m)\u001b[0m\u001b[0;34m.\u001b[0m\u001b[0mvalue\u001b[0m\u001b[0;34m)\u001b[0m \u001b[0;34m<\u001b[0m \u001b[0;36m0\u001b[0m\u001b[0;34m:\u001b[0m\u001b[0;34m\u001b[0m\u001b[0;34m\u001b[0m\u001b[0m\n\u001b[0;32m--> 939\u001b[0;31m                 \u001b[0;32mreturn\u001b[0m \u001b[0;34m(\u001b[0m\u001b[0;34m~\u001b[0m\u001b[0mself\u001b[0m\u001b[0;34m)\u001b[0m \u001b[0;34m**\u001b[0m \u001b[0;34m(\u001b[0m\u001b[0;34m-\u001b[0m\u001b[0mn\u001b[0m\u001b[0;34m)\u001b[0m\u001b[0;34m\u001b[0m\u001b[0;34m\u001b[0m\u001b[0m\n\u001b[0m\u001b[1;32m    940\u001b[0m \u001b[0;34m\u001b[0m\u001b[0m\n\u001b[1;32m    941\u001b[0m             \u001b[0;32mif\u001b[0m \u001b[0mmpz_fits_ulong_p\u001b[0m\u001b[0;34m(\u001b[0m\u001b[0;34m(\u001b[0m\u001b[0;34m<\u001b[0m\u001b[0mInteger\u001b[0m\u001b[0;34m>\u001b[0m\u001b[0mn\u001b[0m\u001b[0;34m)\u001b[0m\u001b[0;34m.\u001b[0m\u001b[0mvalue\u001b[0m\u001b[0;34m)\u001b[0m\u001b[0;34m:\u001b[0m\u001b[0;34m\u001b[0m\u001b[0;34m\u001b[0m\u001b[0m\n",
      "\u001b[0;32m/opt/sagemath-9.0/local/lib/python3.7/site-packages/sage/matrix/matrix_integer_dense.pyx\u001b[0m in \u001b[0;36msage.matrix.matrix_integer_dense.Matrix_integer_dense.__invert__ (build/cythonized/sage/matrix/matrix_integer_dense.c:33271)\u001b[0;34m()\u001b[0m\n\u001b[1;32m   4105\u001b[0m             \u001b[0mZeroDivisionError\u001b[0m\u001b[0;34m:\u001b[0m \u001b[0mmatrix\u001b[0m \u001b[0mmust\u001b[0m \u001b[0mbe\u001b[0m \u001b[0mnonsingular\u001b[0m\u001b[0;34m\u001b[0m\u001b[0;34m\u001b[0m\u001b[0m\n\u001b[1;32m   4106\u001b[0m         \"\"\"\n\u001b[0;32m-> 4107\u001b[0;31m         \u001b[0mA\u001b[0m\u001b[0;34m,\u001b[0m \u001b[0md\u001b[0m \u001b[0;34m=\u001b[0m \u001b[0mself\u001b[0m\u001b[0;34m.\u001b[0m\u001b[0m_invert_flint\u001b[0m\u001b[0;34m(\u001b[0m\u001b[0;34m)\u001b[0m\u001b[0;34m\u001b[0m\u001b[0;34m\u001b[0m\u001b[0m\n\u001b[0m\u001b[1;32m   4108\u001b[0m         \u001b[0;32mreturn\u001b[0m \u001b[0mA\u001b[0m \u001b[0;34m/\u001b[0m \u001b[0md\u001b[0m\u001b[0;34m\u001b[0m\u001b[0;34m\u001b[0m\u001b[0m\n\u001b[1;32m   4109\u001b[0m \u001b[0;34m\u001b[0m\u001b[0m\n",
      "\u001b[0;32m/opt/sagemath-9.0/local/lib/python3.7/site-packages/sage/matrix/matrix_integer_dense.pyx\u001b[0m in \u001b[0;36msage.matrix.matrix_integer_dense.Matrix_integer_dense._invert_flint (build/cythonized/sage/matrix/matrix_integer_dense.c:33110)\u001b[0;34m()\u001b[0m\n\u001b[1;32m   4066\u001b[0m         \u001b[0mfmpz_clear\u001b[0m\u001b[0;34m(\u001b[0m\u001b[0mfden\u001b[0m\u001b[0;34m)\u001b[0m\u001b[0;34m\u001b[0m\u001b[0;34m\u001b[0m\u001b[0m\n\u001b[1;32m   4067\u001b[0m         \u001b[0;32mif\u001b[0m \u001b[0mres\u001b[0m \u001b[0;34m==\u001b[0m \u001b[0;36m0\u001b[0m\u001b[0;34m:\u001b[0m\u001b[0;34m\u001b[0m\u001b[0;34m\u001b[0m\u001b[0m\n\u001b[0;32m-> 4068\u001b[0;31m             \u001b[0;32mraise\u001b[0m \u001b[0mZeroDivisionError\u001b[0m\u001b[0;34m(\u001b[0m\u001b[0;34m'matrix must be nonsingular'\u001b[0m\u001b[0;34m)\u001b[0m\u001b[0;34m\u001b[0m\u001b[0;34m\u001b[0m\u001b[0m\n\u001b[0m\u001b[1;32m   4069\u001b[0m         \u001b[0;32mif\u001b[0m \u001b[0mden\u001b[0m \u001b[0;34m<\u001b[0m \u001b[0;36m0\u001b[0m\u001b[0;34m:\u001b[0m\u001b[0;34m\u001b[0m\u001b[0;34m\u001b[0m\u001b[0m\n\u001b[1;32m   4070\u001b[0m             \u001b[0;32mreturn\u001b[0m \u001b[0;34m-\u001b[0m\u001b[0mM\u001b[0m\u001b[0;34m,\u001b[0m \u001b[0;34m-\u001b[0m\u001b[0mden\u001b[0m\u001b[0;34m\u001b[0m\u001b[0;34m\u001b[0m\u001b[0m\n",
      "\u001b[0;31mZeroDivisionError\u001b[0m: matrix must be nonsingular"
     ]
    }
   ],
   "source": [
    "# priklad singularnej matice \n",
    "D = matrix(3,3,[5,9,-1,5,7,-1,5,-3,-1])\n",
    "show(D),show(D^(-1))"
   ]
  },
  {
   "cell_type": "markdown",
   "metadata": {},
   "source": [
    "Ďalšie tri príklady ilustrujú základné vlastnosti inverzie matice a formálne sú zhrnuté v Tvrdení 4.  "
   ]
  },
  {
   "cell_type": "code",
   "execution_count": 2,
   "metadata": {},
   "outputs": [
    {
     "data": {
      "text/html": [
       "<html><script type=\"math/tex; mode=display\">\\newcommand{\\Bold}[1]{\\mathbf{#1}}\\left(\\begin{array}{rr}\n",
       "2 & 5 \\\\\n",
       "-3 & -7\n",
       "\\end{array}\\right) \\left(\\begin{array}{rr}\n",
       "1 & 2 \\\\\n",
       "3 & 4\n",
       "\\end{array}\\right)</script></html>"
      ],
      "text/plain": [
       "[ 2  5]\n",
       "[-3 -7] [1 2]\n",
       "[3 4]"
      ]
     },
     "metadata": {},
     "output_type": "display_data"
    }
   ],
   "source": [
    "A = matrix(2,2,[2,5,-3,-7]) \n",
    "B = matrix(2,2,[1,2,3,4]) \n",
    "show(A,B)"
   ]
  },
  {
   "cell_type": "code",
   "execution_count": 3,
   "metadata": {},
   "outputs": [
    {
     "data": {
      "text/html": [
       "<html><script type=\"math/tex; mode=display\">\\newcommand{\\Bold}[1]{\\mathbf{#1}}\\left(\\begin{array}{rr}\n",
       "17 & 12 \\\\\n",
       "-12 & -\\frac{17}{2}\n",
       "\\end{array}\\right) \\left(\\begin{array}{rr}\n",
       "17 & 12 \\\\\n",
       "-12 & -\\frac{17}{2}\n",
       "\\end{array}\\right)</script></html>"
      ],
      "text/plain": [
       "[   17    12]\n",
       "[  -12 -17/2] [   17    12]\n",
       "[  -12 -17/2]"
      ]
     },
     "metadata": {},
     "output_type": "display_data"
    }
   ],
   "source": [
    "show((A*B)^(-1),B^(-1)*A^(-1))"
   ]
  },
  {
   "cell_type": "code",
   "execution_count": 4,
   "metadata": {},
   "outputs": [
    {
     "data": {
      "text/html": [
       "<html><script type=\"math/tex; mode=display\">\\newcommand{\\Bold}[1]{\\mathbf{#1}}\\left(\\begin{array}{rr}\n",
       "-7 & 3 \\\\\n",
       "-5 & 2\n",
       "\\end{array}\\right) \\left(\\begin{array}{rr}\n",
       "-7 & 3 \\\\\n",
       "-5 & 2\n",
       "\\end{array}\\right)</script></html>"
      ],
      "text/plain": [
       "[-7  3]\n",
       "[-5  2] [-7  3]\n",
       "[-5  2]"
      ]
     },
     "metadata": {},
     "output_type": "display_data"
    }
   ],
   "source": [
    "show((A.T)^(-1),(A^(-1)).T)"
   ]
  },
  {
   "cell_type": "markdown",
   "metadata": {},
   "source": [
    "---\n",
    "\n",
    "#### <font color=green> Tvrdenie 4 </font>\n",
    "\n",
    "a) Ak $\\boldsymbol{\\mathrm{A}}$ je invertovateľná matica, potom $\\boldsymbol{\\mathrm{A}}^{-1}$ je tiež invertovateľná a platí \n",
    "\n",
    "$$\\left(\\boldsymbol{\\mathrm{A}}^{-1}\\right)^{-1}=\\boldsymbol{\\mathrm{A}}.$$ \n",
    "\n",
    "b) Ak $\\boldsymbol{\\mathrm{A}}$, $\\boldsymbol{\\mathrm{B}}$ sú invertovateľné matice typu $n\\times n$ tak potom $\\boldsymbol{\\mathrm{A}}\\boldsymbol{\\mathrm{B}}$ je tiež invertovateľná matica typu $n\\times n$ a platí \n",
    "\n",
    "$$\\left(\\boldsymbol{\\mathrm{A}}\\boldsymbol{\\mathrm{B}}\\right)^{-1}=\\boldsymbol{\\mathrm{B}}^{-1}\\boldsymbol{\\mathrm{A}}^{-1}.$$\n",
    "\n",
    "c) Ak $\\boldsymbol{\\mathrm{A}}$ je invertovateľná matica, potom $\\boldsymbol{\\mathrm{A}}^{T}$ je tiež invertovateľná a platí \n",
    "\n",
    "$$\\left(\\boldsymbol{\\mathrm{A}}^{T}\\right)^{-1}=\\left(\\boldsymbol{\\mathrm{A}}^{-1}\\right)^{T}.$$\n",
    "\n",
    "---"
   ]
  },
  {
   "cell_type": "markdown",
   "metadata": {},
   "source": [
    "***\n",
    "<a id=determinanty></a>\n",
    " # <font color=brown> Determinanty</font>"
   ]
  },
  {
   "cell_type": "markdown",
   "metadata": {},
   "source": [
    "Pred tým, než zavedieme samotný pojem _determinantu matice_, povieme si niečo o permutáciách a ich znamienkach. To nám pomôže  dopracovať sa k definíci determinantu. \n",
    "\n",
    "Pripomeňme si, ako vyzerajú všetky **permutácie** napr. množiny $\\{1,2,3,4\\}$. "
   ]
  },
  {
   "cell_type": "code",
   "execution_count": 36,
   "metadata": {},
   "outputs": [
    {
     "data": {
      "text/plain": [
       "[[1, 2, 3, 4],\n",
       " [1, 2, 4, 3],\n",
       " [1, 3, 2, 4],\n",
       " [1, 3, 4, 2],\n",
       " [1, 4, 2, 3],\n",
       " [1, 4, 3, 2],\n",
       " [2, 1, 3, 4],\n",
       " [2, 1, 4, 3],\n",
       " [2, 3, 1, 4],\n",
       " [2, 3, 4, 1],\n",
       " [2, 4, 1, 3],\n",
       " [2, 4, 3, 1],\n",
       " [3, 1, 2, 4],\n",
       " [3, 1, 4, 2],\n",
       " [3, 2, 1, 4],\n",
       " [3, 2, 4, 1],\n",
       " [3, 4, 1, 2],\n",
       " [3, 4, 2, 1],\n",
       " [4, 1, 2, 3],\n",
       " [4, 1, 3, 2],\n",
       " [4, 2, 1, 3],\n",
       " [4, 2, 3, 1],\n",
       " [4, 3, 1, 2],\n",
       " [4, 3, 2, 1]]"
      ]
     },
     "execution_count": 36,
     "metadata": {},
     "output_type": "execute_result"
    }
   ],
   "source": [
    "# Permutations(4) vytvori objekt permutacii stvorprvkovej mnoziny \n",
    "P = Permutations(4)\n",
    "# list() vypise vsetky vygenerovane permutacie\n",
    "P.list()"
   ]
  },
  {
   "cell_type": "code",
   "execution_count": 38,
   "metadata": {},
   "outputs": [
    {
     "data": {
      "text/plain": [
       "24"
      ]
     },
     "execution_count": 38,
     "metadata": {},
     "output_type": "execute_result"
    }
   ],
   "source": [
    "# pocet vsetkych permutacii 5 prvkocej mnoziny (4!=4*3*2*1), funkcia cardinality() \n",
    "P.cardinality()"
   ]
  },
  {
   "cell_type": "markdown",
   "metadata": {},
   "source": [
    "**Ak teda máme napr. množinu $\\{1,2,3,4\\}$, permutácia nám urobí to, že prvky tejto množiny premieša a vráti nám nejakú štvoricu týchto prvkov (nejako usporiadaných), viď predošlý príklad. Formálne je permutácia zobrazenie z množiny $n$ kladných celých čísel do tej istej množiny.** "
   ]
  },
  {
   "cell_type": "markdown",
   "metadata": {},
   "source": [
    "---\n",
    "\n",
    "### <font color=red> Definícia 7 </font> \n",
    "\n",
    "Nech $n\\in\\mathbb{N}$. Zobrazenie $\\sigma$ z množiny $\\{1,2,\\ldots,n\\}$ do množiny $\\{1,2,\\ldots,n\\}$ sa nazýva **_permutácia_** množiny $\\mathbb{N}_n=\\{1,2,\\ldots,n\\}$, ak pre všetky $i,j\\in\\{1,\\ldots,n\\}$, $i\\neq j$ platí $\\sigma(i)\\neq\\sigma(j)$. \n",
    "\n",
    "---"
   ]
  },
  {
   "cell_type": "markdown",
   "metadata": {},
   "source": [
    "---\n",
    "\n",
    "#### Poznámka 5\n",
    "\n",
    "* $S_n$ bude označovať množinu všetkých permutácii množiny $\\mathbb{N}_n$ (viď príklad hore s množinou $\\mathbb{N}_4=\\{1,2,3,4\\}$). \n",
    "\n",
    "\n",
    "* Pre zápis permutácie $\\sigma$ množiny $\\mathbb{N}_n$ budeme pouzívať označenie \n",
    "\n",
    "$$\\begin{pmatrix}\n",
    "1 & 2 & \\ldots & n \\\\\n",
    "\\sigma(1) & \\sigma(2) & \\ldots & \\sigma(n)\n",
    "\\end{pmatrix}\n",
    "\\qquad \\text{resp. skrátene}\\qquad \\left(\\sigma(1),\\sigma(2),\\ldots,\\sigma(n)\\right). $$\n",
    "\n",
    "\n",
    "* toto označenie nám vlastne hovorí, že číslo $1$ sa zobrazí do čísla $\\sigma(1)$, t.j. $1\\rightarrow\\sigma(1)$ resp., že číslu $1$ je priradené číslo $\\sigma(1)$, číslo $2$ sa zobrazí do čísla $\\sigma(2)$ atď. \n",
    "\n",
    "\n",
    "* Ak sa vrátime k vypísaným permutáciám množiny $\\mathbb{N}_4$ vyššie, tak prvá permutácia je tzv. identita lebo je v tvare $(1,2,3,4)$ a tzn., že $1\\rightarrow1$, $2\\rightarrow2$, $3\\rightarrow3$ a $4\\rightarrow4$. Keď sa pozrieme na druhú permutáciu v zozname $(1,2,4,3)$ tak $1\\rightarrow1$, $2\\rightarrow2$, $3\\rightarrow4$ a $4\\rightarrow3$. Podobne je to s ostatnými permutáciami množiny $\\mathbb{N}_4$. \n",
    "\n",
    "\n",
    "* Uvedomme si, že formálne iná permutácia množiny $\\mathbb{N}_n$ odpovedá inému zobrazeniu $\\sigma$ (viď rôzne štvorice a teda rôzne zobrazenia $\\sigma$ v ilustračnom príklade).  To znamená, že na množine $\\mathbb{N}_n$ máme definovaných toľko permutácií (zobrazení) $\\sigma$, koľko je rôznych preusporiadaní prvkov množiny $\\mathbb{N}_n$ a to je $n!=n\\cdot(n-1)\\cdot(n-2)\\cdot \\ldots\\cdot2\\cdot1$. V našom ilustračnom príklade je to $4!=24$. \n",
    "\n",
    "---"
   ]
  },
  {
   "attachments": {
    "permutacia.png": {
     "image/png": "[encoded data removed]"
    }
   },
   "cell_type": "markdown",
   "metadata": {},
   "source": [
    "![permutacia.png](attachment:permutacia.png)\n",
    "$$\\text{Zdroj: Lee et al. (2015).}$$"
   ]
  },
  {
   "cell_type": "markdown",
   "metadata": {},
   "source": [
    "---\n",
    "\n",
    "### <font color=red> Definícia 8 </font> \n",
    "\n",
    "Nech $\\sigma$ je permutácia množiny $\\mathbb{N}_n$. Usporiadaná dvojica $(i,j)\\in\\mathbb{N}_n\\times\\mathbb{N}_n$ sa nazýva **_inverzia_** permutácie $\\sigma$, ak $i<j$ a zároveň $\\sigma(i)>\\sigma(j)$. \n",
    "\n",
    "**_Znamienko_** permutácie $\\sigma$ je číslo $sgn(\\sigma)=(-1)^k$, kde $k$ je počet všetkých inverzií permutácie $\\sigma$. \n",
    "\n",
    "---"
   ]
  },
  {
   "cell_type": "markdown",
   "metadata": {},
   "source": [
    "---\n",
    "\n",
    "#### <font color=blue> Príklad 2  </font> \n",
    "\n",
    "Určte znamienko permutácie $(1,4,3,2)$. \n",
    "\n",
    "<ins> Riešenie: </ins>\n",
    "\n",
    "Vypíšeme si inverzie zvolenej permutácie: $2<3\\wedge4=\\sigma(2)>\\sigma(3)=3$, $2<4\\wedge4=\\sigma(2)>\\sigma(4)=2$, $3<4\\wedge3=\\sigma(3)>\\sigma(4)=2$. Permutácia obsahuje $3$ inverzie, preto znamienko permutácie je $(-1)^3=-1$. \n",
    "\n",
    "Pre úplnosť ešte uvádzame výpočet v Sage. "
   ]
  },
  {
   "cell_type": "code",
   "execution_count": 44,
   "metadata": {},
   "outputs": [
    {
     "data": {
      "text/plain": [
       "[1, 4, 3, 2]"
      ]
     },
     "execution_count": 44,
     "metadata": {},
     "output_type": "execute_result"
    }
   ],
   "source": [
    "# Sage indexuje od 0 tak ako Python\n",
    "P5 = P.list()[5]\n",
    "P5"
   ]
  },
  {
   "cell_type": "code",
   "execution_count": 50,
   "metadata": {},
   "outputs": [
    {
     "data": {
      "text/plain": [
       "3"
      ]
     },
     "execution_count": 50,
     "metadata": {},
     "output_type": "execute_result"
    }
   ],
   "source": [
    "# pocet inverzii danej permutacie \n",
    "P5.number_of_inversions()"
   ]
  },
  {
   "cell_type": "code",
   "execution_count": 51,
   "metadata": {},
   "outputs": [
    {
     "data": {
      "text/plain": [
       "[(2, 3), (2, 4), (3, 4)]"
      ]
     },
     "execution_count": 51,
     "metadata": {},
     "output_type": "execute_result"
    }
   ],
   "source": [
    "# vypis inverzii danej permutacie \n",
    "P5.inversions()"
   ]
  },
  {
   "cell_type": "code",
   "execution_count": 52,
   "metadata": {},
   "outputs": [
    {
     "data": {
      "text/plain": [
       "-1"
      ]
     },
     "execution_count": 52,
     "metadata": {},
     "output_type": "execute_result"
    }
   ],
   "source": [
    "# znamienko danej permutacie\n",
    "P5.sign()"
   ]
  },
  {
   "cell_type": "markdown",
   "metadata": {},
   "source": [
    "---"
   ]
  },
  {
   "cell_type": "markdown",
   "metadata": {},
   "source": [
    "---\n",
    "\n",
    "### <font color=red> Definícia 9 </font> \n",
    "\n",
    "Nech $\\boldsymbol{\\mathrm{A}}=[a_{ij}]$ je štvorcová matica rádu $n$ nad poľom $\\mathbb{F}$. **_Determinant_** matice $\\boldsymbol{\\mathrm{A}}$ je prvok poľa $\\mathbb{F}$ a je rovný \n",
    "\n",
    "$$\\sum\\limits_{\\sigma\\in S_n}^{}sgn(\\sigma)\\cdot a_{1\\sigma(1)}\\cdot a_{2\\sigma(2)}\\cdot\\ldots\\cdot a_{n\\sigma(n)}.$$\n",
    "\n",
    "---"
   ]
  },
  {
   "cell_type": "markdown",
   "metadata": {},
   "source": [
    "---\n",
    "\n",
    "#### Poznámka 6\n",
    "\n",
    "* Determinant matice $\\boldsymbol{\\mathrm{A}}$ sa zvykne označovať $\\mathrm{det}\\left(\\boldsymbol{\\mathrm{A}}\\right)$ alebo $|\\boldsymbol{\\mathrm{A}}|$. \n",
    "\n",
    "\n",
    "* Suma v Definícii 9 prebieha cez všetky permutácie množiny $\\mathbb{N}_n$. \n",
    "\n",
    "\n",
    "* **Determinant matice je vlastne akási funkcia z množiny štvorcových matíc, konkrétne taká funkcia, ktorá priradí každej štvorcovej matici jedno reálne číslo** (všeobecnejšie jeden prvok resp. skalár z poľa $\\mathbb{F}$, nad ktorým matice uvažujeme). \n",
    "\n",
    "\n",
    "* Čo vlastne hovorí vzorček v Definícii 9? Každý sčítanec má tvar $sgn(\\sigma)\\cdot a_{1\\sigma(1)}\\cdot a_{2\\sigma(2)}\\cdot\\ldots\\cdot a_{n\\sigma(n)}$, čo odpovedá tomu, že v matici $\\mathbf{A}$ vyberieme $n$ prvkov tak, že z každého riadka a stĺpca máme práve jeden. Tieto prvky medzi sebou vynásobime a ešte tomuto sčítancovi priradíme kladné alebo záporné znamienko podľa toho, aké je znamienko permutácie, ktorá týchto $n$ prvkov určuje. \n",
    "\n",
    "----"
   ]
  },
  {
   "cell_type": "markdown",
   "metadata": {},
   "source": [
    "---\n",
    "\n",
    "#### <font color=blue> Príklad 3  </font>\n",
    "\n",
    "Z definície vypočítajte determinant matice \n",
    "$\\begin{pmatrix}\n",
    "4 & 6 \\\\\n",
    "3 & -2\n",
    "\\end{pmatrix}$, t.j. \n",
    "$\\begin{vmatrix}\n",
    "4 & 6 \\\\\n",
    "3 & -2\n",
    "\\end{vmatrix}$. \n",
    "\n",
    "<ins> Riešenie: </ins>\n",
    "\n",
    "Daná štvorcová matica je rádu $2$, čiže potrebujeme do sumy pre výpočet determinantu vziať všetky permutácie množiny $\\mathbb{N}_2=\\{1,2\\}$ (sú dve lebo $2!=2\\cdot1=2$). Dajme si v Sage vypísať všetky tieto permutácie spolu s ich inverziami a znamienkami. "
   ]
  },
  {
   "cell_type": "code",
   "execution_count": 3,
   "metadata": {},
   "outputs": [
    {
     "data": {
      "text/plain": [
       "[[1, 2], [2, 1]]"
      ]
     },
     "execution_count": 3,
     "metadata": {},
     "output_type": "execute_result"
    }
   ],
   "source": [
    "P = Permutations(2)\n",
    "P.list()"
   ]
  },
  {
   "cell_type": "code",
   "execution_count": 7,
   "metadata": {},
   "outputs": [
    {
     "data": {
      "text/plain": [
       "[[[1, 2], [], 1], [[2, 1], [(1, 2)], -1]]"
      ]
     },
     "execution_count": 7,
     "metadata": {},
     "output_type": "execute_result"
    }
   ],
   "source": [
    "# vypisy v poradi: permutacia, inverzia k nej (ak existuje) a znamienko permutacie \n",
    "[[P.list()[i],P.list()[i].inversions(),P.list()[i].sign()] for i in range(len(P))]"
   ]
  },
  {
   "cell_type": "markdown",
   "metadata": {},
   "source": [
    "Podľa definície determinantu dostávame, že daný determinant je rovný \n",
    "\n",
    "$$\\begin{vmatrix}\n",
    "4 & 6 \\\\\n",
    "3 & -2\n",
    "\\end{vmatrix}=\n",
    "sgn(1,2)\\cdot a_{11}\\cdot a_{22}+sgn(2,1)\\cdot a_{12}\\cdot a_{21}=1\\cdot4\\cdot(-2)+(-1)\\cdot6\\cdot3=-26.$$ \n"
   ]
  },
  {
   "cell_type": "code",
   "execution_count": 10,
   "metadata": {},
   "outputs": [
    {
     "data": {
      "text/plain": [
       "-26"
      ]
     },
     "execution_count": 10,
     "metadata": {},
     "output_type": "execute_result"
    }
   ],
   "source": [
    "# kontrolny vypocet determinantu v Sage\n",
    "A = matrix(2, 2, [4,6,3,-2]) \n",
    "det(A)"
   ]
  },
  {
   "cell_type": "markdown",
   "metadata": {},
   "source": [
    "---"
   ]
  },
  {
   "cell_type": "markdown",
   "metadata": {},
   "source": [
    "Na základe Príkladu 3 je možné sformulovať všeobecnú schému pre výpočet determinantu $2.$ rádu: "
   ]
  },
  {
   "attachments": {
    "Saruss2x2.png": {
     "image/png": "[encoded data removed]"
    }
   },
   "cell_type": "markdown",
   "metadata": {},
   "source": [
    "![Saruss2x2.png](attachment:Saruss2x2.png)\n",
    "$$\\text{Zdroj: Madaras (2019).}$$"
   ]
  },
  {
   "cell_type": "markdown",
   "metadata": {},
   "source": [
    "Hodnota determinantu je rozdiel súčinu prvkov na červenej diagonále a súčinu prvkov na zelenej diagonále. "
   ]
  },
  {
   "cell_type": "markdown",
   "metadata": {},
   "source": [
    "---\n",
    "\n",
    "#### <font color=blue> Príklad 4  </font>\n",
    "\n",
    "Z definície vypočítajte determinant matice \n",
    "$\\begin{pmatrix}\n",
    "1 & 2 & 2 \\\\\n",
    "3 & -1 & -2 \\\\ \n",
    "0 & -2 & 1\n",
    "\\end{pmatrix}$, t.j. \n",
    "$\\begin{vmatrix}\n",
    "1 & 2 & 2 \\\\\n",
    "3 & -1 & -2 \\\\ \n",
    "0 & -2 & 1\n",
    "\\end{vmatrix}$. \n",
    "\n",
    "<ins> Riešenie: </ins>\n",
    "\n",
    "Postupovať budeme analogicky ako v predošlom príklade. Daná matica však teraz rádu $3$, preto potrebujeme do sumy pre výpočet determinantu vziať všetky permutácie množiny $\\mathbb{N}_3=\\{1,2,3\\}$ (je ich $3!=3\\cdot2\\cdot1=6$). "
   ]
  },
  {
   "cell_type": "code",
   "execution_count": 8,
   "metadata": {},
   "outputs": [
    {
     "data": {
      "text/plain": [
       "[[1, 2, 3], [1, 3, 2], [2, 1, 3], [2, 3, 1], [3, 1, 2], [3, 2, 1]]"
      ]
     },
     "execution_count": 8,
     "metadata": {},
     "output_type": "execute_result"
    }
   ],
   "source": [
    "P = Permutations(3)\n",
    "P.list()"
   ]
  },
  {
   "cell_type": "code",
   "execution_count": 9,
   "metadata": {},
   "outputs": [
    {
     "data": {
      "text/plain": [
       "[[[1, 2, 3], [], 1],\n",
       " [[1, 3, 2], [(2, 3)], -1],\n",
       " [[2, 1, 3], [(1, 2)], -1],\n",
       " [[2, 3, 1], [(1, 3), (2, 3)], 1],\n",
       " [[3, 1, 2], [(1, 2), (1, 3)], 1],\n",
       " [[3, 2, 1], [(1, 2), (1, 3), (2, 3)], -1]]"
      ]
     },
     "execution_count": 9,
     "metadata": {},
     "output_type": "execute_result"
    }
   ],
   "source": [
    "[[P.list()[i], P.list()[i].inversions(),P.list()[i].sign()] for i in range(len(P))]"
   ]
  },
  {
   "cell_type": "markdown",
   "metadata": {},
   "source": [
    "Podľa definície determinantu potom dostávame, že daný determinant je rovný\n",
    "\n",
    "$$\\begin{vmatrix}\n",
    "1 & 2 & 2 \\\\\n",
    "3 & -1 & -2 \\\\ \n",
    "0 & -2 & 1\n",
    "\\end{vmatrix}=\n",
    "sgn(1, 2, 3) \\cdot a_{11}a_{22}a_{33} + sgn(1, 3, 2) \\cdot a_{11}a_{23}a_{32} + \n",
    "sgn(2, 1, 3) \\cdot a_{12}a_{21}a_{33} + sgn(2, 3, 1) \\cdot a_{12}a_{23}a_{31} + \n",
    "sgn(3, 1, 2) \\cdot a_{13}a_{21}a_{32} + sgn(3, 2, 1) \\cdot a_{13}a_{22}a_{31} = \n",
    "1 \\cdot (1 \\cdot (−1) \\cdot 1) + (−1) \\cdot (1 \\cdot (−2) \\cdot (−2)) +\n",
    "(−1) \\cdot (2 \\cdot 3 \\cdot 1) + 1 \\cdot (2 \\cdot (−2) \\cdot 0) +\n",
    "1 \\cdot (2 \\cdot 3 \\cdot (−2)) + (−1) \\cdot (2 \\cdot (−1) \\cdot 0) =\n",
    "−1 + (−4) + (−6) + 0 + (−12) + 0 = −23\n",
    "$$"
   ]
  },
  {
   "cell_type": "code",
   "execution_count": 13,
   "metadata": {},
   "outputs": [
    {
     "data": {
      "text/plain": [
       "-23"
      ]
     },
     "execution_count": 13,
     "metadata": {},
     "output_type": "execute_result"
    }
   ],
   "source": [
    "# kontrolny vypocet determinantu v Sage \n",
    "A = matrix(3, 3, [1,2,2,3,-1,-2,0,-2,1]) \n",
    "det(A)"
   ]
  },
  {
   "cell_type": "markdown",
   "metadata": {},
   "source": [
    "---"
   ]
  },
  {
   "cell_type": "markdown",
   "metadata": {},
   "source": [
    "Na základe Príkladu 4 možno sformulovať všeobecnú schému pre výpočet determinantu 3. rádu, tzv. **Sarrusovo pravidlo**: "
   ]
  },
  {
   "attachments": {
    "Saruss3x3.png": {
     "image/png": "[encoded data removed]"
    }
   },
   "cell_type": "markdown",
   "metadata": {},
   "source": [
    "![Saruss3x3.png](attachment:Saruss3x3.png) \n",
    "$$\\text{Zdroj: Madaras (2019).}$$"
   ]
  },
  {
   "cell_type": "markdown",
   "metadata": {},
   "source": [
    "Hodnota determinantu je súčet súčinov prvkov na červených diagonálach mínus súčiny prvkov na zelených diagonálach."
   ]
  },
  {
   "cell_type": "markdown",
   "metadata": {},
   "source": [
    "---\n",
    "\n",
    "#### Poznámka 7\n",
    "\n",
    "**Neexistuje žiadna priama analógia Sarussovho pravidla pre determinanty rádu $4$ a viac !!**\n",
    "\n",
    "---"
   ]
  },
  {
   "cell_type": "markdown",
   "metadata": {},
   "source": [
    "<font color=purple> EXTRA (3 body): Naprogramujte funkciu pre výpočet determinantu matice, ktorá bude fungovať nasledovne. Pre matice  rádu $2$ a $3$ vypočíta ich determinanty pomocou Sarussovho pravidla a pre matice vyšších rádov vypočíta ich determinanty z definície. Ako je to s determinantom matice rádu $1$ ? Korektnosť funkcie otestujte na niekoľkých vstupoch. Funkcia by mala tiež overiť, či je na vstupe štvorcová matica a ak nie je, mala by vypísať chybovú hlášku. Ak pošlete vytvorenú funkciu s komentárom a testovacími príkladmi mailom, v prípade správneho riešenia môžete získat $3$ bonusové body. \n",
    "</font>"
   ]
  },
  {
   "cell_type": "code",
   "execution_count": null,
   "metadata": {},
   "outputs": [],
   "source": []
  },
  {
   "cell_type": "markdown",
   "metadata": {},
   "source": [
    "Nasledujúce tvrdenie hovorí o tom, ako jednoducho sa dá vypočítať determinant diagonálnej matice. "
   ]
  },
  {
   "cell_type": "markdown",
   "metadata": {},
   "source": [
    "---\n",
    "\n",
    "#### <font color=green> Tvrdenie 5 </font>\n",
    "\n",
    "Ak $\\boldsymbol{\\mathrm{A}}$ je horná trojuholníková matica rádu $n$, tak jej determinant je rovný súčinu prvkov matice na hlavnej diagonále, t.j. \n",
    "\n",
    "$$\\mathrm{det}\\left(\\boldsymbol{\\mathrm{A}}\\right)=a_{11}a_{22}\\ldots a_{nn}.$$ \n",
    "\n",
    "---"
   ]
  },
  {
   "cell_type": "markdown",
   "metadata": {},
   "source": [
    "Ilustrácia Tvrdenia 5 na príklade. "
   ]
  },
  {
   "cell_type": "code",
   "execution_count": 9,
   "metadata": {},
   "outputs": [
    {
     "data": {
      "text/html": [
       "<html><script type=\"math/tex; mode=display\">\\newcommand{\\Bold}[1]{\\mathbf{#1}}\\left(\\begin{array}{rrr}\n",
       "3 & 2 & 1 \\\\\n",
       "0 & 4 & -1 \\\\\n",
       "0 & 0 & -2\n",
       "\\end{array}\\right)</script></html>"
      ],
      "text/plain": [
       "[ 3  2  1]\n",
       "[ 0  4 -1]\n",
       "[ 0  0 -2]"
      ]
     },
     "metadata": {},
     "output_type": "display_data"
    }
   ],
   "source": [
    "A = matrix(3, 3, [3, 0, 0, 2, 4, 0, 1, -1, -2]) \n",
    "A = A.T\n",
    "show(A)"
   ]
  },
  {
   "cell_type": "code",
   "execution_count": 10,
   "metadata": {},
   "outputs": [
    {
     "data": {
      "text/plain": [
       "(-24, -24, -24)"
      ]
     },
     "execution_count": 10,
     "metadata": {},
     "output_type": "execute_result"
    }
   ],
   "source": [
    "# overenie vypoctu determinantu pomocou vsatavnych Sage funkcii determinant() a det() \n",
    "# diagonal() vrati zoznam prvkov hlavnej diagonaly matice a funkcia product ich vynasobi \n",
    "product(A.diagonal()), A.determinant(), A.det()"
   ]
  },
  {
   "cell_type": "markdown",
   "metadata": {},
   "source": [
    "Pozrime sa ešte na ďalšie vlastnosti determinantov matíc, ktoré sa zvyknú využívať pre zjednodušenie riešenia úloh."
   ]
  },
  {
   "cell_type": "code",
   "execution_count": 26,
   "metadata": {},
   "outputs": [
    {
     "data": {
      "text/html": [
       "<html><script type=\"math/tex; mode=display\">\\newcommand{\\Bold}[1]{\\mathbf{#1}}\\left(\\begin{array}{rrrr}\n",
       "1 & 2 & 3 & 4 \\\\\n",
       "0 & 0 & 0 & 0 \\\\\n",
       "5 & 6 & 7 & 8 \\\\\n",
       "9 & 10 & 11 & 12\n",
       "\\end{array}\\right)</script></html>"
      ],
      "text/plain": [
       "[ 1  2  3  4]\n",
       "[ 0  0  0  0]\n",
       "[ 5  6  7  8]\n",
       "[ 9 10 11 12]"
      ]
     },
     "metadata": {},
     "output_type": "display_data"
    }
   ],
   "source": [
    "A = matrix(4,4,[1,2,3,4,0,0,0,0,5,6,7,8,9,10,11,12])\n",
    "show(A)"
   ]
  },
  {
   "cell_type": "code",
   "execution_count": 12,
   "metadata": {},
   "outputs": [
    {
     "data": {
      "text/plain": [
       "0"
      ]
     },
     "execution_count": 12,
     "metadata": {},
     "output_type": "execute_result"
    }
   ],
   "source": [
    "# vypocet determinantu \n",
    "det(A)"
   ]
  },
  {
   "cell_type": "code",
   "execution_count": 13,
   "metadata": {},
   "outputs": [
    {
     "data": {
      "text/html": [
       "<html><script type=\"math/tex; mode=display\">\\newcommand{\\Bold}[1]{\\mathbf{#1}}\\left(\\begin{array}{rrrr}\n",
       "1 & 0 & 5 & 9 \\\\\n",
       "2 & 0 & 6 & 10 \\\\\n",
       "3 & 0 & 7 & 11 \\\\\n",
       "4 & 0 & 8 & 12\n",
       "\\end{array}\\right)</script></html>"
      ],
      "text/plain": [
       "[ 1  0  5  9]\n",
       "[ 2  0  6 10]\n",
       "[ 3  0  7 11]\n",
       "[ 4  0  8 12]"
      ]
     },
     "metadata": {},
     "output_type": "display_data"
    }
   ],
   "source": [
    "B = A.T\n",
    "show(B)"
   ]
  },
  {
   "cell_type": "code",
   "execution_count": 14,
   "metadata": {},
   "outputs": [
    {
     "data": {
      "text/plain": [
       "0"
      ]
     },
     "execution_count": 14,
     "metadata": {},
     "output_type": "execute_result"
    }
   ],
   "source": [
    "# vypocet determinantu\n",
    "det(B)"
   ]
  },
  {
   "cell_type": "code",
   "execution_count": 38,
   "metadata": {},
   "outputs": [
    {
     "data": {
      "text/html": [
       "<html><script type=\"math/tex; mode=display\">\\newcommand{\\Bold}[1]{\\mathbf{#1}}\\left(\\begin{array}{rrrr}\n",
       "-\\frac{1}{2} & 2 & 1 & -5 \\\\\n",
       "\\frac{3}{2} & 0 & 0 & -1 \\\\\n",
       "\\frac{1}{2} & -\\frac{5}{3} & 1 & \\frac{3}{2} \\\\\n",
       "3 & -1 & 0 & -\\frac{1}{5}\n",
       "\\end{array}\\right)</script></html>"
      ],
      "text/plain": [
       "[-1/2    2    1   -5]\n",
       "[ 3/2    0    0   -1]\n",
       "[ 1/2 -5/3    1  3/2]\n",
       "[   3   -1    0 -1/5]"
      ]
     },
     "metadata": {},
     "output_type": "display_data"
    }
   ],
   "source": [
    "B = matrix( [ [-1/2, 2, 1, -5,], [6/4, 0, 0, -1], [1/2 , -5/3, 1, 3/2], [3, -1, 0, -1/5] ]) \n",
    "show(B)"
   ]
  },
  {
   "cell_type": "code",
   "execution_count": 39,
   "metadata": {},
   "outputs": [
    {
     "data": {
      "text/html": [
       "<html><script type=\"math/tex; mode=display\">\\newcommand{\\Bold}[1]{\\mathbf{#1}}\\left(\\begin{array}{rrrr}\n",
       "3 & -1 & 0 & -\\frac{1}{5} \\\\\n",
       "\\frac{3}{2} & 0 & 0 & -1 \\\\\n",
       "\\frac{1}{2} & -\\frac{5}{3} & 1 & \\frac{3}{2} \\\\\n",
       "-\\frac{1}{2} & 2 & 1 & -5\n",
       "\\end{array}\\right)</script></html>"
      ],
      "text/plain": [
       "[   3   -1    0 -1/5]\n",
       "[ 3/2    0    0   -1]\n",
       "[ 1/2 -5/3    1  3/2]\n",
       "[-1/2    2    1   -5]"
      ]
     },
     "metadata": {},
     "output_type": "display_data"
    }
   ],
   "source": [
    "# matica C1 vznikne tak, ze v matici B a vymeni 1. a 4. riadok (resp. 0. a 3.) pomocou funkcie with_swapped_rows()\n",
    "C1 = B.with_swapped_rows(0,3)\n",
    "show(C1)"
   ]
  },
  {
   "cell_type": "code",
   "execution_count": 40,
   "metadata": {},
   "outputs": [
    {
     "data": {
      "text/plain": [
       "(-17/20, 17/20)"
      ]
     },
     "execution_count": 40,
     "metadata": {},
     "output_type": "execute_result"
    }
   ],
   "source": [
    "det(C1), det(B)"
   ]
  },
  {
   "cell_type": "code",
   "execution_count": 42,
   "metadata": {},
   "outputs": [
    {
     "data": {
      "text/html": [
       "<html><script type=\"math/tex; mode=display\">\\newcommand{\\Bold}[1]{\\mathbf{#1}}\\left(\\begin{array}{rrrr}\n",
       "-\\frac{1}{2} & 2 & 1 & -5 \\\\\n",
       "\\frac{1}{2} & -\\frac{5}{3} & 1 & \\frac{3}{2} \\\\\n",
       "\\frac{3}{2} & 0 & 0 & -1 \\\\\n",
       "3 & -1 & 0 & -\\frac{1}{5}\n",
       "\\end{array}\\right)</script></html>"
      ],
      "text/plain": [
       "[-1/2    2    1   -5]\n",
       "[ 1/2 -5/3    1  3/2]\n",
       "[ 3/2    0    0   -1]\n",
       "[   3   -1    0 -1/5]"
      ]
     },
     "metadata": {},
     "output_type": "display_data"
    }
   ],
   "source": [
    "# matica C2 vznikne tak, ze v matici B a vymeni 2. a 3. riadok (pozor na indexovanie od 0 nie od 1)\n",
    "C2 = B.with_swapped_rows(1,2)\n",
    "show(C2)"
   ]
  },
  {
   "cell_type": "code",
   "execution_count": 43,
   "metadata": {},
   "outputs": [
    {
     "data": {
      "text/plain": [
       "(-17/20, 17/20)"
      ]
     },
     "execution_count": 43,
     "metadata": {},
     "output_type": "execute_result"
    }
   ],
   "source": [
    "det(C2), det(B)"
   ]
  },
  {
   "cell_type": "code",
   "execution_count": 20,
   "metadata": {},
   "outputs": [
    {
     "data": {
      "text/html": [
       "<html><script type=\"math/tex; mode=display\">\\newcommand{\\Bold}[1]{\\mathbf{#1}}\\left(\\begin{array}{rrrr}\n",
       "8 & -3 & 2 & -1 \\\\\n",
       "11 & 7 & -2 & 2 \\\\\n",
       "8 & -3 & 2 & -1 \\\\\n",
       "4 & 0 & 4 & 2\n",
       "\\end{array}\\right)</script></html>"
      ],
      "text/plain": [
       "[ 8 -3  2 -1]\n",
       "[11  7 -2  2]\n",
       "[ 8 -3  2 -1]\n",
       "[ 4  0  4  2]"
      ]
     },
     "metadata": {},
     "output_type": "display_data"
    }
   ],
   "source": [
    "D = matrix(4,4,[8,-3,2,-1,11,7,-2,2,8,-3,2,-1,4,0,4,2]) \n",
    "show(D)"
   ]
  },
  {
   "cell_type": "code",
   "execution_count": 21,
   "metadata": {},
   "outputs": [
    {
     "data": {
      "text/plain": [
       "0"
      ]
     },
     "execution_count": 21,
     "metadata": {},
     "output_type": "execute_result"
    }
   ],
   "source": [
    "det(D)"
   ]
  },
  {
   "cell_type": "code",
   "execution_count": 40,
   "metadata": {},
   "outputs": [
    {
     "data": {
      "text/html": [
       "<html><script type=\"math/tex; mode=display\">\\newcommand{\\Bold}[1]{\\mathbf{#1}}\\left(\\begin{array}{rrr}\n",
       "4 & -3 & 5 \\\\\n",
       "11 & 6 & 9 \\\\\n",
       "-8 & 6 & -10\n",
       "\\end{array}\\right)</script></html>"
      ],
      "text/plain": [
       "[  4  -3   5]\n",
       "[ 11   6   9]\n",
       "[ -8   6 -10]"
      ]
     },
     "metadata": {},
     "output_type": "display_data"
    }
   ],
   "source": [
    "G = matrix(3,3,[4,-3,5,11,6,9,-8,6,-10])\n",
    "show(G)"
   ]
  },
  {
   "cell_type": "code",
   "execution_count": 41,
   "metadata": {},
   "outputs": [
    {
     "data": {
      "text/plain": [
       "0"
      ]
     },
     "execution_count": 41,
     "metadata": {},
     "output_type": "execute_result"
    }
   ],
   "source": [
    "det(G)"
   ]
  },
  {
   "cell_type": "code",
   "execution_count": 11,
   "metadata": {},
   "outputs": [
    {
     "data": {
      "text/html": [
       "<html><script type=\"math/tex; mode=display\">\\newcommand{\\Bold}[1]{\\mathbf{#1}}\\left(\\begin{array}{rrrr}\n",
       "2 & -1 & 7 & -9 \\\\\n",
       "6 & 2 & -2 & 3 \\\\\n",
       "4 & -5 & 1 & 7 \\\\\n",
       "8 & -3 & -1 & 0\n",
       "\\end{array}\\right)</script></html>"
      ],
      "text/plain": [
       "[ 2 -1  7 -9]\n",
       "[ 6  2 -2  3]\n",
       "[ 4 -5  1  7]\n",
       "[ 8 -3 -1  0]"
      ]
     },
     "metadata": {},
     "output_type": "display_data"
    }
   ],
   "source": [
    "# F = E.add_multiple_of_row(0,1,2)\n",
    "E = matrix(4,4,[2,-1,7,-9,6,2,-2,3,4,-5,1,7,8,-3,-1,0])\n",
    "show(E) "
   ]
  },
  {
   "cell_type": "code",
   "execution_count": 8,
   "metadata": {},
   "outputs": [
    {
     "data": {
      "text/html": [
       "<html><script type=\"math/tex; mode=display\">\\newcommand{\\Bold}[1]{\\mathbf{#1}}\\left(\\begin{array}{rrrr}\n",
       "2 & -1 & 7 & -9 \\\\\n",
       "10 & 0 & 12 & -15 \\\\\n",
       "4 & -5 & 1 & 7 \\\\\n",
       "8 & -3 & -1 & 0\n",
       "\\end{array}\\right)</script></html>"
      ],
      "text/plain": [
       "[  2  -1   7  -9]\n",
       "[ 10   0  12 -15]\n",
       "[  4  -5   1   7]\n",
       "[  8  -3  -1   0]"
      ]
     },
     "metadata": {},
     "output_type": "display_data"
    }
   ],
   "source": [
    "# matica F vznikne z matice E tak, ze v matici E sa k druhemu riadku pripocita dvojnasobok prveho riadka \n",
    "# vyuzitim funkcie with_added_multiple_of_row()\n",
    "F = E.with_added_multiple_of_row(1,0,2)\n",
    "show(F)"
   ]
  },
  {
   "cell_type": "code",
   "execution_count": 9,
   "metadata": {},
   "outputs": [
    {
     "data": {
      "text/plain": [
       "(2452, 2452)"
      ]
     },
     "execution_count": 9,
     "metadata": {},
     "output_type": "execute_result"
    }
   ],
   "source": [
    "det(E), det(F)"
   ]
  },
  {
   "cell_type": "code",
   "execution_count": 13,
   "metadata": {},
   "outputs": [
    {
     "data": {
      "text/html": [
       "<html><script type=\"math/tex; mode=display\">\\newcommand{\\Bold}[1]{\\mathbf{#1}}\\left(\\begin{array}{rrrr}\n",
       "4 & -2 & 14 & -18 \\\\\n",
       "6 & 2 & -2 & 3 \\\\\n",
       "4 & -5 & 1 & 7 \\\\\n",
       "8 & -3 & -1 & 0\n",
       "\\end{array}\\right) \\left(\\begin{array}{rrrr}\n",
       "2 & -1 & 7 & -9 \\\\\n",
       "6 & 2 & -2 & 3 \\\\\n",
       "4 & -5 & 1 & 7 \\\\\n",
       "8 & -3 & -1 & 0\n",
       "\\end{array}\\right)</script></html>"
      ],
      "text/plain": [
       "[  4  -2  14 -18]\n",
       "[  6   2  -2   3]\n",
       "[  4  -5   1   7]\n",
       "[  8  -3  -1   0] [ 2 -1  7 -9]\n",
       "[ 6  2 -2  3]\n",
       "[ 4 -5  1  7]\n",
       "[ 8 -3 -1  0]"
      ]
     },
     "metadata": {},
     "output_type": "display_data"
    }
   ],
   "source": [
    "# matice G a H su rovnake s vynimkou prveho (nulteho) riadka, prvy riadok v matici G je dvojnasobok prveho riadka v matici H\n",
    "p = 2 \n",
    "G = matrix(4,4,[2,-1,7,-9,6,2,-2,3,4,-5,1,7,8,-3,-1,0])\n",
    "H = matrix(4,4,[2,-1,7,-9,6,2,-2,3,4,-5,1,7,8,-3,-1,0])\n",
    "G[0,:] = p*G.row(0)\n",
    "show(G,H)"
   ]
  },
  {
   "cell_type": "code",
   "execution_count": 14,
   "metadata": {},
   "outputs": [
    {
     "data": {
      "text/plain": [
       "(4904, 4904)"
      ]
     },
     "execution_count": 14,
     "metadata": {},
     "output_type": "execute_result"
    }
   ],
   "source": [
    "det(G), p*det(H)"
   ]
  },
  {
   "cell_type": "markdown",
   "metadata": {},
   "source": [
    "<font color=orange> Dokážete sformulovať nejaké pozorovania týkajúce sa determinantov na základe ilustračných príkladov? </font> "
   ]
  },
  {
   "cell_type": "code",
   "execution_count": null,
   "metadata": {},
   "outputs": [],
   "source": []
  },
  {
   "cell_type": "markdown",
   "metadata": {},
   "source": [
    "Vlastnosti, na ktoré poukazujú ilustračné príklady uvedené vyššie sú formálne zapísané v nadchádzajúcich tvrdeniach. "
   ]
  },
  {
   "cell_type": "markdown",
   "metadata": {},
   "source": [
    "---\n",
    "\n",
    "#### <font color=green> Tvrdenie 6 </font>\n",
    "\n",
    "Ak štvorcová matica $\\boldsymbol{\\mathrm{A}}$ obsahuje nulový riadok, tak $\\mathrm{det}\\left(\\boldsymbol{\\mathrm{A}}\\right)=0$. \n",
    "\n",
    "---"
   ]
  },
  {
   "cell_type": "markdown",
   "metadata": {},
   "source": [
    "---\n",
    "\n",
    "#### <font color=green> Tvrdenie 7 </font>\n",
    "\n",
    "Ak štvorcová matica $\\boldsymbol{\\mathrm{B}}$ vznikne zo štvorcovej matice $\\boldsymbol{\\mathrm{A}}$ vzájomnou výmenou niektorých dvoch riadkov, tak $\\mathrm{det}\\left(\\boldsymbol{\\mathrm{B}}\\right)= -\\mathrm{det}\\left(\\boldsymbol{\\mathrm{A}}\\right)$. \n",
    "\n",
    "---"
   ]
  },
  {
   "cell_type": "markdown",
   "metadata": {},
   "source": [
    "---\n",
    "\n",
    "#### <font color=green> Tvrdenie 8 </font>\n",
    "\n",
    "Ak v štvorcovej matici $\\boldsymbol{\\mathrm{A}}$ sú niektoré dva riadky rovnaké alebo jeden riadok je násobkom iného riadka, tak $\\mathrm{det}\\left(\\boldsymbol{\\mathrm{A}}\\right)=0$.\n",
    "\n",
    "---"
   ]
  },
  {
   "cell_type": "markdown",
   "metadata": {},
   "source": [
    "---\n",
    "\n",
    "#### <font color=green> Tvrdenie 9 </font>\n",
    "\n",
    "Ak štvorcová matica $\\boldsymbol{\\mathrm{B}}$ vznikne zo štvorcovej matice $\\boldsymbol{\\mathrm{A}}$ pripočítaním ľubovoľného  násobku niektorého riadka k inému radku, tak $\\mathrm{det}\\left(\\boldsymbol{\\mathrm{A}}\\right)=\\mathrm{det}\\left(\\boldsymbol{\\mathrm{B}}\\right)$.\n",
    "\n",
    "---"
   ]
  },
  {
   "cell_type": "markdown",
   "metadata": {},
   "source": [
    "---\n",
    "\n",
    "#### <font color=green> Tvrdenie 10 </font>\n",
    "\n",
    "Majme štvorcovú maticu $\\mathbf{A}$ nad poľom $\\mathbb{F}$ a nech $p\\in\\mathbb{F}$. Ak vynásobime jeden ľubovoľný riadok matice $\\boldsymbol{\\mathrm{A}}$ prvkom $p$, potom determinant takto modifikovanej matice je rovný $p\\cdot\\mathrm{det}\\left(\\boldsymbol{\\mathrm{A}}\\right)$. \n",
    "\n",
    "---"
   ]
  },
  {
   "cell_type": "code",
   "execution_count": null,
   "metadata": {},
   "outputs": [],
   "source": []
  },
  {
   "cell_type": "markdown",
   "metadata": {},
   "source": [
    "Ďalej si ešte ukážeme **iný prístup pre výpočet determinantov matíc, ktorý je výhodný najmä vtedy, keď sa v matici nachádza riadok (stĺpec), v ktorom je veľa nulových prvkov**. Potrebujeme k tomu však jeden špecifický pojem, preto vyslovíme nasledujúcu definíciu a uvedieme ilustračný príklad. "
   ]
  },
  {
   "cell_type": "markdown",
   "metadata": {},
   "source": [
    "---\n",
    "\n",
    "### <font color=red> Definícia 10 </font> \n",
    "\n",
    "**_Algebraický doplnok_** (_kofaktor_) prvku $a_{ij}$ štvorcovej matice $\\boldsymbol{\\mathrm{A}}$ rádu $n$ je definovaný vzťahom \n",
    "\n",
    "$$\\alpha_{ij}=(-1)^{i+j}\\cdot\\mathrm{det}\\left(\\boldsymbol{\\mathrm{A}}_{ij}\\right),$$\n",
    "\n",
    "kde $\\boldsymbol{\\mathrm{A}}_{ij}$ je štvorcová matica (podmatica resp. submatica), ktorá vznikne z matice $\\boldsymbol{\\mathrm{A}}$ vynechaním $i$-teho riadka a $j$-teho stĺpca. \n",
    "\n",
    "$\\mathrm{det}\\left(\\boldsymbol{\\mathrm{A}}_{ij}\\right)$ sa nazýva **_subdeterminant_** resp. **_minor_**.\n",
    "\n",
    "---"
   ]
  },
  {
   "cell_type": "markdown",
   "metadata": {},
   "source": [
    "---\n",
    "\n",
    "#### <font color=blue> Príklad 5  </font>\n",
    "\n",
    "Nech je daná matica \n",
    "\n",
    "$$\\boldsymbol{\\mathrm{A}}=\\left(\\begin{array}{rrrr}\n",
    "1 & 2 & 2 & 1 \\\\\n",
    "3 & -1 & 2 & 4 \\\\\n",
    "0 & -2 & 0 & 3 \\\\\n",
    "1 & 2 & -1 & -2\n",
    "\\end{array}\\right).$$ \n",
    "\n",
    "Určte, čomu sú rovné algebraické doplnky k prvkom $a_{32}$, $a_{44}$, t.j. $\\alpha_{32}$, $\\alpha_{44}$. \n",
    "\n",
    "<ins> Riešenie: </ins>\n",
    "\n",
    "Postupujeme podľa definície algebraického doplnku. K prvku matice $a_{32}$ potrebujeme vytvoriť podmaticu $\\boldsymbol{\\mathrm{A}}_{32}$ tak, že z pôvodnej matice $\\boldsymbol{\\mathrm{A}}$ vynecháme $3.$ riadok a $2.$ stĺpec, čím dostávame \n",
    "\n",
    "$$\\boldsymbol{\\mathrm{A}}_{32}=\n",
    "\\left(\\begin{array}{rrr}\n",
    "1 & 2 & 1 \\\\\n",
    "3 & 2 & 4 \\\\\n",
    "1 & -1 & -2\n",
    "\\end{array}\\right).$$\n",
    "\n",
    "Prvok $a_{32}=-2$ v pôvodnej matici $\\boldsymbol{\\mathrm{A}}$ je na pozícii $[3,2]$ (tretí riadok, druhý stĺpec) a teda algebraický doplnok vyzerá takto: \n",
    "\n",
    "$$\\alpha_{32}=(-1)^{3+2}\\cdot\\mathrm{det}\\left(\\boldsymbol{\\mathrm{A}}_{32}\\right)=(-1)^5\\cdot\n",
    "\\begin{vmatrix}\n",
    "1 & 2 & 1 \\\\\n",
    "3 & 2 & 4 \\\\\n",
    "1 & -1 & -2\n",
    "\\end{vmatrix}=\n",
    "(-1)\\cdot15=-15. \n",
    "$$\n",
    "\n",
    "Determinant rádu $3$ vystupujúci vo výpočte algebraického doplnku môžeme vypočítať napr. Sarussovým pravidlom (<font color=orange> Vyskúšajte!  </font>). \n",
    "\n",
    "Ukážeme si aj výpočet pomocou Sage. "
   ]
  },
  {
   "cell_type": "code",
   "execution_count": 122,
   "metadata": {},
   "outputs": [
    {
     "data": {
      "text/html": [
       "<html><script type=\"math/tex; mode=display\">\\newcommand{\\Bold}[1]{\\mathbf{#1}}\\left(\\begin{array}{rrrr}\n",
       "1 & 2 & 2 & 1 \\\\\n",
       "3 & -1 & 2 & 4 \\\\\n",
       "0 & -2 & 0 & 3 \\\\\n",
       "1 & 2 & -1 & -2\n",
       "\\end{array}\\right)</script></html>"
      ],
      "text/plain": [
       "[ 1  2  2  1]\n",
       "[ 3 -1  2  4]\n",
       "[ 0 -2  0  3]\n",
       "[ 1  2 -1 -2]"
      ]
     },
     "metadata": {},
     "output_type": "display_data"
    }
   ],
   "source": [
    "A = matrix(4,4,[1,2,2,1,3,-1,2,4,0,-2,0,3,1,2,-1,-2])\n",
    "show(A)"
   ]
  },
  {
   "cell_type": "code",
   "execution_count": 134,
   "metadata": {},
   "outputs": [
    {
     "data": {
      "text/html": [
       "<html><script type=\"math/tex; mode=display\">\\newcommand{\\Bold}[1]{\\mathbf{#1}}\\left(\\begin{array}{rrr}\n",
       "1 & 2 & 1 \\\\\n",
       "3 & 2 & 4 \\\\\n",
       "1 & -1 & -2\n",
       "\\end{array}\\right)</script></html>"
      ],
      "text/plain": [
       "[ 1  2  1]\n",
       "[ 3  2  4]\n",
       "[ 1 -1 -2]"
      ]
     },
     "metadata": {},
     "output_type": "display_data"
    }
   ],
   "source": [
    "A32mat = matrix(3,3,[1,2,1,3,2,4,1,-1,-2])\n",
    "show(A32mat) \n",
    "# alebo A32mat = A[[0,1,3],[0,2,3]]"
   ]
  },
  {
   "cell_type": "code",
   "execution_count": 135,
   "metadata": {},
   "outputs": [
    {
     "data": {
      "text/plain": [
       "-15"
      ]
     },
     "execution_count": 135,
     "metadata": {},
     "output_type": "execute_result"
    }
   ],
   "source": [
    "alpha32 = (-1)^(3+2) * det(A32mat)\n",
    "alpha32"
   ]
  },
  {
   "cell_type": "code",
   "execution_count": 136,
   "metadata": {
    "scrolled": true
   },
   "outputs": [
    {
     "data": {
      "text/plain": [
       "-15"
      ]
     },
     "execution_count": 136,
     "metadata": {},
     "output_type": "execute_result"
    }
   ],
   "source": [
    "# iny variant vypoctu\n",
    "alpha32 = (-1)^(3+2) * det(A[[0,1,3],[0,2,3]])\n",
    "alpha32"
   ]
  },
  {
   "cell_type": "markdown",
   "metadata": {},
   "source": [
    "<font color=orange> Vypočítajte algebraický doplnok k prvku $a_{44}$.  </font>"
   ]
  },
  {
   "cell_type": "code",
   "execution_count": null,
   "metadata": {},
   "outputs": [],
   "source": []
  },
  {
   "cell_type": "markdown",
   "metadata": {},
   "source": [
    "---"
   ]
  },
  {
   "cell_type": "markdown",
   "metadata": {},
   "source": [
    "---\n",
    "\n",
    "### <font color=green> Veta 1 (Rozvoj determinantu podľa riadka) </font> \n",
    "\n",
    "Nech $\\boldsymbol{\\mathrm{A}}$ je štvorcová matica rádu $n$ a nech (pre dané $k,l\\in\\{1,\\ldots,n\\}$) $\\boldsymbol{\\mathrm{A}}_{kl}$ je štvorcová matica rádu $n-1$, ktorá vznikne z matice $\\boldsymbol{\\mathrm{A}}$ vynechaním všetkých prvkov v $k$-tom riadku a $l$-tom stĺpci. Potom pre ľubovoľné pevne zvolené $i\\in\\{1,\\ldots,n\\}$ platí \n",
    "\n",
    "$$\\mathrm{det}\\left(\\boldsymbol{\\mathrm{A}}\\right)=\\sum\\limits_{j=1}^{n}(-1)^{i+j}a_{ij}\\cdot\\mathrm{det}\\left(\\boldsymbol{\\mathrm{A}}_{ij}\\right)=\\sum\\limits_{j=1}^{n}a_{ij}\\cdot\\alpha_{ij}.$$\n",
    "\n",
    "---"
   ]
  },
  {
   "cell_type": "markdown",
   "metadata": {},
   "source": [
    "---\n",
    "\n",
    "#### Poznámka 8\n",
    "\n",
    "Všimnime si rozdiel medzi označením prvku $a_{ij}$ (obyčajné malé a) matice $\\boldsymbol{\\mathrm{A}}$ a algebraickým doplnkom k tomuto prvku, t.j. $\\alpha_{ij}$ (malé grécke \"alfa\"). \n",
    "\n",
    "---"
   ]
  },
  {
   "cell_type": "markdown",
   "metadata": {},
   "source": [
    "---\n",
    "\n",
    "#### <font color=blue> Príklad 6  </font>\n",
    "\n",
    "Rozvojom podľa vhodného riadka vypočítajte determinant matice  \n",
    "\n",
    "$$\\boldsymbol{\\mathrm{A}}=\\left(\\begin{array}{rrrr}\n",
    "1 & 2 & 2 & 1 \\\\\n",
    "3 & -1 & 2 & 4 \\\\\n",
    "0 & -2 & 0 & 3 \\\\\n",
    "1 & 2 & -1 & -2\n",
    "\\end{array}\\right).$$ \n",
    "\n",
    "<ins> Riešenie: </ins>\n",
    "\n",
    "Najvhodnejší riadok na rozvoj je tretí, pretože obsahuje najviac núl (teda suma v rozvoji determinantu bude mať len dva nenulové členy resp. sčítance miesto štyroch). Nenulové prvky v treťom riadku sú $a_{32} = −2$, $a_{34} = 3$, im zodpovedajúce matice rádu $3$ sú \n",
    "\n",
    "$$\\boldsymbol{\\mathrm{A}}_{32}=\n",
    "\\left(\\begin{array}{rrr}\n",
    "1 & 2 & 1 \\\\\n",
    "3 & 2 & 4 \\\\\n",
    "1 & -1 & -2\n",
    "\\end{array}\\right),\\quad \\boldsymbol{\\mathrm{A}}_{34}=\n",
    "\\left(\\begin{array}{rrr}\n",
    "1 & 2 & 2 \\\\\n",
    "3 & -1 & 2 \\\\\n",
    "1 & 2 & -1\n",
    "\\end{array}\\right).$$\n",
    "\n",
    "Podľa Vety o rozvoji determinantu dostávame \n",
    "\n",
    "$$\\mathrm{det}\\left(\\boldsymbol{\\mathrm{A}}\\right)=\\sum\\limits_{j=1}^{4}(-1)^{3+j}a_{3j}\\cdot\\mathrm{det}\\left(\\boldsymbol{\\mathrm{A}}_{3j}\\right)=\n",
    "(−1)^{3+1}a_{31}\\mathrm{det}\\left(\\boldsymbol{\\mathrm{A}}_{31}\\right)+(−1)^{3+2}a_{32}\\mathrm{det}\\left(\\boldsymbol{\\mathrm{A}}_{32}\\right)+(−1)^{3+3}a_{33}\\mathrm{det}\\left(\\boldsymbol{\\mathrm{A}}_{33}\\right)+(−1)^{3+4}a_{34}\\mathrm{det}\\left(\\boldsymbol{\\mathrm{A}}_{34}\\right)= 0 \\cdot \\mathrm{det}\\left(\\boldsymbol{\\mathrm{A}}_{31}\\right) − (−2)\\cdot\\mathrm{det}\\left(\\boldsymbol{\\mathrm{A}}_{32}\\right) + 0 \\cdot\\mathrm{det}\\left(\\boldsymbol{\\mathrm{A}}_{33}\\right) − 3 \\cdot\\mathrm{det}\\left(\\boldsymbol{\\mathrm{A}}_{34}\\right) = \n",
    "2\\cdot \\begin{vmatrix}\n",
    "1 & 2 & 1 \\\\\n",
    "3 & 2 & 4 \\\\\n",
    "1 & -1 & -2\n",
    "\\end{vmatrix} \n",
    "-3\\cdot \n",
    "\\begin{vmatrix}\n",
    "1 & 2 & 2 \\\\\n",
    "3 & -1 & 2 \\\\\n",
    "1 & 2 & -1\n",
    "\\end{vmatrix}=\n",
    "2\\cdot15-3\\cdot21=-33.$$ \n",
    "\n",
    "Urobíme ešte výpočet v Sage. "
   ]
  },
  {
   "cell_type": "code",
   "execution_count": 72,
   "metadata": {},
   "outputs": [
    {
     "data": {
      "text/html": [
       "<html><script type=\"math/tex; mode=display\">\\newcommand{\\Bold}[1]{\\mathbf{#1}}\\left(\\begin{array}{rrr}\n",
       "1 & 2 & 1 \\\\\n",
       "3 & 2 & 4 \\\\\n",
       "1 & -1 & -2\n",
       "\\end{array}\\right) \\left(\\begin{array}{rrr}\n",
       "1 & 2 & 2 \\\\\n",
       "3 & -1 & 2 \\\\\n",
       "1 & 2 & -1\n",
       "\\end{array}\\right)</script></html>"
      ],
      "text/plain": [
       "[ 1  2  1]\n",
       "[ 3  2  4]\n",
       "[ 1 -1 -2] [ 1  2  2]\n",
       "[ 3 -1  2]\n",
       "[ 1  2 -1]"
      ]
     },
     "metadata": {},
     "output_type": "display_data"
    }
   ],
   "source": [
    "# vyjadrime si podmatice A32,A34, ktorych determinanty potrebujeme do rozvoja determinantu matice A podla tretieho riadka\n",
    "A32mat = A[[0,1,3],[0,2,3]]\n",
    "A34mat = A[[0,1,3],[0,1,2]] \n",
    "show(A32mat,A34mat) "
   ]
  },
  {
   "cell_type": "code",
   "execution_count": 79,
   "metadata": {},
   "outputs": [
    {
     "data": {
      "text/plain": [
       "-33"
      ]
     },
     "execution_count": 79,
     "metadata": {},
     "output_type": "execute_result"
    }
   ],
   "source": [
    "detA = -2 * (-1) ^ (3+2) * det(A32mat) + 3 * (-1) ^ (3+4) * det(A34mat)\n",
    "detA"
   ]
  },
  {
   "cell_type": "code",
   "execution_count": 128,
   "metadata": {},
   "outputs": [
    {
     "data": {
      "text/plain": [
       "-33"
      ]
     },
     "execution_count": 128,
     "metadata": {},
     "output_type": "execute_result"
    }
   ],
   "source": [
    "# kompaktnejsi vypocet \n",
    "sum([(-1)^(3+j+1)*A[2,j]*det(A.delete_columns([j])[[0,1,3],:]) for j in range(A.ncols())])"
   ]
  },
  {
   "cell_type": "markdown",
   "metadata": {},
   "source": [
    "**Ak by sme si chceli výpočet determinantu matice trochu zjednodušiť, tak stačí \"vyrobiť\" napr. v treťom riadku matice ešte jednu nulu naviac a to napr.  tak, že pripočítame mínus dvojnásobok druhého riadka k tretiemu riadku a až následne vypočítame determinant rozvojom podľa tretieho riadka. Tvrdenie 9 nám garantuje, že pripočítaním ľubovoľného nenulového násobku jedného riadka matice k inému riadku tej istej matice sa determinant matice nezmení.**"
   ]
  },
  {
   "cell_type": "markdown",
   "metadata": {},
   "source": [
    "---"
   ]
  },
  {
   "cell_type": "code",
   "execution_count": 130,
   "metadata": {},
   "outputs": [
    {
     "data": {
      "text/html": [
       "<html><script type=\"math/tex; mode=display\">\\newcommand{\\Bold}[1]{\\mathbf{#1}}\\left(\\begin{array}{rrrr}\n",
       "1 & 2 & 2 & 1 \\\\\n",
       "3 & -1 & 2 & 4 \\\\\n",
       "0 & -2 & 0 & 3 \\\\\n",
       "1 & 2 & -1 & -2\n",
       "\\end{array}\\right) \\left(\\begin{array}{rrrr}\n",
       "1 & 3 & 0 & 1 \\\\\n",
       "2 & -1 & -2 & 2 \\\\\n",
       "2 & 2 & 0 & -1 \\\\\n",
       "1 & 4 & 3 & -2\n",
       "\\end{array}\\right)</script></html>"
      ],
      "text/plain": [
       "[ 1  2  2  1]\n",
       "[ 3 -1  2  4]\n",
       "[ 0 -2  0  3]\n",
       "[ 1  2 -1 -2] [ 1  3  0  1]\n",
       "[ 2 -1 -2  2]\n",
       "[ 2  2  0 -1]\n",
       "[ 1  4  3 -2]"
      ]
     },
     "metadata": {},
     "output_type": "display_data"
    }
   ],
   "source": [
    "A = matrix(4,4,[1,2,2,1,3,-1,2,4,0,-2,0,3,1,2,-1,-2])\n",
    "show(A,A.T) # matica a k nej transponovana "
   ]
  },
  {
   "cell_type": "code",
   "execution_count": 131,
   "metadata": {},
   "outputs": [
    {
     "data": {
      "text/plain": [
       "(-33, -33)"
      ]
     },
     "execution_count": 131,
     "metadata": {},
     "output_type": "execute_result"
    }
   ],
   "source": [
    "det(A),det(A.T) # determinant povodnej a transponovanej matice sa rovnaju "
   ]
  },
  {
   "cell_type": "markdown",
   "metadata": {},
   "source": [
    "---\n",
    "\n",
    "#### <font color=green> Tvrdenie 11 </font>\n",
    "\n",
    "Ak $\\boldsymbol{\\mathrm{A}}^{T}$ je transponovaná matica ku štvorcovej matici $\\boldsymbol{\\mathrm{A}}$, tak \n",
    "\n",
    "$$\\mathrm{det}\\left(\\boldsymbol{\\mathrm{A}}^{T}\\right)=\\mathrm{det}\\left(\\boldsymbol{\\mathrm{A}}\\right).$$\n",
    "\n",
    "---"
   ]
  },
  {
   "cell_type": "markdown",
   "metadata": {},
   "source": [
    "**Tvrdenie 11 nám poskytuje významný dôsledok a to taký, že ak v Tvrdeniach 6-10 a vo Vete 1 nahradíme riadok stĺpcom tak tieto tvrdenia ostávajú v platnosti. Inými slovami, mohli by sme vysloviť rovnaké tvrdenia ale miesto riadkov by sme v nich uvažovali stĺpce  matice.** "
   ]
  },
  {
   "cell_type": "code",
   "execution_count": 132,
   "metadata": {},
   "outputs": [
    {
     "data": {
      "text/html": [
       "<html><script type=\"math/tex; mode=display\">\\newcommand{\\Bold}[1]{\\mathbf{#1}}\\left(\\begin{array}{rrrr}\n",
       "1 & 2 & 2 & 1 \\\\\n",
       "3 & -1 & 2 & 4 \\\\\n",
       "0 & -2 & 0 & 3 \\\\\n",
       "1 & 2 & -1 & -2\n",
       "\\end{array}\\right) \\left(\\begin{array}{rrrr}\n",
       "-\\frac{1}{2} & 2 & 1 & -5 \\\\\n",
       "\\frac{3}{2} & 0 & 0 & -1 \\\\\n",
       "\\frac{1}{2} & -\\frac{5}{3} & 1 & \\frac{3}{2} \\\\\n",
       "3 & -1 & 0 & -\\frac{1}{5}\n",
       "\\end{array}\\right)</script></html>"
      ],
      "text/plain": [
       "[ 1  2  2  1]\n",
       "[ 3 -1  2  4]\n",
       "[ 0 -2  0  3]\n",
       "[ 1  2 -1 -2] [-1/2    2    1   -5]\n",
       "[ 3/2    0    0   -1]\n",
       "[ 1/2 -5/3    1  3/2]\n",
       "[   3   -1    0 -1/5]"
      ]
     },
     "metadata": {},
     "output_type": "display_data"
    }
   ],
   "source": [
    "A = matrix(4,4,[1,2,2,1,3,-1,2,4,0,-2,0,3,1,2,-1,-2])\n",
    "B = matrix( [ [-1/2, 2, 1, -5,], [6/4, 0, 0, -1], [1/2 , -5/3, 1, 3/2], [3, -1, 0, -1/5] ]) \n",
    "show(A,B)"
   ]
  },
  {
   "cell_type": "code",
   "execution_count": 133,
   "metadata": {},
   "outputs": [
    {
     "data": {
      "text/plain": [
       "(-561/20, -561/20)"
      ]
     },
     "execution_count": 133,
     "metadata": {},
     "output_type": "execute_result"
    }
   ],
   "source": [
    "det(A*B),det(A)*det(B)"
   ]
  },
  {
   "cell_type": "markdown",
   "metadata": {},
   "source": [
    "---\n",
    "\n",
    "#### <font color=green> Tvrdenie 12 </font>\n",
    "\n",
    "Ak $\\boldsymbol{\\mathrm{A}}$, $\\boldsymbol{\\mathrm{B}}$ sú štvorcové matice, tak platí\n",
    "\n",
    "$$\\mathrm{det}\\left(\\boldsymbol{\\mathrm{A}}\\cdot\\boldsymbol{\\mathrm{B}}\\right)=\\mathrm{det}\\left(\\boldsymbol{\\mathrm{A}}\\right)\\cdot\\mathrm{det}\\left(\\boldsymbol{\\mathrm{B}}\\right).$$\n",
    "\n",
    "---"
   ]
  },
  {
   "cell_type": "markdown",
   "metadata": {},
   "source": [
    "---\n",
    "\n",
    "#### Poznámka 9 \n",
    "\n",
    "* Špeciálne teda ak máme invertovateľnú štvorcovú maticu $\\boldsymbol{\\mathrm{A}}$ rádu $n$ a jej inverziu $\\boldsymbol{\\mathrm{A}}^{-1}$ tak Tvrdenie 5 a Tvrdenie 11 nám hovoria, že \n",
    "\n",
    "$$1=\\mathrm{det}\\left(\\boldsymbol{\\mathrm{I_n}}\\right)=\\mathrm{det}\\left(\\boldsymbol{\\mathrm{A}}\\cdot\\boldsymbol{\\mathrm{A}}^{-1}\\right)=\\mathrm{det}\\left(\\boldsymbol{\\mathrm{A}}\\right)\\cdot\\mathrm{det}\\left(\\boldsymbol{\\mathrm{A}}^{-1}\\right),$$ \n",
    "\n",
    "odkiaľ máme \n",
    "\n",
    "$$\\mathrm{det}\\left(\\boldsymbol{\\mathrm{A}}^{-1}\\right)=\\dfrac{1}{\\mathrm{det}\\left(\\boldsymbol{\\mathrm{A}}\\right)}=\\left(\\mathrm{det}\\left(\\boldsymbol{\\mathrm{A}}\\right)\\right)^{-1}.$$\n",
    "\n",
    "\n",
    "* **VAROVANIE !!!** $\\mathrm{det}\\left(\\boldsymbol{\\mathrm{A}}+\\boldsymbol{\\mathrm{B}}\\right)\\neq\\mathrm{det}\\left(\\boldsymbol{\\mathrm{A}}\\right) + \\mathrm{det}\\left(\\boldsymbol{\\mathrm{B}}\\right)$ vo všeobecnosti. Overte to napr. na maticiach \n",
    "$\\boldsymbol{\\mathrm{A}}=\\begin{pmatrix}\n",
    "6 & 1\\\\\n",
    "3 & 2\n",
    "\\end{pmatrix}$, \n",
    "$\\boldsymbol{\\mathrm{B}}=\\begin{pmatrix}\n",
    "4 & 3\\\\\n",
    "1 & 2\n",
    "\\end{pmatrix}$.\n",
    "\n",
    "---"
   ]
  },
  {
   "cell_type": "markdown",
   "metadata": {},
   "source": [
    "V závere sa ešte na chvíľu vrátime k inverznej matici a vyslovíme **vetu, ktorá dáva do súvisu determinant matice s inverznou maticou a transponovanou maticou algebraických doplnkov** (_adjungovaná matica_). **_Adjungovaná matica_** je transponovaná matica algebraických doplnkov. Ináč povedané, ak máme štvorcovú maticu $\\boldsymbol{\\mathrm{A}}$ rádu $n$, tak urobíme algebraické doplnky postupne k všetkým prvkom matice $\\boldsymbol{\\mathrm{A}}$, poukladáme (na odpovedajúce miesta) tieto algebraické doplnky do novej matice, ktorú následne ešte transponujeme, čím vznikne adjungovaná matica. Ukážeme si najprv konkrétny výpočet inverznej matice na príklade a potom sformulujeme tvrdenie. "
   ]
  },
  {
   "cell_type": "code",
   "execution_count": 137,
   "metadata": {},
   "outputs": [
    {
     "data": {
      "text/html": [
       "<html><script type=\"math/tex; mode=display\">\\newcommand{\\Bold}[1]{\\mathbf{#1}}\\left(\\begin{array}{rrrr}\n",
       "1 & 2 & 2 & 1 \\\\\n",
       "3 & -1 & 2 & 4 \\\\\n",
       "0 & -2 & 0 & 3 \\\\\n",
       "1 & 2 & -1 & -2\n",
       "\\end{array}\\right)</script></html>"
      ],
      "text/plain": [
       "[ 1  2  2  1]\n",
       "[ 3 -1  2  4]\n",
       "[ 0 -2  0  3]\n",
       "[ 1  2 -1 -2]"
      ]
     },
     "metadata": {},
     "output_type": "display_data"
    }
   ],
   "source": [
    "A = matrix(4,4,[1,2,2,1,3,-1,2,4,0,-2,0,3,1,2,-1,-2])\n",
    "show(A)"
   ]
  },
  {
   "cell_type": "code",
   "execution_count": 147,
   "metadata": {},
   "outputs": [
    {
     "data": {
      "text/html": [
       "<html><script type=\"math/tex; mode=display\">\\newcommand{\\Bold}[1]{\\mathbf{#1}}\\left(\\begin{array}{rrrr}\n",
       "9 & -12 & 9 & -6 \\\\\n",
       "-15 & 9 & -15 & -12 \\\\\n",
       "-1 & -6 & 21 & 19 \\\\\n",
       "-10 & 6 & -21 & -8\n",
       "\\end{array}\\right)</script></html>"
      ],
      "text/plain": [
       "[  9 -12   9  -6]\n",
       "[-15   9 -15 -12]\n",
       "[ -1  -6  21  19]\n",
       "[-10   6 -21  -8]"
      ]
     },
     "metadata": {},
     "output_type": "display_data"
    }
   ],
   "source": [
    "# adjungovana matica k matici A, tzn. matica vytvorena z algebraickych doplnkov k prvkom matice A, ktora je \n",
    "# nasledne este transponovana \n",
    "# funkcia adjoint_classical() \n",
    "# OVERTE na papieri alebo vlastnou chytrou procedurou v Sage, ze dostanete rovnaku adjungovanu maticu ! \n",
    "show(A.adjoint_classical())"
   ]
  },
  {
   "cell_type": "code",
   "execution_count": 140,
   "metadata": {},
   "outputs": [
    {
     "data": {
      "text/plain": [
       "-33"
      ]
     },
     "execution_count": 140,
     "metadata": {},
     "output_type": "execute_result"
    }
   ],
   "source": [
    "det(A)"
   ]
  },
  {
   "cell_type": "code",
   "execution_count": 142,
   "metadata": {},
   "outputs": [
    {
     "data": {
      "text/html": [
       "<html><script type=\"math/tex; mode=display\">\\newcommand{\\Bold}[1]{\\mathbf{#1}}\\left(\\begin{array}{rrrr}\n",
       "-\\frac{3}{11} & \\frac{4}{11} & -\\frac{3}{11} & \\frac{2}{11} \\\\\n",
       "\\frac{5}{11} & -\\frac{3}{11} & \\frac{5}{11} & \\frac{4}{11} \\\\\n",
       "\\frac{1}{33} & \\frac{2}{11} & -\\frac{7}{11} & -\\frac{19}{33} \\\\\n",
       "\\frac{10}{33} & -\\frac{2}{11} & \\frac{7}{11} & \\frac{8}{33}\n",
       "\\end{array}\\right) \\left(\\begin{array}{rrrr}\n",
       "-\\frac{3}{11} & \\frac{4}{11} & -\\frac{3}{11} & \\frac{2}{11} \\\\\n",
       "\\frac{5}{11} & -\\frac{3}{11} & \\frac{5}{11} & \\frac{4}{11} \\\\\n",
       "\\frac{1}{33} & \\frac{2}{11} & -\\frac{7}{11} & -\\frac{19}{33} \\\\\n",
       "\\frac{10}{33} & -\\frac{2}{11} & \\frac{7}{11} & \\frac{8}{33}\n",
       "\\end{array}\\right)</script></html>"
      ],
      "text/plain": [
       "[ -3/11   4/11  -3/11   2/11]\n",
       "[  5/11  -3/11   5/11   4/11]\n",
       "[  1/33   2/11  -7/11 -19/33]\n",
       "[ 10/33  -2/11   7/11   8/33] [ -3/11   4/11  -3/11   2/11]\n",
       "[  5/11  -3/11   5/11   4/11]\n",
       "[  1/33   2/11  -7/11 -19/33]\n",
       "[ 10/33  -2/11   7/11   8/33]"
      ]
     },
     "metadata": {},
     "output_type": "display_data"
    }
   ],
   "source": [
    "show(1/det(A)*A.adjoint_classical(),A.inverse())"
   ]
  },
  {
   "cell_type": "markdown",
   "metadata": {},
   "source": [
    "<font color=orange> Skúste si na papier alebo v Sage poriadne rozpísať adjungovanú maticu\n",
    "\n",
    "$$\\left(\\begin{array}{rrrr}\n",
    "9 & -12 & 9 & -6 \\\\\n",
    "-15 & 9 & -15 & -12 \\\\\n",
    "-1 & -6 & 21 & 19 \\\\\n",
    "-10 & 6 & -21 & -8\n",
    "\\end{array}\\right)$$    \n",
    "z príkladu, aby ste sa uistili, že viete ako vznikla. </font>"
   ]
  },
  {
   "cell_type": "markdown",
   "metadata": {},
   "source": [
    "---\n",
    "\n",
    "### <font color=green> Veta 2 </font> \n",
    "\n",
    "Ku štvorcovej matici existuje inverzná matica práve vtedy, keď jej determinant je nenulový; Ak $\\boldsymbol{\\mathrm{A}}$ je štvorcová matica rádu $n$ a $\\mathrm{det}\\left(\\boldsymbol{\\mathrm{A}}\\right)\\neq0$, tak platí \n",
    "\n",
    "$$\\boldsymbol{\\mathrm{A}}^{-1}=\\dfrac{1}{\\mathrm{det}\\left(\\boldsymbol{\\mathrm{A}}\\right)}\\cdot\\mathrm{adj}\\left(\\boldsymbol{\\mathrm{A}}\\right),$$ \n",
    "\n",
    "kde $\\mathrm{adj}\\left(\\boldsymbol{\\mathrm{A}}\\right)$ je transponovaná matica algebraických doplnkov prvkov matice $\\boldsymbol{\\mathrm{A}}$ t.j. adjungovaná matica. \n",
    "\n",
    "---"
   ]
  },
  {
   "cell_type": "markdown",
   "metadata": {},
   "source": [
    "---\n",
    "\n",
    "#### <font color=blue> Príklad 7  </font>\n",
    "\n",
    "Nájdite inverznú maticu k matici \n",
    "\n",
    "$$\\boldsymbol{\\mathrm{A}}=\n",
    "\\begin{pmatrix}\n",
    "a & b \\\\\n",
    "c & d\n",
    "\\end{pmatrix},\n",
    "$$\n",
    "\n",
    "kde $a,b,c,d\\in\\mathbb{R}$ také, že $ad-bc\\neq0$.\n",
    "\n",
    "<ins> Riešenie: </ins>\n",
    "\n",
    "Z predošlého výkladu už vieme, že $\\mathrm{det}\\left(\\boldsymbol{\\mathrm{A}}\\right)=ad-bc$ a algebraické doplnky k jednotlivým prvkom matice $\\boldsymbol{\\mathrm{A}}$ sú: \n",
    "\n",
    "$$\\alpha_{11} = (−1)^{1+1} \\mathrm{det}\\left(\\boldsymbol{\\mathrm{A}}_{11}\\right)=\\mathrm{det}\\left((d)\\right)=d;$$ \n",
    "$$\\alpha_{12} = (−1)^{1+2} \\mathrm{det}\\left(\\boldsymbol{\\mathrm{A}}_{12}\\right)=-\\mathrm{det}\\left((c)\\right)=-c;$$\n",
    "$$\\alpha_{11} = (−1)^{2+1} \\mathrm{det}\\left(\\boldsymbol{\\mathrm{A}}_{21}\\right)=-\\mathrm{det}\\left((b)\\right)=-b;$$\n",
    "$$\\alpha_{22} = (−1)^{2+2} \\mathrm{det}\\left(\\boldsymbol{\\mathrm{A}}_{22}\\right)=\\mathrm{det}\\left((a)\\right)=a.$$\n",
    "\n",
    "Matica vytvorená z algebraických doplnkov má tvar \n",
    "\n",
    "$$\\begin{pmatrix}\n",
    "d & -c \\\\\n",
    "-b & a\n",
    "\\end{pmatrix},$$\n",
    "\n",
    "keď túto maticu transponujeme tak dostávame adjungovanú maticu \n",
    "\n",
    "$$\\mathrm{adj}\\left(\\boldsymbol{\\mathrm{A}}\\right)=\n",
    "\\begin{pmatrix}\n",
    "d & -b \\\\\n",
    "-c & a\n",
    "\\end{pmatrix}\n",
    ".$$\n",
    "\n",
    "Podľa Vety 2 je teda inverzná matica k matici $\\boldsymbol{\\mathrm{A}}$ \n",
    "\n",
    "$$\\boldsymbol{\\mathrm{A}}^{-1}=\\dfrac{1}{ad-bc}\n",
    "\\begin{pmatrix}\n",
    "d & -b \\\\\n",
    "-c & a\n",
    "\\end{pmatrix}=\n",
    "\\begin{pmatrix}\n",
    "\\dfrac{d}{ad-bc} & -\\dfrac{b}{ad-bc} \\\\\n",
    "-\\dfrac{c}{ad-bc} & \\dfrac{a}{ad-bc}\n",
    "\\end{pmatrix}.\n",
    "$$\n",
    "\n",
    "**Dostali sme tak všeobecný vzťah pre výpočet inverznej matice (ak existuje) k matici typu $2\\times2$.**\n",
    "\n",
    "---"
   ]
  },
  {
   "cell_type": "markdown",
   "metadata": {},
   "source": [
    "**Interaktívne GeoGebra applety pre experimentovanie a lepšie (názornejšie) pochopenie pojmov lineárnej algebry i vzťahov medzi nimi:** \n",
    "\n",
    "* [Súčin matice a vektora](https://www.geogebra.org/m/Thnmhe5T); \n",
    "\n",
    "\n",
    "* [Hľadanie inverznej matice (Gaussova-Jordanova metóda)](https://www.geogebra.org/m/jyZZkaAw)."
   ]
  },
  {
   "cell_type": "markdown",
   "metadata": {},
   "source": [
    "***\n",
    "<a id=zdroje></a>\n",
    " # <font color=brown> Použité zdroje</font>"
   ]
  },
  {
   "cell_type": "markdown",
   "metadata": {},
   "source": [
    "* Lial M. L., Greenwell R. N., Ritchey N. P. (2012). Finite Mathematics and Calculus with Applications. Pearson Education.\n",
    "\n",
    "\n",
    "* Lay D. C. (2016). Linear Algebra And Its Applications. Boston: Addison-Wesley. \n",
    "\n",
    "\n",
    "* Poole D. (2014). Linear Algebra: A Modern Introduction. Cengage Learning. \n",
    "\n",
    "\n",
    "* Strang G. (2016). Introduction To Linear Algebra. Wellesley, MA: Wellesley-Cambridge Press. \n",
    "\n",
    "\n",
    "* [Prednáška](https://umv.science.upjs.sk/madaras/MZIa/MZIa2011_4.pdf) prof. Madaras."
   ]
  }
 ],
 "metadata": {
  "kernelspec": {
   "display_name": "SageMath 9.3",
   "language": "sage",
   "name": "sagemath"
  },
  "language_info": {
   "codemirror_mode": {
    "name": "ipython",
    "version": 3
   },
   "file_extension": ".py",
   "mimetype": "text/x-python",
   "name": "python",
   "nbconvert_exporter": "python",
   "pygments_lexer": "ipython3",
   "version": "3.7.10"
  }
 },
 "nbformat": 4,
 "nbformat_minor": 2
}
