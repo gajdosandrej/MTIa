{
 "cells": [
  {
   "cell_type": "markdown",
   "metadata": {},
   "source": [
    "**Autor:** Andrej Gajdoš  <br> \n",
    "*[Ústav matematických vied](https://www.upjs.sk/prirodovedecka-fakulta/ustav/umv/), [Prírodovedecká fakulta](https://www.upjs.sk/prirodovedecka-fakulta/), Univerzita Pavla Jozefa Šafárika v Košiciach,* <br> \n",
    "email: [andrej.gajdos@upjs.sk](mailto:andrej.gajdos@upjs.sk)\n",
    "*** \n",
    "**_Tento materiál vznikol za podpory grantu VVGS-2021-1758._** \n",
    "*** \n",
    "\n",
    "**<font size=6 color=gold> MTIa: Téma 5 - Matice a determinanty: úlohy k učebnému textu </font>**"
   ]
  },
  {
   "cell_type": "markdown",
   "metadata": {},
   "source": [
    "---\n",
    "\n",
    "**1. Uvažujte matice z úvodu študijného materiálu. Čomu sú rovné nasledujúce prvky matíc: $a_{12}$, $b_{22}$, $b_{43}$, $c_{23}$ ? Čomu odpovedajú vektory $c_{.4}$ a $c_{4.}$ ? Vypíšte všetky diagonálne prvky (na hlavnej diagonále) matice $\\boldsymbol{\\mathrm{A}}$ a matice $\\boldsymbol{\\mathrm{B}}$**"
   ]
  },
  {
   "cell_type": "code",
   "execution_count": null,
   "metadata": {},
   "outputs": [],
   "source": []
  },
  {
   "cell_type": "markdown",
   "metadata": {},
   "source": [
    "---\n",
    "\n",
    "**2. Vzťahy a) - f) v Tvrdení 1 ilustrujte na konrétnych príkladoch v Sage.**"
   ]
  },
  {
   "cell_type": "code",
   "execution_count": null,
   "metadata": {},
   "outputs": [],
   "source": []
  },
  {
   "cell_type": "markdown",
   "metadata": {},
   "source": [
    "--- \n",
    "\n",
    "**3. Vzťahy a) - e) v Tvrdení 2 ilustrujte na konrétnych príkladoch v Sage.**"
   ]
  },
  {
   "cell_type": "code",
   "execution_count": null,
   "metadata": {},
   "outputs": [],
   "source": []
  },
  {
   "cell_type": "markdown",
   "metadata": {},
   "source": [
    "---\n",
    "\n",
    "**4. Vypočítajte algebraický doplnok k prvku $a_{44}$ v Príklade 5.** "
   ]
  },
  {
   "cell_type": "code",
   "execution_count": null,
   "metadata": {},
   "outputs": [],
   "source": []
  },
  {
   "cell_type": "markdown",
   "metadata": {},
   "source": [
    "---\n",
    "\n",
    "**5. Rozhodnite o pravdivosti výroku: Nie je možné nájsť takú maticu $\\boldsymbol{\\mathrm{A}}$, aby platilo**  \n",
    "$$\\boldsymbol{\\mathrm{0}}\\boldsymbol{\\mathrm{A}}=\\boldsymbol{\\mathrm{A}}\\boldsymbol{\\mathrm{0}}=\\boldsymbol{\\mathrm{I}},$$ \n",
    "**kde $\\boldsymbol{\\mathrm{0}}$ je nulová matica typu $5\\times5$ a $\\boldsymbol{\\mathrm{I}}$ je jednotková diagonálna matica typu $5\\times5$ t.j. $\\boldsymbol{\\mathrm{I}}_5$. Svoju odpoveď zdôvodnite.** <br/> \n",
    "**A) Pravda.  \n",
    "B) Nepravda.**\n"
   ]
  },
  {
   "cell_type": "code",
   "execution_count": null,
   "metadata": {},
   "outputs": [],
   "source": []
  },
  {
   "cell_type": "markdown",
   "metadata": {},
   "source": [
    "---\n",
    "\n",
    "**6. Aké <font color=red> konkrétne </font> otázky máte k náplni študijných materiálov, ktoré by ste chceli na hodine prediskutovať?**"
   ]
  },
  {
   "cell_type": "code",
   "execution_count": null,
   "metadata": {},
   "outputs": [],
   "source": []
  }
 ],
 "metadata": {
  "kernelspec": {
   "display_name": "SageMath 9.2",
   "language": "sage",
   "name": "sagemath"
  },
  "language_info": {
   "codemirror_mode": {
    "name": "ipython",
    "version": 3
   },
   "file_extension": ".py",
   "mimetype": "text/x-python",
   "name": "python",
   "nbconvert_exporter": "python",
   "pygments_lexer": "ipython3",
   "version": "3.7.7"
  }
 },
 "nbformat": 4,
 "nbformat_minor": 2
}
