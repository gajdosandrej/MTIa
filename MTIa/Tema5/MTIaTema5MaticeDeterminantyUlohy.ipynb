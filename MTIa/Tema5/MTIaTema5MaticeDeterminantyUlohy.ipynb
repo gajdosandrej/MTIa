{
 "cells": [
  {
   "cell_type": "markdown",
   "metadata": {},
   "source": [
    "**Autor:** Andrej Gajdoš  <br> \n",
    "*[Ústav matematických vied](https://www.upjs.sk/prirodovedecka-fakulta/ustav/umv/), [Prírodovedecká fakulta](https://www.upjs.sk/prirodovedecka-fakulta/), Univerzita Pavla Jozefa Šafárika v Košiciach,* <br> \n",
    "email: [andrej.gajdos@upjs.sk](mailto:andrej.gajdos@upjs.sk)\n",
    "*** \n",
    "**_Tento materiál vznikol za podpory grantu VVGS-2021-1758._** \n",
    "*** \n",
    "\n",
    "**<font size=6 color=gold> MTIa: Téma 5 - Matice a determinanty: úlohy </font>**"
   ]
  },
  {
   "cell_type": "markdown",
   "metadata": {},
   "source": [
    "---\n",
    "\n",
    "**$\\clubsuit$ 1. Nech** $\\boldsymbol{\\mathrm{A}}=\\begin{pmatrix}\n",
    "\t\t5 & 2\\\\\n",
    "\t\t1 & 3\\\\\n",
    "\t\t\\end{pmatrix}$,  $\\boldsymbol{\\mathrm{B}}=\\begin{pmatrix}\n",
    "\t\t2 & 6\\\\\n",
    "\t\t3 & 4\\\\\n",
    "\t\t\\end{pmatrix}$. \n",
    "\n",
    "**Vypočítajte (a overte v Sage) $\\mathbf{A}^2,\\ \\mathbf{B}^2,\\ \\mathbf{A}\\cdot\\mathbf{B},\\ 2\\mathbf{A}+3\\mathbf{B},\\ \\mathbf{A}-2\\mathbf{B}$.**"
   ]
  },
  {
   "cell_type": "code",
   "execution_count": null,
   "metadata": {},
   "outputs": [],
   "source": []
  },
  {
   "cell_type": "markdown",
   "metadata": {},
   "source": [
    "---\n",
    "\n",
    "**$\\clubsuit$ 2. Vo Folsome sú tri obchody. Tento týždeň sa v obchode I predalo 88 bochníkov chleba, 48 l mlieka, 16 vedierok arašidového masla a 112 kg trvanlivej salámy. V obchode II sa predalo 105 bochníkov chleba, 72 l mlieka, 21 vedierok arašidového masla a 147 kg  trvanlivej salámy. Obchod III predal 60 bochníkov chleba, 40 l mlieka, žiadne arašidové maslo a 50 kg trvanlivej salámy.** \n",
    "\n",
    "**a) Reprezentujte informáce o predaji v troch obchodoch pomocou matice.** \n",
    "\n",
    "**b) Počas nasledujúceho týždňa sa predaj týchto výrobkov v obchode I zvýšil o 25%; tržby v obchode II sa zvýšili o $1/3$ a tržby v obchode III sa zvýšili o 10%. Napíšte maticu predaja pre tento týždeň.** \n",
    "\n",
    "**c) Zapíšte maticu, ktorá predstavuje celkový predaj (každého výrobku v príslušnom obchode) za dvojtýždenné obdobie.** "
   ]
  },
  {
   "cell_type": "code",
   "execution_count": null,
   "metadata": {},
   "outputs": [],
   "source": []
  },
  {
   "cell_type": "markdown",
   "metadata": {},
   "source": [
    "--- \n",
    "\n",
    "**3. Vypočítajte (a overte v Sage) $\\mathbf{A}\\cdot\\mathbf{B}$, kde**\n",
    "\n",
    "$\\clubsuit$ a) \n",
    "\\begin{align*}\n",
    "\\mathbf{A}=\\begin{pmatrix}\n",
    "-7 & 1\\\\\n",
    "8 & 3\\\\\n",
    "0 & -2\\\\\n",
    "\\end{pmatrix},\\ \\mathbf{B}=\\begin{pmatrix}\n",
    "1 & 2 & -2 & -5\\\\\n",
    "2 & -1 & 0 & 3\\\\\n",
    "\\end{pmatrix};\n",
    "\\end{align*}\t\n",
    "\n",
    "b) \n",
    "\\begin{align*}\n",
    "\\mathbf{A}=\\begin{pmatrix}\n",
    "5 & 1 & -2\\\\\n",
    "7 & 1 & -3\\\\\n",
    "3 & 2 & 0\\\\\n",
    "\\end{pmatrix},\\ \\mathbf{B}=\\begin{pmatrix}\n",
    "3 & 1 & 2\\\\\n",
    "2 & 2 & 1\\\\\n",
    "1 & 3 & 3\\\\\n",
    "\\end{pmatrix}.\n",
    "\\end{align*}"
   ]
  },
  {
   "cell_type": "code",
   "execution_count": null,
   "metadata": {},
   "outputs": [],
   "source": []
  },
  {
   "cell_type": "markdown",
   "metadata": {},
   "source": [
    "---\n",
    "\n",
    "**4. Dodávateľ stavia tri druhy domov, modely A, B a C, s možnosťou výberu z dvoch štýlov, španielskeho a súčasného. Matica $\\mathbf{P}$ zobrazuje počet každého druhu domu plánovaného pre novú štvrť pozostávajúcu zo sto domov. Množstvo každého z vonkajších materiálov závisí predovšetkým od štýlu domu. Tieto množstvá sú uvedené v matici $\\mathbf{Q}$. (Betón je v kubických yardoch, rezivo v jednotkách tisíc stôp na stenu, tehla v tisícoch kusov a šindle v stopách na druhú). Matica $\\mathbf{R}$ predstavuje náklady v dolároch za každý druh materiálu.** "
   ]
  },
  {
   "attachments": {
    "priklad_domy_matice.png": {
     "image/png": "[encoded data removed]"
    }
   },
   "cell_type": "markdown",
   "metadata": {},
   "source": [
    "![priklad_domy_matice.png](attachment:priklad_domy_matice.png)"
   ]
  },
  {
   "cell_type": "markdown",
   "metadata": {},
   "source": [
    "**a) Aká je celková cena týchto materiálov pre každý model?** \n",
    "\n",
    "**b) Koľko z každého zo štyroch druhov materiálu sa musí objednať?** \n",
    "\n",
    "**c) Aké sú celkové náklady na exteriérové materiály?** \n",
    "\n",
    "**d) Predpokladajme, že dodávateľ postaví rovnaký počet domov v piatich nových štvrtiach. Vypočítajte celkové množstvo každého vonkajšieho materiálu pre každý model pre všetkých päť štvrtí.** \n",
    "\n",
    "<font color=red> DODATOK - Interpretácia súčinu matíc </font> \n",
    "\n",
    "Je užitočné použiť zápis, ktorý sleduje (vystihuje) veličiny, ktoré predstavuje matica. Použijeme notáciu význam riadkov / význam stĺpcov, to znamená, že najprv napíšeme význam riadkov a následne stĺpcov. V Príklade 4 by sme použili označenie modely / štýly pre maticu $\\mathbf{P}$, štýly / materiály pre maticu $\\mathbf{Q}$ a materiály / náklady pre maticu $\\mathbf{R}$. V násobení $\\mathbf{PQ}$ násobíme modely / štýly podľa štýlov / materiálov. Výsledkom sú modely / materiály. Všimnime si, že štýly, bežná veličina v $\\mathbf{P}$ aj $\\mathbf{Q}$, boli v $\\mathbf{PQ}$ súčine vylúčené. Týmto spôsobom produkt $\\mathbf{(PQ)R}$ predstavuje modely / náklady. <br/>\n",
    "V praktických problémoch nám toto označenie notácia pomáha rozhodnúť sa, v akom poradí vynásobiť matice tak, aby výsledky boli zmysluplné. V Príklade 4 (c) je možné vypočítať $\\mathbf{RT}$ alebo $\\mathbf{TR}$. Pretože $\\mathbf{T}$ predstavuje štvrte / materiály a $\\mathbf{R}$ predstavuje materiály / náklady, produkt $\\mathbf{TR}$ dáva štvrte / náklady, zatiaľ čo produkt $\\mathbf{RT}$ nemá význam. "
   ]
  },
  {
   "cell_type": "code",
   "execution_count": null,
   "metadata": {},
   "outputs": [],
   "source": []
  },
  {
   "cell_type": "markdown",
   "metadata": {},
   "source": [
    "---\n",
    "\n",
    "**5. Nájdite príklad takých dvoch symetrickýh matíc $\\boldsymbol{\\mathrm{A}}$, $\\boldsymbol{\\mathrm{B}}$, že ich súčin nie je symetrická matica.** Využite Sage na experimentovanie. \n"
   ]
  },
  {
   "cell_type": "code",
   "execution_count": null,
   "metadata": {},
   "outputs": [],
   "source": []
  },
  {
   "cell_type": "markdown",
   "metadata": {},
   "source": [
    "---\n",
    "\n",
    "**$\\clubsuit$ 6. Nájdite všetky permutácie (a ich znamienka) množiny $\\{1,2,3\\}$.** Na overenie použite Sage. "
   ]
  },
  {
   "cell_type": "code",
   "execution_count": null,
   "metadata": {},
   "outputs": [],
   "source": []
  },
  {
   "cell_type": "markdown",
   "metadata": {},
   "source": [
    "---\n",
    "\n",
    "**7. Vypočítajte hodnoty determinantov Sarussovým pravidlom i z definície (a overte v Sage):**\n",
    "\n",
    "a)\n",
    "$\\begin{vmatrix}\n",
    "3 & 4\\\\\n",
    "7 & 5\\\\\n",
    "\\end{vmatrix};\\quad \\begin{vmatrix}\n",
    "-1 & -3\\\\\n",
    "-2 & 5\\\\\n",
    "\\end{vmatrix};\\quad \\clubsuit\\, \\begin{vmatrix}\n",
    "\\text{cos(x)} & \\text{sin(x)}\\\\\n",
    "\\text{sin(x)} & \\text{cos(x)}\\\\\n",
    "\\end{vmatrix}$;\n",
    "\n",
    "\n",
    "b)\n",
    "$\\begin{vmatrix}\n",
    "1 & 2 & 3\\\\\n",
    "2 & 1 & 3\\\\\n",
    "1 & 4 & 5\\\\\n",
    "\\end{vmatrix};\\quad \\clubsuit\\, \\begin{vmatrix}\n",
    "2 & 3 & 7\\\\\n",
    "1 & 2 & 1\\\\\n",
    "-4 & -5 & -19\\\\\n",
    "\\end{vmatrix};\\quad \\begin{vmatrix}\n",
    "2 & 5 & 0\\\\\n",
    "-1 & 7 & 1\\\\\n",
    "4 & 1 & -4\\\\\n",
    "\\end{vmatrix}$.\t "
   ]
  },
  {
   "cell_type": "code",
   "execution_count": null,
   "metadata": {},
   "outputs": [],
   "source": []
  },
  {
   "cell_type": "markdown",
   "metadata": {},
   "source": [
    "---\n",
    "\n",
    "**8. Nasledujúce determinanty vypočítajte rozvinutím podľa vhodného stĺpca alebo riadka (pomocné výpočty a kontrolu urobte v Sage):**\n",
    "\n",
    "a)\n",
    "$\\begin{vmatrix}\n",
    "2 & 0 & 1 & 3\\\\\n",
    "0 & 1 & 3 & 2\\\\\n",
    "1 & 3 & 2 & 0\\\\\n",
    "3 & 2 & 0 & 1\\\\\n",
    "\\end{vmatrix}$; \n",
    "            \n",
    "$\\clubsuit$ b)\n",
    "$\\begin{vmatrix}\n",
    "-8 & -2 & 1 & -1\\\\\n",
    "0 & 0 & -1 & 7\\\\\n",
    "11 & 3 & 1 & 1\\\\\n",
    "7 & -7 & 5 & 3\\\\\n",
    "\\end{vmatrix}$;\n",
    "\n",
    "c)\n",
    "$\\begin{vmatrix}\n",
    "a & 5 & 0 & 9\\\\\n",
    "0 & b & 0 & 12\\\\\n",
    "7 & 8 & c & -3\\\\\n",
    "0 & 0 & 0 & d\\\\\n",
    "\\end{vmatrix}$;\n",
    "\n",
    "d)\n",
    "$\\begin{vmatrix}\n",
    "5 & 3 & 2 & 4\\\\\n",
    "10 & 2 & -2 & 10\\\\\n",
    "-5 & 6 & 8 & 5\\\\\n",
    "0 & 1 & -1 & 1\\\\\n",
    "\\end{vmatrix}$. "
   ]
  },
  {
   "cell_type": "code",
   "execution_count": null,
   "metadata": {},
   "outputs": [],
   "source": []
  },
  {
   "cell_type": "markdown",
   "metadata": {},
   "source": [
    "---\n",
    "\n",
    "**9. Riešte rovnice pre neznámu maticu $\\mathbf{X}$, pomôžte si výpočtami v Sage:**\n",
    "\n",
    "a)\n",
    "$\\begin{pmatrix}\n",
    "2 & 1\\\\\n",
    "1 & 0\\\\\n",
    "\\end{pmatrix}\\cdot\\mathbf{X}=\\begin{pmatrix}\n",
    "3 \\\\\n",
    "1 \n",
    "\\end{pmatrix}$;\n",
    "\n",
    "$\\clubsuit$ b)\n",
    "$\\begin{pmatrix}\n",
    "2 & 1\\\\\n",
    "1 & 0\\\\\n",
    "\\end{pmatrix}\\cdot\\mathbf{X}=\\begin{pmatrix}\n",
    "3 & 2\\\\\n",
    "1 & 1\\\\\n",
    "\\end{pmatrix}$;\n",
    "\n",
    "$\\clubsuit$ c)\n",
    "$\\mathbf{X}\\cdot\\begin{pmatrix}\n",
    "3 & 5\\\\\n",
    "2 & 4\\\\\n",
    "\\end{pmatrix}=\\begin{pmatrix}\n",
    "-1 & 5\\\\\n",
    "-2 & 6\\\\\n",
    "\\end{pmatrix}$;\n",
    "\n",
    "d)\n",
    "$\\begin{pmatrix}\n",
    "3 & -1 & 2\\\\\n",
    "4 & -3 & 3\\\\\n",
    "1 & 3 & 0\\\\\n",
    "\\end{pmatrix}\\cdot\\mathbf{X}=\\begin{pmatrix}\n",
    "3 & 9 & 7\\\\\n",
    "1 & 11 & 7\\\\\n",
    "7 & 5 & 7\\\\\n",
    "\\end{pmatrix}$. "
   ]
  },
  {
   "cell_type": "code",
   "execution_count": null,
   "metadata": {},
   "outputs": [],
   "source": []
  }
 ],
 "metadata": {
  "kernelspec": {
   "display_name": "SageMath 9.2",
   "language": "sage",
   "name": "sagemath"
  },
  "language_info": {
   "codemirror_mode": {
    "name": "ipython",
    "version": 3
   },
   "file_extension": ".py",
   "mimetype": "text/x-python",
   "name": "python",
   "nbconvert_exporter": "python",
   "pygments_lexer": "ipython3",
   "version": "3.7.7"
  }
 },
 "nbformat": 4,
 "nbformat_minor": 2
}
